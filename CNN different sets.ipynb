{
 "cells": [
  {
   "cell_type": "code",
   "execution_count": 1,
   "metadata": {},
   "outputs": [
    {
     "name": "stderr",
     "output_type": "stream",
     "text": [
      "100%|██████████| 10557/10557 [01:00<00:00, 174.70it/s]\n"
     ]
    },
    {
     "data": {
      "text/plain": [
       "10556"
      ]
     },
     "execution_count": 1,
     "metadata": {},
     "output_type": "execute_result"
    }
   ],
   "source": [
    "import pickle\n",
    "import os\n",
    "from tqdm import tqdm\n",
    "import numpy as np\n",
    "\n",
    "directory = 'data/train'\n",
    "\n",
    "length_list = []\n",
    "valence_values=[]\n",
    "\n",
    "recordings = []\n",
    "\n",
    "for filename in tqdm(os.listdir(directory)):\n",
    "    if filename.endswith('.pkl'):\n",
    "        file_path = os.path.join(directory, filename)\n",
    "        with open(file_path, 'rb') as file:\n",
    "            data = pickle.load(file)\n",
    "            if data['valence'] != 2.333: #and len(data['audio_data']) < 91000:\n",
    "                length_list.append(len(data['audio_data']))\n",
    "                valence_values.append(data['valence'])\n",
    "                recordings.append(data['audio_data'])\n",
    "\n",
    "valence_values = np.array(valence_values)\n",
    "len(recordings)"
   ]
  },
  {
   "cell_type": "code",
   "execution_count": 2,
   "metadata": {},
   "outputs": [
    {
     "data": {
      "text/plain": [
       "(10556, (174625,))"
      ]
     },
     "execution_count": 2,
     "metadata": {},
     "output_type": "execute_result"
    }
   ],
   "source": [
    "# Calculate the maximum length\n",
    "max_length = max(length_list)\n",
    "\n",
    "# Adjust the recordings to have the same length\n",
    "adjusted_recordings = []\n",
    "for recording in recordings:\n",
    "    # Repeat the array until it reaches or exceeds the maximum length\n",
    "    repeated_recording = np.tile(recording, (max_length // len(recording) + 1))[:max_length]\n",
    "    adjusted_recordings.append(repeated_recording)\n",
    "\n",
    "valence_values = np.array(valence_values)\n",
    "len(adjusted_recordings), adjusted_recordings[0].shape\n",
    "\n",
    "\n",
    "# for i in adjusted_recordings:\n",
    "#     print(i.shape)"
   ]
  },
  {
   "cell_type": "code",
   "execution_count": 3,
   "metadata": {},
   "outputs": [],
   "source": [
    "def round_to_nearest_quarter(number):\n",
    "    # Assuming 'number' could be a numpy array with a single value\n",
    "    if isinstance(number, np.ndarray) and number.size == 1:\n",
    "        number = number.item()  # Convert single-item array to scalar\n",
    "    \n",
    "    # Ensure the number is within the 1 to 5 range before processing\n",
    "    number = np.clip(number, 1, 5)\n",
    "    # Scale number to shift quarters to whole numbers, round, and rescale\n",
    "    rounded_number = np.round(number * 4) / 4\n",
    "    # Clip again to ensure no out-of-range values after rounding\n",
    "    rounded_number = np.clip(rounded_number, 1, 5)\n",
    "    return str(rounded_number)"
   ]
  },
  {
   "cell_type": "markdown",
   "metadata": {},
   "source": [
    "# Pre-process data"
   ]
  },
  {
   "cell_type": "code",
   "execution_count": 4,
   "metadata": {},
   "outputs": [
    {
     "name": "stderr",
     "output_type": "stream",
     "text": [
      "C:\\Users\\20211445\\AppData\\Local\\Temp\\ipykernel_6288\\2777483405.py:33: UserWarning: Creating a tensor from a list of numpy.ndarrays is extremely slow. Please consider converting the list to a single numpy.ndarray with numpy.array() before converting to a tensor. (Triggered internally at ..\\torch\\csrc\\utils\\tensor_new.cpp:248.)\n",
      "  X_train_tensor = torch.tensor(X_train, dtype=torch.float32).unsqueeze(1)  # Use float32 for input features\n"
     ]
    }
   ],
   "source": [
    "import torch\n",
    "from torch.utils.data import TensorDataset, DataLoader\n",
    "from sklearn.preprocessing import StandardScaler\n",
    "from sklearn.model_selection import train_test_split\n",
    "\n",
    "\n",
    "############################################################################################################\n",
    "# standard = StandardScaler()\n",
    "# adjusted_recordings = standard.fit_transform(adjusted_recordings)\n",
    "#print(adjusted_recordings)\n",
    "\n",
    "############################################################################################################\n",
    "# Pad the recordings to have the same length\n",
    "max_length = max(len(array) for array in recordings)  # Find the maximum length\n",
    "\n",
    "# # Pad each array to have the maximum length\n",
    "# padded_arrays = np.array([np.pad(array, (0, max_length - len(array)), mode='constant') for array in recordings])\n",
    "\n",
    "\n",
    "############################################################################################################\n",
    "# Split the data and labels into training and validation sets\n",
    "X_train, X_val, y_train, y_val = train_test_split(adjusted_recordings, valence_values, test_size=0.2, random_state=42)\n",
    "\n",
    "\n",
    "\n",
    "\n",
    "############################################################################################################\n",
    "# Create a DataLoader for the training set, test set, and validation set\n",
    "\n",
    "batch_size = 256  # You can adjust the batch size depending on your system's capability\n",
    "\n",
    "# Convert input data and labels to tensors\n",
    "X_train_tensor = torch.tensor(X_train, dtype=torch.float32).unsqueeze(1)  # Use float32 for input features\n",
    "y_train_tensor = torch.tensor(y_train, dtype=torch.float32)  # Use float32 for labels\n",
    "\n",
    "# Create a dataset from tensors\n",
    "train_dataset = TensorDataset(X_train_tensor, y_train_tensor)\n",
    "\n",
    "# Create a DataLoader\n",
    "train_loader = DataLoader(train_dataset, batch_size=batch_size, shuffle=True)\n",
    "\n",
    "\n",
    "\n",
    "############################################################################################################\n",
    "# Repeat the same process for the validation set\n",
    "X_validation_tensor = torch.tensor(X_val, dtype=torch.float32).unsqueeze(1)\n",
    "y_validation_tensor = torch.tensor(y_val, dtype=torch.float32)\n",
    "\n",
    "validation_dataset = TensorDataset(X_validation_tensor, y_validation_tensor)\n",
    "validation_loader = DataLoader(validation_dataset, batch_size=batch_size, shuffle=False)\n",
    "\n",
    "\n"
   ]
  },
  {
   "cell_type": "code",
   "execution_count": 5,
   "metadata": {},
   "outputs": [
    {
     "data": {
      "text/plain": [
       "(torch.Size([8444, 1, 174625]), torch.Size([8444]))"
      ]
     },
     "execution_count": 5,
     "metadata": {},
     "output_type": "execute_result"
    }
   ],
   "source": [
    "train_loader.dataset.tensors[0].shape, train_loader.dataset.tensors[1].shape"
   ]
  },
  {
   "cell_type": "code",
   "execution_count": 6,
   "metadata": {},
   "outputs": [],
   "source": [
    "import torch\n",
    "from tqdm import tqdm\n",
    "import torch.nn as nn\n",
    "import torch.optim as optim\n",
    "import torch.nn.functional as F\n",
    "from sklearn.metrics import confusion_matrix\n",
    "import matplotlib.pyplot as plt\n",
    "import seaborn as sns\n",
    "import torchaudio.transforms as transforms\n",
    "\n",
    "\n",
    "class CNN(nn.Module):\n",
    "    def __init__(self):\n",
    "        super(CNN, self).__init__()\n",
    "\n",
    "\n",
    "\n",
    "        # Set random seed for reproducibility\n",
    "        torch.manual_seed(42)\n",
    "\n",
    "\n",
    "        self.mfcc_transform = transforms.MFCC(\n",
    "            sample_rate=8000,      ## 44.1 kHz\n",
    "            n_mfcc=24              ## Created channels\n",
    "        )\n",
    "\n",
    "        self.layers = nn.ModuleList()\n",
    "        \n",
    "        self.layers.append(nn.BatchNorm1d(24))\n",
    "        conv1 = nn.Conv1d(in_channels=24, out_channels=48, kernel_size=7, padding=1)\n",
    "        nn.init.kaiming_normal_(conv1.weight, nonlinearity='relu')\n",
    "        self.layers.append(conv1)\n",
    "        self.layers.append(nn.BatchNorm1d(48))\n",
    "        self.layers.append(nn.ReLU())\n",
    "        self.layers.append(nn.MaxPool1d(kernel_size=3))\n",
    "        self.layers.append(nn.Dropout(0.25))\n",
    "\n",
    "        conv2 = nn.Conv1d(in_channels=48, out_channels=48, kernel_size=7, padding=1)\n",
    "        nn.init.kaiming_normal_(conv2.weight, nonlinearity='relu')\n",
    "        self.layers.append(conv2)\n",
    "        self.layers.append(nn.BatchNorm1d(48))\n",
    "        self.layers.append(nn.ReLU())\n",
    "\n",
    "\n",
    "        conv3 = nn.Conv1d(in_channels=48, out_channels=12, kernel_size=7, padding=1)\n",
    "        nn.init.kaiming_normal_(conv3.weight, nonlinearity='relu')\n",
    "        self.layers.append(conv3)\n",
    "        self.layers.append(nn.BatchNorm1d(12))\n",
    "        self.layers.append(nn.ReLU())\n",
    "        self.layers.append(nn.MaxPool1d(kernel_size=3))\n",
    "        self.layers.append(nn.Dropout(0.25))\n",
    "\n",
    "\n",
    "        self.layers.append(nn.Flatten())\n",
    "\n",
    "        linear1= nn.Linear(1128,256)\n",
    "        nn.init.kaiming_normal_(linear1.weight, nonlinearity='relu')\n",
    "        self.layers.append(linear1)\n",
    "        self.layers.append(nn.ReLU())\n",
    "        \n",
    "        linear2 = nn.Linear(256, 1)\n",
    "        nn.init.kaiming_normal_(linear2.weight, nonlinearity='relu')\n",
    "        self.layers.append(linear2)\n",
    "\n",
    "\n",
    "    \n",
    "    def forward(self, x):\n",
    "        x = self.mfcc_transform(x)\n",
    "        x = x.squeeze(1)\n",
    "        for layer in self.layers:\n",
    "            x = layer(x)\n",
    "            #print(x.shape)\n",
    "        return x.view(-1)\n",
    "\n",
    "\n",
    "### CUDA\n",
    "device = torch.device(\"cuda\" if torch.cuda.is_available() else \"cpu\")\n",
    "\n",
    "    # Training Cycle\n",
    "\n",
    "def train_model(MLP_model, optimizer, num_epochs):\n",
    "        criterion = nn.MSELoss()\n",
    "        #criterion = nn.L1Loss()\n",
    "        # Training loop\n",
    "        for epoch in tqdm(range(num_epochs)):\n",
    "            total_loss = 0\n",
    "\n",
    "            for inputs, labels in train_loader:\n",
    "                inputs, labels = inputs.to(device), labels.to(device)  # Move data to GPU\n",
    "                outputs = MLP_model(inputs)  # Forward pass\n",
    "                loss = criterion(outputs, labels)  # Compute the loss\n",
    "                loss.backward()  # Backward pass\n",
    "\n",
    "                optimizer.step()\n",
    "\n",
    "                # Store the loss. loss.item() gets the value in a tensor. This only works for scalars.\n",
    "                total_loss += loss.item()\n",
    "        \n",
    "            print(f'Epoch [{epoch + 1}/{num_epochs}], Loss: {total_loss / len(train_loader):.4f}')\n",
    "            if epoch > 1:\n",
    "                print(evaluate_model(MLP_model, validation_loader,conf=False))\n",
    "            print('--------------------------------------------------')\n",
    "        print(evaluate_model(MLP_model, train_loader,conf=True))\n",
    "\n",
    "\n",
    "def evaluate_model(MLP_model, test_loader,conf=False):\n",
    "    with torch.no_grad():\n",
    "        ### Calculate MSE \n",
    "        predictions = []\n",
    "        actuals = []\n",
    "        actuals_for_cm = []\n",
    "        rounded_predictions = []\n",
    "        for inputs, labels in test_loader:\n",
    "            inputs, labels = inputs.to(device), labels.to(device)\n",
    "            outputs = MLP_model(inputs)\n",
    "            predictions.extend(outputs.cpu().numpy())\n",
    "            actuals.extend(labels.cpu().numpy())\n",
    "            actuals_for_cm.extend([str(label) for label in labels.cpu().numpy()])\n",
    "            rounded_predictions.extend([str(round_to_nearest_quarter(output)) for output in outputs.cpu().numpy()])\n",
    "\n",
    "        predictions = np.array(predictions)\n",
    "        actuals = np.array(actuals)\n",
    "        mse = np.mean((predictions - actuals) ** 2)\n",
    "        mae = np.mean(np.abs(predictions - actuals))\n",
    "        print(f'Mean Squared Error: {mse:.4f} and Mean Absolute Error: {mae:.4f}')\n",
    "\n",
    "        # for i in range(10):\n",
    "        #     print(f\"Predictions: {predictions[i]}\")\n",
    "        #     print(f\"Actuals: {actuals[i]}\")\n",
    "        #     print(f\"Rounded Predictions: {rounded_predictions[i]}\")\n",
    "        \n",
    "        ##################\n",
    "        # Confusion Matrix\n",
    "        ##################\n",
    "        if conf:\n",
    "            ### Confusion Matrix\n",
    "            cm = confusion_matrix(actuals_for_cm, rounded_predictions)\n",
    "            plt.figure(figsize=(10, 8))\n",
    "            sns.heatmap(cm, annot=True, fmt='g', cmap='Blues', xticklabels=np.unique(actuals), yticklabels=np.unique(actuals))\n",
    "            plt.xlabel('Predicted')\n",
    "            plt.ylabel('Actual')\n",
    "            plt.title('Confusion Matrix')\n",
    "            plt.show()\n",
    "            ### Accuracy\n",
    "            accuracy = np.trace(cm) / np.sum(cm)\n",
    "            print(f'Accuracy: {accuracy:.4f}')\n",
    "\n",
    "\n",
    "############################################################################################################\n",
    "### PREDICT\n",
    "def predict(model, data, device):\n",
    "    model.eval()  # Set the model to evaluation mode\n",
    "    data = data.to(device)  # Move the data to the same device as the model\n",
    "    with torch.no_grad():  # Turn off gradients to speed up this part\n",
    "        predictions = []\n",
    "        for sample in data:\n",
    "            sample = sample.unsqueeze(0)  # Add batch dimension\n",
    "            output = model(sample)\n",
    "            predictions.append(output.item())\n",
    "    return predictions\n",
    "\n",
    "\n",
    "            \n",
    "        \n",
    "\n",
    "        \n"
   ]
  },
  {
   "cell_type": "code",
   "execution_count": 29,
   "metadata": {},
   "outputs": [
    {
     "name": "stderr",
     "output_type": "stream",
     "text": [
      "  1%|          | 1/124 [00:06<13:07,  6.40s/it]"
     ]
    },
    {
     "name": "stdout",
     "output_type": "stream",
     "text": [
      "Epoch [1/124], Loss: 5.1500\n",
      "--------------------------------------------------\n"
     ]
    },
    {
     "name": "stderr",
     "output_type": "stream",
     "text": [
      "  2%|▏         | 2/124 [00:13<13:40,  6.73s/it]"
     ]
    },
    {
     "name": "stdout",
     "output_type": "stream",
     "text": [
      "Epoch [2/124], Loss: 0.9843\n",
      "--------------------------------------------------\n",
      "Epoch [3/124], Loss: 0.8253\n"
     ]
    },
    {
     "name": "stderr",
     "output_type": "stream",
     "text": [
      "  2%|▏         | 3/124 [00:21<14:55,  7.40s/it]"
     ]
    },
    {
     "name": "stdout",
     "output_type": "stream",
     "text": [
      "Mean Squared Error: 0.7251 and Mean Absolute Error: 0.6879\n",
      "None\n",
      "--------------------------------------------------\n",
      "Epoch [4/124], Loss: 0.7325\n"
     ]
    },
    {
     "name": "stderr",
     "output_type": "stream",
     "text": [
      "  3%|▎         | 4/124 [00:29<15:19,  7.67s/it]"
     ]
    },
    {
     "name": "stdout",
     "output_type": "stream",
     "text": [
      "Mean Squared Error: 0.7722 and Mean Absolute Error: 0.7004\n",
      "None\n",
      "--------------------------------------------------\n",
      "Epoch [5/124], Loss: 0.7054\n"
     ]
    },
    {
     "name": "stderr",
     "output_type": "stream",
     "text": [
      "  4%|▍         | 5/124 [00:37<15:35,  7.86s/it]"
     ]
    },
    {
     "name": "stdout",
     "output_type": "stream",
     "text": [
      "Mean Squared Error: 0.6401 and Mean Absolute Error: 0.6468\n",
      "None\n",
      "--------------------------------------------------\n",
      "Epoch [6/124], Loss: 0.6943\n"
     ]
    },
    {
     "name": "stderr",
     "output_type": "stream",
     "text": [
      "  5%|▍         | 6/124 [00:45<15:16,  7.77s/it]"
     ]
    },
    {
     "name": "stdout",
     "output_type": "stream",
     "text": [
      "Mean Squared Error: 0.6664 and Mean Absolute Error: 0.6636\n",
      "None\n",
      "--------------------------------------------------\n",
      "Epoch [7/124], Loss: 0.6342\n"
     ]
    },
    {
     "name": "stderr",
     "output_type": "stream",
     "text": [
      "  6%|▌         | 7/124 [00:52<14:58,  7.68s/it]"
     ]
    },
    {
     "name": "stdout",
     "output_type": "stream",
     "text": [
      "Mean Squared Error: 0.6079 and Mean Absolute Error: 0.6265\n",
      "None\n",
      "--------------------------------------------------\n",
      "Epoch [8/124], Loss: 0.6384\n"
     ]
    },
    {
     "name": "stderr",
     "output_type": "stream",
     "text": [
      "  6%|▋         | 8/124 [01:00<14:37,  7.56s/it]"
     ]
    },
    {
     "name": "stdout",
     "output_type": "stream",
     "text": [
      "Mean Squared Error: 0.6285 and Mean Absolute Error: 0.6361\n",
      "None\n",
      "--------------------------------------------------\n",
      "Epoch [9/124], Loss: 0.5952\n"
     ]
    },
    {
     "name": "stderr",
     "output_type": "stream",
     "text": [
      "  7%|▋         | 9/124 [01:07<14:21,  7.49s/it]"
     ]
    },
    {
     "name": "stdout",
     "output_type": "stream",
     "text": [
      "Mean Squared Error: 0.5832 and Mean Absolute Error: 0.6199\n",
      "None\n",
      "--------------------------------------------------\n",
      "Epoch [10/124], Loss: 0.6099\n"
     ]
    },
    {
     "name": "stderr",
     "output_type": "stream",
     "text": [
      "  8%|▊         | 10/124 [01:14<14:08,  7.45s/it]"
     ]
    },
    {
     "name": "stdout",
     "output_type": "stream",
     "text": [
      "Mean Squared Error: 0.5963 and Mean Absolute Error: 0.6286\n",
      "None\n",
      "--------------------------------------------------\n",
      "Epoch [11/124], Loss: 0.5880\n"
     ]
    },
    {
     "name": "stderr",
     "output_type": "stream",
     "text": [
      "  9%|▉         | 11/124 [01:22<13:55,  7.39s/it]"
     ]
    },
    {
     "name": "stdout",
     "output_type": "stream",
     "text": [
      "Mean Squared Error: 0.5591 and Mean Absolute Error: 0.6059\n",
      "None\n",
      "--------------------------------------------------\n",
      "Epoch [12/124], Loss: 0.5741\n"
     ]
    },
    {
     "name": "stderr",
     "output_type": "stream",
     "text": [
      " 10%|▉         | 12/124 [01:29<13:44,  7.37s/it]"
     ]
    },
    {
     "name": "stdout",
     "output_type": "stream",
     "text": [
      "Mean Squared Error: 0.5925 and Mean Absolute Error: 0.6145\n",
      "None\n",
      "--------------------------------------------------\n",
      "Epoch [13/124], Loss: 0.5743\n"
     ]
    },
    {
     "name": "stderr",
     "output_type": "stream",
     "text": [
      " 10%|█         | 13/124 [01:36<13:38,  7.37s/it]"
     ]
    },
    {
     "name": "stdout",
     "output_type": "stream",
     "text": [
      "Mean Squared Error: 0.5423 and Mean Absolute Error: 0.5935\n",
      "None\n",
      "--------------------------------------------------\n",
      "Epoch [14/124], Loss: 0.5478\n"
     ]
    },
    {
     "name": "stderr",
     "output_type": "stream",
     "text": [
      " 11%|█▏        | 14/124 [01:44<13:32,  7.39s/it]"
     ]
    },
    {
     "name": "stdout",
     "output_type": "stream",
     "text": [
      "Mean Squared Error: 0.5604 and Mean Absolute Error: 0.6058\n",
      "None\n",
      "--------------------------------------------------\n",
      "Epoch [15/124], Loss: 0.5663\n"
     ]
    },
    {
     "name": "stderr",
     "output_type": "stream",
     "text": [
      " 12%|█▏        | 15/124 [01:51<13:23,  7.37s/it]"
     ]
    },
    {
     "name": "stdout",
     "output_type": "stream",
     "text": [
      "Mean Squared Error: 0.5546 and Mean Absolute Error: 0.6056\n",
      "None\n",
      "--------------------------------------------------\n",
      "Epoch [16/124], Loss: 0.5409\n"
     ]
    },
    {
     "name": "stderr",
     "output_type": "stream",
     "text": [
      " 13%|█▎        | 16/124 [01:58<13:12,  7.33s/it]"
     ]
    },
    {
     "name": "stdout",
     "output_type": "stream",
     "text": [
      "Mean Squared Error: 0.5324 and Mean Absolute Error: 0.5896\n",
      "None\n",
      "--------------------------------------------------\n",
      "Epoch [17/124], Loss: 0.5442\n"
     ]
    },
    {
     "name": "stderr",
     "output_type": "stream",
     "text": [
      " 14%|█▎        | 17/124 [02:06<13:04,  7.33s/it]"
     ]
    },
    {
     "name": "stdout",
     "output_type": "stream",
     "text": [
      "Mean Squared Error: 0.5506 and Mean Absolute Error: 0.5977\n",
      "None\n",
      "--------------------------------------------------\n",
      "Epoch [18/124], Loss: 0.5359\n"
     ]
    },
    {
     "name": "stderr",
     "output_type": "stream",
     "text": [
      " 15%|█▍        | 18/124 [02:13<12:57,  7.33s/it]"
     ]
    },
    {
     "name": "stdout",
     "output_type": "stream",
     "text": [
      "Mean Squared Error: 0.5156 and Mean Absolute Error: 0.5769\n",
      "None\n",
      "--------------------------------------------------\n",
      "Epoch [19/124], Loss: 0.5228\n"
     ]
    },
    {
     "name": "stderr",
     "output_type": "stream",
     "text": [
      " 15%|█▌        | 19/124 [02:20<12:49,  7.33s/it]"
     ]
    },
    {
     "name": "stdout",
     "output_type": "stream",
     "text": [
      "Mean Squared Error: 0.5317 and Mean Absolute Error: 0.5903\n",
      "None\n",
      "--------------------------------------------------\n",
      "Epoch [20/124], Loss: 0.5297\n"
     ]
    },
    {
     "name": "stderr",
     "output_type": "stream",
     "text": [
      " 16%|█▌        | 20/124 [02:28<12:41,  7.32s/it]"
     ]
    },
    {
     "name": "stdout",
     "output_type": "stream",
     "text": [
      "Mean Squared Error: 0.5249 and Mean Absolute Error: 0.5833\n",
      "None\n",
      "--------------------------------------------------\n",
      "Epoch [21/124], Loss: 0.5205\n"
     ]
    },
    {
     "name": "stderr",
     "output_type": "stream",
     "text": [
      " 17%|█▋        | 21/124 [02:35<12:35,  7.33s/it]"
     ]
    },
    {
     "name": "stdout",
     "output_type": "stream",
     "text": [
      "Mean Squared Error: 0.5129 and Mean Absolute Error: 0.5738\n",
      "None\n",
      "--------------------------------------------------\n",
      "Epoch [22/124], Loss: 0.5195\n"
     ]
    },
    {
     "name": "stderr",
     "output_type": "stream",
     "text": [
      " 18%|█▊        | 22/124 [02:42<12:26,  7.32s/it]"
     ]
    },
    {
     "name": "stdout",
     "output_type": "stream",
     "text": [
      "Mean Squared Error: 0.5288 and Mean Absolute Error: 0.5850\n",
      "None\n",
      "--------------------------------------------------\n",
      "Epoch [23/124], Loss: 0.5140\n"
     ]
    },
    {
     "name": "stderr",
     "output_type": "stream",
     "text": [
      " 19%|█▊        | 23/124 [02:50<12:20,  7.33s/it]"
     ]
    },
    {
     "name": "stdout",
     "output_type": "stream",
     "text": [
      "Mean Squared Error: 0.5014 and Mean Absolute Error: 0.5706\n",
      "None\n",
      "--------------------------------------------------\n",
      "Epoch [24/124], Loss: 0.5119\n"
     ]
    },
    {
     "name": "stderr",
     "output_type": "stream",
     "text": [
      " 19%|█▉        | 24/124 [02:57<12:11,  7.31s/it]"
     ]
    },
    {
     "name": "stdout",
     "output_type": "stream",
     "text": [
      "Mean Squared Error: 0.5181 and Mean Absolute Error: 0.5797\n",
      "None\n",
      "--------------------------------------------------\n",
      "Epoch [25/124], Loss: 0.5181\n"
     ]
    },
    {
     "name": "stderr",
     "output_type": "stream",
     "text": [
      " 20%|██        | 25/124 [03:04<12:03,  7.31s/it]"
     ]
    },
    {
     "name": "stdout",
     "output_type": "stream",
     "text": [
      "Mean Squared Error: 0.4989 and Mean Absolute Error: 0.5717\n",
      "None\n",
      "--------------------------------------------------\n",
      "Epoch [26/124], Loss: 0.4970\n"
     ]
    },
    {
     "name": "stderr",
     "output_type": "stream",
     "text": [
      " 21%|██        | 26/124 [03:12<11:58,  7.33s/it]"
     ]
    },
    {
     "name": "stdout",
     "output_type": "stream",
     "text": [
      "Mean Squared Error: 0.5069 and Mean Absolute Error: 0.5698\n",
      "None\n",
      "--------------------------------------------------\n",
      "Epoch [27/124], Loss: 0.5132\n"
     ]
    },
    {
     "name": "stderr",
     "output_type": "stream",
     "text": [
      " 22%|██▏       | 27/124 [03:19<11:48,  7.31s/it]"
     ]
    },
    {
     "name": "stdout",
     "output_type": "stream",
     "text": [
      "Mean Squared Error: 0.5100 and Mean Absolute Error: 0.5721\n",
      "None\n",
      "--------------------------------------------------\n",
      "Epoch [28/124], Loss: 0.4991\n"
     ]
    },
    {
     "name": "stderr",
     "output_type": "stream",
     "text": [
      " 23%|██▎       | 28/124 [03:26<11:39,  7.29s/it]"
     ]
    },
    {
     "name": "stdout",
     "output_type": "stream",
     "text": [
      "Mean Squared Error: 0.4960 and Mean Absolute Error: 0.5665\n",
      "None\n",
      "--------------------------------------------------\n",
      "Epoch [29/124], Loss: 0.5003\n"
     ]
    },
    {
     "name": "stderr",
     "output_type": "stream",
     "text": [
      " 23%|██▎       | 29/124 [03:34<11:40,  7.37s/it]"
     ]
    },
    {
     "name": "stdout",
     "output_type": "stream",
     "text": [
      "Mean Squared Error: 0.5088 and Mean Absolute Error: 0.5742\n",
      "None\n",
      "--------------------------------------------------\n",
      "Epoch [30/124], Loss: 0.4987\n"
     ]
    },
    {
     "name": "stderr",
     "output_type": "stream",
     "text": [
      " 24%|██▍       | 30/124 [03:41<11:32,  7.37s/it]"
     ]
    },
    {
     "name": "stdout",
     "output_type": "stream",
     "text": [
      "Mean Squared Error: 0.4937 and Mean Absolute Error: 0.5635\n",
      "None\n",
      "--------------------------------------------------\n",
      "Epoch [31/124], Loss: 0.4904\n"
     ]
    },
    {
     "name": "stderr",
     "output_type": "stream",
     "text": [
      " 25%|██▌       | 31/124 [03:48<11:25,  7.37s/it]"
     ]
    },
    {
     "name": "stdout",
     "output_type": "stream",
     "text": [
      "Mean Squared Error: 0.5063 and Mean Absolute Error: 0.5712\n",
      "None\n",
      "--------------------------------------------------\n",
      "Epoch [32/124], Loss: 0.5020\n"
     ]
    },
    {
     "name": "stderr",
     "output_type": "stream",
     "text": [
      " 26%|██▌       | 32/124 [03:56<11:17,  7.37s/it]"
     ]
    },
    {
     "name": "stdout",
     "output_type": "stream",
     "text": [
      "Mean Squared Error: 0.4972 and Mean Absolute Error: 0.5654\n",
      "None\n",
      "--------------------------------------------------\n",
      "Epoch [33/124], Loss: 0.4844\n"
     ]
    },
    {
     "name": "stderr",
     "output_type": "stream",
     "text": [
      " 27%|██▋       | 33/124 [04:03<11:08,  7.34s/it]"
     ]
    },
    {
     "name": "stdout",
     "output_type": "stream",
     "text": [
      "Mean Squared Error: 0.4850 and Mean Absolute Error: 0.5617\n",
      "None\n",
      "--------------------------------------------------\n",
      "Epoch [34/124], Loss: 0.4899\n"
     ]
    },
    {
     "name": "stderr",
     "output_type": "stream",
     "text": [
      " 27%|██▋       | 34/124 [04:10<11:00,  7.34s/it]"
     ]
    },
    {
     "name": "stdout",
     "output_type": "stream",
     "text": [
      "Mean Squared Error: 0.4931 and Mean Absolute Error: 0.5631\n",
      "None\n",
      "--------------------------------------------------\n",
      "Epoch [35/124], Loss: 0.4872\n"
     ]
    },
    {
     "name": "stderr",
     "output_type": "stream",
     "text": [
      " 28%|██▊       | 35/124 [04:18<10:52,  7.33s/it]"
     ]
    },
    {
     "name": "stdout",
     "output_type": "stream",
     "text": [
      "Mean Squared Error: 0.4866 and Mean Absolute Error: 0.5606\n",
      "None\n",
      "--------------------------------------------------\n",
      "Epoch [36/124], Loss: 0.4897\n"
     ]
    },
    {
     "name": "stderr",
     "output_type": "stream",
     "text": [
      " 29%|██▉       | 36/124 [04:25<10:43,  7.31s/it]"
     ]
    },
    {
     "name": "stdout",
     "output_type": "stream",
     "text": [
      "Mean Squared Error: 0.5056 and Mean Absolute Error: 0.5707\n",
      "None\n",
      "--------------------------------------------------\n",
      "Epoch [37/124], Loss: 0.4899\n"
     ]
    },
    {
     "name": "stderr",
     "output_type": "stream",
     "text": [
      " 30%|██▉       | 37/124 [04:32<10:34,  7.30s/it]"
     ]
    },
    {
     "name": "stdout",
     "output_type": "stream",
     "text": [
      "Mean Squared Error: 0.4871 and Mean Absolute Error: 0.5590\n",
      "None\n",
      "--------------------------------------------------\n",
      "Epoch [38/124], Loss: 0.4764\n"
     ]
    },
    {
     "name": "stderr",
     "output_type": "stream",
     "text": [
      " 31%|███       | 38/124 [04:40<10:27,  7.30s/it]"
     ]
    },
    {
     "name": "stdout",
     "output_type": "stream",
     "text": [
      "Mean Squared Error: 0.4872 and Mean Absolute Error: 0.5615\n",
      "None\n",
      "--------------------------------------------------\n",
      "Epoch [39/124], Loss: 0.4864\n"
     ]
    },
    {
     "name": "stderr",
     "output_type": "stream",
     "text": [
      " 31%|███▏      | 39/124 [04:47<10:18,  7.28s/it]"
     ]
    },
    {
     "name": "stdout",
     "output_type": "stream",
     "text": [
      "Mean Squared Error: 0.4830 and Mean Absolute Error: 0.5594\n",
      "None\n",
      "--------------------------------------------------\n",
      "Epoch [40/124], Loss: 0.4736\n"
     ]
    },
    {
     "name": "stderr",
     "output_type": "stream",
     "text": [
      " 32%|███▏      | 40/124 [04:54<10:11,  7.27s/it]"
     ]
    },
    {
     "name": "stdout",
     "output_type": "stream",
     "text": [
      "Mean Squared Error: 0.4892 and Mean Absolute Error: 0.5640\n",
      "None\n",
      "--------------------------------------------------\n",
      "Epoch [41/124], Loss: 0.4860\n"
     ]
    },
    {
     "name": "stderr",
     "output_type": "stream",
     "text": [
      " 33%|███▎      | 41/124 [05:01<10:03,  7.27s/it]"
     ]
    },
    {
     "name": "stdout",
     "output_type": "stream",
     "text": [
      "Mean Squared Error: 0.4949 and Mean Absolute Error: 0.5639\n",
      "None\n",
      "--------------------------------------------------\n",
      "Epoch [42/124], Loss: 0.4754\n"
     ]
    },
    {
     "name": "stderr",
     "output_type": "stream",
     "text": [
      " 34%|███▍      | 42/124 [05:09<09:55,  7.27s/it]"
     ]
    },
    {
     "name": "stdout",
     "output_type": "stream",
     "text": [
      "Mean Squared Error: 0.4760 and Mean Absolute Error: 0.5552\n",
      "None\n",
      "--------------------------------------------------\n",
      "Epoch [43/124], Loss: 0.4767\n"
     ]
    },
    {
     "name": "stderr",
     "output_type": "stream",
     "text": [
      " 35%|███▍      | 43/124 [05:16<09:51,  7.30s/it]"
     ]
    },
    {
     "name": "stdout",
     "output_type": "stream",
     "text": [
      "Mean Squared Error: 0.4856 and Mean Absolute Error: 0.5632\n",
      "None\n",
      "--------------------------------------------------\n",
      "Epoch [44/124], Loss: 0.4757\n"
     ]
    },
    {
     "name": "stderr",
     "output_type": "stream",
     "text": [
      " 35%|███▌      | 44/124 [05:23<09:43,  7.29s/it]"
     ]
    },
    {
     "name": "stdout",
     "output_type": "stream",
     "text": [
      "Mean Squared Error: 0.4714 and Mean Absolute Error: 0.5525\n",
      "None\n",
      "--------------------------------------------------\n",
      "Epoch [45/124], Loss: 0.4639\n"
     ]
    },
    {
     "name": "stderr",
     "output_type": "stream",
     "text": [
      " 36%|███▋      | 45/124 [05:31<09:40,  7.35s/it]"
     ]
    },
    {
     "name": "stdout",
     "output_type": "stream",
     "text": [
      "Mean Squared Error: 0.4900 and Mean Absolute Error: 0.5623\n",
      "None\n",
      "--------------------------------------------------\n",
      "Epoch [46/124], Loss: 0.4778\n"
     ]
    },
    {
     "name": "stderr",
     "output_type": "stream",
     "text": [
      " 37%|███▋      | 46/124 [05:38<09:41,  7.46s/it]"
     ]
    },
    {
     "name": "stdout",
     "output_type": "stream",
     "text": [
      "Mean Squared Error: 0.4853 and Mean Absolute Error: 0.5602\n",
      "None\n",
      "--------------------------------------------------\n",
      "Epoch [47/124], Loss: 0.4657\n"
     ]
    },
    {
     "name": "stderr",
     "output_type": "stream",
     "text": [
      " 38%|███▊      | 47/124 [05:46<09:39,  7.53s/it]"
     ]
    },
    {
     "name": "stdout",
     "output_type": "stream",
     "text": [
      "Mean Squared Error: 0.4737 and Mean Absolute Error: 0.5545\n",
      "None\n",
      "--------------------------------------------------\n",
      "Epoch [48/124], Loss: 0.4714\n"
     ]
    },
    {
     "name": "stderr",
     "output_type": "stream",
     "text": [
      " 39%|███▊      | 48/124 [05:54<09:37,  7.60s/it]"
     ]
    },
    {
     "name": "stdout",
     "output_type": "stream",
     "text": [
      "Mean Squared Error: 0.4846 and Mean Absolute Error: 0.5604\n",
      "None\n",
      "--------------------------------------------------\n",
      "Epoch [49/124], Loss: 0.4639\n"
     ]
    },
    {
     "name": "stderr",
     "output_type": "stream",
     "text": [
      " 40%|███▉      | 49/124 [06:02<09:34,  7.66s/it]"
     ]
    },
    {
     "name": "stdout",
     "output_type": "stream",
     "text": [
      "Mean Squared Error: 0.4712 and Mean Absolute Error: 0.5506\n",
      "None\n",
      "--------------------------------------------------\n",
      "Epoch [50/124], Loss: 0.4638\n"
     ]
    },
    {
     "name": "stderr",
     "output_type": "stream",
     "text": [
      " 40%|████      | 50/124 [06:09<09:27,  7.67s/it]"
     ]
    },
    {
     "name": "stdout",
     "output_type": "stream",
     "text": [
      "Mean Squared Error: 0.4865 and Mean Absolute Error: 0.5592\n",
      "None\n",
      "--------------------------------------------------\n",
      "Epoch [51/124], Loss: 0.4639\n"
     ]
    },
    {
     "name": "stderr",
     "output_type": "stream",
     "text": [
      " 41%|████      | 51/124 [06:17<09:12,  7.57s/it]"
     ]
    },
    {
     "name": "stdout",
     "output_type": "stream",
     "text": [
      "Mean Squared Error: 0.4692 and Mean Absolute Error: 0.5504\n",
      "None\n",
      "--------------------------------------------------\n",
      "Epoch [52/124], Loss: 0.4556\n"
     ]
    },
    {
     "name": "stderr",
     "output_type": "stream",
     "text": [
      " 42%|████▏     | 52/124 [06:24<08:59,  7.49s/it]"
     ]
    },
    {
     "name": "stdout",
     "output_type": "stream",
     "text": [
      "Mean Squared Error: 0.4860 and Mean Absolute Error: 0.5612\n",
      "None\n",
      "--------------------------------------------------\n",
      "Epoch [53/124], Loss: 0.4681\n"
     ]
    },
    {
     "name": "stderr",
     "output_type": "stream",
     "text": [
      " 43%|████▎     | 53/124 [06:31<08:47,  7.43s/it]"
     ]
    },
    {
     "name": "stdout",
     "output_type": "stream",
     "text": [
      "Mean Squared Error: 0.4737 and Mean Absolute Error: 0.5541\n",
      "None\n",
      "--------------------------------------------------\n",
      "Epoch [54/124], Loss: 0.4540\n"
     ]
    },
    {
     "name": "stderr",
     "output_type": "stream",
     "text": [
      " 44%|████▎     | 54/124 [06:39<08:37,  7.39s/it]"
     ]
    },
    {
     "name": "stdout",
     "output_type": "stream",
     "text": [
      "Mean Squared Error: 0.4742 and Mean Absolute Error: 0.5532\n",
      "None\n",
      "--------------------------------------------------\n",
      "Epoch [55/124], Loss: 0.4672\n"
     ]
    },
    {
     "name": "stderr",
     "output_type": "stream",
     "text": [
      " 44%|████▍     | 55/124 [06:46<08:27,  7.36s/it]"
     ]
    },
    {
     "name": "stdout",
     "output_type": "stream",
     "text": [
      "Mean Squared Error: 0.4903 and Mean Absolute Error: 0.5616\n",
      "None\n",
      "--------------------------------------------------\n",
      "Epoch [56/124], Loss: 0.4534\n"
     ]
    },
    {
     "name": "stderr",
     "output_type": "stream",
     "text": [
      " 45%|████▌     | 56/124 [06:53<08:21,  7.37s/it]"
     ]
    },
    {
     "name": "stdout",
     "output_type": "stream",
     "text": [
      "Mean Squared Error: 0.4648 and Mean Absolute Error: 0.5476\n",
      "None\n",
      "--------------------------------------------------\n",
      "Epoch [57/124], Loss: 0.4618\n"
     ]
    },
    {
     "name": "stderr",
     "output_type": "stream",
     "text": [
      " 46%|████▌     | 57/124 [07:01<08:16,  7.41s/it]"
     ]
    },
    {
     "name": "stdout",
     "output_type": "stream",
     "text": [
      "Mean Squared Error: 0.4824 and Mean Absolute Error: 0.5589\n",
      "None\n",
      "--------------------------------------------------\n",
      "Epoch [58/124], Loss: 0.4581\n"
     ]
    },
    {
     "name": "stderr",
     "output_type": "stream",
     "text": [
      " 47%|████▋     | 58/124 [07:08<08:06,  7.37s/it]"
     ]
    },
    {
     "name": "stdout",
     "output_type": "stream",
     "text": [
      "Mean Squared Error: 0.4665 and Mean Absolute Error: 0.5507\n",
      "None\n",
      "--------------------------------------------------\n",
      "Epoch [59/124], Loss: 0.4495\n"
     ]
    },
    {
     "name": "stderr",
     "output_type": "stream",
     "text": [
      " 48%|████▊     | 59/124 [07:16<08:04,  7.46s/it]"
     ]
    },
    {
     "name": "stdout",
     "output_type": "stream",
     "text": [
      "Mean Squared Error: 0.4859 and Mean Absolute Error: 0.5579\n",
      "None\n",
      "--------------------------------------------------\n",
      "Epoch [60/124], Loss: 0.4653\n"
     ]
    },
    {
     "name": "stderr",
     "output_type": "stream",
     "text": [
      " 48%|████▊     | 60/124 [07:23<08:01,  7.52s/it]"
     ]
    },
    {
     "name": "stdout",
     "output_type": "stream",
     "text": [
      "Mean Squared Error: 0.4795 and Mean Absolute Error: 0.5547\n",
      "None\n",
      "--------------------------------------------------\n",
      "Epoch [61/124], Loss: 0.4474\n"
     ]
    },
    {
     "name": "stderr",
     "output_type": "stream",
     "text": [
      " 49%|████▉     | 61/124 [07:31<07:52,  7.50s/it]"
     ]
    },
    {
     "name": "stdout",
     "output_type": "stream",
     "text": [
      "Mean Squared Error: 0.4707 and Mean Absolute Error: 0.5524\n",
      "None\n",
      "--------------------------------------------------\n",
      "Epoch [62/124], Loss: 0.4581\n"
     ]
    },
    {
     "name": "stderr",
     "output_type": "stream",
     "text": [
      " 50%|█████     | 62/124 [07:38<07:46,  7.53s/it]"
     ]
    },
    {
     "name": "stdout",
     "output_type": "stream",
     "text": [
      "Mean Squared Error: 0.4763 and Mean Absolute Error: 0.5545\n",
      "None\n",
      "--------------------------------------------------\n",
      "Epoch [63/124], Loss: 0.4491\n"
     ]
    },
    {
     "name": "stderr",
     "output_type": "stream",
     "text": [
      " 51%|█████     | 63/124 [07:46<07:42,  7.59s/it]"
     ]
    },
    {
     "name": "stdout",
     "output_type": "stream",
     "text": [
      "Mean Squared Error: 0.4652 and Mean Absolute Error: 0.5473\n",
      "None\n",
      "--------------------------------------------------\n",
      "Epoch [64/124], Loss: 0.4486\n"
     ]
    },
    {
     "name": "stderr",
     "output_type": "stream",
     "text": [
      " 52%|█████▏    | 64/124 [07:54<07:31,  7.53s/it]"
     ]
    },
    {
     "name": "stdout",
     "output_type": "stream",
     "text": [
      "Mean Squared Error: 0.4854 and Mean Absolute Error: 0.5588\n",
      "None\n",
      "--------------------------------------------------\n",
      "Epoch [65/124], Loss: 0.4544\n"
     ]
    },
    {
     "name": "stderr",
     "output_type": "stream",
     "text": [
      " 52%|█████▏    | 65/124 [08:01<07:17,  7.42s/it]"
     ]
    },
    {
     "name": "stdout",
     "output_type": "stream",
     "text": [
      "Mean Squared Error: 0.4617 and Mean Absolute Error: 0.5454\n",
      "None\n",
      "--------------------------------------------------\n",
      "Epoch [66/124], Loss: 0.4368\n"
     ]
    },
    {
     "name": "stderr",
     "output_type": "stream",
     "text": [
      " 53%|█████▎    | 66/124 [08:08<07:11,  7.45s/it]"
     ]
    },
    {
     "name": "stdout",
     "output_type": "stream",
     "text": [
      "Mean Squared Error: 0.4722 and Mean Absolute Error: 0.5506\n",
      "None\n",
      "--------------------------------------------------\n",
      "Epoch [67/124], Loss: 0.4565\n"
     ]
    },
    {
     "name": "stderr",
     "output_type": "stream",
     "text": [
      " 54%|█████▍    | 67/124 [08:16<07:06,  7.48s/it]"
     ]
    },
    {
     "name": "stdout",
     "output_type": "stream",
     "text": [
      "Mean Squared Error: 0.4801 and Mean Absolute Error: 0.5571\n",
      "None\n",
      "--------------------------------------------------\n",
      "Epoch [68/124], Loss: 0.4428\n"
     ]
    },
    {
     "name": "stderr",
     "output_type": "stream",
     "text": [
      " 55%|█████▍    | 68/124 [08:23<07:00,  7.51s/it]"
     ]
    },
    {
     "name": "stdout",
     "output_type": "stream",
     "text": [
      "Mean Squared Error: 0.4627 and Mean Absolute Error: 0.5462\n",
      "None\n",
      "--------------------------------------------------\n",
      "Epoch [69/124], Loss: 0.4476\n"
     ]
    },
    {
     "name": "stderr",
     "output_type": "stream",
     "text": [
      " 56%|█████▌    | 69/124 [08:31<06:54,  7.54s/it]"
     ]
    },
    {
     "name": "stdout",
     "output_type": "stream",
     "text": [
      "Mean Squared Error: 0.4856 and Mean Absolute Error: 0.5610\n",
      "None\n",
      "--------------------------------------------------\n",
      "Epoch [70/124], Loss: 0.4527\n"
     ]
    },
    {
     "name": "stderr",
     "output_type": "stream",
     "text": [
      " 56%|█████▋    | 70/124 [08:39<06:48,  7.57s/it]"
     ]
    },
    {
     "name": "stdout",
     "output_type": "stream",
     "text": [
      "Mean Squared Error: 0.4633 and Mean Absolute Error: 0.5470\n",
      "None\n",
      "--------------------------------------------------\n",
      "Epoch [71/124], Loss: 0.4344\n"
     ]
    },
    {
     "name": "stderr",
     "output_type": "stream",
     "text": [
      " 57%|█████▋    | 71/124 [08:46<06:44,  7.63s/it]"
     ]
    },
    {
     "name": "stdout",
     "output_type": "stream",
     "text": [
      "Mean Squared Error: 0.4692 and Mean Absolute Error: 0.5481\n",
      "None\n",
      "--------------------------------------------------\n",
      "Epoch [72/124], Loss: 0.4560\n"
     ]
    },
    {
     "name": "stderr",
     "output_type": "stream",
     "text": [
      " 58%|█████▊    | 72/124 [08:54<06:35,  7.60s/it]"
     ]
    },
    {
     "name": "stdout",
     "output_type": "stream",
     "text": [
      "Mean Squared Error: 0.4704 and Mean Absolute Error: 0.5508\n",
      "None\n",
      "--------------------------------------------------\n",
      "Epoch [73/124], Loss: 0.4354\n"
     ]
    },
    {
     "name": "stderr",
     "output_type": "stream",
     "text": [
      " 59%|█████▉    | 73/124 [09:01<06:24,  7.54s/it]"
     ]
    },
    {
     "name": "stdout",
     "output_type": "stream",
     "text": [
      "Mean Squared Error: 0.4566 and Mean Absolute Error: 0.5440\n",
      "None\n",
      "--------------------------------------------------\n",
      "Epoch [74/124], Loss: 0.4431\n"
     ]
    },
    {
     "name": "stderr",
     "output_type": "stream",
     "text": [
      " 60%|█████▉    | 74/124 [09:09<06:12,  7.44s/it]"
     ]
    },
    {
     "name": "stdout",
     "output_type": "stream",
     "text": [
      "Mean Squared Error: 0.4744 and Mean Absolute Error: 0.5514\n",
      "None\n",
      "--------------------------------------------------\n",
      "Epoch [75/124], Loss: 0.4496\n"
     ]
    },
    {
     "name": "stderr",
     "output_type": "stream",
     "text": [
      " 60%|██████    | 75/124 [09:16<06:00,  7.36s/it]"
     ]
    },
    {
     "name": "stdout",
     "output_type": "stream",
     "text": [
      "Mean Squared Error: 0.4585 and Mean Absolute Error: 0.5438\n",
      "None\n",
      "--------------------------------------------------\n",
      "Epoch [76/124], Loss: 0.4283\n"
     ]
    },
    {
     "name": "stderr",
     "output_type": "stream",
     "text": [
      " 61%|██████▏   | 76/124 [09:23<05:50,  7.31s/it]"
     ]
    },
    {
     "name": "stdout",
     "output_type": "stream",
     "text": [
      "Mean Squared Error: 0.4632 and Mean Absolute Error: 0.5469\n",
      "None\n",
      "--------------------------------------------------\n",
      "Epoch [77/124], Loss: 0.4467\n"
     ]
    },
    {
     "name": "stderr",
     "output_type": "stream",
     "text": [
      " 62%|██████▏   | 77/124 [09:30<05:41,  7.27s/it]"
     ]
    },
    {
     "name": "stdout",
     "output_type": "stream",
     "text": [
      "Mean Squared Error: 0.4701 and Mean Absolute Error: 0.5525\n",
      "None\n",
      "--------------------------------------------------\n",
      "Epoch [78/124], Loss: 0.4314\n"
     ]
    },
    {
     "name": "stderr",
     "output_type": "stream",
     "text": [
      " 63%|██████▎   | 78/124 [09:37<05:33,  7.26s/it]"
     ]
    },
    {
     "name": "stdout",
     "output_type": "stream",
     "text": [
      "Mean Squared Error: 0.4536 and Mean Absolute Error: 0.5418\n",
      "None\n",
      "--------------------------------------------------\n",
      "Epoch [79/124], Loss: 0.4430\n"
     ]
    },
    {
     "name": "stderr",
     "output_type": "stream",
     "text": [
      " 64%|██████▎   | 79/124 [09:44<05:25,  7.23s/it]"
     ]
    },
    {
     "name": "stdout",
     "output_type": "stream",
     "text": [
      "Mean Squared Error: 0.4829 and Mean Absolute Error: 0.5581\n",
      "None\n",
      "--------------------------------------------------\n",
      "Epoch [80/124], Loss: 0.4473\n"
     ]
    },
    {
     "name": "stderr",
     "output_type": "stream",
     "text": [
      " 65%|██████▍   | 80/124 [09:52<05:17,  7.22s/it]"
     ]
    },
    {
     "name": "stdout",
     "output_type": "stream",
     "text": [
      "Mean Squared Error: 0.4545 and Mean Absolute Error: 0.5405\n",
      "None\n",
      "--------------------------------------------------\n",
      "Epoch [81/124], Loss: 0.4260\n"
     ]
    },
    {
     "name": "stderr",
     "output_type": "stream",
     "text": [
      " 65%|██████▌   | 81/124 [09:59<05:10,  7.21s/it]"
     ]
    },
    {
     "name": "stdout",
     "output_type": "stream",
     "text": [
      "Mean Squared Error: 0.4541 and Mean Absolute Error: 0.5422\n",
      "None\n",
      "--------------------------------------------------\n",
      "Epoch [82/124], Loss: 0.4493\n"
     ]
    },
    {
     "name": "stderr",
     "output_type": "stream",
     "text": [
      " 66%|██████▌   | 82/124 [10:06<05:02,  7.20s/it]"
     ]
    },
    {
     "name": "stdout",
     "output_type": "stream",
     "text": [
      "Mean Squared Error: 0.4733 and Mean Absolute Error: 0.5531\n",
      "None\n",
      "--------------------------------------------------\n",
      "Epoch [83/124], Loss: 0.4367\n"
     ]
    },
    {
     "name": "stderr",
     "output_type": "stream",
     "text": [
      " 67%|██████▋   | 83/124 [10:13<04:55,  7.20s/it]"
     ]
    },
    {
     "name": "stdout",
     "output_type": "stream",
     "text": [
      "Mean Squared Error: 0.4477 and Mean Absolute Error: 0.5374\n",
      "None\n",
      "--------------------------------------------------\n",
      "Epoch [84/124], Loss: 0.4343\n"
     ]
    },
    {
     "name": "stderr",
     "output_type": "stream",
     "text": [
      " 68%|██████▊   | 84/124 [10:21<04:54,  7.37s/it]"
     ]
    },
    {
     "name": "stdout",
     "output_type": "stream",
     "text": [
      "Mean Squared Error: 0.4756 and Mean Absolute Error: 0.5532\n",
      "None\n",
      "--------------------------------------------------\n",
      "Epoch [85/124], Loss: 0.4489\n"
     ]
    },
    {
     "name": "stderr",
     "output_type": "stream",
     "text": [
      " 69%|██████▊   | 85/124 [10:29<04:50,  7.45s/it]"
     ]
    },
    {
     "name": "stdout",
     "output_type": "stream",
     "text": [
      "Mean Squared Error: 0.4646 and Mean Absolute Error: 0.5453\n",
      "None\n",
      "--------------------------------------------------\n",
      "Epoch [86/124], Loss: 0.4200\n"
     ]
    },
    {
     "name": "stderr",
     "output_type": "stream",
     "text": [
      " 69%|██████▉   | 86/124 [10:36<04:43,  7.47s/it]"
     ]
    },
    {
     "name": "stdout",
     "output_type": "stream",
     "text": [
      "Mean Squared Error: 0.4580 and Mean Absolute Error: 0.5434\n",
      "None\n",
      "--------------------------------------------------\n",
      "Epoch [87/124], Loss: 0.4427\n"
     ]
    },
    {
     "name": "stderr",
     "output_type": "stream",
     "text": [
      " 70%|███████   | 87/124 [10:44<04:36,  7.47s/it]"
     ]
    },
    {
     "name": "stdout",
     "output_type": "stream",
     "text": [
      "Mean Squared Error: 0.4778 and Mean Absolute Error: 0.5548\n",
      "None\n",
      "--------------------------------------------------\n",
      "Epoch [88/124], Loss: 0.4361\n"
     ]
    },
    {
     "name": "stderr",
     "output_type": "stream",
     "text": [
      " 71%|███████   | 88/124 [10:51<04:31,  7.55s/it]"
     ]
    },
    {
     "name": "stdout",
     "output_type": "stream",
     "text": [
      "Mean Squared Error: 0.4503 and Mean Absolute Error: 0.5366\n",
      "None\n",
      "--------------------------------------------------\n",
      "Epoch [89/124], Loss: 0.4216\n"
     ]
    },
    {
     "name": "stderr",
     "output_type": "stream",
     "text": [
      " 72%|███████▏  | 89/124 [10:59<04:22,  7.50s/it]"
     ]
    },
    {
     "name": "stdout",
     "output_type": "stream",
     "text": [
      "Mean Squared Error: 0.4569 and Mean Absolute Error: 0.5436\n",
      "None\n",
      "--------------------------------------------------\n",
      "Epoch [90/124], Loss: 0.4437\n"
     ]
    },
    {
     "name": "stderr",
     "output_type": "stream",
     "text": [
      " 73%|███████▎  | 90/124 [11:06<04:14,  7.48s/it]"
     ]
    },
    {
     "name": "stdout",
     "output_type": "stream",
     "text": [
      "Mean Squared Error: 0.4778 and Mean Absolute Error: 0.5545\n",
      "None\n",
      "--------------------------------------------------\n",
      "Epoch [91/124], Loss: 0.4233\n"
     ]
    },
    {
     "name": "stderr",
     "output_type": "stream",
     "text": [
      " 73%|███████▎  | 91/124 [11:13<04:05,  7.43s/it]"
     ]
    },
    {
     "name": "stdout",
     "output_type": "stream",
     "text": [
      "Mean Squared Error: 0.4466 and Mean Absolute Error: 0.5374\n",
      "None\n",
      "--------------------------------------------------\n",
      "Epoch [92/124], Loss: 0.4246\n"
     ]
    },
    {
     "name": "stderr",
     "output_type": "stream",
     "text": [
      " 74%|███████▍  | 92/124 [11:21<03:55,  7.36s/it]"
     ]
    },
    {
     "name": "stdout",
     "output_type": "stream",
     "text": [
      "Mean Squared Error: 0.4659 and Mean Absolute Error: 0.5450\n",
      "None\n",
      "--------------------------------------------------\n",
      "Epoch [93/124], Loss: 0.4389\n"
     ]
    },
    {
     "name": "stderr",
     "output_type": "stream",
     "text": [
      " 75%|███████▌  | 93/124 [11:28<03:51,  7.48s/it]"
     ]
    },
    {
     "name": "stdout",
     "output_type": "stream",
     "text": [
      "Mean Squared Error: 0.4593 and Mean Absolute Error: 0.5441\n",
      "None\n",
      "--------------------------------------------------\n",
      "Epoch [94/124], Loss: 0.4205\n"
     ]
    },
    {
     "name": "stderr",
     "output_type": "stream",
     "text": [
      " 76%|███████▌  | 94/124 [11:36<03:47,  7.58s/it]"
     ]
    },
    {
     "name": "stdout",
     "output_type": "stream",
     "text": [
      "Mean Squared Error: 0.4503 and Mean Absolute Error: 0.5393\n",
      "None\n",
      "--------------------------------------------------\n",
      "Epoch [95/124], Loss: 0.4250\n"
     ]
    },
    {
     "name": "stderr",
     "output_type": "stream",
     "text": [
      " 77%|███████▋  | 95/124 [11:44<03:41,  7.63s/it]"
     ]
    },
    {
     "name": "stdout",
     "output_type": "stream",
     "text": [
      "Mean Squared Error: 0.4708 and Mean Absolute Error: 0.5501\n",
      "None\n",
      "--------------------------------------------------\n",
      "Epoch [96/124], Loss: 0.4406\n"
     ]
    },
    {
     "name": "stderr",
     "output_type": "stream",
     "text": [
      " 77%|███████▋  | 96/124 [11:52<03:37,  7.77s/it]"
     ]
    },
    {
     "name": "stdout",
     "output_type": "stream",
     "text": [
      "Mean Squared Error: 0.4564 and Mean Absolute Error: 0.5417\n",
      "None\n",
      "--------------------------------------------------\n",
      "Epoch [97/124], Loss: 0.4162\n"
     ]
    },
    {
     "name": "stderr",
     "output_type": "stream",
     "text": [
      " 78%|███████▊  | 97/124 [12:00<03:29,  7.77s/it]"
     ]
    },
    {
     "name": "stdout",
     "output_type": "stream",
     "text": [
      "Mean Squared Error: 0.4440 and Mean Absolute Error: 0.5349\n",
      "None\n",
      "--------------------------------------------------\n",
      "Epoch [98/124], Loss: 0.4329\n"
     ]
    },
    {
     "name": "stderr",
     "output_type": "stream",
     "text": [
      " 79%|███████▉  | 98/124 [12:08<03:26,  7.96s/it]"
     ]
    },
    {
     "name": "stdout",
     "output_type": "stream",
     "text": [
      "Mean Squared Error: 0.4734 and Mean Absolute Error: 0.5519\n",
      "None\n",
      "--------------------------------------------------\n",
      "Epoch [99/124], Loss: 0.4293\n"
     ]
    },
    {
     "name": "stderr",
     "output_type": "stream",
     "text": [
      " 80%|███████▉  | 99/124 [12:16<03:14,  7.77s/it]"
     ]
    },
    {
     "name": "stdout",
     "output_type": "stream",
     "text": [
      "Mean Squared Error: 0.4508 and Mean Absolute Error: 0.5368\n",
      "None\n",
      "--------------------------------------------------\n",
      "Epoch [100/124], Loss: 0.4076\n"
     ]
    },
    {
     "name": "stderr",
     "output_type": "stream",
     "text": [
      " 81%|████████  | 100/124 [12:23<03:02,  7.60s/it]"
     ]
    },
    {
     "name": "stdout",
     "output_type": "stream",
     "text": [
      "Mean Squared Error: 0.4445 and Mean Absolute Error: 0.5364\n",
      "None\n",
      "--------------------------------------------------\n",
      "Epoch [101/124], Loss: 0.4314\n"
     ]
    },
    {
     "name": "stderr",
     "output_type": "stream",
     "text": [
      " 81%|████████▏ | 101/124 [12:32<03:04,  8.04s/it]"
     ]
    },
    {
     "name": "stdout",
     "output_type": "stream",
     "text": [
      "Mean Squared Error: 0.4721 and Mean Absolute Error: 0.5521\n",
      "None\n",
      "--------------------------------------------------\n",
      "Epoch [102/124], Loss: 0.4242\n"
     ]
    },
    {
     "name": "stderr",
     "output_type": "stream",
     "text": [
      " 82%|████████▏ | 102/124 [12:39<02:52,  7.83s/it]"
     ]
    },
    {
     "name": "stdout",
     "output_type": "stream",
     "text": [
      "Mean Squared Error: 0.4436 and Mean Absolute Error: 0.5360\n",
      "None\n",
      "--------------------------------------------------\n",
      "Epoch [103/124], Loss: 0.4120\n"
     ]
    },
    {
     "name": "stderr",
     "output_type": "stream",
     "text": [
      " 83%|████████▎ | 103/124 [12:47<02:42,  7.74s/it]"
     ]
    },
    {
     "name": "stdout",
     "output_type": "stream",
     "text": [
      "Mean Squared Error: 0.4530 and Mean Absolute Error: 0.5398\n",
      "None\n",
      "--------------------------------------------------\n",
      "Epoch [104/124], Loss: 0.4330\n"
     ]
    },
    {
     "name": "stderr",
     "output_type": "stream",
     "text": [
      " 84%|████████▍ | 104/124 [12:54<02:32,  7.60s/it]"
     ]
    },
    {
     "name": "stdout",
     "output_type": "stream",
     "text": [
      "Mean Squared Error: 0.4675 and Mean Absolute Error: 0.5490\n",
      "None\n",
      "--------------------------------------------------\n",
      "Epoch [105/124], Loss: 0.4235\n"
     ]
    },
    {
     "name": "stderr",
     "output_type": "stream",
     "text": [
      " 85%|████████▍ | 105/124 [13:02<02:24,  7.58s/it]"
     ]
    },
    {
     "name": "stdout",
     "output_type": "stream",
     "text": [
      "Mean Squared Error: 0.4460 and Mean Absolute Error: 0.5352\n",
      "None\n",
      "--------------------------------------------------\n",
      "Epoch [106/124], Loss: 0.4047\n"
     ]
    },
    {
     "name": "stderr",
     "output_type": "stream",
     "text": [
      " 85%|████████▌ | 106/124 [13:09<02:16,  7.60s/it]"
     ]
    },
    {
     "name": "stdout",
     "output_type": "stream",
     "text": [
      "Mean Squared Error: 0.4532 and Mean Absolute Error: 0.5379\n",
      "None\n",
      "--------------------------------------------------\n",
      "Epoch [107/124], Loss: 0.4256\n"
     ]
    },
    {
     "name": "stderr",
     "output_type": "stream",
     "text": [
      " 86%|████████▋ | 107/124 [13:17<02:08,  7.55s/it]"
     ]
    },
    {
     "name": "stdout",
     "output_type": "stream",
     "text": [
      "Mean Squared Error: 0.4680 and Mean Absolute Error: 0.5496\n",
      "None\n",
      "--------------------------------------------------\n",
      "Epoch [108/124], Loss: 0.4191\n"
     ]
    },
    {
     "name": "stderr",
     "output_type": "stream",
     "text": [
      " 87%|████████▋ | 108/124 [13:24<02:02,  7.63s/it]"
     ]
    },
    {
     "name": "stdout",
     "output_type": "stream",
     "text": [
      "Mean Squared Error: 0.4456 and Mean Absolute Error: 0.5364\n",
      "None\n",
      "--------------------------------------------------\n",
      "Epoch [109/124], Loss: 0.4050\n"
     ]
    },
    {
     "name": "stderr",
     "output_type": "stream",
     "text": [
      " 88%|████████▊ | 109/124 [13:32<01:54,  7.65s/it]"
     ]
    },
    {
     "name": "stdout",
     "output_type": "stream",
     "text": [
      "Mean Squared Error: 0.4496 and Mean Absolute Error: 0.5371\n",
      "None\n",
      "--------------------------------------------------\n",
      "Epoch [110/124], Loss: 0.4273\n"
     ]
    },
    {
     "name": "stderr",
     "output_type": "stream",
     "text": [
      " 89%|████████▊ | 110/124 [13:40<01:47,  7.65s/it]"
     ]
    },
    {
     "name": "stdout",
     "output_type": "stream",
     "text": [
      "Mean Squared Error: 0.4556 and Mean Absolute Error: 0.5387\n",
      "None\n",
      "--------------------------------------------------\n",
      "Epoch [111/124], Loss: 0.4189\n"
     ]
    },
    {
     "name": "stderr",
     "output_type": "stream",
     "text": [
      " 90%|████████▉ | 111/124 [13:47<01:39,  7.62s/it]"
     ]
    },
    {
     "name": "stdout",
     "output_type": "stream",
     "text": [
      "Mean Squared Error: 0.4401 and Mean Absolute Error: 0.5319\n",
      "None\n",
      "--------------------------------------------------\n",
      "Epoch [112/124], Loss: 0.4030\n"
     ]
    },
    {
     "name": "stderr",
     "output_type": "stream",
     "text": [
      " 90%|█████████ | 112/124 [13:55<01:31,  7.61s/it]"
     ]
    },
    {
     "name": "stdout",
     "output_type": "stream",
     "text": [
      "Mean Squared Error: 0.4538 and Mean Absolute Error: 0.5389\n",
      "None\n",
      "--------------------------------------------------\n",
      "Epoch [113/124], Loss: 0.4176\n"
     ]
    },
    {
     "name": "stderr",
     "output_type": "stream",
     "text": [
      " 91%|█████████ | 113/124 [14:02<01:23,  7.60s/it]"
     ]
    },
    {
     "name": "stdout",
     "output_type": "stream",
     "text": [
      "Mean Squared Error: 0.4697 and Mean Absolute Error: 0.5507\n",
      "None\n",
      "--------------------------------------------------\n",
      "Epoch [114/124], Loss: 0.4166\n"
     ]
    },
    {
     "name": "stderr",
     "output_type": "stream",
     "text": [
      " 92%|█████████▏| 114/124 [14:10<01:15,  7.58s/it]"
     ]
    },
    {
     "name": "stdout",
     "output_type": "stream",
     "text": [
      "Mean Squared Error: 0.4414 and Mean Absolute Error: 0.5351\n",
      "None\n",
      "--------------------------------------------------\n",
      "Epoch [115/124], Loss: 0.4018\n"
     ]
    },
    {
     "name": "stderr",
     "output_type": "stream",
     "text": [
      " 93%|█████████▎| 115/124 [14:18<01:08,  7.58s/it]"
     ]
    },
    {
     "name": "stdout",
     "output_type": "stream",
     "text": [
      "Mean Squared Error: 0.4497 and Mean Absolute Error: 0.5374\n",
      "None\n",
      "--------------------------------------------------\n",
      "Epoch [116/124], Loss: 0.4207\n"
     ]
    },
    {
     "name": "stderr",
     "output_type": "stream",
     "text": [
      " 94%|█████████▎| 116/124 [14:25<01:00,  7.58s/it]"
     ]
    },
    {
     "name": "stdout",
     "output_type": "stream",
     "text": [
      "Mean Squared Error: 0.4599 and Mean Absolute Error: 0.5451\n",
      "None\n",
      "--------------------------------------------------\n",
      "Epoch [117/124], Loss: 0.4175\n"
     ]
    },
    {
     "name": "stderr",
     "output_type": "stream",
     "text": [
      " 94%|█████████▍| 117/124 [14:33<00:53,  7.71s/it]"
     ]
    },
    {
     "name": "stdout",
     "output_type": "stream",
     "text": [
      "Mean Squared Error: 0.4399 and Mean Absolute Error: 0.5338\n",
      "None\n",
      "--------------------------------------------------\n",
      "Epoch [118/124], Loss: 0.4027\n"
     ]
    },
    {
     "name": "stderr",
     "output_type": "stream",
     "text": [
      " 95%|█████████▌| 118/124 [14:40<00:45,  7.58s/it]"
     ]
    },
    {
     "name": "stdout",
     "output_type": "stream",
     "text": [
      "Mean Squared Error: 0.4402 and Mean Absolute Error: 0.5347\n",
      "None\n",
      "--------------------------------------------------\n",
      "Epoch [119/124], Loss: 0.4129\n"
     ]
    },
    {
     "name": "stderr",
     "output_type": "stream",
     "text": [
      " 96%|█████████▌| 119/124 [14:48<00:37,  7.47s/it]"
     ]
    },
    {
     "name": "stdout",
     "output_type": "stream",
     "text": [
      "Mean Squared Error: 0.4626 and Mean Absolute Error: 0.5451\n",
      "None\n",
      "--------------------------------------------------\n",
      "Epoch [120/124], Loss: 0.4189\n"
     ]
    },
    {
     "name": "stderr",
     "output_type": "stream",
     "text": [
      " 97%|█████████▋| 120/124 [14:55<00:29,  7.41s/it]"
     ]
    },
    {
     "name": "stdout",
     "output_type": "stream",
     "text": [
      "Mean Squared Error: 0.4422 and Mean Absolute Error: 0.5338\n",
      "None\n",
      "--------------------------------------------------\n",
      "Epoch [121/124], Loss: 0.3993\n"
     ]
    },
    {
     "name": "stderr",
     "output_type": "stream",
     "text": [
      " 98%|█████████▊| 121/124 [15:02<00:22,  7.36s/it]"
     ]
    },
    {
     "name": "stdout",
     "output_type": "stream",
     "text": [
      "Mean Squared Error: 0.4393 and Mean Absolute Error: 0.5303\n",
      "None\n",
      "--------------------------------------------------\n",
      "Epoch [122/124], Loss: 0.4122\n"
     ]
    },
    {
     "name": "stderr",
     "output_type": "stream",
     "text": [
      " 98%|█████████▊| 122/124 [15:09<00:14,  7.34s/it]"
     ]
    },
    {
     "name": "stdout",
     "output_type": "stream",
     "text": [
      "Mean Squared Error: 0.4609 and Mean Absolute Error: 0.5454\n",
      "None\n",
      "--------------------------------------------------\n",
      "Epoch [123/124], Loss: 0.4198\n"
     ]
    },
    {
     "name": "stderr",
     "output_type": "stream",
     "text": [
      " 99%|█████████▉| 123/124 [15:17<00:07,  7.30s/it]"
     ]
    },
    {
     "name": "stdout",
     "output_type": "stream",
     "text": [
      "Mean Squared Error: 0.4450 and Mean Absolute Error: 0.5362\n",
      "None\n",
      "--------------------------------------------------\n",
      "Epoch [124/124], Loss: 0.4004\n"
     ]
    },
    {
     "name": "stderr",
     "output_type": "stream",
     "text": [
      "100%|██████████| 124/124 [15:24<00:00,  7.45s/it]"
     ]
    },
    {
     "name": "stdout",
     "output_type": "stream",
     "text": [
      "Mean Squared Error: 0.4253 and Mean Absolute Error: 0.5251\n",
      "None\n",
      "--------------------------------------------------\n"
     ]
    },
    {
     "name": "stderr",
     "output_type": "stream",
     "text": [
      "\n"
     ]
    },
    {
     "name": "stdout",
     "output_type": "stream",
     "text": [
      "Mean Squared Error: 0.3962 and Mean Absolute Error: 0.5093\n"
     ]
    },
    {
     "data": {
      "image/png": "[encoded data removed]",
      "text/plain": [
       "<Figure size 1000x800 with 2 Axes>"
      ]
     },
     "metadata": {},
     "output_type": "display_data"
    },
    {
     "name": "stdout",
     "output_type": "stream",
     "text": [
      "Accuracy: 0.1491\n",
      "None\n"
     ]
    }
   ],
   "source": [
    "modelCNN = CNN().to(device)\n",
    "optimizer = optim.Adagrad(modelCNN.parameters(), lr=0.001, weight_decay=0.0001)\n",
    "#optimizer = optim.Adadelta(modelCNN.parameters(), lr=0.001, weight_decay=0.0001)\n",
    "#lr = 0.001\n",
    "train_model(modelCNN, optimizer, num_epochs=124)"
   ]
  },
  {
   "cell_type": "code",
   "execution_count": 30,
   "metadata": {},
   "outputs": [
    {
     "name": "stdout",
     "output_type": "stream",
     "text": [
      "Mean Squared Error: 0.3938 and Mean Absolute Error: 0.5064\n"
     ]
    },
    {
     "data": {
      "image/png": "[encoded data removed]",
      "text/plain": [
       "<Figure size 1000x800 with 2 Axes>"
      ]
     },
     "metadata": {},
     "output_type": "display_data"
    },
    {
     "name": "stdout",
     "output_type": "stream",
     "text": [
      "Accuracy: 0.1561\n"
     ]
    }
   ],
   "source": [
    "evaluate_model(modelCNN, train_loader,conf=True)"
   ]
  },
  {
   "cell_type": "markdown",
   "metadata": {},
   "source": [
    "# Official Test Data"
   ]
  },
  {
   "cell_type": "code",
   "execution_count": 31,
   "metadata": {},
   "outputs": [
    {
     "name": "stderr",
     "output_type": "stream",
     "text": [
      "100%|██████████| 1863/1863 [00:03<00:00, 477.23it/s]"
     ]
    },
    {
     "name": "stdout",
     "output_type": "stream",
     "text": [
      "133534\n"
     ]
    },
    {
     "name": "stderr",
     "output_type": "stream",
     "text": [
      "\n"
     ]
    }
   ],
   "source": [
    "import pickle\n",
    "import os\n",
    "from tqdm import tqdm\n",
    "import numpy as np\n",
    "\n",
    "directory = 'data/test'\n",
    "test_label = {}\n",
    "lenghts = []\n",
    "for filename in tqdm(os.listdir(directory)):\n",
    "    if filename.endswith('.pkl'):\n",
    "        file_path = os.path.join(directory, filename)\n",
    "        with open(file_path, 'rb') as file:\n",
    "            data = pickle.load(file)\n",
    "            test_label[filename] = data['audio_data']\n",
    "            lenghts.append(len(data['audio_data']))\n",
    "print(max(lenghts))\n",
    "            "
   ]
  },
  {
   "cell_type": "code",
   "execution_count": 32,
   "metadata": {},
   "outputs": [
    {
     "name": "stdout",
     "output_type": "stream",
     "text": [
      "10011.pkl (174625,)\n",
      "10025.pkl (174625,)\n",
      "10033.pkl (174625,)\n",
      "10036.pkl (174625,)\n",
      "10043.pkl (174625,)\n",
      "10067.pkl (174625,)\n",
      "10074.pkl (174625,)\n",
      "10079.pkl (174625,)\n",
      "10083.pkl (174625,)\n",
      "10090.pkl (174625,)\n",
      "10092.pkl (174625,)\n",
      "10097.pkl (174625,)\n",
      "10099.pkl (174625,)\n",
      "10110.pkl (174625,)\n",
      "10116.pkl (174625,)\n",
      "10120.pkl (174625,)\n",
      "10149.pkl (174625,)\n",
      "10179.pkl (174625,)\n",
      "10184.pkl (174625,)\n",
      "10189.pkl (174625,)\n",
      "10191.pkl (174625,)\n",
      "10192.pkl (174625,)\n",
      "10194.pkl (174625,)\n",
      "10200.pkl (174625,)\n",
      "10202.pkl (174625,)\n",
      "10204.pkl (174625,)\n",
      "10206.pkl (174625,)\n",
      "10207.pkl (174625,)\n",
      "10216.pkl (174625,)\n",
      "10222.pkl (174625,)\n",
      "10224.pkl (174625,)\n",
      "10235.pkl (174625,)\n",
      "10236.pkl (174625,)\n",
      "10240.pkl (174625,)\n",
      "10242.pkl (174625,)\n",
      "10251.pkl (174625,)\n",
      "10253.pkl (174625,)\n",
      "10259.pkl (174625,)\n",
      "10267.pkl (174625,)\n",
      "10271.pkl (174625,)\n",
      "10277.pkl (174625,)\n",
      "10279.pkl (174625,)\n",
      "10286.pkl (174625,)\n",
      "10287.pkl (174625,)\n",
      "10288.pkl (174625,)\n",
      "10290.pkl (174625,)\n",
      "10291.pkl (174625,)\n",
      "10293.pkl (174625,)\n",
      "10306.pkl (174625,)\n",
      "10315.pkl (174625,)\n",
      "10316.pkl (174625,)\n",
      "10317.pkl (174625,)\n",
      "10326.pkl (174625,)\n",
      "10332.pkl (174625,)\n",
      "10335.pkl (174625,)\n",
      "10349.pkl (174625,)\n",
      "10351.pkl (174625,)\n",
      "10356.pkl (174625,)\n",
      "10359.pkl (174625,)\n",
      "10363.pkl (174625,)\n",
      "10376.pkl (174625,)\n",
      "10379.pkl (174625,)\n",
      "10380.pkl (174625,)\n",
      "10383.pkl (174625,)\n",
      "10384.pkl (174625,)\n",
      "10390.pkl (174625,)\n",
      "10394.pkl (174625,)\n",
      "10398.pkl (174625,)\n",
      "10405.pkl (174625,)\n",
      "10415.pkl (174625,)\n",
      "10421.pkl (174625,)\n",
      "10425.pkl (174625,)\n",
      "10427.pkl (174625,)\n",
      "10433.pkl (174625,)\n",
      "10444.pkl (174625,)\n",
      "10450.pkl (174625,)\n",
      "10452.pkl (174625,)\n",
      "10457.pkl (174625,)\n",
      "10462.pkl (174625,)\n",
      "10466.pkl (174625,)\n",
      "10467.pkl (174625,)\n",
      "10472.pkl (174625,)\n",
      "10481.pkl (174625,)\n",
      "10489.pkl (174625,)\n",
      "10506.pkl (174625,)\n",
      "10507.pkl (174625,)\n",
      "10513.pkl (174625,)\n",
      "10518.pkl (174625,)\n",
      "10528.pkl (174625,)\n",
      "10529.pkl (174625,)\n",
      "10533.pkl (174625,)\n",
      "10535.pkl (174625,)\n",
      "10539.pkl (174625,)\n",
      "10543.pkl (174625,)\n",
      "10552.pkl (174625,)\n",
      "10553.pkl (174625,)\n",
      "10558.pkl (174625,)\n",
      "10559.pkl (174625,)\n",
      "10560.pkl (174625,)\n",
      "10561.pkl (174625,)\n",
      "10589.pkl (174625,)\n",
      "10612.pkl (174625,)\n",
      "10620.pkl (174625,)\n",
      "10627.pkl (174625,)\n",
      "10629.pkl (174625,)\n",
      "10631.pkl (174625,)\n",
      "10638.pkl (174625,)\n",
      "10646.pkl (174625,)\n",
      "10655.pkl (174625,)\n",
      "10658.pkl (174625,)\n",
      "10663.pkl (174625,)\n",
      "10679.pkl (174625,)\n",
      "10681.pkl (174625,)\n",
      "10687.pkl (174625,)\n",
      "10695.pkl (174625,)\n",
      "10711.pkl (174625,)\n",
      "10712.pkl (174625,)\n",
      "10718.pkl (174625,)\n",
      "10721.pkl (174625,)\n",
      "10723.pkl (174625,)\n",
      "10724.pkl (174625,)\n",
      "10733.pkl (174625,)\n",
      "10735.pkl (174625,)\n",
      "10749.pkl (174625,)\n",
      "10756.pkl (174625,)\n",
      "10757.pkl (174625,)\n",
      "10767.pkl (174625,)\n",
      "10771.pkl (174625,)\n",
      "10776.pkl (174625,)\n",
      "10787.pkl (174625,)\n",
      "10790.pkl (174625,)\n",
      "10792.pkl (174625,)\n",
      "10793.pkl (174625,)\n",
      "10800.pkl (174625,)\n",
      "10801.pkl (174625,)\n",
      "10802.pkl (174625,)\n",
      "10810.pkl (174625,)\n",
      "10833.pkl (174625,)\n",
      "10835.pkl (174625,)\n",
      "10839.pkl (174625,)\n",
      "10840.pkl (174625,)\n",
      "10846.pkl (174625,)\n",
      "10851.pkl (174625,)\n",
      "10857.pkl (174625,)\n",
      "10865.pkl (174625,)\n",
      "10883.pkl (174625,)\n",
      "10884.pkl (174625,)\n",
      "10886.pkl (174625,)\n",
      "10890.pkl (174625,)\n",
      "10895.pkl (174625,)\n",
      "10900.pkl (174625,)\n",
      "10903.pkl (174625,)\n",
      "10909.pkl (174625,)\n",
      "10914.pkl (174625,)\n",
      "10924.pkl (174625,)\n",
      "10940.pkl (174625,)\n",
      "10941.pkl (174625,)\n",
      "10944.pkl (174625,)\n",
      "10956.pkl (174625,)\n",
      "10975.pkl (174625,)\n",
      "10979.pkl (174625,)\n",
      "10981.pkl (174625,)\n",
      "10987.pkl (174625,)\n",
      "10993.pkl (174625,)\n",
      "10994.pkl (174625,)\n",
      "11004.pkl (174625,)\n",
      "11007.pkl (174625,)\n",
      "11009.pkl (174625,)\n",
      "11011.pkl (174625,)\n",
      "11021.pkl (174625,)\n",
      "11024.pkl (174625,)\n",
      "11041.pkl (174625,)\n",
      "11043.pkl (174625,)\n",
      "11049.pkl (174625,)\n",
      "11052.pkl (174625,)\n",
      "11055.pkl (174625,)\n",
      "11075.pkl (174625,)\n",
      "11083.pkl (174625,)\n",
      "11093.pkl (174625,)\n",
      "11102.pkl (174625,)\n",
      "11120.pkl (174625,)\n",
      "11121.pkl (174625,)\n",
      "11128.pkl (174625,)\n",
      "11129.pkl (174625,)\n",
      "11143.pkl (174625,)\n",
      "11144.pkl (174625,)\n",
      "11150.pkl (174625,)\n",
      "11175.pkl (174625,)\n",
      "11191.pkl (174625,)\n",
      "11193.pkl (174625,)\n",
      "11201.pkl (174625,)\n",
      "11209.pkl (174625,)\n",
      "11236.pkl (174625,)\n",
      "11237.pkl (174625,)\n",
      "11240.pkl (174625,)\n",
      "11243.pkl (174625,)\n",
      "11244.pkl (174625,)\n",
      "11255.pkl (174625,)\n",
      "11257.pkl (174625,)\n",
      "11267.pkl (174625,)\n",
      "11272.pkl (174625,)\n",
      "11283.pkl (174625,)\n",
      "11289.pkl (174625,)\n",
      "11293.pkl (174625,)\n",
      "11301.pkl (174625,)\n",
      "11315.pkl (174625,)\n",
      "11319.pkl (174625,)\n",
      "11322.pkl (174625,)\n",
      "11326.pkl (174625,)\n",
      "11327.pkl (174625,)\n",
      "11328.pkl (174625,)\n",
      "11338.pkl (174625,)\n",
      "11347.pkl (174625,)\n",
      "11351.pkl (174625,)\n",
      "11362.pkl (174625,)\n",
      "11365.pkl (174625,)\n",
      "11366.pkl (174625,)\n",
      "11367.pkl (174625,)\n",
      "11373.pkl (174625,)\n",
      "11379.pkl (174625,)\n",
      "11382.pkl (174625,)\n",
      "11395.pkl (174625,)\n",
      "11398.pkl (174625,)\n",
      "11406.pkl (174625,)\n",
      "11411.pkl (174625,)\n",
      "11415.pkl (174625,)\n",
      "11423.pkl (174625,)\n",
      "11426.pkl (174625,)\n",
      "11454.pkl (174625,)\n",
      "11455.pkl (174625,)\n",
      "11461.pkl (174625,)\n",
      "11463.pkl (174625,)\n",
      "11480.pkl (174625,)\n",
      "11483.pkl (174625,)\n",
      "11491.pkl (174625,)\n",
      "11494.pkl (174625,)\n",
      "11512.pkl (174625,)\n",
      "11514.pkl (174625,)\n",
      "11521.pkl (174625,)\n",
      "11524.pkl (174625,)\n",
      "11525.pkl (174625,)\n",
      "11529.pkl (174625,)\n",
      "11540.pkl (174625,)\n",
      "11547.pkl (174625,)\n",
      "11553.pkl (174625,)\n",
      "11556.pkl (174625,)\n",
      "11561.pkl (174625,)\n",
      "11575.pkl (174625,)\n",
      "11576.pkl (174625,)\n",
      "11577.pkl (174625,)\n",
      "11583.pkl (174625,)\n",
      "11584.pkl (174625,)\n",
      "11591.pkl (174625,)\n",
      "11618.pkl (174625,)\n",
      "11620.pkl (174625,)\n",
      "11625.pkl (174625,)\n",
      "11626.pkl (174625,)\n",
      "11631.pkl (174625,)\n",
      "11636.pkl (174625,)\n",
      "11641.pkl (174625,)\n",
      "11646.pkl (174625,)\n",
      "11649.pkl (174625,)\n",
      "11653.pkl (174625,)\n",
      "11658.pkl (174625,)\n",
      "11659.pkl (174625,)\n",
      "11670.pkl (174625,)\n",
      "11687.pkl (174625,)\n",
      "11699.pkl (174625,)\n",
      "11700.pkl (174625,)\n",
      "11703.pkl (174625,)\n",
      "11704.pkl (174625,)\n",
      "11710.pkl (174625,)\n",
      "11713.pkl (174625,)\n",
      "11724.pkl (174625,)\n",
      "11728.pkl (174625,)\n",
      "11735.pkl (174625,)\n",
      "11745.pkl (174625,)\n",
      "11751.pkl (174625,)\n",
      "11756.pkl (174625,)\n",
      "11761.pkl (174625,)\n",
      "11777.pkl (174625,)\n",
      "11790.pkl (174625,)\n",
      "11796.pkl (174625,)\n",
      "11804.pkl (174625,)\n",
      "11822.pkl (174625,)\n",
      "11839.pkl (174625,)\n",
      "11846.pkl (174625,)\n",
      "11848.pkl (174625,)\n",
      "11851.pkl (174625,)\n",
      "11853.pkl (174625,)\n",
      "11861.pkl (174625,)\n",
      "11871.pkl (174625,)\n",
      "11873.pkl (174625,)\n",
      "11874.pkl (174625,)\n",
      "11876.pkl (174625,)\n",
      "11878.pkl (174625,)\n",
      "11889.pkl (174625,)\n",
      "11895.pkl (174625,)\n",
      "11898.pkl (174625,)\n",
      "11937.pkl (174625,)\n",
      "11938.pkl (174625,)\n",
      "11946.pkl (174625,)\n",
      "11950.pkl (174625,)\n",
      "11953.pkl (174625,)\n",
      "11955.pkl (174625,)\n",
      "11967.pkl (174625,)\n",
      "11970.pkl (174625,)\n",
      "11985.pkl (174625,)\n",
      "11987.pkl (174625,)\n",
      "11989.pkl (174625,)\n",
      "11990.pkl (174625,)\n",
      "11992.pkl (174625,)\n",
      "11996.pkl (174625,)\n",
      "12005.pkl (174625,)\n",
      "12018.pkl (174625,)\n",
      "12019.pkl (174625,)\n",
      "12024.pkl (174625,)\n",
      "12025.pkl (174625,)\n",
      "12029.pkl (174625,)\n",
      "12030.pkl (174625,)\n",
      "12032.pkl (174625,)\n",
      "12035.pkl (174625,)\n",
      "12036.pkl (174625,)\n",
      "12037.pkl (174625,)\n",
      "12040.pkl (174625,)\n",
      "12042.pkl (174625,)\n",
      "12047.pkl (174625,)\n",
      "12051.pkl (174625,)\n",
      "12055.pkl (174625,)\n",
      "12058.pkl (174625,)\n",
      "12059.pkl (174625,)\n",
      "12070.pkl (174625,)\n",
      "12080.pkl (174625,)\n",
      "12081.pkl (174625,)\n",
      "12087.pkl (174625,)\n",
      "12091.pkl (174625,)\n",
      "12093.pkl (174625,)\n",
      "12095.pkl (174625,)\n",
      "12099.pkl (174625,)\n",
      "12138.pkl (174625,)\n",
      "12139.pkl (174625,)\n",
      "12152.pkl (174625,)\n",
      "12153.pkl (174625,)\n",
      "12164.pkl (174625,)\n",
      "12165.pkl (174625,)\n",
      "12171.pkl (174625,)\n",
      "12185.pkl (174625,)\n",
      "12189.pkl (174625,)\n",
      "12197.pkl (174625,)\n",
      "12211.pkl (174625,)\n",
      "12233.pkl (174625,)\n",
      "12240.pkl (174625,)\n",
      "12247.pkl (174625,)\n",
      "12250.pkl (174625,)\n",
      "12254.pkl (174625,)\n",
      "12258.pkl (174625,)\n",
      "12264.pkl (174625,)\n",
      "12269.pkl (174625,)\n",
      "12275.pkl (174625,)\n",
      "12278.pkl (174625,)\n",
      "12287.pkl (174625,)\n",
      "12290.pkl (174625,)\n",
      "12293.pkl (174625,)\n",
      "12294.pkl (174625,)\n",
      "12295.pkl (174625,)\n",
      "12304.pkl (174625,)\n",
      "12311.pkl (174625,)\n",
      "12317.pkl (174625,)\n",
      "12324.pkl (174625,)\n",
      "12335.pkl (174625,)\n",
      "12347.pkl (174625,)\n",
      "12356.pkl (174625,)\n",
      "12361.pkl (174625,)\n",
      "12393.pkl (174625,)\n",
      "12395.pkl (174625,)\n",
      "12397.pkl (174625,)\n",
      "12404.pkl (174625,)\n",
      "12412.pkl (174625,)\n",
      "12418.pkl (174625,)\n",
      "12419.pkl (174625,)\n",
      "12420.pkl (174625,)\n",
      "12429.pkl (174625,)\n",
      "12441.pkl (174625,)\n",
      "12456.pkl (174625,)\n",
      "12458.pkl (174625,)\n",
      "12462.pkl (174625,)\n",
      "12466.pkl (174625,)\n",
      "12470.pkl (174625,)\n",
      "12478.pkl (174625,)\n",
      "12479.pkl (174625,)\n",
      "12497.pkl (174625,)\n",
      "12503.pkl (174625,)\n",
      "12525.pkl (174625,)\n",
      "12530.pkl (174625,)\n",
      "12531.pkl (174625,)\n",
      "12556.pkl (174625,)\n",
      "12564.pkl (174625,)\n",
      "12565.pkl (174625,)\n",
      "12582.pkl (174625,)\n",
      "12588.pkl (174625,)\n",
      "12593.pkl (174625,)\n",
      "12602.pkl (174625,)\n",
      "12604.pkl (174625,)\n",
      "12609.pkl (174625,)\n",
      "12613.pkl (174625,)\n",
      "12614.pkl (174625,)\n",
      "12623.pkl (174625,)\n",
      "12624.pkl (174625,)\n",
      "12626.pkl (174625,)\n",
      "12633.pkl (174625,)\n",
      "12634.pkl (174625,)\n",
      "12644.pkl (174625,)\n",
      "12645.pkl (174625,)\n",
      "12652.pkl (174625,)\n",
      "12658.pkl (174625,)\n",
      "12661.pkl (174625,)\n",
      "12669.pkl (174625,)\n",
      "12678.pkl (174625,)\n",
      "12680.pkl (174625,)\n",
      "12681.pkl (174625,)\n",
      "12683.pkl (174625,)\n",
      "12684.pkl (174625,)\n",
      "12685.pkl (174625,)\n",
      "12692.pkl (174625,)\n",
      "12693.pkl (174625,)\n",
      "12704.pkl (174625,)\n",
      "12710.pkl (174625,)\n",
      "12729.pkl (174625,)\n",
      "12735.pkl (174625,)\n",
      "12739.pkl (174625,)\n",
      "12756.pkl (174625,)\n",
      "12758.pkl (174625,)\n",
      "12768.pkl (174625,)\n",
      "12770.pkl (174625,)\n",
      "12779.pkl (174625,)\n",
      "12797.pkl (174625,)\n",
      "12798.pkl (174625,)\n",
      "12802.pkl (174625,)\n",
      "12808.pkl (174625,)\n",
      "12812.pkl (174625,)\n",
      "12814.pkl (174625,)\n",
      "12828.pkl (174625,)\n",
      "12829.pkl (174625,)\n",
      "12836.pkl (174625,)\n",
      "12844.pkl (174625,)\n",
      "12864.pkl (174625,)\n",
      "12868.pkl (174625,)\n",
      "12879.pkl (174625,)\n",
      "12882.pkl (174625,)\n",
      "12902.pkl (174625,)\n",
      "12906.pkl (174625,)\n",
      "12913.pkl (174625,)\n",
      "12915.pkl (174625,)\n",
      "12916.pkl (174625,)\n",
      "12918.pkl (174625,)\n",
      "12921.pkl (174625,)\n",
      "12924.pkl (174625,)\n",
      "12927.pkl (174625,)\n",
      "12932.pkl (174625,)\n",
      "12937.pkl (174625,)\n",
      "12945.pkl (174625,)\n",
      "12959.pkl (174625,)\n",
      "12974.pkl (174625,)\n",
      "12986.pkl (174625,)\n",
      "12987.pkl (174625,)\n",
      "12997.pkl (174625,)\n",
      "13003.pkl (174625,)\n",
      "13005.pkl (174625,)\n",
      "13009.pkl (174625,)\n",
      "13013.pkl (174625,)\n",
      "13017.pkl (174625,)\n",
      "13018.pkl (174625,)\n",
      "13029.pkl (174625,)\n",
      "13031.pkl (174625,)\n",
      "13034.pkl (174625,)\n",
      "13040.pkl (174625,)\n",
      "13041.pkl (174625,)\n",
      "13042.pkl (174625,)\n",
      "13043.pkl (174625,)\n",
      "13046.pkl (174625,)\n",
      "13051.pkl (174625,)\n",
      "13054.pkl (174625,)\n",
      "13055.pkl (174625,)\n",
      "13058.pkl (174625,)\n",
      "13060.pkl (174625,)\n",
      "13070.pkl (174625,)\n",
      "13080.pkl (174625,)\n",
      "13083.pkl (174625,)\n",
      "13096.pkl (174625,)\n",
      "13097.pkl (174625,)\n",
      "13101.pkl (174625,)\n",
      "13111.pkl (174625,)\n",
      "13118.pkl (174625,)\n",
      "13125.pkl (174625,)\n",
      "13127.pkl (174625,)\n",
      "13137.pkl (174625,)\n",
      "13154.pkl (174625,)\n",
      "13162.pkl (174625,)\n",
      "13166.pkl (174625,)\n",
      "13170.pkl (174625,)\n",
      "13188.pkl (174625,)\n",
      "13205.pkl (174625,)\n",
      "13226.pkl (174625,)\n",
      "13228.pkl (174625,)\n",
      "13236.pkl (174625,)\n",
      "13237.pkl (174625,)\n",
      "13253.pkl (174625,)\n",
      "13259.pkl (174625,)\n",
      "13265.pkl (174625,)\n",
      "13286.pkl (174625,)\n",
      "13294.pkl (174625,)\n",
      "13296.pkl (174625,)\n",
      "13302.pkl (174625,)\n",
      "13307.pkl (174625,)\n",
      "13316.pkl (174625,)\n",
      "13318.pkl (174625,)\n",
      "13324.pkl (174625,)\n",
      "13344.pkl (174625,)\n",
      "13363.pkl (174625,)\n",
      "13372.pkl (174625,)\n",
      "13373.pkl (174625,)\n",
      "13374.pkl (174625,)\n",
      "13379.pkl (174625,)\n",
      "13382.pkl (174625,)\n",
      "13399.pkl (174625,)\n",
      "13405.pkl (174625,)\n",
      "13406.pkl (174625,)\n",
      "13408.pkl (174625,)\n",
      "13409.pkl (174625,)\n",
      "13412.pkl (174625,)\n",
      "13416.pkl (174625,)\n",
      "13429.pkl (174625,)\n",
      "13430.pkl (174625,)\n",
      "13436.pkl (174625,)\n",
      "13437.pkl (174625,)\n",
      "13439.pkl (174625,)\n",
      "13441.pkl (174625,)\n",
      "13443.pkl (174625,)\n",
      "13449.pkl (174625,)\n",
      "13464.pkl (174625,)\n",
      "13478.pkl (174625,)\n",
      "13479.pkl (174625,)\n",
      "13487.pkl (174625,)\n",
      "13490.pkl (174625,)\n",
      "13497.pkl (174625,)\n",
      "13504.pkl (174625,)\n",
      "13507.pkl (174625,)\n",
      "13508.pkl (174625,)\n",
      "13511.pkl (174625,)\n",
      "13514.pkl (174625,)\n",
      "13515.pkl (174625,)\n",
      "13516.pkl (174625,)\n",
      "13519.pkl (174625,)\n",
      "13520.pkl (174625,)\n",
      "13527.pkl (174625,)\n",
      "13534.pkl (174625,)\n",
      "13538.pkl (174625,)\n",
      "13549.pkl (174625,)\n",
      "13551.pkl (174625,)\n",
      "13556.pkl (174625,)\n",
      "13568.pkl (174625,)\n",
      "13572.pkl (174625,)\n",
      "13574.pkl (174625,)\n",
      "13578.pkl (174625,)\n",
      "13591.pkl (174625,)\n",
      "13594.pkl (174625,)\n",
      "13595.pkl (174625,)\n",
      "13601.pkl (174625,)\n",
      "13612.pkl (174625,)\n",
      "13615.pkl (174625,)\n",
      "13624.pkl (174625,)\n",
      "13625.pkl (174625,)\n",
      "13637.pkl (174625,)\n",
      "13638.pkl (174625,)\n",
      "13644.pkl (174625,)\n",
      "13654.pkl (174625,)\n",
      "13655.pkl (174625,)\n",
      "13671.pkl (174625,)\n",
      "13678.pkl (174625,)\n",
      "13684.pkl (174625,)\n",
      "13686.pkl (174625,)\n",
      "13692.pkl (174625,)\n",
      "13693.pkl (174625,)\n",
      "13697.pkl (174625,)\n",
      "13698.pkl (174625,)\n",
      "13700.pkl (174625,)\n",
      "13711.pkl (174625,)\n",
      "13726.pkl (174625,)\n",
      "13731.pkl (174625,)\n",
      "13741.pkl (174625,)\n",
      "13751.pkl (174625,)\n",
      "13753.pkl (174625,)\n",
      "13759.pkl (174625,)\n",
      "13766.pkl (174625,)\n",
      "13773.pkl (174625,)\n",
      "13777.pkl (174625,)\n",
      "13784.pkl (174625,)\n",
      "13789.pkl (174625,)\n",
      "13795.pkl (174625,)\n",
      "13797.pkl (174625,)\n",
      "13805.pkl (174625,)\n",
      "13819.pkl (174625,)\n",
      "13820.pkl (174625,)\n",
      "13821.pkl (174625,)\n",
      "13823.pkl (174625,)\n",
      "13827.pkl (174625,)\n",
      "13828.pkl (174625,)\n",
      "13831.pkl (174625,)\n",
      "13833.pkl (174625,)\n",
      "13835.pkl (174625,)\n",
      "13837.pkl (174625,)\n",
      "13839.pkl (174625,)\n",
      "13845.pkl (174625,)\n",
      "13855.pkl (174625,)\n",
      "13873.pkl (174625,)\n",
      "13891.pkl (174625,)\n",
      "13895.pkl (174625,)\n",
      "13903.pkl (174625,)\n",
      "13911.pkl (174625,)\n",
      "13931.pkl (174625,)\n",
      "13932.pkl (174625,)\n",
      "13957.pkl (174625,)\n",
      "13962.pkl (174625,)\n",
      "13963.pkl (174625,)\n",
      "13965.pkl (174625,)\n",
      "13967.pkl (174625,)\n",
      "13970.pkl (174625,)\n",
      "13992.pkl (174625,)\n",
      "14000.pkl (174625,)\n",
      "14020.pkl (174625,)\n",
      "14021.pkl (174625,)\n",
      "14027.pkl (174625,)\n",
      "14029.pkl (174625,)\n",
      "14038.pkl (174625,)\n",
      "14043.pkl (174625,)\n",
      "14053.pkl (174625,)\n",
      "14057.pkl (174625,)\n",
      "14068.pkl (174625,)\n",
      "14079.pkl (174625,)\n",
      "14089.pkl (174625,)\n",
      "14092.pkl (174625,)\n",
      "14094.pkl (174625,)\n",
      "14096.pkl (174625,)\n",
      "14106.pkl (174625,)\n",
      "14107.pkl (174625,)\n",
      "14110.pkl (174625,)\n",
      "14111.pkl (174625,)\n",
      "14115.pkl (174625,)\n",
      "14123.pkl (174625,)\n",
      "14139.pkl (174625,)\n",
      "14142.pkl (174625,)\n",
      "14149.pkl (174625,)\n",
      "14151.pkl (174625,)\n",
      "14154.pkl (174625,)\n",
      "14160.pkl (174625,)\n",
      "14162.pkl (174625,)\n",
      "14170.pkl (174625,)\n",
      "14171.pkl (174625,)\n",
      "14172.pkl (174625,)\n",
      "14174.pkl (174625,)\n",
      "14175.pkl (174625,)\n",
      "14184.pkl (174625,)\n",
      "14192.pkl (174625,)\n",
      "14196.pkl (174625,)\n",
      "14198.pkl (174625,)\n",
      "14201.pkl (174625,)\n",
      "14209.pkl (174625,)\n",
      "14212.pkl (174625,)\n",
      "14223.pkl (174625,)\n",
      "14231.pkl (174625,)\n",
      "14237.pkl (174625,)\n",
      "14238.pkl (174625,)\n",
      "14242.pkl (174625,)\n",
      "14248.pkl (174625,)\n",
      "14249.pkl (174625,)\n",
      "14254.pkl (174625,)\n",
      "14256.pkl (174625,)\n",
      "14258.pkl (174625,)\n",
      "14263.pkl (174625,)\n",
      "14269.pkl (174625,)\n",
      "14272.pkl (174625,)\n",
      "14273.pkl (174625,)\n",
      "14289.pkl (174625,)\n",
      "14297.pkl (174625,)\n",
      "14303.pkl (174625,)\n",
      "14304.pkl (174625,)\n",
      "14306.pkl (174625,)\n",
      "14307.pkl (174625,)\n",
      "14319.pkl (174625,)\n",
      "14322.pkl (174625,)\n",
      "14324.pkl (174625,)\n",
      "14325.pkl (174625,)\n",
      "14333.pkl (174625,)\n",
      "14339.pkl (174625,)\n",
      "14345.pkl (174625,)\n",
      "14353.pkl (174625,)\n",
      "14365.pkl (174625,)\n",
      "14377.pkl (174625,)\n",
      "14378.pkl (174625,)\n",
      "14385.pkl (174625,)\n",
      "14394.pkl (174625,)\n",
      "14411.pkl (174625,)\n",
      "14417.pkl (174625,)\n",
      "14429.pkl (174625,)\n",
      "14439.pkl (174625,)\n",
      "14441.pkl (174625,)\n",
      "14442.pkl (174625,)\n",
      "14446.pkl (174625,)\n",
      "14448.pkl (174625,)\n",
      "14453.pkl (174625,)\n",
      "14461.pkl (174625,)\n",
      "14462.pkl (174625,)\n",
      "14464.pkl (174625,)\n",
      "14467.pkl (174625,)\n",
      "14470.pkl (174625,)\n",
      "14472.pkl (174625,)\n",
      "14478.pkl (174625,)\n",
      "14485.pkl (174625,)\n",
      "14487.pkl (174625,)\n",
      "14491.pkl (174625,)\n",
      "14494.pkl (174625,)\n",
      "14495.pkl (174625,)\n",
      "14519.pkl (174625,)\n",
      "14520.pkl (174625,)\n",
      "14521.pkl (174625,)\n",
      "14529.pkl (174625,)\n",
      "14534.pkl (174625,)\n",
      "14542.pkl (174625,)\n",
      "14548.pkl (174625,)\n",
      "14562.pkl (174625,)\n",
      "14567.pkl (174625,)\n",
      "14568.pkl (174625,)\n",
      "14577.pkl (174625,)\n",
      "14584.pkl (174625,)\n",
      "14586.pkl (174625,)\n",
      "14593.pkl (174625,)\n",
      "14595.pkl (174625,)\n",
      "14596.pkl (174625,)\n",
      "14602.pkl (174625,)\n",
      "14605.pkl (174625,)\n",
      "14608.pkl (174625,)\n",
      "14616.pkl (174625,)\n",
      "14618.pkl (174625,)\n",
      "14630.pkl (174625,)\n",
      "14634.pkl (174625,)\n",
      "14636.pkl (174625,)\n",
      "14639.pkl (174625,)\n",
      "14643.pkl (174625,)\n",
      "14648.pkl (174625,)\n",
      "14657.pkl (174625,)\n",
      "14659.pkl (174625,)\n",
      "14662.pkl (174625,)\n",
      "14665.pkl (174625,)\n",
      "14688.pkl (174625,)\n",
      "14693.pkl (174625,)\n",
      "14701.pkl (174625,)\n",
      "14722.pkl (174625,)\n",
      "14726.pkl (174625,)\n",
      "14729.pkl (174625,)\n",
      "14734.pkl (174625,)\n",
      "14742.pkl (174625,)\n",
      "14754.pkl (174625,)\n",
      "14755.pkl (174625,)\n",
      "14756.pkl (174625,)\n",
      "14757.pkl (174625,)\n",
      "14760.pkl (174625,)\n",
      "14770.pkl (174625,)\n",
      "14787.pkl (174625,)\n",
      "14788.pkl (174625,)\n",
      "14791.pkl (174625,)\n",
      "14800.pkl (174625,)\n",
      "14803.pkl (174625,)\n",
      "14806.pkl (174625,)\n",
      "14810.pkl (174625,)\n",
      "14827.pkl (174625,)\n",
      "14828.pkl (174625,)\n",
      "14837.pkl (174625,)\n",
      "14857.pkl (174625,)\n",
      "14868.pkl (174625,)\n",
      "14882.pkl (174625,)\n",
      "14891.pkl (174625,)\n",
      "14898.pkl (174625,)\n",
      "14939.pkl (174625,)\n",
      "14942.pkl (174625,)\n",
      "14954.pkl (174625,)\n",
      "14973.pkl (174625,)\n",
      "14976.pkl (174625,)\n",
      "14982.pkl (174625,)\n",
      "14986.pkl (174625,)\n",
      "14988.pkl (174625,)\n",
      "15000.pkl (174625,)\n",
      "15006.pkl (174625,)\n",
      "15018.pkl (174625,)\n",
      "15020.pkl (174625,)\n",
      "15028.pkl (174625,)\n",
      "15031.pkl (174625,)\n",
      "15032.pkl (174625,)\n",
      "15033.pkl (174625,)\n",
      "15036.pkl (174625,)\n",
      "15038.pkl (174625,)\n",
      "15045.pkl (174625,)\n",
      "15053.pkl (174625,)\n",
      "15062.pkl (174625,)\n",
      "15063.pkl (174625,)\n",
      "15068.pkl (174625,)\n",
      "15095.pkl (174625,)\n",
      "15097.pkl (174625,)\n",
      "15098.pkl (174625,)\n",
      "15099.pkl (174625,)\n",
      "15107.pkl (174625,)\n",
      "15108.pkl (174625,)\n",
      "15122.pkl (174625,)\n",
      "15127.pkl (174625,)\n",
      "15157.pkl (174625,)\n",
      "15158.pkl (174625,)\n",
      "15168.pkl (174625,)\n",
      "15169.pkl (174625,)\n",
      "15172.pkl (174625,)\n",
      "15176.pkl (174625,)\n",
      "15178.pkl (174625,)\n",
      "15185.pkl (174625,)\n",
      "15189.pkl (174625,)\n",
      "15190.pkl (174625,)\n",
      "15201.pkl (174625,)\n",
      "15205.pkl (174625,)\n",
      "15206.pkl (174625,)\n",
      "15214.pkl (174625,)\n",
      "15227.pkl (174625,)\n",
      "15229.pkl (174625,)\n",
      "15236.pkl (174625,)\n",
      "15237.pkl (174625,)\n",
      "15239.pkl (174625,)\n",
      "15252.pkl (174625,)\n",
      "15253.pkl (174625,)\n",
      "15255.pkl (174625,)\n",
      "15264.pkl (174625,)\n",
      "15265.pkl (174625,)\n",
      "15298.pkl (174625,)\n",
      "15304.pkl (174625,)\n",
      "15320.pkl (174625,)\n",
      "15344.pkl (174625,)\n",
      "15355.pkl (174625,)\n",
      "15360.pkl (174625,)\n",
      "15367.pkl (174625,)\n",
      "15370.pkl (174625,)\n",
      "15375.pkl (174625,)\n",
      "15377.pkl (174625,)\n",
      "15396.pkl (174625,)\n",
      "15397.pkl (174625,)\n",
      "15399.pkl (174625,)\n",
      "15407.pkl (174625,)\n",
      "15412.pkl (174625,)\n",
      "15423.pkl (174625,)\n",
      "15424.pkl (174625,)\n",
      "15427.pkl (174625,)\n",
      "15431.pkl (174625,)\n",
      "15432.pkl (174625,)\n",
      "15435.pkl (174625,)\n",
      "15440.pkl (174625,)\n",
      "15447.pkl (174625,)\n",
      "15454.pkl (174625,)\n",
      "15475.pkl (174625,)\n",
      "15477.pkl (174625,)\n",
      "15481.pkl (174625,)\n",
      "15484.pkl (174625,)\n",
      "15493.pkl (174625,)\n",
      "15520.pkl (174625,)\n",
      "15523.pkl (174625,)\n",
      "15540.pkl (174625,)\n",
      "15542.pkl (174625,)\n",
      "15543.pkl (174625,)\n",
      "15549.pkl (174625,)\n",
      "15555.pkl (174625,)\n",
      "15560.pkl (174625,)\n",
      "15562.pkl (174625,)\n",
      "15582.pkl (174625,)\n",
      "15590.pkl (174625,)\n",
      "15596.pkl (174625,)\n",
      "15597.pkl (174625,)\n",
      "15604.pkl (174625,)\n",
      "15606.pkl (174625,)\n",
      "15616.pkl (174625,)\n",
      "15620.pkl (174625,)\n",
      "15646.pkl (174625,)\n",
      "15653.pkl (174625,)\n",
      "15661.pkl (174625,)\n",
      "15672.pkl (174625,)\n",
      "15675.pkl (174625,)\n",
      "15678.pkl (174625,)\n",
      "15680.pkl (174625,)\n",
      "15682.pkl (174625,)\n",
      "15691.pkl (174625,)\n",
      "15695.pkl (174625,)\n",
      "15700.pkl (174625,)\n",
      "15707.pkl (174625,)\n",
      "15726.pkl (174625,)\n",
      "15743.pkl (174625,)\n",
      "15752.pkl (174625,)\n",
      "15760.pkl (174625,)\n",
      "15761.pkl (174625,)\n",
      "15767.pkl (174625,)\n",
      "15771.pkl (174625,)\n",
      "15793.pkl (174625,)\n",
      "15800.pkl (174625,)\n",
      "15801.pkl (174625,)\n",
      "15809.pkl (174625,)\n",
      "15839.pkl (174625,)\n",
      "15840.pkl (174625,)\n",
      "15849.pkl (174625,)\n",
      "15855.pkl (174625,)\n",
      "15856.pkl (174625,)\n",
      "15862.pkl (174625,)\n",
      "15868.pkl (174625,)\n",
      "15872.pkl (174625,)\n",
      "15885.pkl (174625,)\n",
      "15886.pkl (174625,)\n",
      "15892.pkl (174625,)\n",
      "15898.pkl (174625,)\n",
      "15901.pkl (174625,)\n",
      "15903.pkl (174625,)\n",
      "15907.pkl (174625,)\n",
      "15913.pkl (174625,)\n",
      "15918.pkl (174625,)\n",
      "15922.pkl (174625,)\n",
      "15937.pkl (174625,)\n",
      "15941.pkl (174625,)\n",
      "15961.pkl (174625,)\n",
      "15969.pkl (174625,)\n",
      "15976.pkl (174625,)\n",
      "15990.pkl (174625,)\n",
      "16009.pkl (174625,)\n",
      "16029.pkl (174625,)\n",
      "16031.pkl (174625,)\n",
      "16044.pkl (174625,)\n",
      "16060.pkl (174625,)\n",
      "16064.pkl (174625,)\n",
      "16071.pkl (174625,)\n",
      "16075.pkl (174625,)\n",
      "16079.pkl (174625,)\n",
      "16086.pkl (174625,)\n",
      "16089.pkl (174625,)\n",
      "16094.pkl (174625,)\n",
      "16096.pkl (174625,)\n",
      "16098.pkl (174625,)\n",
      "16101.pkl (174625,)\n",
      "16102.pkl (174625,)\n",
      "16104.pkl (174625,)\n",
      "16105.pkl (174625,)\n",
      "16116.pkl (174625,)\n",
      "16119.pkl (174625,)\n",
      "16120.pkl (174625,)\n",
      "16121.pkl (174625,)\n",
      "16124.pkl (174625,)\n",
      "16125.pkl (174625,)\n",
      "16168.pkl (174625,)\n",
      "16181.pkl (174625,)\n",
      "16187.pkl (174625,)\n",
      "16204.pkl (174625,)\n",
      "16208.pkl (174625,)\n",
      "16210.pkl (174625,)\n",
      "16213.pkl (174625,)\n",
      "16220.pkl (174625,)\n",
      "16243.pkl (174625,)\n",
      "16281.pkl (174625,)\n",
      "16285.pkl (174625,)\n",
      "16286.pkl (174625,)\n",
      "16294.pkl (174625,)\n",
      "16298.pkl (174625,)\n",
      "16305.pkl (174625,)\n",
      "16306.pkl (174625,)\n",
      "16310.pkl (174625,)\n",
      "16312.pkl (174625,)\n",
      "16318.pkl (174625,)\n",
      "16324.pkl (174625,)\n",
      "16342.pkl (174625,)\n",
      "16349.pkl (174625,)\n",
      "16358.pkl (174625,)\n",
      "16367.pkl (174625,)\n",
      "16368.pkl (174625,)\n",
      "16371.pkl (174625,)\n",
      "16384.pkl (174625,)\n",
      "16407.pkl (174625,)\n",
      "16416.pkl (174625,)\n",
      "16420.pkl (174625,)\n",
      "16426.pkl (174625,)\n",
      "16443.pkl (174625,)\n",
      "16447.pkl (174625,)\n",
      "16448.pkl (174625,)\n",
      "16459.pkl (174625,)\n",
      "16466.pkl (174625,)\n",
      "16473.pkl (174625,)\n",
      "16496.pkl (174625,)\n",
      "16516.pkl (174625,)\n",
      "16517.pkl (174625,)\n",
      "16520.pkl (174625,)\n",
      "16525.pkl (174625,)\n",
      "16539.pkl (174625,)\n",
      "16546.pkl (174625,)\n",
      "16552.pkl (174625,)\n",
      "16562.pkl (174625,)\n",
      "16565.pkl (174625,)\n",
      "16568.pkl (174625,)\n",
      "16579.pkl (174625,)\n",
      "16584.pkl (174625,)\n",
      "16586.pkl (174625,)\n",
      "16593.pkl (174625,)\n",
      "16600.pkl (174625,)\n",
      "16604.pkl (174625,)\n",
      "16611.pkl (174625,)\n",
      "16614.pkl (174625,)\n",
      "16619.pkl (174625,)\n",
      "16620.pkl (174625,)\n",
      "16624.pkl (174625,)\n",
      "16626.pkl (174625,)\n",
      "16627.pkl (174625,)\n",
      "16636.pkl (174625,)\n",
      "16639.pkl (174625,)\n",
      "16642.pkl (174625,)\n",
      "16648.pkl (174625,)\n",
      "16665.pkl (174625,)\n",
      "16681.pkl (174625,)\n",
      "16683.pkl (174625,)\n",
      "16684.pkl (174625,)\n",
      "16686.pkl (174625,)\n",
      "16696.pkl (174625,)\n",
      "16733.pkl (174625,)\n",
      "16735.pkl (174625,)\n",
      "16746.pkl (174625,)\n",
      "16747.pkl (174625,)\n",
      "16754.pkl (174625,)\n",
      "16758.pkl (174625,)\n",
      "16762.pkl (174625,)\n",
      "16773.pkl (174625,)\n",
      "16777.pkl (174625,)\n",
      "16798.pkl (174625,)\n",
      "16801.pkl (174625,)\n",
      "16820.pkl (174625,)\n",
      "16839.pkl (174625,)\n",
      "16848.pkl (174625,)\n",
      "16854.pkl (174625,)\n",
      "16867.pkl (174625,)\n",
      "16872.pkl (174625,)\n",
      "16877.pkl (174625,)\n",
      "16880.pkl (174625,)\n",
      "16886.pkl (174625,)\n",
      "16894.pkl (174625,)\n",
      "16901.pkl (174625,)\n",
      "16903.pkl (174625,)\n",
      "16910.pkl (174625,)\n",
      "16911.pkl (174625,)\n",
      "16912.pkl (174625,)\n",
      "16914.pkl (174625,)\n",
      "16920.pkl (174625,)\n",
      "16922.pkl (174625,)\n",
      "16930.pkl (174625,)\n",
      "16935.pkl (174625,)\n",
      "16938.pkl (174625,)\n",
      "16953.pkl (174625,)\n",
      "16985.pkl (174625,)\n",
      "16986.pkl (174625,)\n",
      "16996.pkl (174625,)\n",
      "17008.pkl (174625,)\n",
      "17015.pkl (174625,)\n",
      "17018.pkl (174625,)\n",
      "17023.pkl (174625,)\n",
      "17031.pkl (174625,)\n",
      "17041.pkl (174625,)\n",
      "17052.pkl (174625,)\n",
      "17059.pkl (174625,)\n",
      "17068.pkl (174625,)\n",
      "17071.pkl (174625,)\n",
      "17077.pkl (174625,)\n",
      "17085.pkl (174625,)\n",
      "17095.pkl (174625,)\n",
      "17102.pkl (174625,)\n",
      "17105.pkl (174625,)\n",
      "17125.pkl (174625,)\n",
      "17127.pkl (174625,)\n",
      "17128.pkl (174625,)\n",
      "17129.pkl (174625,)\n",
      "17131.pkl (174625,)\n",
      "17143.pkl (174625,)\n",
      "17149.pkl (174625,)\n",
      "17163.pkl (174625,)\n",
      "17166.pkl (174625,)\n",
      "17170.pkl (174625,)\n",
      "17173.pkl (174625,)\n",
      "17178.pkl (174625,)\n",
      "17180.pkl (174625,)\n",
      "17188.pkl (174625,)\n",
      "17189.pkl (174625,)\n",
      "17197.pkl (174625,)\n",
      "17201.pkl (174625,)\n",
      "17209.pkl (174625,)\n",
      "17212.pkl (174625,)\n",
      "17214.pkl (174625,)\n",
      "17221.pkl (174625,)\n",
      "17229.pkl (174625,)\n",
      "17230.pkl (174625,)\n",
      "17233.pkl (174625,)\n",
      "17235.pkl (174625,)\n",
      "17236.pkl (174625,)\n",
      "17238.pkl (174625,)\n",
      "17241.pkl (174625,)\n",
      "17250.pkl (174625,)\n",
      "17258.pkl (174625,)\n",
      "17260.pkl (174625,)\n",
      "17263.pkl (174625,)\n",
      "17280.pkl (174625,)\n",
      "17281.pkl (174625,)\n",
      "17283.pkl (174625,)\n",
      "17291.pkl (174625,)\n",
      "17293.pkl (174625,)\n",
      "17297.pkl (174625,)\n",
      "17323.pkl (174625,)\n",
      "17330.pkl (174625,)\n",
      "17333.pkl (174625,)\n",
      "17338.pkl (174625,)\n",
      "17340.pkl (174625,)\n",
      "17342.pkl (174625,)\n",
      "17344.pkl (174625,)\n",
      "17346.pkl (174625,)\n",
      "17348.pkl (174625,)\n",
      "17375.pkl (174625,)\n",
      "17379.pkl (174625,)\n",
      "17380.pkl (174625,)\n",
      "17381.pkl (174625,)\n",
      "17386.pkl (174625,)\n",
      "17408.pkl (174625,)\n",
      "17411.pkl (174625,)\n",
      "17412.pkl (174625,)\n",
      "17413.pkl (174625,)\n",
      "17421.pkl (174625,)\n",
      "17436.pkl (174625,)\n",
      "17458.pkl (174625,)\n",
      "17465.pkl (174625,)\n",
      "17482.pkl (174625,)\n",
      "17491.pkl (174625,)\n",
      "17515.pkl (174625,)\n",
      "17521.pkl (174625,)\n",
      "17526.pkl (174625,)\n",
      "17528.pkl (174625,)\n",
      "17539.pkl (174625,)\n",
      "17551.pkl (174625,)\n",
      "17556.pkl (174625,)\n",
      "17557.pkl (174625,)\n",
      "17559.pkl (174625,)\n",
      "17561.pkl (174625,)\n",
      "17569.pkl (174625,)\n",
      "17578.pkl (174625,)\n",
      "17579.pkl (174625,)\n",
      "17580.pkl (174625,)\n",
      "17592.pkl (174625,)\n",
      "17606.pkl (174625,)\n",
      "17607.pkl (174625,)\n",
      "17608.pkl (174625,)\n",
      "17618.pkl (174625,)\n",
      "17631.pkl (174625,)\n",
      "17632.pkl (174625,)\n",
      "17643.pkl (174625,)\n",
      "17652.pkl (174625,)\n",
      "17657.pkl (174625,)\n",
      "17659.pkl (174625,)\n",
      "17660.pkl (174625,)\n",
      "17667.pkl (174625,)\n",
      "17672.pkl (174625,)\n",
      "17674.pkl (174625,)\n",
      "17678.pkl (174625,)\n",
      "17685.pkl (174625,)\n",
      "17691.pkl (174625,)\n",
      "17696.pkl (174625,)\n",
      "17699.pkl (174625,)\n",
      "17700.pkl (174625,)\n",
      "17702.pkl (174625,)\n",
      "17703.pkl (174625,)\n",
      "17713.pkl (174625,)\n",
      "17723.pkl (174625,)\n",
      "17726.pkl (174625,)\n",
      "17733.pkl (174625,)\n",
      "17737.pkl (174625,)\n",
      "17738.pkl (174625,)\n",
      "17746.pkl (174625,)\n",
      "17750.pkl (174625,)\n",
      "17756.pkl (174625,)\n",
      "17771.pkl (174625,)\n",
      "17775.pkl (174625,)\n",
      "17779.pkl (174625,)\n",
      "17783.pkl (174625,)\n",
      "17784.pkl (174625,)\n",
      "17786.pkl (174625,)\n",
      "17789.pkl (174625,)\n",
      "17805.pkl (174625,)\n",
      "17821.pkl (174625,)\n",
      "17824.pkl (174625,)\n",
      "17837.pkl (174625,)\n",
      "17841.pkl (174625,)\n",
      "17843.pkl (174625,)\n",
      "17849.pkl (174625,)\n",
      "17868.pkl (174625,)\n",
      "17873.pkl (174625,)\n",
      "17895.pkl (174625,)\n",
      "17906.pkl (174625,)\n",
      "17915.pkl (174625,)\n",
      "17922.pkl (174625,)\n",
      "17924.pkl (174625,)\n",
      "17933.pkl (174625,)\n",
      "17934.pkl (174625,)\n",
      "17936.pkl (174625,)\n",
      "17944.pkl (174625,)\n",
      "17952.pkl (174625,)\n",
      "17959.pkl (174625,)\n",
      "17960.pkl (174625,)\n",
      "17963.pkl (174625,)\n",
      "17970.pkl (174625,)\n",
      "17971.pkl (174625,)\n",
      "17983.pkl (174625,)\n",
      "17985.pkl (174625,)\n",
      "17990.pkl (174625,)\n",
      "17998.pkl (174625,)\n",
      "18002.pkl (174625,)\n",
      "18005.pkl (174625,)\n",
      "18011.pkl (174625,)\n",
      "18016.pkl (174625,)\n",
      "18020.pkl (174625,)\n",
      "18025.pkl (174625,)\n",
      "18026.pkl (174625,)\n",
      "18027.pkl (174625,)\n",
      "18028.pkl (174625,)\n",
      "18032.pkl (174625,)\n",
      "18039.pkl (174625,)\n",
      "18050.pkl (174625,)\n",
      "18055.pkl (174625,)\n",
      "18063.pkl (174625,)\n",
      "18066.pkl (174625,)\n",
      "18070.pkl (174625,)\n",
      "18076.pkl (174625,)\n",
      "18078.pkl (174625,)\n",
      "18085.pkl (174625,)\n",
      "18109.pkl (174625,)\n",
      "18113.pkl (174625,)\n",
      "18121.pkl (174625,)\n",
      "18123.pkl (174625,)\n",
      "18145.pkl (174625,)\n",
      "18147.pkl (174625,)\n",
      "18156.pkl (174625,)\n",
      "18158.pkl (174625,)\n",
      "18163.pkl (174625,)\n",
      "18168.pkl (174625,)\n",
      "18185.pkl (174625,)\n",
      "18187.pkl (174625,)\n",
      "18194.pkl (174625,)\n",
      "18198.pkl (174625,)\n",
      "18199.pkl (174625,)\n",
      "18200.pkl (174625,)\n",
      "18210.pkl (174625,)\n",
      "18214.pkl (174625,)\n",
      "18215.pkl (174625,)\n",
      "18231.pkl (174625,)\n",
      "18234.pkl (174625,)\n",
      "18243.pkl (174625,)\n",
      "18244.pkl (174625,)\n",
      "18253.pkl (174625,)\n",
      "18259.pkl (174625,)\n",
      "18267.pkl (174625,)\n",
      "18276.pkl (174625,)\n",
      "18278.pkl (174625,)\n",
      "18282.pkl (174625,)\n",
      "18283.pkl (174625,)\n",
      "18287.pkl (174625,)\n",
      "18323.pkl (174625,)\n",
      "18332.pkl (174625,)\n",
      "18333.pkl (174625,)\n",
      "18336.pkl (174625,)\n",
      "18350.pkl (174625,)\n",
      "18364.pkl (174625,)\n",
      "18366.pkl (174625,)\n",
      "18367.pkl (174625,)\n",
      "18370.pkl (174625,)\n",
      "18378.pkl (174625,)\n",
      "18405.pkl (174625,)\n",
      "18406.pkl (174625,)\n",
      "18417.pkl (174625,)\n",
      "18420.pkl (174625,)\n",
      "18422.pkl (174625,)\n",
      "18423.pkl (174625,)\n",
      "18424.pkl (174625,)\n",
      "18433.pkl (174625,)\n",
      "18436.pkl (174625,)\n",
      "18440.pkl (174625,)\n",
      "18449.pkl (174625,)\n",
      "18451.pkl (174625,)\n",
      "18461.pkl (174625,)\n",
      "18465.pkl (174625,)\n",
      "18487.pkl (174625,)\n",
      "18490.pkl (174625,)\n",
      "18491.pkl (174625,)\n",
      "18501.pkl (174625,)\n",
      "18507.pkl (174625,)\n",
      "18513.pkl (174625,)\n",
      "18524.pkl (174625,)\n",
      "18535.pkl (174625,)\n",
      "18546.pkl (174625,)\n",
      "18550.pkl (174625,)\n",
      "18553.pkl (174625,)\n",
      "18555.pkl (174625,)\n",
      "18557.pkl (174625,)\n",
      "18563.pkl (174625,)\n",
      "18566.pkl (174625,)\n",
      "18573.pkl (174625,)\n",
      "18587.pkl (174625,)\n",
      "18591.pkl (174625,)\n",
      "18601.pkl (174625,)\n",
      "18604.pkl (174625,)\n",
      "18608.pkl (174625,)\n",
      "18617.pkl (174625,)\n",
      "18621.pkl (174625,)\n",
      "18622.pkl (174625,)\n",
      "18636.pkl (174625,)\n",
      "18642.pkl (174625,)\n",
      "18645.pkl (174625,)\n",
      "18652.pkl (174625,)\n",
      "18672.pkl (174625,)\n",
      "18674.pkl (174625,)\n",
      "18684.pkl (174625,)\n",
      "18688.pkl (174625,)\n",
      "18692.pkl (174625,)\n",
      "18693.pkl (174625,)\n",
      "18702.pkl (174625,)\n",
      "18703.pkl (174625,)\n",
      "18709.pkl (174625,)\n",
      "18714.pkl (174625,)\n",
      "18716.pkl (174625,)\n",
      "18717.pkl (174625,)\n",
      "18719.pkl (174625,)\n",
      "18722.pkl (174625,)\n",
      "18730.pkl (174625,)\n",
      "18732.pkl (174625,)\n",
      "18753.pkl (174625,)\n",
      "18766.pkl (174625,)\n",
      "18769.pkl (174625,)\n",
      "18788.pkl (174625,)\n",
      "18798.pkl (174625,)\n",
      "18803.pkl (174625,)\n",
      "18804.pkl (174625,)\n",
      "18816.pkl (174625,)\n",
      "18821.pkl (174625,)\n",
      "18828.pkl (174625,)\n",
      "18838.pkl (174625,)\n",
      "18841.pkl (174625,)\n",
      "18845.pkl (174625,)\n",
      "18851.pkl (174625,)\n",
      "18852.pkl (174625,)\n",
      "18863.pkl (174625,)\n",
      "18867.pkl (174625,)\n",
      "18869.pkl (174625,)\n",
      "18871.pkl (174625,)\n",
      "18873.pkl (174625,)\n",
      "18875.pkl (174625,)\n",
      "18880.pkl (174625,)\n",
      "18884.pkl (174625,)\n",
      "18892.pkl (174625,)\n",
      "18896.pkl (174625,)\n",
      "18900.pkl (174625,)\n",
      "18904.pkl (174625,)\n",
      "18910.pkl (174625,)\n",
      "18919.pkl (174625,)\n",
      "18922.pkl (174625,)\n",
      "18924.pkl (174625,)\n",
      "18932.pkl (174625,)\n",
      "18938.pkl (174625,)\n",
      "18940.pkl (174625,)\n",
      "18947.pkl (174625,)\n",
      "18949.pkl (174625,)\n",
      "18956.pkl (174625,)\n",
      "18971.pkl (174625,)\n",
      "18980.pkl (174625,)\n",
      "18988.pkl (174625,)\n",
      "18994.pkl (174625,)\n",
      "19003.pkl (174625,)\n",
      "19006.pkl (174625,)\n",
      "19009.pkl (174625,)\n",
      "19010.pkl (174625,)\n",
      "19015.pkl (174625,)\n",
      "19033.pkl (174625,)\n",
      "19049.pkl (174625,)\n",
      "19052.pkl (174625,)\n",
      "19054.pkl (174625,)\n",
      "19059.pkl (174625,)\n",
      "19060.pkl (174625,)\n",
      "19071.pkl (174625,)\n",
      "19077.pkl (174625,)\n",
      "19080.pkl (174625,)\n",
      "19096.pkl (174625,)\n",
      "19104.pkl (174625,)\n",
      "19107.pkl (174625,)\n",
      "19117.pkl (174625,)\n",
      "19127.pkl (174625,)\n",
      "19130.pkl (174625,)\n",
      "19135.pkl (174625,)\n",
      "19136.pkl (174625,)\n",
      "19142.pkl (174625,)\n",
      "19143.pkl (174625,)\n",
      "19145.pkl (174625,)\n",
      "19147.pkl (174625,)\n",
      "19148.pkl (174625,)\n",
      "19173.pkl (174625,)\n",
      "19189.pkl (174625,)\n",
      "19193.pkl (174625,)\n",
      "19234.pkl (174625,)\n",
      "19236.pkl (174625,)\n",
      "19237.pkl (174625,)\n",
      "19242.pkl (174625,)\n",
      "19244.pkl (174625,)\n",
      "19288.pkl (174625,)\n",
      "19302.pkl (174625,)\n",
      "19305.pkl (174625,)\n",
      "19309.pkl (174625,)\n",
      "19317.pkl (174625,)\n",
      "19318.pkl (174625,)\n",
      "19320.pkl (174625,)\n",
      "19322.pkl (174625,)\n",
      "19327.pkl (174625,)\n",
      "19330.pkl (174625,)\n",
      "19339.pkl (174625,)\n",
      "19344.pkl (174625,)\n",
      "19351.pkl (174625,)\n",
      "19353.pkl (174625,)\n",
      "19360.pkl (174625,)\n",
      "19382.pkl (174625,)\n",
      "19383.pkl (174625,)\n",
      "19388.pkl (174625,)\n",
      "19397.pkl (174625,)\n",
      "19399.pkl (174625,)\n",
      "19436.pkl (174625,)\n",
      "19445.pkl (174625,)\n",
      "19451.pkl (174625,)\n",
      "19453.pkl (174625,)\n",
      "19471.pkl (174625,)\n",
      "19472.pkl (174625,)\n",
      "19474.pkl (174625,)\n",
      "19481.pkl (174625,)\n",
      "19491.pkl (174625,)\n",
      "19514.pkl (174625,)\n",
      "19516.pkl (174625,)\n",
      "19521.pkl (174625,)\n",
      "19526.pkl (174625,)\n",
      "19527.pkl (174625,)\n",
      "19550.pkl (174625,)\n",
      "19552.pkl (174625,)\n",
      "19570.pkl (174625,)\n",
      "19576.pkl (174625,)\n",
      "19586.pkl (174625,)\n",
      "19588.pkl (174625,)\n",
      "19595.pkl (174625,)\n",
      "19597.pkl (174625,)\n",
      "19604.pkl (174625,)\n",
      "19610.pkl (174625,)\n",
      "19615.pkl (174625,)\n",
      "19634.pkl (174625,)\n",
      "19635.pkl (174625,)\n",
      "19639.pkl (174625,)\n",
      "19640.pkl (174625,)\n",
      "19641.pkl (174625,)\n",
      "19642.pkl (174625,)\n",
      "19654.pkl (174625,)\n",
      "19659.pkl (174625,)\n",
      "19665.pkl (174625,)\n",
      "19670.pkl (174625,)\n",
      "19685.pkl (174625,)\n",
      "19689.pkl (174625,)\n",
      "19699.pkl (174625,)\n",
      "19704.pkl (174625,)\n",
      "19708.pkl (174625,)\n",
      "19711.pkl (174625,)\n",
      "19720.pkl (174625,)\n",
      "19734.pkl (174625,)\n",
      "19739.pkl (174625,)\n",
      "19743.pkl (174625,)\n",
      "19753.pkl (174625,)\n",
      "19754.pkl (174625,)\n",
      "19760.pkl (174625,)\n",
      "19777.pkl (174625,)\n",
      "19778.pkl (174625,)\n",
      "19784.pkl (174625,)\n",
      "19793.pkl (174625,)\n",
      "19823.pkl (174625,)\n",
      "19825.pkl (174625,)\n",
      "19827.pkl (174625,)\n",
      "19865.pkl (174625,)\n",
      "19878.pkl (174625,)\n",
      "19882.pkl (174625,)\n",
      "19894.pkl (174625,)\n",
      "19902.pkl (174625,)\n",
      "19913.pkl (174625,)\n",
      "19928.pkl (174625,)\n",
      "19929.pkl (174625,)\n",
      "19934.pkl (174625,)\n",
      "19941.pkl (174625,)\n",
      "19943.pkl (174625,)\n",
      "19957.pkl (174625,)\n",
      "19958.pkl (174625,)\n",
      "19959.pkl (174625,)\n",
      "19968.pkl (174625,)\n",
      "19977.pkl (174625,)\n",
      "19980.pkl (174625,)\n",
      "19999.pkl (174625,)\n",
      "20006.pkl (174625,)\n",
      "20012.pkl (174625,)\n",
      "20018.pkl (174625,)\n",
      "20030.pkl (174625,)\n",
      "20031.pkl (174625,)\n",
      "20041.pkl (174625,)\n",
      "20051.pkl (174625,)\n",
      "20056.pkl (174625,)\n",
      "20075.pkl (174625,)\n",
      "20092.pkl (174625,)\n",
      "20097.pkl (174625,)\n",
      "20109.pkl (174625,)\n",
      "20112.pkl (174625,)\n",
      "20113.pkl (174625,)\n",
      "20128.pkl (174625,)\n",
      "20130.pkl (174625,)\n",
      "20137.pkl (174625,)\n",
      "20170.pkl (174625,)\n",
      "20177.pkl (174625,)\n",
      "20180.pkl (174625,)\n",
      "20187.pkl (174625,)\n",
      "20194.pkl (174625,)\n",
      "20198.pkl (174625,)\n",
      "20203.pkl (174625,)\n",
      "20208.pkl (174625,)\n",
      "20214.pkl (174625,)\n",
      "20215.pkl (174625,)\n",
      "20227.pkl (174625,)\n",
      "20240.pkl (174625,)\n",
      "20242.pkl (174625,)\n",
      "20254.pkl (174625,)\n",
      "20258.pkl (174625,)\n",
      "20262.pkl (174625,)\n",
      "20264.pkl (174625,)\n",
      "20265.pkl (174625,)\n",
      "20282.pkl (174625,)\n",
      "20285.pkl (174625,)\n",
      "20287.pkl (174625,)\n",
      "20300.pkl (174625,)\n",
      "20304.pkl (174625,)\n",
      "20318.pkl (174625,)\n",
      "20321.pkl (174625,)\n",
      "20326.pkl (174625,)\n",
      "20329.pkl (174625,)\n",
      "20334.pkl (174625,)\n",
      "20337.pkl (174625,)\n",
      "20354.pkl (174625,)\n",
      "20363.pkl (174625,)\n",
      "20365.pkl (174625,)\n",
      "20377.pkl (174625,)\n",
      "20387.pkl (174625,)\n",
      "20401.pkl (174625,)\n",
      "20403.pkl (174625,)\n",
      "20404.pkl (174625,)\n",
      "20420.pkl (174625,)\n",
      "20421.pkl (174625,)\n",
      "20443.pkl (174625,)\n",
      "20444.pkl (174625,)\n",
      "20458.pkl (174625,)\n",
      "20474.pkl (174625,)\n",
      "20484.pkl (174625,)\n",
      "20491.pkl (174625,)\n",
      "20501.pkl (174625,)\n",
      "20503.pkl (174625,)\n",
      "20512.pkl (174625,)\n",
      "20515.pkl (174625,)\n",
      "20525.pkl (174625,)\n",
      "20539.pkl (174625,)\n",
      "20547.pkl (174625,)\n",
      "20550.pkl (174625,)\n",
      "20557.pkl (174625,)\n",
      "20565.pkl (174625,)\n",
      "20567.pkl (174625,)\n",
      "20570.pkl (174625,)\n",
      "20577.pkl (174625,)\n",
      "20588.pkl (174625,)\n",
      "20603.pkl (174625,)\n",
      "20607.pkl (174625,)\n",
      "20615.pkl (174625,)\n",
      "20621.pkl (174625,)\n",
      "20622.pkl (174625,)\n",
      "20623.pkl (174625,)\n",
      "20637.pkl (174625,)\n",
      "20648.pkl (174625,)\n",
      "20649.pkl (174625,)\n",
      "20653.pkl (174625,)\n",
      "20661.pkl (174625,)\n",
      "20666.pkl (174625,)\n",
      "20671.pkl (174625,)\n",
      "20675.pkl (174625,)\n",
      "20677.pkl (174625,)\n",
      "20678.pkl (174625,)\n",
      "20679.pkl (174625,)\n",
      "20697.pkl (174625,)\n",
      "20704.pkl (174625,)\n",
      "20709.pkl (174625,)\n",
      "20711.pkl (174625,)\n",
      "20712.pkl (174625,)\n",
      "20714.pkl (174625,)\n",
      "20723.pkl (174625,)\n",
      "20734.pkl (174625,)\n",
      "20737.pkl (174625,)\n",
      "20748.pkl (174625,)\n",
      "20768.pkl (174625,)\n",
      "20769.pkl (174625,)\n",
      "20773.pkl (174625,)\n",
      "20775.pkl (174625,)\n",
      "20789.pkl (174625,)\n",
      "20790.pkl (174625,)\n",
      "20795.pkl (174625,)\n",
      "20797.pkl (174625,)\n",
      "20799.pkl (174625,)\n",
      "20810.pkl (174625,)\n",
      "20816.pkl (174625,)\n",
      "20817.pkl (174625,)\n",
      "20822.pkl (174625,)\n",
      "20824.pkl (174625,)\n",
      "20827.pkl (174625,)\n",
      "20840.pkl (174625,)\n",
      "20857.pkl (174625,)\n",
      "20858.pkl (174625,)\n",
      "20865.pkl (174625,)\n",
      "20866.pkl (174625,)\n",
      "20867.pkl (174625,)\n",
      "20874.pkl (174625,)\n",
      "20876.pkl (174625,)\n",
      "20882.pkl (174625,)\n",
      "20888.pkl (174625,)\n",
      "20892.pkl (174625,)\n",
      "20893.pkl (174625,)\n",
      "20894.pkl (174625,)\n",
      "20897.pkl (174625,)\n",
      "20899.pkl (174625,)\n",
      "20904.pkl (174625,)\n",
      "20907.pkl (174625,)\n",
      "20911.pkl (174625,)\n",
      "20920.pkl (174625,)\n",
      "20921.pkl (174625,)\n",
      "20928.pkl (174625,)\n",
      "20929.pkl (174625,)\n",
      "20951.pkl (174625,)\n",
      "20966.pkl (174625,)\n",
      "20970.pkl (174625,)\n",
      "20980.pkl (174625,)\n",
      "20997.pkl (174625,)\n",
      "20998.pkl (174625,)\n",
      "21001.pkl (174625,)\n",
      "21004.pkl (174625,)\n",
      "21007.pkl (174625,)\n",
      "21008.pkl (174625,)\n",
      "21013.pkl (174625,)\n",
      "21014.pkl (174625,)\n",
      "21026.pkl (174625,)\n",
      "21027.pkl (174625,)\n",
      "21040.pkl (174625,)\n",
      "21042.pkl (174625,)\n",
      "21062.pkl (174625,)\n",
      "21063.pkl (174625,)\n",
      "21066.pkl (174625,)\n",
      "21070.pkl (174625,)\n",
      "21071.pkl (174625,)\n",
      "21084.pkl (174625,)\n",
      "21086.pkl (174625,)\n",
      "21089.pkl (174625,)\n",
      "21100.pkl (174625,)\n",
      "21101.pkl (174625,)\n",
      "21111.pkl (174625,)\n",
      "21114.pkl (174625,)\n",
      "21116.pkl (174625,)\n",
      "21117.pkl (174625,)\n",
      "21125.pkl (174625,)\n",
      "21126.pkl (174625,)\n",
      "21130.pkl (174625,)\n",
      "21131.pkl (174625,)\n",
      "21132.pkl (174625,)\n",
      "21138.pkl (174625,)\n",
      "21141.pkl (174625,)\n",
      "21144.pkl (174625,)\n",
      "21145.pkl (174625,)\n",
      "21148.pkl (174625,)\n",
      "21156.pkl (174625,)\n",
      "21165.pkl (174625,)\n",
      "21167.pkl (174625,)\n",
      "21185.pkl (174625,)\n",
      "21197.pkl (174625,)\n",
      "21201.pkl (174625,)\n",
      "21203.pkl (174625,)\n",
      "21208.pkl (174625,)\n",
      "21212.pkl (174625,)\n",
      "21215.pkl (174625,)\n",
      "21216.pkl (174625,)\n",
      "21218.pkl (174625,)\n",
      "21231.pkl (174625,)\n",
      "21240.pkl (174625,)\n",
      "21255.pkl (174625,)\n",
      "21257.pkl (174625,)\n",
      "21261.pkl (174625,)\n",
      "21277.pkl (174625,)\n",
      "21278.pkl (174625,)\n",
      "21282.pkl (174625,)\n",
      "21284.pkl (174625,)\n",
      "21301.pkl (174625,)\n",
      "21302.pkl (174625,)\n",
      "21309.pkl (174625,)\n",
      "21315.pkl (174625,)\n",
      "21328.pkl (174625,)\n",
      "21332.pkl (174625,)\n",
      "21333.pkl (174625,)\n",
      "21354.pkl (174625,)\n",
      "21355.pkl (174625,)\n",
      "21356.pkl (174625,)\n",
      "21357.pkl (174625,)\n",
      "21358.pkl (174625,)\n",
      "21380.pkl (174625,)\n",
      "21382.pkl (174625,)\n",
      "21413.pkl (174625,)\n",
      "21414.pkl (174625,)\n",
      "21415.pkl (174625,)\n",
      "21416.pkl (174625,)\n",
      "21424.pkl (174625,)\n",
      "21429.pkl (174625,)\n",
      "21445.pkl (174625,)\n",
      "21447.pkl (174625,)\n",
      "21448.pkl (174625,)\n",
      "21458.pkl (174625,)\n",
      "21466.pkl (174625,)\n",
      "21490.pkl (174625,)\n",
      "21499.pkl (174625,)\n",
      "21500.pkl (174625,)\n",
      "21506.pkl (174625,)\n",
      "21511.pkl (174625,)\n",
      "21513.pkl (174625,)\n",
      "21516.pkl (174625,)\n",
      "21524.pkl (174625,)\n",
      "21525.pkl (174625,)\n",
      "21528.pkl (174625,)\n",
      "21531.pkl (174625,)\n",
      "21550.pkl (174625,)\n",
      "21557.pkl (174625,)\n",
      "21572.pkl (174625,)\n",
      "21573.pkl (174625,)\n",
      "21574.pkl (174625,)\n",
      "21575.pkl (174625,)\n",
      "21580.pkl (174625,)\n",
      "21607.pkl (174625,)\n",
      "21619.pkl (174625,)\n",
      "21620.pkl (174625,)\n",
      "21624.pkl (174625,)\n",
      "21632.pkl (174625,)\n",
      "21635.pkl (174625,)\n",
      "21637.pkl (174625,)\n",
      "21650.pkl (174625,)\n",
      "21657.pkl (174625,)\n",
      "21662.pkl (174625,)\n",
      "21664.pkl (174625,)\n",
      "21665.pkl (174625,)\n",
      "21668.pkl (174625,)\n",
      "21673.pkl (174625,)\n",
      "21703.pkl (174625,)\n",
      "21710.pkl (174625,)\n",
      "21718.pkl (174625,)\n",
      "21720.pkl (174625,)\n",
      "21724.pkl (174625,)\n",
      "21733.pkl (174625,)\n",
      "21738.pkl (174625,)\n",
      "21743.pkl (174625,)\n",
      "21750.pkl (174625,)\n",
      "21756.pkl (174625,)\n",
      "21757.pkl (174625,)\n",
      "21764.pkl (174625,)\n",
      "21765.pkl (174625,)\n",
      "21768.pkl (174625,)\n",
      "21771.pkl (174625,)\n",
      "21784.pkl (174625,)\n",
      "21786.pkl (174625,)\n",
      "21793.pkl (174625,)\n",
      "21794.pkl (174625,)\n",
      "21799.pkl (174625,)\n",
      "21806.pkl (174625,)\n",
      "21808.pkl (174625,)\n",
      "21811.pkl (174625,)\n",
      "21812.pkl (174625,)\n",
      "21826.pkl (174625,)\n",
      "21847.pkl (174625,)\n",
      "21860.pkl (174625,)\n",
      "21870.pkl (174625,)\n",
      "21883.pkl (174625,)\n",
      "21884.pkl (174625,)\n",
      "21892.pkl (174625,)\n",
      "21906.pkl (174625,)\n",
      "21916.pkl (174625,)\n",
      "21928.pkl (174625,)\n",
      "21930.pkl (174625,)\n",
      "21942.pkl (174625,)\n",
      "21943.pkl (174625,)\n",
      "21947.pkl (174625,)\n",
      "21966.pkl (174625,)\n",
      "21974.pkl (174625,)\n",
      "21979.pkl (174625,)\n",
      "21980.pkl (174625,)\n",
      "21992.pkl (174625,)\n",
      "21996.pkl (174625,)\n",
      "22005.pkl (174625,)\n",
      "22018.pkl (174625,)\n",
      "22025.pkl (174625,)\n",
      "22027.pkl (174625,)\n",
      "22036.pkl (174625,)\n",
      "22039.pkl (174625,)\n",
      "22045.pkl (174625,)\n",
      "22049.pkl (174625,)\n",
      "22058.pkl (174625,)\n",
      "22063.pkl (174625,)\n",
      "22070.pkl (174625,)\n",
      "22073.pkl (174625,)\n",
      "22081.pkl (174625,)\n",
      "22084.pkl (174625,)\n",
      "22089.pkl (174625,)\n",
      "22094.pkl (174625,)\n",
      "22095.pkl (174625,)\n",
      "22114.pkl (174625,)\n",
      "22128.pkl (174625,)\n",
      "22132.pkl (174625,)\n",
      "22139.pkl (174625,)\n",
      "22140.pkl (174625,)\n",
      "22142.pkl (174625,)\n",
      "22158.pkl (174625,)\n",
      "22170.pkl (174625,)\n",
      "22185.pkl (174625,)\n",
      "22187.pkl (174625,)\n",
      "22190.pkl (174625,)\n",
      "22195.pkl (174625,)\n",
      "22197.pkl (174625,)\n",
      "22198.pkl (174625,)\n",
      "22201.pkl (174625,)\n",
      "22206.pkl (174625,)\n",
      "22230.pkl (174625,)\n",
      "22240.pkl (174625,)\n",
      "22249.pkl (174625,)\n",
      "22255.pkl (174625,)\n",
      "22272.pkl (174625,)\n",
      "22273.pkl (174625,)\n",
      "22279.pkl (174625,)\n",
      "22299.pkl (174625,)\n",
      "22310.pkl (174625,)\n",
      "22314.pkl (174625,)\n",
      "22320.pkl (174625,)\n",
      "22326.pkl (174625,)\n",
      "22332.pkl (174625,)\n",
      "22350.pkl (174625,)\n",
      "22364.pkl (174625,)\n",
      "22366.pkl (174625,)\n",
      "22381.pkl (174625,)\n",
      "22393.pkl (174625,)\n",
      "22394.pkl (174625,)\n",
      "22400.pkl (174625,)\n",
      "22401.pkl (174625,)\n",
      "22411.pkl (174625,)\n"
     ]
    }
   ],
   "source": [
    "for recording_test in test_label:\n",
    "    # Repeat the array until it reaches or exceeds the maximum length\n",
    "    repeated_recording = np.tile(test_label[recording_test], (max_length // len(test_label[recording_test]) + 1))[:max_length]\n",
    "    test_label[recording_test] = repeated_recording\n",
    "    \n",
    "for i in test_label:\n",
    "    print(i, test_label[i].shape)\n",
    "\n"
   ]
  },
  {
   "cell_type": "code",
   "execution_count": 33,
   "metadata": {},
   "outputs": [
    {
     "name": "stdout",
     "output_type": "stream",
     "text": [
      "1863\n"
     ]
    }
   ],
   "source": [
    "FinalTestAudio = []\n",
    "for i in test_label:\n",
    "    FinalTestAudio.append(test_label[i])\n",
    "\n",
    "FinalTestDataset = torch.tensor(FinalTestAudio, dtype=torch.float32).unsqueeze(1)\n",
    "\n",
    "results = predict(modelCNN, FinalTestDataset, device)\n",
    "print(len(results))\n"
   ]
  },
  {
   "cell_type": "code",
   "execution_count": 34,
   "metadata": {},
   "outputs": [],
   "source": [
    "import pandas as pd\n",
    "labels_final = test_label.keys()\n",
    "labels_final = list(labels_final)   \n",
    "df = pd.DataFrame({'ID': labels_final, 'Label': results})\n",
    "df.to_csv('results3.csv', index=False)"
   ]
  },
  {
   "cell_type": "code",
   "execution_count": 35,
   "metadata": {},
   "outputs": [
    {
     "data": {
      "text/html": [
       "<div>\n",
       "<style scoped>\n",
       "    .dataframe tbody tr th:only-of-type {\n",
       "        vertical-align: middle;\n",
       "    }\n",
       "\n",
       "    .dataframe tbody tr th {\n",
       "        vertical-align: top;\n",
       "    }\n",
       "\n",
       "    .dataframe thead th {\n",
       "        text-align: right;\n",
       "    }\n",
       "</style>\n",
       "<table border=\"1\" class=\"dataframe\">\n",
       "  <thead>\n",
       "    <tr style=\"text-align: right;\">\n",
       "      <th></th>\n",
       "      <th>ID</th>\n",
       "      <th>Label</th>\n",
       "    </tr>\n",
       "  </thead>\n",
       "  <tbody>\n",
       "    <tr>\n",
       "      <th>0</th>\n",
       "      <td>10011.pkl</td>\n",
       "      <td>3.208400</td>\n",
       "    </tr>\n",
       "    <tr>\n",
       "      <th>1</th>\n",
       "      <td>10025.pkl</td>\n",
       "      <td>1.919598</td>\n",
       "    </tr>\n",
       "    <tr>\n",
       "      <th>2</th>\n",
       "      <td>10033.pkl</td>\n",
       "      <td>3.702743</td>\n",
       "    </tr>\n",
       "    <tr>\n",
       "      <th>3</th>\n",
       "      <td>10036.pkl</td>\n",
       "      <td>3.106718</td>\n",
       "    </tr>\n",
       "    <tr>\n",
       "      <th>4</th>\n",
       "      <td>10043.pkl</td>\n",
       "      <td>4.340781</td>\n",
       "    </tr>\n",
       "    <tr>\n",
       "      <th>...</th>\n",
       "      <td>...</td>\n",
       "      <td>...</td>\n",
       "    </tr>\n",
       "    <tr>\n",
       "      <th>1858</th>\n",
       "      <td>22393.pkl</td>\n",
       "      <td>3.560573</td>\n",
       "    </tr>\n",
       "    <tr>\n",
       "      <th>1859</th>\n",
       "      <td>22394.pkl</td>\n",
       "      <td>3.441071</td>\n",
       "    </tr>\n",
       "    <tr>\n",
       "      <th>1860</th>\n",
       "      <td>22400.pkl</td>\n",
       "      <td>4.751411</td>\n",
       "    </tr>\n",
       "    <tr>\n",
       "      <th>1861</th>\n",
       "      <td>22401.pkl</td>\n",
       "      <td>2.092293</td>\n",
       "    </tr>\n",
       "    <tr>\n",
       "      <th>1862</th>\n",
       "      <td>22411.pkl</td>\n",
       "      <td>2.755265</td>\n",
       "    </tr>\n",
       "  </tbody>\n",
       "</table>\n",
       "<p>1863 rows × 2 columns</p>\n",
       "</div>"
      ],
      "text/plain": [
       "             ID     Label\n",
       "0     10011.pkl  3.208400\n",
       "1     10025.pkl  1.919598\n",
       "2     10033.pkl  3.702743\n",
       "3     10036.pkl  3.106718\n",
       "4     10043.pkl  4.340781\n",
       "...         ...       ...\n",
       "1858  22393.pkl  3.560573\n",
       "1859  22394.pkl  3.441071\n",
       "1860  22400.pkl  4.751411\n",
       "1861  22401.pkl  2.092293\n",
       "1862  22411.pkl  2.755265\n",
       "\n",
       "[1863 rows x 2 columns]"
      ]
     },
     "execution_count": 35,
     "metadata": {},
     "output_type": "execute_result"
    }
   ],
   "source": [
    "df"
   ]
  },
  {
   "cell_type": "code",
   "execution_count": null,
   "metadata": {},
   "outputs": [],
   "source": []
  }
 ],
 "metadata": {
  "kernelspec": {
   "display_name": ".venv",
   "language": "python",
   "name": "python3"
  },
  "language_info": {
   "codemirror_mode": {
    "name": "ipython",
    "version": 3
   },
   "file_extension": ".py",
   "mimetype": "text/x-python",
   "name": "python",
   "nbconvert_exporter": "python",
   "pygments_lexer": "ipython3",
   "version": "3.10.4"
  }
 },
 "nbformat": 4,
 "nbformat_minor": 2
}
