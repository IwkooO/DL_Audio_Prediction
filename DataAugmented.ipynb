{
 "cells": [
  {
   "cell_type": "markdown",
   "metadata": {},
   "source": [
    "# Load Data"
   ]
  },
  {
   "cell_type": "code",
   "execution_count": 1,
   "metadata": {},
   "outputs": [
    {
     "name": "stderr",
     "output_type": "stream",
     "text": [
      "100%|██████████| 10557/10557 [00:21<00:00, 485.95it/s] \n"
     ]
    }
   ],
   "source": [
    "import pickle\n",
    "import os\n",
    "from tqdm import tqdm\n",
    "import numpy as np\n",
    "\n",
    "directory = 'data/train'\n",
    "\n",
    "length_list = []\n",
    "valence_values=[]\n",
    "\n",
    "recordings = []\n",
    "\n",
    "for filename in tqdm(os.listdir(directory)):\n",
    "    if filename.endswith('.pkl'):\n",
    "        file_path = os.path.join(directory, filename)\n",
    "        with open(file_path, 'rb') as file:\n",
    "            data = pickle.load(file)\n",
    "            if data['valence'] != 2.333:\n",
    "                length_list.append(len(data['audio_data']))\n",
    "                valence_values.append(data['valence'])\n",
    "                recordings.append(data['audio_data'])\n",
    "\n",
    "valence_values = np.array(valence_values)\n"
   ]
  },
  {
   "cell_type": "code",
   "execution_count": 2,
   "metadata": {},
   "outputs": [
    {
     "data": {
      "text/plain": [
       "{1.25: 140,\n",
       " 3.5: 1194,\n",
       " 3.25: 1299,\n",
       " 3.75: 989,\n",
       " 2.0: 528,\n",
       " 2.75: 1031,\n",
       " 2.25: 694,\n",
       " 3.0: 1063,\n",
       " 4.25: 613,\n",
       " 1.0: 114,\n",
       " 1.5: 229,\n",
       " 1.75: 408,\n",
       " 4.75: 151,\n",
       " 4.0: 801,\n",
       " 2.5: 907,\n",
       " 5.0: 28,\n",
       " 4.5: 367}"
      ]
     },
     "execution_count": 2,
     "metadata": {},
     "output_type": "execute_result"
    }
   ],
   "source": [
    "valennce_dist ={}\n",
    "for i in valence_values:\n",
    "    if i in valennce_dist:\n",
    "        valennce_dist[i] += 1\n",
    "    else:\n",
    "        valennce_dist[i] = 1\n",
    "\n",
    "\n",
    "valennce_dist\n"
   ]
  },
  {
   "cell_type": "code",
   "execution_count": 3,
   "metadata": {},
   "outputs": [
    {
     "data": {
      "text/plain": [
       "(10556, (174625,))"
      ]
     },
     "execution_count": 3,
     "metadata": {},
     "output_type": "execute_result"
    }
   ],
   "source": [
    "# Calculate the maximum length\n",
    "max_length = max(length_list)\n",
    "\n",
    "# Adjust the recordings to have the same length\n",
    "adjusted_recordings = []\n",
    "for recording in recordings:\n",
    "    # Repeat the array until it reaches or exceeds the maximum length\n",
    "    repeated_recording = np.tile(recording, (max_length // len(recording) + 1))[:max_length]\n",
    "    adjusted_recordings.append(repeated_recording)\n",
    "\n",
    "valence_values = np.array(valence_values)\n",
    "len(adjusted_recordings), adjusted_recordings[0].shape\n",
    "\n"
   ]
  },
  {
   "cell_type": "code",
   "execution_count": 4,
   "metadata": {},
   "outputs": [
    {
     "name": "stderr",
     "output_type": "stream",
     "text": [
      "C:\\Users\\20211922\\AppData\\Local\\Temp\\ipykernel_10176\\108390367.py:32: UserWarning: Creating a tensor from a list of numpy.ndarrays is extremely slow. Please consider converting the list to a single numpy.ndarray with numpy.array() before converting to a tensor. (Triggered internally at ..\\torch\\csrc\\utils\\tensor_new.cpp:248.)\n",
      "  X_train_tensor = torch.tensor(X_train, dtype=torch.float32).unsqueeze(1)  # Use float32 for input features\n"
     ]
    }
   ],
   "source": [
    "import torch\n",
    "from torch.utils.data import TensorDataset, DataLoader\n",
    "from sklearn.preprocessing import StandardScaler\n",
    "from sklearn.model_selection import train_test_split\n",
    "\n",
    "\n",
    "############################################################################################################\n",
    "\n",
    "\n",
    "############################################################################################################\n",
    "# Pad the recordings to have the same length\n",
    "max_length = max(len(array) for array in recordings)  # Find the maximum length\n",
    "\n",
    "# # Pad each array to have the maximum length\n",
    "# padded_arrays = np.array([np.pad(array, (0, max_length - len(array)), mode='constant') for array in recordings])\n",
    "\n",
    "\n",
    "############################################################################################################\n",
    "# Split the data and labels into training and testing sets\n",
    "X_train, X_test_help, y_train, y_test_help = train_test_split(adjusted_recordings, valence_values, test_size=0.4, random_state=42)\n",
    "\n",
    "X_val, X_test, y_val, y_test = train_test_split(X_test_help, y_test_help, test_size=0.5, random_state=42)\n",
    "\n",
    "\n",
    "\n",
    "############################################################################################################\n",
    "# Create a DataLoader for the training set, test set, and validation set\n",
    "\n",
    "batch_size = 256  # You can adjust the batch size depending on your system's capability\n",
    "\n",
    "# Convert input data and labels to tensors\n",
    "X_train_tensor = torch.tensor(X_train, dtype=torch.float32).unsqueeze(1)  # Use float32 for input features\n",
    "y_train_tensor = torch.tensor(y_train, dtype=torch.float32)  # Use float32 for labels\n",
    "\n",
    "# Create a dataset from tensors\n",
    "train_dataset = TensorDataset(X_train_tensor, y_train_tensor)\n",
    "\n",
    "# Create a DataLoader\n",
    "train_loader = DataLoader(train_dataset, batch_size=batch_size, shuffle=True)\n",
    "\n",
    "############################################################################################################\n",
    "# Repeat the same process for the test set\n",
    "\n",
    "X_test_tensor = torch.tensor(X_test, dtype=torch.float32).unsqueeze(1)\n",
    "y_test_tensor = torch.tensor(y_test, dtype=torch.float32)\n",
    "\n",
    "test_dataset = TensorDataset(X_test_tensor, y_test_tensor)\n",
    "test_loader = DataLoader(test_dataset, batch_size=batch_size, shuffle=False)\n",
    "\n",
    "\n",
    "\n",
    "############################################################################################################\n",
    "# Repeat the same process for the validation set\n",
    "X_validation_tensor = torch.tensor(X_val, dtype=torch.float32).unsqueeze(1)\n",
    "y_validation_tensor = torch.tensor(y_val, dtype=torch.float32)\n",
    "\n",
    "validation_dataset = TensorDataset(X_validation_tensor, y_validation_tensor)\n",
    "validation_loader = DataLoader(validation_dataset, batch_size=batch_size, shuffle=False)\n",
    "\n",
    "\n"
   ]
  },
  {
   "cell_type": "code",
   "execution_count": 5,
   "metadata": {},
   "outputs": [],
   "source": [
    "import matplotlib.pyplot as plt\n",
    "\n",
    "def calculate_label_distribution(labels_tensor):\n",
    "    label_dist = {}\n",
    "    for label in labels_tensor:\n",
    "        label = label.item()  # Convert tensor to int\n",
    "        if label in label_dist:\n",
    "            label_dist[label] += 1\n",
    "        else:\n",
    "            label_dist[label] = 1\n",
    "    return label_dist\n",
    "\n",
    "train_labels = train_loader.dataset.tensors[1]\n",
    "\n",
    "train_valence_dist = calculate_label_distribution(train_labels)\n",
    "\n",
    "\n",
    "\n",
    "\n"
   ]
  },
  {
   "cell_type": "markdown",
   "metadata": {},
   "source": [
    "# Augment Data"
   ]
  },
  {
   "cell_type": "code",
   "execution_count": 6,
   "metadata": {},
   "outputs": [],
   "source": [
    "from audiomentations import Compose, AddGaussianNoise, TimeStretch, PitchShift, Shift, RoomSimulator, Aliasing, HighPassFilter, LowPassFilter,ApplyImpulseResponse\n",
    "import numpy as np\n",
    "import torch\n",
    "import sounddevice as sd\n",
    "import random\n",
    "\n",
    "\n",
    "def draw_augmentations(text,amount,fs=12000):\n",
    "    \n",
    "    augmentGaussian = Compose([\n",
    "        AddGaussianNoise(min_amplitude=0.001, max_amplitude=0.015, p=1),\n",
    "    ])\n",
    "\n",
    "    augmentPitchShift = Compose([\n",
    "        PitchShift(min_semitones=-4, max_semitones=4, p=1),\n",
    "    ])\n",
    "\n",
    "    # augmentRoomSimulator = Compose([\n",
    "    #     RoomSimulator(p=1)\n",
    "    # ])\n",
    "\n",
    "    augmentAliasing = Compose([\n",
    "        Aliasing(min_sample_rate=8000, max_sample_rate=30000,p=1)\n",
    "    ])\n",
    "\n",
    "    augmentHPF = Compose([\n",
    "        HighPassFilter(min_cutoff_freq=15, max_cutoff_freq=2400,p=1)\n",
    "        ])\n",
    "\n",
    "    augmentedLPF = Compose([\n",
    "        LowPassFilter(p=1)\n",
    "    ])\n",
    "\n",
    "\n",
    "    list_of_augmentations = [ augmentGaussian, augmentPitchShift, augmentAliasing, augmentHPF, augmentedLPF]\n",
    "\n",
    "    functions = random.sample(list_of_augmentations, amount,)\n",
    "    for i in functions:\n",
    "        # print(i.__name__)\n",
    "        text = i(text, sample_rate=fs)\n",
    "    # sd.play(text, fs)\n",
    "    return text\n"
   ]
  },
  {
   "cell_type": "code",
   "execution_count": 7,
   "metadata": {},
   "outputs": [],
   "source": [
    "\n",
    "waveforms = train_loader.dataset.tensors[0].numpy().squeeze()  # Convert tensor to NumPy array\n",
    "labels = train_loader.dataset.tensors[1].numpy().squeeze()  # Convert tensor to NumPy array\n",
    "\n",
    "\n",
    "# Create a dictionary to hold the data categorized by labels\n",
    "label_dict = {}\n",
    "\n",
    "# Iterate through each label and corresponding waveform\n",
    "for waveform, label in zip(waveforms, labels):\n",
    "    if label not in label_dict:\n",
    "        label_dict[label] = []\n",
    "    label_dict[label].append(waveform)\n",
    "\n",
    "\n",
    "# for label in label_dict:\n",
    "#     for k in label_dict[label]:\n",
    "#         print(k.shape)\n",
    "        \n",
    "\n",
    "\n",
    "\n"
   ]
  },
  {
   "cell_type": "code",
   "execution_count": 8,
   "metadata": {},
   "outputs": [
    {
     "name": "stderr",
     "output_type": "stream",
     "text": [
      "  0%|          | 0/17 [00:00<?, ?it/s]"
     ]
    },
    {
     "name": "stderr",
     "output_type": "stream",
     "text": [
      "100%|██████████| 17/17 [00:58<00:00,  3.47s/it]"
     ]
    },
    {
     "name": "stdout",
     "output_type": "stream",
     "text": [
      "dict_keys([3.0, 2.75, 2.5, 3.25, 4.25, 3.5, 3.75, 2.25, 1.5, 4.0, 1.75, 1.0, 2.0, 4.5, 4.75, 1.25, 5.0])\n"
     ]
    },
    {
     "name": "stderr",
     "output_type": "stream",
     "text": [
      "\n"
     ]
    }
   ],
   "source": [
    "from tqdm import tqdm\n",
    "def train_balancer(train_valence_dist):\n",
    "    train_balanced = {}\n",
    "    for label in train_valence_dist.keys():\n",
    "        train_balanced[label] = []\n",
    "    for label in tqdm(train_valence_dist.keys()):\n",
    "        for recording in range(len(label_dict[label])):\n",
    "            train_balanced[label].append(label_dict[label][recording])\n",
    "\n",
    "        amount = len(label_dict[label])\n",
    "        for _ in range(round(amount*0.25)):\n",
    "            choose_func_amount = random.randint(1, 3)\n",
    "            choose_index = random.randint(0, len(label_dict[label])-1)\n",
    "            train_balanced[label].append(draw_augmentations(label_dict[label][choose_index],choose_func_amount))\n",
    "\n",
    "    return train_balanced\n",
    "\n",
    "\n",
    "train_balanced = train_balancer(train_valence_dist= train_valence_dist)\n",
    "print(train_balanced.keys())\n",
    "        "
   ]
  },
  {
   "cell_type": "code",
   "execution_count": 9,
   "metadata": {},
   "outputs": [],
   "source": [
    "# for d in train_balanced:\n",
    "#     for i in train_balanced[d]:\n",
    "#         print(i.shape)"
   ]
  },
  {
   "cell_type": "code",
   "execution_count": 10,
   "metadata": {},
   "outputs": [
    {
     "name": "stdout",
     "output_type": "stream",
     "text": [
      "Label:  3.0\n",
      "Number of unique arrays for :  779\n",
      "Label:  2.75\n",
      "Number of unique arrays for :  770\n",
      "Label:  2.5\n",
      "Number of unique arrays for :  669\n",
      "Label:  3.25\n",
      "Number of unique arrays for :  979\n",
      "Label:  4.25\n",
      "Number of unique arrays for :  454\n",
      "Label:  3.5\n",
      "Number of unique arrays for :  929\n",
      "Label:  3.75\n",
      "Number of unique arrays for :  736\n",
      "Label:  2.25\n",
      "Number of unique arrays for :  525\n",
      "Label:  1.5\n",
      "Number of unique arrays for :  178\n",
      "Label:  4.0\n",
      "Number of unique arrays for :  611\n",
      "Label:  1.75\n",
      "Number of unique arrays for :  306\n",
      "Label:  1.0\n",
      "Number of unique arrays for :  92\n",
      "Label:  2.0\n",
      "Number of unique arrays for :  398\n",
      "Label:  4.5\n",
      "Number of unique arrays for :  264\n",
      "Label:  4.75\n",
      "Number of unique arrays for :  110\n",
      "Label:  1.25\n",
      "Number of unique arrays for :  95\n",
      "Label:  5.0\n",
      "Number of unique arrays for :  22\n"
     ]
    }
   ],
   "source": [
    "def array_to_hashable(arr):\n",
    "    return hash(arr.tobytes())\n",
    "\n",
    "for arrays in train_balanced.keys():\n",
    "    print(\"Label: \", arrays)\n",
    "    # Convert each array to a hashable type\n",
    "    unique_hashes = set(array_to_hashable(arr) for arr in train_balanced[arrays])\n",
    "\n",
    "    # The number of unique arrays\n",
    "    num_unique_arrays = len(unique_hashes)\n",
    "    print(\"Number of unique arrays for : \", num_unique_arrays)\n",
    "\n",
    "    "
   ]
  },
  {
   "cell_type": "code",
   "execution_count": 11,
   "metadata": {},
   "outputs": [
    {
     "name": "stderr",
     "output_type": "stream",
     "text": [
      "100%|██████████| 17/17 [00:00<00:00, 3112.32it/s]\n"
     ]
    },
    {
     "name": "stdout",
     "output_type": "stream",
     "text": [
      "torch.Size([7917, 1, 174625])\n"
     ]
    }
   ],
   "source": [
    "import torch\n",
    "from torch.utils.data import DataLoader, TensorDataset\n",
    "import numpy as np\n",
    "\n",
    "\n",
    "\n",
    "test_dict = train_balanced\n",
    "\n",
    "# Flatten the dictionary into lists of samples and labels\n",
    "X_train = []\n",
    "y_train = []\n",
    "for label, arrays in tqdm(test_dict.items()):\n",
    "    for array in arrays:\n",
    "        X_train.append(array)\n",
    "        y_train.append(label)  # Adjust how labels are encoded as needed\n",
    "\n",
    "\n",
    "# Convert lists to tensors\n",
    "X_train_tensor = torch.tensor(X_train, dtype=torch.float32).unsqueeze(1)  # Use float32 for input features\n",
    "y_train_tensor = torch.tensor(y_train, dtype=torch.float32)  # Adjust the type depending on how you encode labels\n",
    "\n",
    "# Create a dataset from tensors\n",
    "train_dataset = TensorDataset(X_train_tensor, y_train_tensor)\n",
    "\n",
    "# Define the batch size\n",
    "batch_size = 256  # Adjust batch size based on your system capability\n",
    "\n",
    "# Create a DataLoader\n",
    "train_loader = DataLoader(train_dataset, batch_size=batch_size, shuffle=True)\n",
    "\n",
    "print(train_loader.dataset.tensors[0].shape)"
   ]
  },
  {
   "cell_type": "markdown",
   "metadata": {},
   "source": [
    "# **MODEL**"
   ]
  },
  {
   "cell_type": "code",
   "execution_count": 12,
   "metadata": {},
   "outputs": [],
   "source": [
    "def round_to_nearest_quarter(number):\n",
    "    # Assuming 'number' could be a numpy array with a single value\n",
    "    if isinstance(number, np.ndarray) and number.size == 1:\n",
    "        number = number.item()  # Convert single-item array to scalar\n",
    "    \n",
    "    # Ensure the number is within the 1 to 5 range before processing\n",
    "    number = np.clip(number, 1, 5)\n",
    "    # Scale number to shift quarters to whole numbers, round, and rescale\n",
    "    rounded_number = np.round(number * 4) / 4\n",
    "    # Clip again to ensure no out-of-range values after rounding\n",
    "    rounded_number = np.clip(rounded_number, 1, 5)\n",
    "    return str(rounded_number)"
   ]
  },
  {
   "cell_type": "code",
   "execution_count": 13,
   "metadata": {},
   "outputs": [],
   "source": [
    "import torch\n",
    "from tqdm import tqdm\n",
    "import torch.nn as nn\n",
    "import torch.optim as optim\n",
    "import torch.nn.functional as F\n",
    "from sklearn.metrics import confusion_matrix\n",
    "import matplotlib.pyplot as plt\n",
    "import seaborn as sns\n",
    "import torchaudio.transforms as transforms\n",
    "from torch.optim.lr_scheduler import ReduceLROnPlateau\n",
    "\n",
    "models = {}\n",
    "\n",
    "\n",
    "class ResidualBlock(nn.Module):\n",
    "    def __init__(self, channels, kernel_size=7, dilation=2):\n",
    "        super(ResidualBlock, self).__init__()\n",
    "\n",
    "\n",
    "        padding = (kernel_size - 1) * dilation // 2  \n",
    "\n",
    "        # 1st Convolutional Layer\n",
    "        self.conv1 = nn.Conv1d(channels, channels, kernel_size=kernel_size, padding=padding, dilation=dilation)\n",
    "        self.bn1 = nn.BatchNorm1d(channels)\n",
    "        self.relu = nn.ReLU(inplace=True)\n",
    "\n",
    "        # 2nd Convolutional Layer\n",
    "        self.conv2 = nn.Conv1d(channels, channels, kernel_size=kernel_size, padding=padding, dilation=dilation)\n",
    "        self.bn2 = nn.BatchNorm1d(channels)\n",
    "\n",
    "    def forward(self, x):\n",
    "        residual = x  \n",
    "        out = self.conv1(x)\n",
    "        out = self.bn1(out)\n",
    "        out = self.relu(out)\n",
    "        out = self.conv2(out)\n",
    "        out = self.bn2(out)\n",
    "        \n",
    "        #  addition of input to the output -- residual connection\n",
    "        out += residual  \n",
    "        out = self.relu(out)\n",
    "        return out\n",
    "\n",
    "class CNN(nn.Module):\n",
    "    def __init__(self):\n",
    "        super(CNN, self).__init__()\n",
    "\n",
    "        # Random seed for reproducibility\n",
    "        torch.manual_seed(42)\n",
    "\n",
    "\n",
    "        self.mfcc_transform = transforms.MFCC(\n",
    "            sample_rate=8000,      ## \n",
    "            n_mfcc=24              ## Created channels\n",
    "        )\n",
    "\n",
    "\n",
    "        self.layers = nn.ModuleList()\n",
    "        \n",
    "        # Start with 1D BatchNorm\n",
    "        self.layers.append(nn.BatchNorm1d(24))\n",
    "\n",
    "\n",
    "        ###########################\n",
    "        # 1st Convolutional Layer\n",
    "        ###########################\n",
    "\n",
    "        conv1 = nn.Conv1d(in_channels=24, out_channels=64, kernel_size=7, padding=1)\n",
    "        # Initialize the weight using He initialization\n",
    "        nn.init.kaiming_normal_(conv1.weight, nonlinearity='relu')\n",
    "        self.layers.append(conv1)\n",
    "        self.layers.append(nn.BatchNorm1d(64))\n",
    "        self.layers.append(nn.ReLU())\n",
    "        self.layers.append(nn.MaxPool1d(kernel_size=3))\n",
    "        self.layers.append(nn.Dropout(0.3))\n",
    "\n",
    "        ###########################\n",
    "        # Residual Block\n",
    "        ###########################\n",
    "        self.layers.append(ResidualBlock(64))\n",
    "\n",
    "        ###########################\n",
    "        # 2nd Convolutional Layer\n",
    "        ###########################\n",
    "        \n",
    "        conv2 = nn.Conv1d(in_channels=64, out_channels=48, kernel_size=7, padding=1)\n",
    "        # He initialization\n",
    "        nn.init.kaiming_normal_(conv2.weight, nonlinearity='relu')\n",
    "        self.layers.append(conv2)\n",
    "        self.layers.append(nn.BatchNorm1d(48))\n",
    "        self.layers.append(nn.ReLU())\n",
    "\n",
    "        ###########################\n",
    "        # 3rd Convolutional Layer\n",
    "        ###########################\n",
    "\n",
    "        conv3 = nn.Conv1d(in_channels=48, out_channels=12, kernel_size=7, padding=1,dilation=2)\n",
    "        # He initialization\n",
    "        nn.init.kaiming_normal_(conv3.weight, nonlinearity='relu')\n",
    "        self.layers.append(conv3)\n",
    "        self.layers.append(nn.BatchNorm1d(12))\n",
    "        self.layers.append(nn.ReLU())\n",
    "        self.layers.append(nn.MaxPool1d(kernel_size=3))\n",
    "        self.layers.append(nn.Dropout(0.25))\n",
    "\n",
    "        ###########################\n",
    "        # Flatten\n",
    "        ###########################\n",
    "        self.layers.append(nn.Flatten())\n",
    "\n",
    "        ###########################\n",
    "        # 1st Fully Connected Layer\n",
    "        ###########################\n",
    "\n",
    "        linear1= nn.Linear(1104,256)\n",
    "        nn.init.kaiming_normal_(linear1.weight, nonlinearity='relu')\n",
    "        self.layers.append(linear1)\n",
    "        self.layers.append(nn.ReLU())\n",
    "        \n",
    "        ###########################\n",
    "        # 2nd Fully Connected Layer\n",
    "        ###########################\n",
    "        linear2 = nn.Linear(256, 1)\n",
    "        nn.init.kaiming_normal_(linear2.weight, nonlinearity='relu')\n",
    "        self.layers.append(linear2)\n",
    "\n",
    "\n",
    "\n",
    "\n",
    "    \n",
    "    def forward(self, x):\n",
    "        x = self.mfcc_transform(x)\n",
    "        x = x.squeeze(1)\n",
    "        for layer in self.layers:\n",
    "            x = layer(x)\n",
    "            #print(x.shape)\n",
    "        return x.view(-1)\n",
    "\n",
    "\n",
    "### CUDA\n",
    "device = torch.device(\"cuda\" if torch.cuda.is_available() else \"cpu\")\n",
    "\n",
    "    # Training Cycle\n",
    "\n",
    "def train_model(MLP_model, optimizer, num_epochs,save_dir = 'model_checkpoint/'):\n",
    "        if not os.path.exists(save_dir):\n",
    "            os.makedirs(save_dir)\n",
    "\n",
    "        criterion = nn.MSELoss()\n",
    "        # Training loop\n",
    "        for epoch in tqdm(range(num_epochs)):\n",
    "            MLP_model.train()\n",
    "            total_loss = 0\n",
    "\n",
    "            for inputs, labels in train_loader:\n",
    "                inputs, labels = inputs.to(device), labels.to(device)  # To GPU\n",
    "                outputs = MLP_model(inputs)  # Forward pass\n",
    "                loss = criterion(outputs, labels)  # Compute the loss\n",
    "                loss.backward()  # Backward pass\n",
    "                optimizer.step()\n",
    "                total_loss += loss.item()\n",
    "            \n",
    "            # Print the loss every epoch\n",
    "            print(f'Epoch [{epoch + 1}/{num_epochs}], Loss: {total_loss / len(train_loader):.4f}')\n",
    "            if epoch > 1:\n",
    "                # Set the model to evaluation mode and calculate the loss for the validation set\n",
    "                MLP_model.eval() \n",
    "                val_eval = evaluate_model(MLP_model, validation_loader,conf=False)\n",
    "                print(f'Validation: {val_eval}')\n",
    "                # Set the model back to training mode\n",
    "                MLP_model.train()\n",
    "            print('--------------------------------------------------')\n",
    "\n",
    "            # Save the model at each epoch using torch.save\n",
    "            torch.save({\n",
    "                'epoch': epoch,\n",
    "                'model_state_dict': MLP_model.state_dict(),\n",
    "                'optimizer_state_dict': optimizer.state_dict(),\n",
    "            }, os.path.join(save_dir, f'model_epoch_{epoch}.pth'))\n",
    "                    \n",
    "        print(evaluate_model(MLP_model, train_loader,conf=True))\n",
    "\n",
    "\n",
    "\n",
    "def evaluate_model(MLP_model, test_loader,conf=False):\n",
    "    with torch.no_grad():\n",
    "\n",
    "        ### Calculate MSE \n",
    "        predictions = []\n",
    "        actuals = []\n",
    "        actuals_for_cm = []\n",
    "        rounded_predictions = []\n",
    "        for inputs, labels in test_loader:\n",
    "            inputs, labels = inputs.to(device), labels.to(device)\n",
    "            outputs = MLP_model(inputs)\n",
    "            predictions.extend(outputs.cpu().numpy())\n",
    "            actuals.extend(labels.cpu().numpy())\n",
    "            actuals_for_cm.extend([str(label) for label in labels.cpu().numpy()])\n",
    "            rounded_predictions.extend([str(round_to_nearest_quarter(output)) for output in outputs.cpu().numpy()])\n",
    "\n",
    "        predictions = np.array(predictions)\n",
    "        actuals = np.array(actuals)\n",
    "        mse = np.mean((predictions - actuals) ** 2)\n",
    "        mae = np.mean(np.abs(predictions - actuals))\n",
    "        #print(f'Mean Squared Error: {mse:.4f} and Mean Absolute Error: {mae:.4f}')\n",
    "\n",
    "        # for i in range(10):\n",
    "        #     print(f\"Predictions: {predictions[i]}\")\n",
    "        #     print(f\"Actuals: {actuals[i]}\")\n",
    "        #     print(f\"Rounded Predictions: {rounded_predictions[i]}\")\n",
    "        \n",
    "        ##################\n",
    "        # Confusion Matrix\n",
    "        ##################\n",
    "        if conf:\n",
    "            ### Confusion Matrix\n",
    "            cm = confusion_matrix(actuals_for_cm, rounded_predictions)\n",
    "            plt.figure(figsize=(10, 8))\n",
    "            sns.heatmap(cm, annot=True, fmt='g', cmap='Blues', xticklabels=np.unique(actuals), yticklabels=np.unique(actuals))\n",
    "            plt.xlabel('Predicted')\n",
    "            plt.ylabel('Actual')\n",
    "            plt.title('Confusion Matrix')\n",
    "            plt.show()\n",
    "            ### Accuracy\n",
    "            accuracy = np.trace(cm) / np.sum(cm)\n",
    "            print(f'Accuracy: {accuracy:.4f}')\n",
    "        return f'Mean Squared Error: {mse:.4f} and Mean Absolute Error: {mae:.4f}'\n",
    "\n",
    "\n",
    "\n",
    "############################################################################################################\n",
    "### PREDICT\n",
    "def predict(model, data, device):\n",
    "    model.eval()  \n",
    "    data = data.to(device)  \n",
    "    with torch.no_grad(): \n",
    "        predictions = []\n",
    "        for sample in data:\n",
    "            sample = sample.unsqueeze(0)  \n",
    "            output = model(sample)\n",
    "            predictions.append(output.item())\n",
    "    return predictions\n",
    "\n",
    "\n",
    "\n",
    "\n",
    "\n",
    "            \n",
    "        "
   ]
  },
  {
   "cell_type": "code",
   "execution_count": 14,
   "metadata": {},
   "outputs": [
    {
     "name": "stderr",
     "output_type": "stream",
     "text": [
      "  1%|          | 1/120 [00:15<31:39, 15.96s/it]"
     ]
    },
    {
     "name": "stdout",
     "output_type": "stream",
     "text": [
      "Epoch [1/120], Loss: 4.1507\n",
      "--------------------------------------------------\n"
     ]
    },
    {
     "name": "stderr",
     "output_type": "stream",
     "text": [
      "  2%|▏         | 2/120 [00:23<22:12, 11.29s/it]"
     ]
    },
    {
     "name": "stdout",
     "output_type": "stream",
     "text": [
      "Epoch [2/120], Loss: 0.9686\n",
      "--------------------------------------------------\n",
      "Epoch [3/120], Loss: 0.8370\n"
     ]
    },
    {
     "name": "stderr",
     "output_type": "stream",
     "text": [
      "  2%|▎         | 3/120 [00:36<22:53, 11.74s/it]"
     ]
    },
    {
     "name": "stdout",
     "output_type": "stream",
     "text": [
      "Validation: Mean Squared Error: 0.6441 and Mean Absolute Error: 0.6424\n",
      "--------------------------------------------------\n",
      "Epoch [4/120], Loss: 0.7568\n"
     ]
    },
    {
     "name": "stderr",
     "output_type": "stream",
     "text": [
      "  3%|▎         | 4/120 [00:45<20:57, 10.84s/it]"
     ]
    },
    {
     "name": "stdout",
     "output_type": "stream",
     "text": [
      "Validation: Mean Squared Error: 0.5872 and Mean Absolute Error: 0.6185\n",
      "--------------------------------------------------\n",
      "Epoch [5/120], Loss: 0.6841\n"
     ]
    },
    {
     "name": "stderr",
     "output_type": "stream",
     "text": [
      "  4%|▍         | 5/120 [00:54<19:39, 10.26s/it]"
     ]
    },
    {
     "name": "stdout",
     "output_type": "stream",
     "text": [
      "Validation: Mean Squared Error: 0.6820 and Mean Absolute Error: 0.6728\n",
      "--------------------------------------------------\n",
      "Epoch [6/120], Loss: 0.6300\n"
     ]
    },
    {
     "name": "stderr",
     "output_type": "stream",
     "text": [
      "  5%|▌         | 6/120 [01:04<18:51,  9.93s/it]"
     ]
    },
    {
     "name": "stdout",
     "output_type": "stream",
     "text": [
      "Validation: Mean Squared Error: 0.5694 and Mean Absolute Error: 0.6047\n",
      "--------------------------------------------------\n",
      "Epoch [7/120], Loss: 0.6510\n"
     ]
    },
    {
     "name": "stderr",
     "output_type": "stream",
     "text": [
      "  6%|▌         | 7/120 [01:13<18:15,  9.70s/it]"
     ]
    },
    {
     "name": "stdout",
     "output_type": "stream",
     "text": [
      "Validation: Mean Squared Error: 0.5432 and Mean Absolute Error: 0.5912\n",
      "--------------------------------------------------\n",
      "Epoch [8/120], Loss: 0.5816\n"
     ]
    },
    {
     "name": "stderr",
     "output_type": "stream",
     "text": [
      "  7%|▋         | 8/120 [01:22<17:47,  9.53s/it]"
     ]
    },
    {
     "name": "stdout",
     "output_type": "stream",
     "text": [
      "Validation: Mean Squared Error: 0.5778 and Mean Absolute Error: 0.6173\n",
      "--------------------------------------------------\n",
      "Epoch [9/120], Loss: 0.6101\n"
     ]
    },
    {
     "name": "stderr",
     "output_type": "stream",
     "text": [
      "  8%|▊         | 9/120 [01:31<17:24,  9.41s/it]"
     ]
    },
    {
     "name": "stdout",
     "output_type": "stream",
     "text": [
      "Validation: Mean Squared Error: 0.5789 and Mean Absolute Error: 0.6188\n",
      "--------------------------------------------------\n",
      "Epoch [10/120], Loss: 0.5656\n"
     ]
    },
    {
     "name": "stderr",
     "output_type": "stream",
     "text": [
      "  8%|▊         | 10/120 [01:40<17:08,  9.35s/it]"
     ]
    },
    {
     "name": "stdout",
     "output_type": "stream",
     "text": [
      "Validation: Mean Squared Error: 0.5192 and Mean Absolute Error: 0.5806\n",
      "--------------------------------------------------\n",
      "Epoch [11/120], Loss: 0.5830\n"
     ]
    },
    {
     "name": "stderr",
     "output_type": "stream",
     "text": [
      "  9%|▉         | 11/120 [01:50<16:56,  9.33s/it]"
     ]
    },
    {
     "name": "stdout",
     "output_type": "stream",
     "text": [
      "Validation: Mean Squared Error: 0.5198 and Mean Absolute Error: 0.5806\n",
      "--------------------------------------------------\n",
      "Epoch [12/120], Loss: 0.5533\n"
     ]
    },
    {
     "name": "stderr",
     "output_type": "stream",
     "text": [
      " 10%|█         | 12/120 [01:59<16:41,  9.28s/it]"
     ]
    },
    {
     "name": "stdout",
     "output_type": "stream",
     "text": [
      "Validation: Mean Squared Error: 0.5188 and Mean Absolute Error: 0.5827\n",
      "--------------------------------------------------\n",
      "Epoch [13/120], Loss: 0.5489\n"
     ]
    },
    {
     "name": "stderr",
     "output_type": "stream",
     "text": [
      " 11%|█         | 13/120 [02:08<16:28,  9.24s/it]"
     ]
    },
    {
     "name": "stdout",
     "output_type": "stream",
     "text": [
      "Validation: Mean Squared Error: 0.5473 and Mean Absolute Error: 0.5998\n",
      "--------------------------------------------------\n",
      "Epoch [14/120], Loss: 0.5510\n"
     ]
    },
    {
     "name": "stderr",
     "output_type": "stream",
     "text": [
      " 12%|█▏        | 14/120 [02:17<16:19,  9.24s/it]"
     ]
    },
    {
     "name": "stdout",
     "output_type": "stream",
     "text": [
      "Validation: Mean Squared Error: 0.5163 and Mean Absolute Error: 0.5830\n",
      "--------------------------------------------------\n",
      "Epoch [15/120], Loss: 0.5245\n"
     ]
    },
    {
     "name": "stderr",
     "output_type": "stream",
     "text": [
      " 12%|█▎        | 15/120 [02:26<16:07,  9.21s/it]"
     ]
    },
    {
     "name": "stdout",
     "output_type": "stream",
     "text": [
      "Validation: Mean Squared Error: 0.4896 and Mean Absolute Error: 0.5646\n",
      "--------------------------------------------------\n",
      "Epoch [16/120], Loss: 0.5359\n"
     ]
    },
    {
     "name": "stderr",
     "output_type": "stream",
     "text": [
      " 13%|█▎        | 16/120 [02:36<15:57,  9.21s/it]"
     ]
    },
    {
     "name": "stdout",
     "output_type": "stream",
     "text": [
      "Validation: Mean Squared Error: 0.4945 and Mean Absolute Error: 0.5676\n",
      "--------------------------------------------------\n",
      "Epoch [17/120], Loss: 0.5203\n"
     ]
    },
    {
     "name": "stderr",
     "output_type": "stream",
     "text": [
      " 14%|█▍        | 17/120 [02:45<15:58,  9.30s/it]"
     ]
    },
    {
     "name": "stdout",
     "output_type": "stream",
     "text": [
      "Validation: Mean Squared Error: 0.4869 and Mean Absolute Error: 0.5628\n",
      "--------------------------------------------------\n",
      "Epoch [18/120], Loss: 0.5122\n"
     ]
    },
    {
     "name": "stderr",
     "output_type": "stream",
     "text": [
      " 15%|█▌        | 18/120 [02:55<15:50,  9.32s/it]"
     ]
    },
    {
     "name": "stdout",
     "output_type": "stream",
     "text": [
      "Validation: Mean Squared Error: 0.5189 and Mean Absolute Error: 0.5801\n",
      "--------------------------------------------------\n",
      "Epoch [19/120], Loss: 0.5211\n"
     ]
    },
    {
     "name": "stderr",
     "output_type": "stream",
     "text": [
      " 16%|█▌        | 19/120 [03:04<15:44,  9.35s/it]"
     ]
    },
    {
     "name": "stdout",
     "output_type": "stream",
     "text": [
      "Validation: Mean Squared Error: 0.5324 and Mean Absolute Error: 0.5869\n",
      "--------------------------------------------------\n",
      "Epoch [20/120], Loss: 0.5127\n"
     ]
    },
    {
     "name": "stderr",
     "output_type": "stream",
     "text": [
      " 17%|█▋        | 20/120 [03:13<15:34,  9.34s/it]"
     ]
    },
    {
     "name": "stdout",
     "output_type": "stream",
     "text": [
      "Validation: Mean Squared Error: 0.4967 and Mean Absolute Error: 0.5663\n",
      "--------------------------------------------------\n",
      "Epoch [21/120], Loss: 0.5013\n"
     ]
    },
    {
     "name": "stderr",
     "output_type": "stream",
     "text": [
      " 18%|█▊        | 21/120 [03:23<15:21,  9.31s/it]"
     ]
    },
    {
     "name": "stdout",
     "output_type": "stream",
     "text": [
      "Validation: Mean Squared Error: 0.4799 and Mean Absolute Error: 0.5573\n",
      "--------------------------------------------------\n",
      "Epoch [22/120], Loss: 0.5111\n"
     ]
    },
    {
     "name": "stderr",
     "output_type": "stream",
     "text": [
      " 18%|█▊        | 22/120 [03:32<15:16,  9.36s/it]"
     ]
    },
    {
     "name": "stdout",
     "output_type": "stream",
     "text": [
      "Validation: Mean Squared Error: 0.4844 and Mean Absolute Error: 0.5595\n",
      "--------------------------------------------------\n",
      "Epoch [23/120], Loss: 0.5057\n"
     ]
    },
    {
     "name": "stderr",
     "output_type": "stream",
     "text": [
      " 19%|█▉        | 23/120 [03:42<15:13,  9.41s/it]"
     ]
    },
    {
     "name": "stdout",
     "output_type": "stream",
     "text": [
      "Validation: Mean Squared Error: 0.4797 and Mean Absolute Error: 0.5579\n",
      "--------------------------------------------------\n",
      "Epoch [24/120], Loss: 0.4903\n"
     ]
    },
    {
     "name": "stderr",
     "output_type": "stream",
     "text": [
      " 20%|██        | 24/120 [03:51<14:54,  9.32s/it]"
     ]
    },
    {
     "name": "stdout",
     "output_type": "stream",
     "text": [
      "Validation: Mean Squared Error: 0.5106 and Mean Absolute Error: 0.5754\n",
      "--------------------------------------------------\n",
      "Epoch [25/120], Loss: 0.4993\n"
     ]
    },
    {
     "name": "stderr",
     "output_type": "stream",
     "text": [
      " 21%|██        | 25/120 [04:00<14:38,  9.25s/it]"
     ]
    },
    {
     "name": "stdout",
     "output_type": "stream",
     "text": [
      "Validation: Mean Squared Error: 0.5140 and Mean Absolute Error: 0.5759\n",
      "--------------------------------------------------\n",
      "Epoch [26/120], Loss: 0.4920\n"
     ]
    },
    {
     "name": "stderr",
     "output_type": "stream",
     "text": [
      " 22%|██▏       | 26/120 [04:09<14:27,  9.23s/it]"
     ]
    },
    {
     "name": "stdout",
     "output_type": "stream",
     "text": [
      "Validation: Mean Squared Error: 0.4895 and Mean Absolute Error: 0.5622\n",
      "--------------------------------------------------\n",
      "Epoch [27/120], Loss: 0.4803\n"
     ]
    },
    {
     "name": "stderr",
     "output_type": "stream",
     "text": [
      " 22%|██▎       | 27/120 [04:18<14:13,  9.18s/it]"
     ]
    },
    {
     "name": "stdout",
     "output_type": "stream",
     "text": [
      "Validation: Mean Squared Error: 0.4698 and Mean Absolute Error: 0.5508\n",
      "--------------------------------------------------\n",
      "Epoch [28/120], Loss: 0.4834\n"
     ]
    },
    {
     "name": "stderr",
     "output_type": "stream",
     "text": [
      " 23%|██▎       | 28/120 [04:27<14:00,  9.14s/it]"
     ]
    },
    {
     "name": "stdout",
     "output_type": "stream",
     "text": [
      "Validation: Mean Squared Error: 0.4715 and Mean Absolute Error: 0.5524\n",
      "--------------------------------------------------\n",
      "Epoch [29/120], Loss: 0.4875\n"
     ]
    },
    {
     "name": "stderr",
     "output_type": "stream",
     "text": [
      " 24%|██▍       | 29/120 [04:36<13:48,  9.11s/it]"
     ]
    },
    {
     "name": "stdout",
     "output_type": "stream",
     "text": [
      "Validation: Mean Squared Error: 0.4691 and Mean Absolute Error: 0.5522\n",
      "--------------------------------------------------\n",
      "Epoch [30/120], Loss: 0.4758\n"
     ]
    },
    {
     "name": "stderr",
     "output_type": "stream",
     "text": [
      " 25%|██▌       | 30/120 [04:45<13:41,  9.13s/it]"
     ]
    },
    {
     "name": "stdout",
     "output_type": "stream",
     "text": [
      "Validation: Mean Squared Error: 0.4737 and Mean Absolute Error: 0.5542\n",
      "--------------------------------------------------\n",
      "Epoch [31/120], Loss: 0.4752\n"
     ]
    },
    {
     "name": "stderr",
     "output_type": "stream",
     "text": [
      " 26%|██▌       | 31/120 [04:54<13:36,  9.17s/it]"
     ]
    },
    {
     "name": "stdout",
     "output_type": "stream",
     "text": [
      "Validation: Mean Squared Error: 0.4922 and Mean Absolute Error: 0.5620\n",
      "--------------------------------------------------\n",
      "Epoch [32/120], Loss: 0.4757\n"
     ]
    },
    {
     "name": "stderr",
     "output_type": "stream",
     "text": [
      " 27%|██▋       | 32/120 [05:04<13:28,  9.19s/it]"
     ]
    },
    {
     "name": "stdout",
     "output_type": "stream",
     "text": [
      "Validation: Mean Squared Error: 0.4857 and Mean Absolute Error: 0.5583\n",
      "--------------------------------------------------\n",
      "Epoch [33/120], Loss: 0.4730\n"
     ]
    },
    {
     "name": "stderr",
     "output_type": "stream",
     "text": [
      " 28%|██▊       | 33/120 [05:13<13:24,  9.24s/it]"
     ]
    },
    {
     "name": "stdout",
     "output_type": "stream",
     "text": [
      "Validation: Mean Squared Error: 0.4733 and Mean Absolute Error: 0.5519\n",
      "--------------------------------------------------\n",
      "Epoch [34/120], Loss: 0.4631\n"
     ]
    },
    {
     "name": "stderr",
     "output_type": "stream",
     "text": [
      " 28%|██▊       | 34/120 [05:23<13:33,  9.46s/it]"
     ]
    },
    {
     "name": "stdout",
     "output_type": "stream",
     "text": [
      "Validation: Mean Squared Error: 0.4633 and Mean Absolute Error: 0.5464\n",
      "--------------------------------------------------\n",
      "Epoch [35/120], Loss: 0.4676\n"
     ]
    },
    {
     "name": "stderr",
     "output_type": "stream",
     "text": [
      " 29%|██▉       | 35/120 [05:33<13:23,  9.46s/it]"
     ]
    },
    {
     "name": "stdout",
     "output_type": "stream",
     "text": [
      "Validation: Mean Squared Error: 0.4590 and Mean Absolute Error: 0.5452\n",
      "--------------------------------------------------\n",
      "Epoch [36/120], Loss: 0.4671\n"
     ]
    },
    {
     "name": "stderr",
     "output_type": "stream",
     "text": [
      " 30%|███       | 36/120 [05:42<13:14,  9.46s/it]"
     ]
    },
    {
     "name": "stdout",
     "output_type": "stream",
     "text": [
      "Validation: Mean Squared Error: 0.4545 and Mean Absolute Error: 0.5433\n",
      "--------------------------------------------------\n",
      "Epoch [37/120], Loss: 0.4603\n"
     ]
    },
    {
     "name": "stderr",
     "output_type": "stream",
     "text": [
      " 31%|███       | 37/120 [05:51<13:02,  9.42s/it]"
     ]
    },
    {
     "name": "stdout",
     "output_type": "stream",
     "text": [
      "Validation: Mean Squared Error: 0.4620 and Mean Absolute Error: 0.5477\n",
      "--------------------------------------------------\n",
      "Epoch [38/120], Loss: 0.4564\n"
     ]
    },
    {
     "name": "stderr",
     "output_type": "stream",
     "text": [
      " 32%|███▏      | 38/120 [06:01<12:56,  9.47s/it]"
     ]
    },
    {
     "name": "stdout",
     "output_type": "stream",
     "text": [
      "Validation: Mean Squared Error: 0.4787 and Mean Absolute Error: 0.5546\n",
      "--------------------------------------------------\n",
      "Epoch [39/120], Loss: 0.4565\n"
     ]
    },
    {
     "name": "stderr",
     "output_type": "stream",
     "text": [
      " 32%|███▎      | 39/120 [06:10<12:44,  9.44s/it]"
     ]
    },
    {
     "name": "stdout",
     "output_type": "stream",
     "text": [
      "Validation: Mean Squared Error: 0.4735 and Mean Absolute Error: 0.5517\n",
      "--------------------------------------------------\n",
      "Epoch [40/120], Loss: 0.4565\n"
     ]
    },
    {
     "name": "stderr",
     "output_type": "stream",
     "text": [
      " 33%|███▎      | 40/120 [06:20<12:40,  9.51s/it]"
     ]
    },
    {
     "name": "stdout",
     "output_type": "stream",
     "text": [
      "Validation: Mean Squared Error: 0.4626 and Mean Absolute Error: 0.5468\n",
      "--------------------------------------------------\n",
      "Epoch [41/120], Loss: 0.4471\n"
     ]
    },
    {
     "name": "stderr",
     "output_type": "stream",
     "text": [
      " 34%|███▍      | 41/120 [06:29<12:32,  9.52s/it]"
     ]
    },
    {
     "name": "stdout",
     "output_type": "stream",
     "text": [
      "Validation: Mean Squared Error: 0.4598 and Mean Absolute Error: 0.5440\n",
      "--------------------------------------------------\n",
      "Epoch [42/120], Loss: 0.4474\n"
     ]
    },
    {
     "name": "stderr",
     "output_type": "stream",
     "text": [
      " 35%|███▌      | 42/120 [06:39<12:23,  9.53s/it]"
     ]
    },
    {
     "name": "stdout",
     "output_type": "stream",
     "text": [
      "Validation: Mean Squared Error: 0.4538 and Mean Absolute Error: 0.5402\n",
      "--------------------------------------------------\n",
      "Epoch [43/120], Loss: 0.4505\n"
     ]
    },
    {
     "name": "stderr",
     "output_type": "stream",
     "text": [
      " 36%|███▌      | 43/120 [06:49<12:16,  9.57s/it]"
     ]
    },
    {
     "name": "stdout",
     "output_type": "stream",
     "text": [
      "Validation: Mean Squared Error: 0.4436 and Mean Absolute Error: 0.5364\n",
      "--------------------------------------------------\n",
      "Epoch [44/120], Loss: 0.4434\n"
     ]
    },
    {
     "name": "stderr",
     "output_type": "stream",
     "text": [
      " 37%|███▋      | 44/120 [06:58<12:01,  9.50s/it]"
     ]
    },
    {
     "name": "stdout",
     "output_type": "stream",
     "text": [
      "Validation: Mean Squared Error: 0.4474 and Mean Absolute Error: 0.5389\n",
      "--------------------------------------------------\n",
      "Epoch [45/120], Loss: 0.4348\n"
     ]
    },
    {
     "name": "stderr",
     "output_type": "stream",
     "text": [
      " 38%|███▊      | 45/120 [07:07<11:46,  9.42s/it]"
     ]
    },
    {
     "name": "stdout",
     "output_type": "stream",
     "text": [
      "Validation: Mean Squared Error: 0.4694 and Mean Absolute Error: 0.5492\n",
      "--------------------------------------------------\n",
      "Epoch [46/120], Loss: 0.4384\n"
     ]
    },
    {
     "name": "stderr",
     "output_type": "stream",
     "text": [
      " 38%|███▊      | 46/120 [07:17<11:35,  9.40s/it]"
     ]
    },
    {
     "name": "stdout",
     "output_type": "stream",
     "text": [
      "Validation: Mean Squared Error: 0.4802 and Mean Absolute Error: 0.5543\n",
      "--------------------------------------------------\n",
      "Epoch [47/120], Loss: 0.4411\n"
     ]
    },
    {
     "name": "stderr",
     "output_type": "stream",
     "text": [
      " 39%|███▉      | 47/120 [07:26<11:28,  9.43s/it]"
     ]
    },
    {
     "name": "stdout",
     "output_type": "stream",
     "text": [
      "Validation: Mean Squared Error: 0.4614 and Mean Absolute Error: 0.5451\n",
      "--------------------------------------------------\n",
      "Epoch [48/120], Loss: 0.4339\n"
     ]
    },
    {
     "name": "stderr",
     "output_type": "stream",
     "text": [
      " 40%|████      | 48/120 [07:35<11:17,  9.42s/it]"
     ]
    },
    {
     "name": "stdout",
     "output_type": "stream",
     "text": [
      "Validation: Mean Squared Error: 0.4539 and Mean Absolute Error: 0.5421\n",
      "--------------------------------------------------\n",
      "Epoch [49/120], Loss: 0.4316\n"
     ]
    },
    {
     "name": "stderr",
     "output_type": "stream",
     "text": [
      " 41%|████      | 49/120 [07:45<11:02,  9.33s/it]"
     ]
    },
    {
     "name": "stdout",
     "output_type": "stream",
     "text": [
      "Validation: Mean Squared Error: 0.4488 and Mean Absolute Error: 0.5375\n",
      "--------------------------------------------------\n",
      "Epoch [50/120], Loss: 0.4371\n"
     ]
    },
    {
     "name": "stderr",
     "output_type": "stream",
     "text": [
      " 42%|████▏     | 50/120 [07:54<10:51,  9.31s/it]"
     ]
    },
    {
     "name": "stdout",
     "output_type": "stream",
     "text": [
      "Validation: Mean Squared Error: 0.4450 and Mean Absolute Error: 0.5355\n",
      "--------------------------------------------------\n",
      "Epoch [51/120], Loss: 0.4312\n"
     ]
    },
    {
     "name": "stderr",
     "output_type": "stream",
     "text": [
      " 42%|████▎     | 51/120 [08:03<10:38,  9.25s/it]"
     ]
    },
    {
     "name": "stdout",
     "output_type": "stream",
     "text": [
      "Validation: Mean Squared Error: 0.4372 and Mean Absolute Error: 0.5327\n",
      "--------------------------------------------------\n",
      "Epoch [52/120], Loss: 0.4274\n"
     ]
    },
    {
     "name": "stderr",
     "output_type": "stream",
     "text": [
      " 43%|████▎     | 52/120 [08:12<10:29,  9.26s/it]"
     ]
    },
    {
     "name": "stdout",
     "output_type": "stream",
     "text": [
      "Validation: Mean Squared Error: 0.4454 and Mean Absolute Error: 0.5383\n",
      "--------------------------------------------------\n",
      "Epoch [53/120], Loss: 0.4256\n"
     ]
    },
    {
     "name": "stderr",
     "output_type": "stream",
     "text": [
      " 44%|████▍     | 53/120 [08:21<10:17,  9.21s/it]"
     ]
    },
    {
     "name": "stdout",
     "output_type": "stream",
     "text": [
      "Validation: Mean Squared Error: 0.4708 and Mean Absolute Error: 0.5505\n",
      "--------------------------------------------------\n",
      "Epoch [54/120], Loss: 0.4285\n"
     ]
    },
    {
     "name": "stderr",
     "output_type": "stream",
     "text": [
      " 45%|████▌     | 54/120 [08:31<10:07,  9.20s/it]"
     ]
    },
    {
     "name": "stdout",
     "output_type": "stream",
     "text": [
      "Validation: Mean Squared Error: 0.4771 and Mean Absolute Error: 0.5536\n",
      "--------------------------------------------------\n",
      "Epoch [55/120], Loss: 0.4260\n"
     ]
    },
    {
     "name": "stderr",
     "output_type": "stream",
     "text": [
      " 46%|████▌     | 55/120 [08:40<09:53,  9.14s/it]"
     ]
    },
    {
     "name": "stdout",
     "output_type": "stream",
     "text": [
      "Validation: Mean Squared Error: 0.4533 and Mean Absolute Error: 0.5414\n",
      "--------------------------------------------------\n",
      "Epoch [56/120], Loss: 0.4204\n"
     ]
    },
    {
     "name": "stderr",
     "output_type": "stream",
     "text": [
      " 47%|████▋     | 56/120 [08:48<09:41,  9.08s/it]"
     ]
    },
    {
     "name": "stdout",
     "output_type": "stream",
     "text": [
      "Validation: Mean Squared Error: 0.4387 and Mean Absolute Error: 0.5341\n",
      "--------------------------------------------------\n",
      "Epoch [57/120], Loss: 0.4181\n"
     ]
    },
    {
     "name": "stderr",
     "output_type": "stream",
     "text": [
      " 48%|████▊     | 57/120 [08:57<09:29,  9.05s/it]"
     ]
    },
    {
     "name": "stdout",
     "output_type": "stream",
     "text": [
      "Validation: Mean Squared Error: 0.4384 and Mean Absolute Error: 0.5336\n",
      "--------------------------------------------------\n",
      "Epoch [58/120], Loss: 0.4226\n"
     ]
    },
    {
     "name": "stderr",
     "output_type": "stream",
     "text": [
      " 48%|████▊     | 58/120 [09:07<09:21,  9.06s/it]"
     ]
    },
    {
     "name": "stdout",
     "output_type": "stream",
     "text": [
      "Validation: Mean Squared Error: 0.4434 and Mean Absolute Error: 0.5355\n",
      "--------------------------------------------------\n",
      "Epoch [59/120], Loss: 0.4191\n"
     ]
    },
    {
     "name": "stderr",
     "output_type": "stream",
     "text": [
      " 49%|████▉     | 59/120 [09:16<09:13,  9.07s/it]"
     ]
    },
    {
     "name": "stdout",
     "output_type": "stream",
     "text": [
      "Validation: Mean Squared Error: 0.4398 and Mean Absolute Error: 0.5333\n",
      "--------------------------------------------------\n",
      "Epoch [60/120], Loss: 0.4099\n"
     ]
    },
    {
     "name": "stderr",
     "output_type": "stream",
     "text": [
      " 50%|█████     | 60/120 [09:25<09:10,  9.17s/it]"
     ]
    },
    {
     "name": "stdout",
     "output_type": "stream",
     "text": [
      "Validation: Mean Squared Error: 0.4474 and Mean Absolute Error: 0.5375\n",
      "--------------------------------------------------\n",
      "Epoch [61/120], Loss: 0.4161\n"
     ]
    },
    {
     "name": "stderr",
     "output_type": "stream",
     "text": [
      " 51%|█████     | 61/120 [09:34<09:05,  9.24s/it]"
     ]
    },
    {
     "name": "stdout",
     "output_type": "stream",
     "text": [
      "Validation: Mean Squared Error: 0.4689 and Mean Absolute Error: 0.5500\n",
      "--------------------------------------------------\n",
      "Epoch [62/120], Loss: 0.4126\n"
     ]
    },
    {
     "name": "stderr",
     "output_type": "stream",
     "text": [
      " 52%|█████▏    | 62/120 [09:44<08:56,  9.25s/it]"
     ]
    },
    {
     "name": "stdout",
     "output_type": "stream",
     "text": [
      "Validation: Mean Squared Error: 0.4664 and Mean Absolute Error: 0.5475\n",
      "--------------------------------------------------\n",
      "Epoch [63/120], Loss: 0.4139\n"
     ]
    },
    {
     "name": "stderr",
     "output_type": "stream",
     "text": [
      " 52%|█████▎    | 63/120 [09:53<08:44,  9.21s/it]"
     ]
    },
    {
     "name": "stdout",
     "output_type": "stream",
     "text": [
      "Validation: Mean Squared Error: 0.4509 and Mean Absolute Error: 0.5390\n",
      "--------------------------------------------------\n",
      "Epoch [64/120], Loss: 0.4032\n"
     ]
    },
    {
     "name": "stderr",
     "output_type": "stream",
     "text": [
      " 53%|█████▎    | 64/120 [10:02<08:33,  9.18s/it]"
     ]
    },
    {
     "name": "stdout",
     "output_type": "stream",
     "text": [
      "Validation: Mean Squared Error: 0.4409 and Mean Absolute Error: 0.5350\n",
      "--------------------------------------------------\n",
      "Epoch [65/120], Loss: 0.4110\n"
     ]
    },
    {
     "name": "stderr",
     "output_type": "stream",
     "text": [
      " 54%|█████▍    | 65/120 [10:11<08:26,  9.21s/it]"
     ]
    },
    {
     "name": "stdout",
     "output_type": "stream",
     "text": [
      "Validation: Mean Squared Error: 0.4374 and Mean Absolute Error: 0.5336\n",
      "--------------------------------------------------\n",
      "Epoch [66/120], Loss: 0.4076\n"
     ]
    },
    {
     "name": "stderr",
     "output_type": "stream",
     "text": [
      " 55%|█████▌    | 66/120 [10:20<08:17,  9.21s/it]"
     ]
    },
    {
     "name": "stdout",
     "output_type": "stream",
     "text": [
      "Validation: Mean Squared Error: 0.4437 and Mean Absolute Error: 0.5365\n",
      "--------------------------------------------------\n",
      "Epoch [67/120], Loss: 0.4021\n"
     ]
    },
    {
     "name": "stderr",
     "output_type": "stream",
     "text": [
      " 56%|█████▌    | 67/120 [10:30<08:08,  9.22s/it]"
     ]
    },
    {
     "name": "stdout",
     "output_type": "stream",
     "text": [
      "Validation: Mean Squared Error: 0.4493 and Mean Absolute Error: 0.5381\n",
      "--------------------------------------------------\n",
      "Epoch [68/120], Loss: 0.4032\n"
     ]
    },
    {
     "name": "stderr",
     "output_type": "stream",
     "text": [
      " 57%|█████▋    | 68/120 [10:39<07:58,  9.21s/it]"
     ]
    },
    {
     "name": "stdout",
     "output_type": "stream",
     "text": [
      "Validation: Mean Squared Error: 0.4503 and Mean Absolute Error: 0.5399\n",
      "--------------------------------------------------\n",
      "Epoch [69/120], Loss: 0.4055\n"
     ]
    },
    {
     "name": "stderr",
     "output_type": "stream",
     "text": [
      " 57%|█████▊    | 69/120 [10:48<07:47,  9.16s/it]"
     ]
    },
    {
     "name": "stdout",
     "output_type": "stream",
     "text": [
      "Validation: Mean Squared Error: 0.4675 and Mean Absolute Error: 0.5503\n",
      "--------------------------------------------------\n",
      "Epoch [70/120], Loss: 0.4053\n"
     ]
    },
    {
     "name": "stderr",
     "output_type": "stream",
     "text": [
      " 58%|█████▊    | 70/120 [10:57<07:36,  9.14s/it]"
     ]
    },
    {
     "name": "stdout",
     "output_type": "stream",
     "text": [
      "Validation: Mean Squared Error: 0.4590 and Mean Absolute Error: 0.5438\n",
      "--------------------------------------------------\n",
      "Epoch [71/120], Loss: 0.3946\n"
     ]
    },
    {
     "name": "stderr",
     "output_type": "stream",
     "text": [
      " 59%|█████▉    | 71/120 [11:06<07:26,  9.10s/it]"
     ]
    },
    {
     "name": "stdout",
     "output_type": "stream",
     "text": [
      "Validation: Mean Squared Error: 0.4483 and Mean Absolute Error: 0.5373\n",
      "--------------------------------------------------\n",
      "Epoch [72/120], Loss: 0.3953\n"
     ]
    },
    {
     "name": "stderr",
     "output_type": "stream",
     "text": [
      " 60%|██████    | 72/120 [11:15<07:16,  9.09s/it]"
     ]
    },
    {
     "name": "stdout",
     "output_type": "stream",
     "text": [
      "Validation: Mean Squared Error: 0.4347 and Mean Absolute Error: 0.5310\n",
      "--------------------------------------------------\n",
      "Epoch [73/120], Loss: 0.3996\n"
     ]
    },
    {
     "name": "stderr",
     "output_type": "stream",
     "text": [
      " 61%|██████    | 73/120 [11:24<07:08,  9.12s/it]"
     ]
    },
    {
     "name": "stdout",
     "output_type": "stream",
     "text": [
      "Validation: Mean Squared Error: 0.4313 and Mean Absolute Error: 0.5302\n",
      "--------------------------------------------------\n",
      "Epoch [74/120], Loss: 0.3923\n"
     ]
    },
    {
     "name": "stderr",
     "output_type": "stream",
     "text": [
      " 62%|██████▏   | 74/120 [11:34<07:01,  9.16s/it]"
     ]
    },
    {
     "name": "stdout",
     "output_type": "stream",
     "text": [
      "Validation: Mean Squared Error: 0.4394 and Mean Absolute Error: 0.5337\n",
      "--------------------------------------------------\n",
      "Epoch [75/120], Loss: 0.3913\n"
     ]
    },
    {
     "name": "stderr",
     "output_type": "stream",
     "text": [
      " 62%|██████▎   | 75/120 [11:43<06:52,  9.17s/it]"
     ]
    },
    {
     "name": "stdout",
     "output_type": "stream",
     "text": [
      "Validation: Mean Squared Error: 0.4531 and Mean Absolute Error: 0.5406\n",
      "--------------------------------------------------\n",
      "Epoch [76/120], Loss: 0.3910\n"
     ]
    },
    {
     "name": "stderr",
     "output_type": "stream",
     "text": [
      " 63%|██████▎   | 76/120 [11:52<06:45,  9.21s/it]"
     ]
    },
    {
     "name": "stdout",
     "output_type": "stream",
     "text": [
      "Validation: Mean Squared Error: 0.4573 and Mean Absolute Error: 0.5434\n",
      "--------------------------------------------------\n",
      "Epoch [77/120], Loss: 0.3943\n"
     ]
    },
    {
     "name": "stderr",
     "output_type": "stream",
     "text": [
      " 64%|██████▍   | 77/120 [12:01<06:39,  9.28s/it]"
     ]
    },
    {
     "name": "stdout",
     "output_type": "stream",
     "text": [
      "Validation: Mean Squared Error: 0.4604 and Mean Absolute Error: 0.5457\n",
      "--------------------------------------------------\n",
      "Epoch [78/120], Loss: 0.3884\n"
     ]
    },
    {
     "name": "stderr",
     "output_type": "stream",
     "text": [
      " 65%|██████▌   | 78/120 [12:11<06:29,  9.27s/it]"
     ]
    },
    {
     "name": "stdout",
     "output_type": "stream",
     "text": [
      "Validation: Mean Squared Error: 0.4501 and Mean Absolute Error: 0.5395\n",
      "--------------------------------------------------\n",
      "Epoch [79/120], Loss: 0.3849\n"
     ]
    },
    {
     "name": "stderr",
     "output_type": "stream",
     "text": [
      " 66%|██████▌   | 79/120 [12:20<06:18,  9.23s/it]"
     ]
    },
    {
     "name": "stdout",
     "output_type": "stream",
     "text": [
      "Validation: Mean Squared Error: 0.4423 and Mean Absolute Error: 0.5347\n",
      "--------------------------------------------------\n",
      "Epoch [80/120], Loss: 0.3874\n"
     ]
    },
    {
     "name": "stderr",
     "output_type": "stream",
     "text": [
      " 67%|██████▋   | 80/120 [12:29<06:08,  9.21s/it]"
     ]
    },
    {
     "name": "stdout",
     "output_type": "stream",
     "text": [
      "Validation: Mean Squared Error: 0.4385 and Mean Absolute Error: 0.5335\n",
      "--------------------------------------------------\n",
      "Epoch [81/120], Loss: 0.3865\n"
     ]
    },
    {
     "name": "stderr",
     "output_type": "stream",
     "text": [
      " 68%|██████▊   | 81/120 [12:38<05:57,  9.16s/it]"
     ]
    },
    {
     "name": "stdout",
     "output_type": "stream",
     "text": [
      "Validation: Mean Squared Error: 0.4326 and Mean Absolute Error: 0.5306\n",
      "--------------------------------------------------\n",
      "Epoch [82/120], Loss: 0.3806\n"
     ]
    },
    {
     "name": "stderr",
     "output_type": "stream",
     "text": [
      " 68%|██████▊   | 82/120 [12:47<05:45,  9.10s/it]"
     ]
    },
    {
     "name": "stdout",
     "output_type": "stream",
     "text": [
      "Validation: Mean Squared Error: 0.4345 and Mean Absolute Error: 0.5310\n",
      "--------------------------------------------------\n",
      "Epoch [83/120], Loss: 0.3836\n"
     ]
    },
    {
     "name": "stderr",
     "output_type": "stream",
     "text": [
      " 69%|██████▉   | 83/120 [12:56<05:35,  9.07s/it]"
     ]
    },
    {
     "name": "stdout",
     "output_type": "stream",
     "text": [
      "Validation: Mean Squared Error: 0.4508 and Mean Absolute Error: 0.5402\n",
      "--------------------------------------------------\n",
      "Epoch [84/120], Loss: 0.3831\n"
     ]
    },
    {
     "name": "stderr",
     "output_type": "stream",
     "text": [
      " 70%|███████   | 84/120 [13:05<05:29,  9.15s/it]"
     ]
    },
    {
     "name": "stdout",
     "output_type": "stream",
     "text": [
      "Validation: Mean Squared Error: 0.4703 and Mean Absolute Error: 0.5512\n",
      "--------------------------------------------------\n",
      "Epoch [85/120], Loss: 0.3876\n"
     ]
    },
    {
     "name": "stderr",
     "output_type": "stream",
     "text": [
      " 71%|███████   | 85/120 [13:14<05:19,  9.14s/it]"
     ]
    },
    {
     "name": "stdout",
     "output_type": "stream",
     "text": [
      "Validation: Mean Squared Error: 0.4573 and Mean Absolute Error: 0.5440\n",
      "--------------------------------------------------\n",
      "Epoch [86/120], Loss: 0.3764\n"
     ]
    },
    {
     "name": "stderr",
     "output_type": "stream",
     "text": [
      " 72%|███████▏  | 86/120 [13:24<05:10,  9.13s/it]"
     ]
    },
    {
     "name": "stdout",
     "output_type": "stream",
     "text": [
      "Validation: Mean Squared Error: 0.4379 and Mean Absolute Error: 0.5325\n",
      "--------------------------------------------------\n",
      "Epoch [87/120], Loss: 0.3752\n"
     ]
    },
    {
     "name": "stderr",
     "output_type": "stream",
     "text": [
      " 72%|███████▎  | 87/120 [13:33<05:01,  9.13s/it]"
     ]
    },
    {
     "name": "stdout",
     "output_type": "stream",
     "text": [
      "Validation: Mean Squared Error: 0.4301 and Mean Absolute Error: 0.5278\n",
      "--------------------------------------------------\n",
      "Epoch [88/120], Loss: 0.3829\n"
     ]
    },
    {
     "name": "stderr",
     "output_type": "stream",
     "text": [
      " 73%|███████▎  | 88/120 [13:42<04:52,  9.14s/it]"
     ]
    },
    {
     "name": "stdout",
     "output_type": "stream",
     "text": [
      "Validation: Mean Squared Error: 0.4323 and Mean Absolute Error: 0.5289\n",
      "--------------------------------------------------\n",
      "Epoch [89/120], Loss: 0.3830\n"
     ]
    },
    {
     "name": "stderr",
     "output_type": "stream",
     "text": [
      " 74%|███████▍  | 89/120 [13:51<04:43,  9.15s/it]"
     ]
    },
    {
     "name": "stdout",
     "output_type": "stream",
     "text": [
      "Validation: Mean Squared Error: 0.4345 and Mean Absolute Error: 0.5303\n",
      "--------------------------------------------------\n",
      "Epoch [90/120], Loss: 0.3710\n"
     ]
    },
    {
     "name": "stderr",
     "output_type": "stream",
     "text": [
      " 75%|███████▌  | 90/120 [14:00<04:35,  9.19s/it]"
     ]
    },
    {
     "name": "stdout",
     "output_type": "stream",
     "text": [
      "Validation: Mean Squared Error: 0.4336 and Mean Absolute Error: 0.5291\n",
      "--------------------------------------------------\n",
      "Epoch [91/120], Loss: 0.3747\n"
     ]
    },
    {
     "name": "stderr",
     "output_type": "stream",
     "text": [
      " 76%|███████▌  | 91/120 [14:10<04:31,  9.37s/it]"
     ]
    },
    {
     "name": "stdout",
     "output_type": "stream",
     "text": [
      "Validation: Mean Squared Error: 0.4514 and Mean Absolute Error: 0.5401\n",
      "--------------------------------------------------\n",
      "Epoch [92/120], Loss: 0.3704\n"
     ]
    },
    {
     "name": "stderr",
     "output_type": "stream",
     "text": [
      " 77%|███████▋  | 92/120 [14:19<04:20,  9.32s/it]"
     ]
    },
    {
     "name": "stdout",
     "output_type": "stream",
     "text": [
      "Validation: Mean Squared Error: 0.4569 and Mean Absolute Error: 0.5435\n",
      "--------------------------------------------------\n",
      "Epoch [93/120], Loss: 0.3725\n"
     ]
    },
    {
     "name": "stderr",
     "output_type": "stream",
     "text": [
      " 78%|███████▊  | 93/120 [14:28<04:09,  9.25s/it]"
     ]
    },
    {
     "name": "stdout",
     "output_type": "stream",
     "text": [
      "Validation: Mean Squared Error: 0.4550 and Mean Absolute Error: 0.5422\n",
      "--------------------------------------------------\n",
      "Epoch [94/120], Loss: 0.3686\n"
     ]
    },
    {
     "name": "stderr",
     "output_type": "stream",
     "text": [
      " 78%|███████▊  | 94/120 [14:37<03:59,  9.21s/it]"
     ]
    },
    {
     "name": "stdout",
     "output_type": "stream",
     "text": [
      "Validation: Mean Squared Error: 0.4420 and Mean Absolute Error: 0.5342\n",
      "--------------------------------------------------\n",
      "Epoch [95/120], Loss: 0.3685\n"
     ]
    },
    {
     "name": "stderr",
     "output_type": "stream",
     "text": [
      " 79%|███████▉  | 95/120 [14:47<03:48,  9.16s/it]"
     ]
    },
    {
     "name": "stdout",
     "output_type": "stream",
     "text": [
      "Validation: Mean Squared Error: 0.4266 and Mean Absolute Error: 0.5264\n",
      "--------------------------------------------------\n",
      "Epoch [96/120], Loss: 0.3710\n"
     ]
    },
    {
     "name": "stderr",
     "output_type": "stream",
     "text": [
      " 80%|████████  | 96/120 [14:56<03:39,  9.15s/it]"
     ]
    },
    {
     "name": "stdout",
     "output_type": "stream",
     "text": [
      "Validation: Mean Squared Error: 0.4270 and Mean Absolute Error: 0.5261\n",
      "--------------------------------------------------\n",
      "Epoch [97/120], Loss: 0.3670\n"
     ]
    },
    {
     "name": "stderr",
     "output_type": "stream",
     "text": [
      " 81%|████████  | 97/120 [15:05<03:30,  9.16s/it]"
     ]
    },
    {
     "name": "stdout",
     "output_type": "stream",
     "text": [
      "Validation: Mean Squared Error: 0.4370 and Mean Absolute Error: 0.5314\n",
      "--------------------------------------------------\n",
      "Epoch [98/120], Loss: 0.3643\n"
     ]
    },
    {
     "name": "stderr",
     "output_type": "stream",
     "text": [
      " 82%|████████▏ | 98/120 [15:14<03:21,  9.14s/it]"
     ]
    },
    {
     "name": "stdout",
     "output_type": "stream",
     "text": [
      "Validation: Mean Squared Error: 0.4472 and Mean Absolute Error: 0.5369\n",
      "--------------------------------------------------\n",
      "Epoch [99/120], Loss: 0.3639\n"
     ]
    },
    {
     "name": "stderr",
     "output_type": "stream",
     "text": [
      " 82%|████████▎ | 99/120 [15:23<03:11,  9.13s/it]"
     ]
    },
    {
     "name": "stdout",
     "output_type": "stream",
     "text": [
      "Validation: Mean Squared Error: 0.4498 and Mean Absolute Error: 0.5387\n",
      "--------------------------------------------------\n",
      "Epoch [100/120], Loss: 0.3673\n"
     ]
    },
    {
     "name": "stderr",
     "output_type": "stream",
     "text": [
      " 83%|████████▎ | 100/120 [15:32<03:02,  9.14s/it]"
     ]
    },
    {
     "name": "stdout",
     "output_type": "stream",
     "text": [
      "Validation: Mean Squared Error: 0.4497 and Mean Absolute Error: 0.5389\n",
      "--------------------------------------------------\n",
      "Epoch [101/120], Loss: 0.3615\n"
     ]
    },
    {
     "name": "stderr",
     "output_type": "stream",
     "text": [
      " 84%|████████▍ | 101/120 [15:41<02:53,  9.14s/it]"
     ]
    },
    {
     "name": "stdout",
     "output_type": "stream",
     "text": [
      "Validation: Mean Squared Error: 0.4459 and Mean Absolute Error: 0.5366\n",
      "--------------------------------------------------\n",
      "Epoch [102/120], Loss: 0.3577\n"
     ]
    },
    {
     "name": "stderr",
     "output_type": "stream",
     "text": [
      " 85%|████████▌ | 102/120 [15:51<02:44,  9.15s/it]"
     ]
    },
    {
     "name": "stdout",
     "output_type": "stream",
     "text": [
      "Validation: Mean Squared Error: 0.4454 and Mean Absolute Error: 0.5363\n",
      "--------------------------------------------------\n",
      "Epoch [103/120], Loss: 0.3581\n"
     ]
    },
    {
     "name": "stderr",
     "output_type": "stream",
     "text": [
      " 86%|████████▌ | 103/120 [16:00<02:36,  9.19s/it]"
     ]
    },
    {
     "name": "stdout",
     "output_type": "stream",
     "text": [
      "Validation: Mean Squared Error: 0.4377 and Mean Absolute Error: 0.5319\n",
      "--------------------------------------------------\n",
      "Epoch [104/120], Loss: 0.3580\n"
     ]
    },
    {
     "name": "stderr",
     "output_type": "stream",
     "text": [
      " 87%|████████▋ | 104/120 [16:09<02:28,  9.29s/it]"
     ]
    },
    {
     "name": "stdout",
     "output_type": "stream",
     "text": [
      "Validation: Mean Squared Error: 0.4261 and Mean Absolute Error: 0.5257\n",
      "--------------------------------------------------\n",
      "Epoch [105/120], Loss: 0.3601\n"
     ]
    },
    {
     "name": "stderr",
     "output_type": "stream",
     "text": [
      " 88%|████████▊ | 105/120 [16:19<02:19,  9.27s/it]"
     ]
    },
    {
     "name": "stdout",
     "output_type": "stream",
     "text": [
      "Validation: Mean Squared Error: 0.4330 and Mean Absolute Error: 0.5293\n",
      "--------------------------------------------------\n",
      "Epoch [106/120], Loss: 0.3578\n"
     ]
    },
    {
     "name": "stderr",
     "output_type": "stream",
     "text": [
      " 88%|████████▊ | 106/120 [16:28<02:09,  9.22s/it]"
     ]
    },
    {
     "name": "stdout",
     "output_type": "stream",
     "text": [
      "Validation: Mean Squared Error: 0.4544 and Mean Absolute Error: 0.5406\n",
      "--------------------------------------------------\n",
      "Epoch [107/120], Loss: 0.3549\n"
     ]
    },
    {
     "name": "stderr",
     "output_type": "stream",
     "text": [
      " 89%|████████▉ | 107/120 [16:37<01:59,  9.23s/it]"
     ]
    },
    {
     "name": "stdout",
     "output_type": "stream",
     "text": [
      "Validation: Mean Squared Error: 0.4637 and Mean Absolute Error: 0.5460\n",
      "--------------------------------------------------\n",
      "Epoch [108/120], Loss: 0.3570\n"
     ]
    },
    {
     "name": "stderr",
     "output_type": "stream",
     "text": [
      " 90%|█████████ | 108/120 [16:46<01:51,  9.31s/it]"
     ]
    },
    {
     "name": "stdout",
     "output_type": "stream",
     "text": [
      "Validation: Mean Squared Error: 0.4538 and Mean Absolute Error: 0.5404\n",
      "--------------------------------------------------\n",
      "Epoch [109/120], Loss: 0.3513\n"
     ]
    },
    {
     "name": "stderr",
     "output_type": "stream",
     "text": [
      " 91%|█████████ | 109/120 [16:56<01:42,  9.33s/it]"
     ]
    },
    {
     "name": "stdout",
     "output_type": "stream",
     "text": [
      "Validation: Mean Squared Error: 0.4397 and Mean Absolute Error: 0.5328\n",
      "--------------------------------------------------\n",
      "Epoch [110/120], Loss: 0.3548\n"
     ]
    },
    {
     "name": "stderr",
     "output_type": "stream",
     "text": [
      " 92%|█████████▏| 110/120 [17:05<01:33,  9.30s/it]"
     ]
    },
    {
     "name": "stdout",
     "output_type": "stream",
     "text": [
      "Validation: Mean Squared Error: 0.4329 and Mean Absolute Error: 0.5293\n",
      "--------------------------------------------------\n",
      "Epoch [111/120], Loss: 0.3525\n"
     ]
    },
    {
     "name": "stderr",
     "output_type": "stream",
     "text": [
      " 92%|█████████▎| 111/120 [17:14<01:23,  9.23s/it]"
     ]
    },
    {
     "name": "stdout",
     "output_type": "stream",
     "text": [
      "Validation: Mean Squared Error: 0.4404 and Mean Absolute Error: 0.5336\n",
      "--------------------------------------------------\n",
      "Epoch [112/120], Loss: 0.3518\n"
     ]
    },
    {
     "name": "stderr",
     "output_type": "stream",
     "text": [
      " 93%|█████████▎| 112/120 [17:23<01:13,  9.20s/it]"
     ]
    },
    {
     "name": "stdout",
     "output_type": "stream",
     "text": [
      "Validation: Mean Squared Error: 0.4328 and Mean Absolute Error: 0.5297\n",
      "--------------------------------------------------\n",
      "Epoch [113/120], Loss: 0.3475\n"
     ]
    },
    {
     "name": "stderr",
     "output_type": "stream",
     "text": [
      " 94%|█████████▍| 113/120 [17:32<01:04,  9.20s/it]"
     ]
    },
    {
     "name": "stdout",
     "output_type": "stream",
     "text": [
      "Validation: Mean Squared Error: 0.4383 and Mean Absolute Error: 0.5322\n",
      "--------------------------------------------------\n",
      "Epoch [114/120], Loss: 0.3489\n"
     ]
    },
    {
     "name": "stderr",
     "output_type": "stream",
     "text": [
      " 95%|█████████▌| 114/120 [17:42<00:55,  9.18s/it]"
     ]
    },
    {
     "name": "stdout",
     "output_type": "stream",
     "text": [
      "Validation: Mean Squared Error: 0.4533 and Mean Absolute Error: 0.5404\n",
      "--------------------------------------------------\n",
      "Epoch [115/120], Loss: 0.3471\n"
     ]
    },
    {
     "name": "stderr",
     "output_type": "stream",
     "text": [
      " 96%|█████████▌| 115/120 [17:51<00:45,  9.16s/it]"
     ]
    },
    {
     "name": "stdout",
     "output_type": "stream",
     "text": [
      "Validation: Mean Squared Error: 0.4664 and Mean Absolute Error: 0.5478\n",
      "--------------------------------------------------\n",
      "Epoch [116/120], Loss: 0.3411\n"
     ]
    },
    {
     "name": "stderr",
     "output_type": "stream",
     "text": [
      " 97%|█████████▋| 116/120 [18:00<00:36,  9.20s/it]"
     ]
    },
    {
     "name": "stdout",
     "output_type": "stream",
     "text": [
      "Validation: Mean Squared Error: 0.4550 and Mean Absolute Error: 0.5416\n",
      "--------------------------------------------------\n",
      "Epoch [117/120], Loss: 0.3426\n"
     ]
    },
    {
     "name": "stderr",
     "output_type": "stream",
     "text": [
      " 98%|█████████▊| 117/120 [18:09<00:27,  9.17s/it]"
     ]
    },
    {
     "name": "stdout",
     "output_type": "stream",
     "text": [
      "Validation: Mean Squared Error: 0.4363 and Mean Absolute Error: 0.5307\n",
      "--------------------------------------------------\n",
      "Epoch [118/120], Loss: 0.3452\n"
     ]
    },
    {
     "name": "stderr",
     "output_type": "stream",
     "text": [
      " 98%|█████████▊| 118/120 [18:18<00:18,  9.15s/it]"
     ]
    },
    {
     "name": "stdout",
     "output_type": "stream",
     "text": [
      "Validation: Mean Squared Error: 0.4321 and Mean Absolute Error: 0.5282\n",
      "--------------------------------------------------\n",
      "Epoch [119/120], Loss: 0.3423\n"
     ]
    },
    {
     "name": "stderr",
     "output_type": "stream",
     "text": [
      " 99%|█████████▉| 119/120 [18:27<00:09,  9.15s/it]"
     ]
    },
    {
     "name": "stdout",
     "output_type": "stream",
     "text": [
      "Validation: Mean Squared Error: 0.4346 and Mean Absolute Error: 0.5295\n",
      "--------------------------------------------------\n",
      "Epoch [120/120], Loss: 0.3390\n"
     ]
    },
    {
     "name": "stderr",
     "output_type": "stream",
     "text": [
      "100%|██████████| 120/120 [18:36<00:00,  9.31s/it]"
     ]
    },
    {
     "name": "stdout",
     "output_type": "stream",
     "text": [
      "Validation: Mean Squared Error: 0.4409 and Mean Absolute Error: 0.5327\n",
      "--------------------------------------------------\n"
     ]
    },
    {
     "name": "stderr",
     "output_type": "stream",
     "text": [
      "\n"
     ]
    },
    {
     "data": {
      "image/png": "[encoded data removed]",
      "text/plain": [
       "<Figure size 1000x800 with 2 Axes>"
      ]
     },
     "metadata": {},
     "output_type": "display_data"
    },
    {
     "name": "stdout",
     "output_type": "stream",
     "text": [
      "Accuracy: 0.1609\n",
      "Mean Squared Error: 0.3411 and Mean Absolute Error: 0.4714\n"
     ]
    }
   ],
   "source": [
    "modelCNN = CNN().to(device)\n",
    "optimizer = optim.Adagrad(modelCNN.parameters(), lr=0.001, weight_decay=0.0001)\n",
    "#optimizer = optim.Adadelta(modelCNN.parameters(), lr=0.001, weight_decay=0.0001)\n",
    "#lr = 0.001\n",
    "train_model(modelCNN, optimizer, num_epochs=120)"
   ]
  },
  {
   "cell_type": "code",
   "execution_count": 16,
   "metadata": {},
   "outputs": [
    {
     "data": {
      "image/png": "[encoded data removed]",
      "text/plain": [
       "<Figure size 1000x800 with 2 Axes>"
      ]
     },
     "metadata": {},
     "output_type": "display_data"
    },
    {
     "name": "stdout",
     "output_type": "stream",
     "text": [
      "Accuracy: 0.1426\n"
     ]
    },
    {
     "data": {
      "text/plain": [
       "'Mean Squared Error: 0.4346 and Mean Absolute Error: 0.5295'"
      ]
     },
     "execution_count": 16,
     "metadata": {},
     "output_type": "execute_result"
    }
   ],
   "source": [
    "############################################################################################################\n",
    "### Load the model\n",
    "def load_model(epoch, save_dir='model_checkpoint'):\n",
    "    model = CNN()\n",
    "    optimizer = optim.Adagrad(model.parameters(), lr=0.001, weight_decay=0.0001)  \n",
    "    checkpoint = torch.load(os.path.join(save_dir, f'model_epoch_{epoch}.pth'))\n",
    "    model.load_state_dict(checkpoint['model_state_dict'])\n",
    "    optimizer.load_state_dict(checkpoint['optimizer_state_dict'])\n",
    "    epoch = checkpoint['epoch']\n",
    "    device = torch.device(\"cuda\" if torch.cuda.is_available() else \"cpu\")\n",
    "    model = model.to(device)  \n",
    "    model.eval()\n",
    "    return model, optimizer, epoch\n",
    "\n",
    "\n",
    "loaded_epoch = 118  # Epoch to evaluate\n",
    "loaded_model, loaded_optimizer, loaded_epoch = load_model(loaded_epoch)\n",
    "\n",
    "# Evaluate the loaded model\n",
    "evaluate_model(loaded_model, validation_loader, conf=True)"
   ]
  },
  {
   "cell_type": "code",
   "execution_count": 18,
   "metadata": {},
   "outputs": [
    {
     "data": {
      "image/png": "[encoded data removed]",
      "text/plain": [
       "<Figure size 1000x800 with 2 Axes>"
      ]
     },
     "metadata": {},
     "output_type": "display_data"
    },
    {
     "name": "stdout",
     "output_type": "stream",
     "text": [
      "Accuracy: 0.1558\n",
      "<class 'str'>\n"
     ]
    }
   ],
   "source": [
    "m = evaluate_model(modelCNN, test_loader, conf=True)\n",
    "print(type(m))"
   ]
  },
  {
   "cell_type": "code",
   "execution_count": null,
   "metadata": {},
   "outputs": [],
   "source": []
  }
 ],
 "metadata": {
  "kernelspec": {
   "display_name": ".venv",
   "language": "python",
   "name": "python3"
  },
  "language_info": {
   "codemirror_mode": {
    "name": "ipython",
    "version": 3
   },
   "file_extension": ".py",
   "mimetype": "text/x-python",
   "name": "python",
   "nbconvert_exporter": "python",
   "pygments_lexer": "ipython3",
   "version": "3.10.4"
  }
 },
 "nbformat": 4,
 "nbformat_minor": 2
}
