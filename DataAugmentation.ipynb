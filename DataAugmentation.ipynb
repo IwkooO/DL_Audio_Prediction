{
 "cells": [
  {
   "cell_type": "markdown",
   "metadata": {},
   "source": [
    "# Load Data"
   ]
  },
  {
   "cell_type": "code",
   "execution_count": 1,
   "metadata": {},
   "outputs": [
    {
     "name": "stderr",
     "output_type": "stream",
     "text": [
      "100%|██████████| 10557/10557 [00:25<00:00, 418.16it/s]\n"
     ]
    }
   ],
   "source": [
    "import pickle\n",
    "import os\n",
    "from tqdm import tqdm\n",
    "import numpy as np\n",
    "\n",
    "directory = 'data/train'\n",
    "\n",
    "length_list = []\n",
    "valence_values=[]\n",
    "\n",
    "recordings = []\n",
    "\n",
    "for filename in tqdm(os.listdir(directory)):\n",
    "    if filename.endswith('.pkl'):\n",
    "        file_path = os.path.join(directory, filename)\n",
    "        with open(file_path, 'rb') as file:\n",
    "            data = pickle.load(file)\n",
    "            if data['valence'] != 2.333 and len(data['audio_data']) < 91000:\n",
    "                length_list.append(len(data['audio_data']))\n",
    "                valence_values.append(data['valence'])\n",
    "                recordings.append(data['audio_data'])\n",
    "\n",
    "valence_values = np.array(valence_values)\n"
   ]
  },
  {
   "cell_type": "code",
   "execution_count": 2,
   "metadata": {},
   "outputs": [
    {
     "data": {
      "text/plain": [
       "{1.25: 140,\n",
       " 3.5: 1173,\n",
       " 3.25: 1273,\n",
       " 3.75: 972,\n",
       " 2.0: 523,\n",
       " 2.75: 1014,\n",
       " 2.25: 679,\n",
       " 3.0: 1045,\n",
       " 4.25: 606,\n",
       " 1.0: 114,\n",
       " 1.5: 227,\n",
       " 1.75: 407,\n",
       " 4.75: 151,\n",
       " 4.0: 784,\n",
       " 2.5: 890,\n",
       " 5.0: 28,\n",
       " 4.5: 365}"
      ]
     },
     "execution_count": 2,
     "metadata": {},
     "output_type": "execute_result"
    }
   ],
   "source": [
    "valennce_dist ={}\n",
    "for i in valence_values:\n",
    "    if i in valennce_dist:\n",
    "        valennce_dist[i] += 1\n",
    "    else:\n",
    "        valennce_dist[i] = 1\n",
    "\n",
    "\n",
    "valennce_dist\n"
   ]
  },
  {
   "cell_type": "code",
   "execution_count": 3,
   "metadata": {},
   "outputs": [
    {
     "data": {
      "text/plain": [
       "(10391, (90948,))"
      ]
     },
     "execution_count": 3,
     "metadata": {},
     "output_type": "execute_result"
    }
   ],
   "source": [
    "# Calculate the maximum length\n",
    "max_length = max(length_list)\n",
    "\n",
    "# Adjust the recordings to have the same length\n",
    "adjusted_recordings = []\n",
    "for recording in recordings:\n",
    "    # Repeat the array until it reaches or exceeds the maximum length\n",
    "    repeated_recording = np.tile(recording, (max_length // len(recording) + 1))[:max_length]\n",
    "    adjusted_recordings.append(repeated_recording)\n",
    "\n",
    "valence_values = np.array(valence_values)\n",
    "len(adjusted_recordings), adjusted_recordings[0].shape\n",
    "\n"
   ]
  },
  {
   "cell_type": "code",
   "execution_count": 4,
   "metadata": {},
   "outputs": [
    {
     "name": "stderr",
     "output_type": "stream",
     "text": [
      "C:\\Users\\20211922\\AppData\\Local\\Temp\\ipykernel_20564\\108390367.py:32: UserWarning: Creating a tensor from a list of numpy.ndarrays is extremely slow. Please consider converting the list to a single numpy.ndarray with numpy.array() before converting to a tensor. (Triggered internally at ..\\torch\\csrc\\utils\\tensor_new.cpp:248.)\n",
      "  X_train_tensor = torch.tensor(X_train, dtype=torch.float32).unsqueeze(1)  # Use float32 for input features\n"
     ]
    }
   ],
   "source": [
    "import torch\n",
    "from torch.utils.data import TensorDataset, DataLoader\n",
    "from sklearn.preprocessing import StandardScaler\n",
    "from sklearn.model_selection import train_test_split\n",
    "\n",
    "\n",
    "############################################################################################################\n",
    "\n",
    "\n",
    "############################################################################################################\n",
    "# Pad the recordings to have the same length\n",
    "max_length = max(len(array) for array in recordings)  # Find the maximum length\n",
    "\n",
    "# # Pad each array to have the maximum length\n",
    "# padded_arrays = np.array([np.pad(array, (0, max_length - len(array)), mode='constant') for array in recordings])\n",
    "\n",
    "\n",
    "############################################################################################################\n",
    "# Split the data and labels into training and testing sets\n",
    "X_train, X_test_help, y_train, y_test_help = train_test_split(adjusted_recordings, valence_values, test_size=0.4, random_state=42)\n",
    "\n",
    "X_val, X_test, y_val, y_test = train_test_split(X_test_help, y_test_help, test_size=0.5, random_state=42)\n",
    "\n",
    "\n",
    "\n",
    "############################################################################################################\n",
    "# Create a DataLoader for the training set, test set, and validation set\n",
    "\n",
    "batch_size = 256  # You can adjust the batch size depending on your system's capability\n",
    "\n",
    "# Convert input data and labels to tensors\n",
    "X_train_tensor = torch.tensor(X_train, dtype=torch.float32).unsqueeze(1)  # Use float32 for input features\n",
    "y_train_tensor = torch.tensor(y_train, dtype=torch.float32)  # Use float32 for labels\n",
    "\n",
    "# Create a dataset from tensors\n",
    "train_dataset = TensorDataset(X_train_tensor, y_train_tensor)\n",
    "\n",
    "# Create a DataLoader\n",
    "train_loader = DataLoader(train_dataset, batch_size=batch_size, shuffle=True)\n",
    "\n",
    "############################################################################################################\n",
    "# Repeat the same process for the test set\n",
    "\n",
    "X_test_tensor = torch.tensor(X_test, dtype=torch.float32).unsqueeze(1)\n",
    "y_test_tensor = torch.tensor(y_test, dtype=torch.float32)\n",
    "\n",
    "test_dataset = TensorDataset(X_test_tensor, y_test_tensor)\n",
    "test_loader = DataLoader(test_dataset, batch_size=batch_size, shuffle=False)\n",
    "\n",
    "\n",
    "\n",
    "############################################################################################################\n",
    "# Repeat the same process for the validation set\n",
    "X_validation_tensor = torch.tensor(X_val, dtype=torch.float32).unsqueeze(1)\n",
    "y_validation_tensor = torch.tensor(y_val, dtype=torch.float32)\n",
    "\n",
    "validation_dataset = TensorDataset(X_validation_tensor, y_validation_tensor)\n",
    "validation_loader = DataLoader(validation_dataset, batch_size=batch_size, shuffle=False)\n",
    "\n",
    "\n"
   ]
  },
  {
   "cell_type": "code",
   "execution_count": 5,
   "metadata": {},
   "outputs": [],
   "source": [
    "import matplotlib.pyplot as plt\n",
    "\n",
    "def calculate_label_distribution(labels_tensor):\n",
    "    label_dist = {}\n",
    "    for label in labels_tensor:\n",
    "        label = label.item()  # Convert tensor to int\n",
    "        if label in label_dist:\n",
    "            label_dist[label] += 1\n",
    "        else:\n",
    "            label_dist[label] = 1\n",
    "    return label_dist\n",
    "\n",
    "train_labels = train_loader.dataset.tensors[1]\n",
    "\n",
    "train_valence_dist = calculate_label_distribution(train_labels)\n",
    "\n",
    "\n",
    "\n",
    "\n"
   ]
  },
  {
   "cell_type": "markdown",
   "metadata": {},
   "source": [
    "# Augment Data"
   ]
  },
  {
   "cell_type": "code",
   "execution_count": 6,
   "metadata": {},
   "outputs": [],
   "source": [
    "from audiomentations import Compose, AddGaussianNoise, TimeStretch, PitchShift, Shift, RoomSimulator, Aliasing, HighPassFilter, LowPassFilter,ApplyImpulseResponse\n",
    "import numpy as np\n",
    "import torch\n",
    "import sounddevice as sd\n",
    "import random\n",
    "\n",
    "\n",
    "def draw_augmentations(text,amount,fs=12000):\n",
    "    \n",
    "    augmentGaussian = Compose([\n",
    "        AddGaussianNoise(min_amplitude=0.001, max_amplitude=0.015, p=1),\n",
    "    ])\n",
    "\n",
    "    augmentPitchShift = Compose([\n",
    "        PitchShift(min_semitones=-4, max_semitones=4, p=1),\n",
    "    ])\n",
    "\n",
    "    # augmentRoomSimulator = Compose([\n",
    "    #     RoomSimulator(p=1)\n",
    "    # ])\n",
    "\n",
    "    augmentAliasing = Compose([\n",
    "        Aliasing(min_sample_rate=8000, max_sample_rate=30000,p=1)\n",
    "    ])\n",
    "\n",
    "    augmentHPF = Compose([\n",
    "        HighPassFilter(min_cutoff_freq=15, max_cutoff_freq=2400,p=1)\n",
    "        ])\n",
    "\n",
    "    augmentedLPF = Compose([\n",
    "        LowPassFilter(p=1)\n",
    "    ])\n",
    "\n",
    "\n",
    "    list_of_augmentations = [ augmentGaussian, augmentPitchShift, augmentAliasing, augmentHPF, augmentedLPF]\n",
    "\n",
    "    functions = random.sample(list_of_augmentations, amount,)\n",
    "    for i in functions:\n",
    "        # print(i.__name__)\n",
    "        text = i(text, sample_rate=fs)\n",
    "    # sd.play(text, fs)\n",
    "    return text\n"
   ]
  },
  {
   "cell_type": "code",
   "execution_count": 7,
   "metadata": {},
   "outputs": [],
   "source": [
    "\n",
    "waveforms = train_loader.dataset.tensors[0].numpy().squeeze()  # Convert tensor to NumPy array\n",
    "labels = train_loader.dataset.tensors[1].numpy().squeeze()  # Convert tensor to NumPy array\n",
    "\n",
    "\n",
    "# Create a dictionary to hold the data categorized by labels\n",
    "label_dict = {}\n",
    "\n",
    "# Iterate through each label and corresponding waveform\n",
    "for waveform, label in zip(waveforms, labels):\n",
    "    if label not in label_dict:\n",
    "        label_dict[label] = []\n",
    "    label_dict[label].append(waveform)\n",
    "\n",
    "\n",
    "# for label in label_dict:\n",
    "#     for k in label_dict[label]:\n",
    "#         print(k.shape)\n",
    "        \n",
    "\n",
    "\n",
    "\n"
   ]
  },
  {
   "cell_type": "code",
   "execution_count": 8,
   "metadata": {},
   "outputs": [
    {
     "name": "stderr",
     "output_type": "stream",
     "text": [
      "100%|██████████| 17/17 [00:35<00:00,  2.06s/it]"
     ]
    },
    {
     "name": "stdout",
     "output_type": "stream",
     "text": [
      "dict_keys([3.5, 2.5, 3.25, 3.75, 1.75, 1.25, 3.0, 4.5, 4.25, 2.0, 4.0, 1.5, 2.25, 1.0, 2.75, 4.75, 5.0])\n"
     ]
    },
    {
     "name": "stderr",
     "output_type": "stream",
     "text": [
      "\n"
     ]
    }
   ],
   "source": [
    "from tqdm import tqdm\n",
    "def train_balancer(train_valence_dist):\n",
    "    train_balanced = {}\n",
    "    for label in train_valence_dist.keys():\n",
    "        train_balanced[label] = []\n",
    "    for label in tqdm(train_valence_dist.keys()):\n",
    "        if train_valence_dist[label] < 400:\n",
    "            for recording in range(len(label_dict[label])):\n",
    "                train_balanced[label].append(label_dict[label][recording])\n",
    "            for _ in range(400 - len(label_dict[label])):\n",
    "                choose_func_amount = random.randint(1, 3)\n",
    "                choose_index = random.randint(0, len(label_dict[label])-1)\n",
    "                train_balanced[label].append(draw_augmentations(label_dict[label][choose_index],choose_func_amount))\n",
    "        else:\n",
    "            indices = random.sample(range(len(label_dict[label])), 400)\n",
    "            for index in indices:\n",
    "                train_balanced[label].append(label_dict[label][index])\n",
    "    return train_balanced\n",
    "\n",
    "\n",
    "train_balanced = train_balancer(train_valence_dist= train_valence_dist)\n",
    "print(train_balanced.keys())\n",
    "        "
   ]
  },
  {
   "cell_type": "code",
   "execution_count": 9,
   "metadata": {},
   "outputs": [],
   "source": [
    "# for d in train_balanced:\n",
    "#     for i in train_balanced[d]:\n",
    "#         print(i.shape)"
   ]
  },
  {
   "cell_type": "code",
   "execution_count": 10,
   "metadata": {},
   "outputs": [
    {
     "name": "stdout",
     "output_type": "stream",
     "text": [
      "Label:  3.5\n",
      "Number of unique arrays for :  400\n",
      "Label:  2.5\n",
      "Number of unique arrays for :  400\n",
      "Label:  3.25\n",
      "Number of unique arrays for :  400\n",
      "Label:  3.75\n",
      "Number of unique arrays for :  400\n",
      "Label:  1.75\n",
      "Number of unique arrays for :  400\n",
      "Label:  1.25\n",
      "Number of unique arrays for :  400\n",
      "Label:  3.0\n",
      "Number of unique arrays for :  400\n",
      "Label:  4.5\n",
      "Number of unique arrays for :  400\n",
      "Label:  4.25\n",
      "Number of unique arrays for :  400\n",
      "Label:  2.0\n",
      "Number of unique arrays for :  400\n",
      "Label:  4.0\n",
      "Number of unique arrays for :  400\n",
      "Label:  1.5\n",
      "Number of unique arrays for :  400\n",
      "Label:  2.25\n",
      "Number of unique arrays for :  400\n",
      "Label:  1.0\n",
      "Number of unique arrays for :  400\n",
      "Label:  2.75\n",
      "Number of unique arrays for :  400\n",
      "Label:  4.75\n",
      "Number of unique arrays for :  400\n",
      "Label:  5.0\n",
      "Number of unique arrays for :  400\n"
     ]
    }
   ],
   "source": [
    "def array_to_hashable(arr):\n",
    "    return hash(arr.tobytes())\n",
    "\n",
    "for arrays in train_balanced.keys():\n",
    "    print(\"Label: \", arrays)\n",
    "    # Convert each array to a hashable type\n",
    "    unique_hashes = set(array_to_hashable(arr) for arr in train_balanced[arrays])\n",
    "\n",
    "    # The number of unique arrays\n",
    "    num_unique_arrays = len(unique_hashes)\n",
    "    print(\"Number of unique arrays for : \", num_unique_arrays)\n",
    "\n",
    "    "
   ]
  },
  {
   "cell_type": "code",
   "execution_count": 11,
   "metadata": {},
   "outputs": [
    {
     "name": "stderr",
     "output_type": "stream",
     "text": [
      "100%|██████████| 17/17 [00:00<?, ?it/s]\n"
     ]
    },
    {
     "name": "stdout",
     "output_type": "stream",
     "text": [
      "torch.Size([6800, 1, 90948])\n"
     ]
    }
   ],
   "source": [
    "import torch\n",
    "from torch.utils.data import DataLoader, TensorDataset\n",
    "import numpy as np\n",
    "\n",
    "\n",
    "\n",
    "test_dict = train_balanced\n",
    "\n",
    "# Flatten the dictionary into lists of samples and labels\n",
    "X_train = []\n",
    "y_train = []\n",
    "for label, arrays in tqdm(test_dict.items()):\n",
    "    for array in arrays:\n",
    "        X_train.append(array)\n",
    "        y_train.append(label)  # Adjust how labels are encoded as needed\n",
    "\n",
    "\n",
    "# Convert lists to tensors\n",
    "X_train_tensor = torch.tensor(X_train, dtype=torch.float32).unsqueeze(1)  # Use float32 for input features\n",
    "y_train_tensor = torch.tensor(y_train, dtype=torch.float32)  # Adjust the type depending on how you encode labels\n",
    "\n",
    "# Create a dataset from tensors\n",
    "train_dataset = TensorDataset(X_train_tensor, y_train_tensor)\n",
    "\n",
    "# Define the batch size\n",
    "batch_size = 256  # Adjust batch size based on your system capability\n",
    "\n",
    "# Create a DataLoader\n",
    "train_loader = DataLoader(train_dataset, batch_size=batch_size, shuffle=True)\n",
    "\n",
    "print(train_loader.dataset.tensors[0].shape)"
   ]
  },
  {
   "cell_type": "markdown",
   "metadata": {},
   "source": [
    "# **MODEL**"
   ]
  },
  {
   "cell_type": "code",
   "execution_count": 12,
   "metadata": {},
   "outputs": [],
   "source": [
    "def round_to_nearest_quarter(number):\n",
    "    # Assuming 'number' could be a numpy array with a single value\n",
    "    if isinstance(number, np.ndarray) and number.size == 1:\n",
    "        number = number.item()  # Convert single-item array to scalar\n",
    "    \n",
    "    # Ensure the number is within the 1 to 5 range before processing\n",
    "    number = np.clip(number, 1, 5)\n",
    "    # Scale number to shift quarters to whole numbers, round, and rescale\n",
    "    rounded_number = np.round(number * 4) / 4\n",
    "    # Clip again to ensure no out-of-range values after rounding\n",
    "    rounded_number = np.clip(rounded_number, 1, 5)\n",
    "    return str(rounded_number)"
   ]
  },
  {
   "cell_type": "code",
   "execution_count": 13,
   "metadata": {},
   "outputs": [],
   "source": [
    "import torch\n",
    "from tqdm import tqdm\n",
    "import torch.nn as nn\n",
    "import torch.optim as optim\n",
    "import torch.nn.functional as F\n",
    "from sklearn.metrics import confusion_matrix\n",
    "import matplotlib.pyplot as plt\n",
    "import seaborn as sns\n",
    "import torchaudio.transforms as transforms\n",
    "\n",
    "\n",
    "class CNN(nn.Module):\n",
    "    def __init__(self):\n",
    "        super(CNN, self).__init__()\n",
    "\n",
    "\n",
    "\n",
    "        # Set random seed for reproducibility\n",
    "        torch.manual_seed(42)\n",
    "\n",
    "\n",
    "        self.mfcc_transform = transforms.MFCC(\n",
    "            sample_rate=44100,      ## 44.1 kHz\n",
    "            n_mfcc=24              ## Created channels\n",
    "        )\n",
    "\n",
    "        self.layers = nn.ModuleList()\n",
    "        \n",
    "        self.layers.append(nn.BatchNorm1d(24))\n",
    "        conv1 = nn.Conv1d(in_channels=24, out_channels=48, kernel_size=7, padding=1)\n",
    "        nn.init.kaiming_normal_(conv1.weight, nonlinearity='relu')\n",
    "        self.layers.append(conv1)\n",
    "        self.layers.append(nn.BatchNorm1d(48))\n",
    "        self.layers.append(nn.ReLU())\n",
    "        self.layers.append(nn.MaxPool1d(kernel_size=3))\n",
    "        self.layers.append(nn.Dropout(0.25))\n",
    "\n",
    "        conv2 = nn.Conv1d(in_channels=48, out_channels=48, kernel_size=7, padding=1)\n",
    "        nn.init.kaiming_normal_(conv2.weight, nonlinearity='relu')\n",
    "        self.layers.append(conv2)\n",
    "        self.layers.append(nn.BatchNorm1d(48))\n",
    "        self.layers.append(nn.ReLU())\n",
    "\n",
    "\n",
    "        conv3 = nn.Conv1d(in_channels=48, out_channels=12, kernel_size=7, padding=1)\n",
    "        nn.init.kaiming_normal_(conv3.weight, nonlinearity='relu')\n",
    "        self.layers.append(conv3)\n",
    "        self.layers.append(nn.BatchNorm1d(12))\n",
    "        self.layers.append(nn.ReLU())\n",
    "        self.layers.append(nn.MaxPool1d(kernel_size=3))\n",
    "        self.layers.append(nn.Dropout(0.25))\n",
    "\n",
    "\n",
    "        self.layers.append(nn.Flatten())\n",
    "\n",
    "        linear1= nn.Linear(564,256)\n",
    "        nn.init.kaiming_normal_(linear1.weight, nonlinearity='relu')\n",
    "        self.layers.append(linear1)\n",
    "        self.layers.append(nn.ReLU())\n",
    "        \n",
    "        linear2 = nn.Linear(256, 1)\n",
    "        nn.init.kaiming_normal_(linear2.weight, nonlinearity='relu')\n",
    "        self.layers.append(linear2)\n",
    "\n",
    "\n",
    "    \n",
    "    def forward(self, x):\n",
    "        x = self.mfcc_transform(x)\n",
    "        x = x.squeeze(1)\n",
    "        for layer in self.layers:\n",
    "            x = layer(x)\n",
    "            #print(x.shape)\n",
    "        return x.view(-1)\n",
    "\n",
    "\n",
    "### CUDA\n",
    "device = torch.device(\"cuda\" if torch.cuda.is_available() else \"cpu\")\n",
    "\n",
    "    # Training Cycle\n",
    "\n",
    "def train_model(MLP_model, optimizer, num_epochs):\n",
    "        criterion = nn.MSELoss()\n",
    "        #criterion = nn.L1Loss()\n",
    "        # Training loop\n",
    "        for epoch in tqdm(range(num_epochs)):\n",
    "            total_loss = 0\n",
    "\n",
    "            for inputs, labels in train_loader:\n",
    "                inputs, labels = inputs.to(device), labels.to(device)  # Move data to GPU\n",
    "                outputs = MLP_model(inputs)  # Forward pass\n",
    "                loss = criterion(outputs, labels)  # Compute the loss\n",
    "                loss.backward()  # Backward pass\n",
    "\n",
    "                optimizer.step()\n",
    "\n",
    "                # Store the loss. loss.item() gets the value in a tensor. This only works for scalars.\n",
    "                total_loss += loss.item()\n",
    "        \n",
    "            print(f'Epoch [{epoch + 1}/{num_epochs}], Loss: {total_loss / len(train_loader):.4f}')\n",
    "            if epoch > 1:\n",
    "                print(evaluate_model(MLP_model, validation_loader,conf=False))\n",
    "            print('--------------------------------------------------')\n",
    "        print(evaluate_model(MLP_model, train_loader,conf=True))\n",
    "\n",
    "\n",
    "def evaluate_model(MLP_model, test_loader,conf=False):\n",
    "    with torch.no_grad():\n",
    "        ### Calculate MSE \n",
    "        predictions = []\n",
    "        actuals = []\n",
    "        actuals_for_cm = []\n",
    "        rounded_predictions = []\n",
    "        for inputs, labels in test_loader:\n",
    "            inputs, labels = inputs.to(device), labels.to(device)\n",
    "            outputs = MLP_model(inputs)\n",
    "            predictions.extend(outputs.cpu().numpy())\n",
    "            actuals.extend(labels.cpu().numpy())\n",
    "            actuals_for_cm.extend([str(label) for label in labels.cpu().numpy()])\n",
    "            rounded_predictions.extend([str(round_to_nearest_quarter(output)) for output in outputs.cpu().numpy()])\n",
    "\n",
    "        predictions = np.array(predictions)\n",
    "        actuals = np.array(actuals)\n",
    "        mse = np.mean((predictions - actuals) ** 2)\n",
    "        mae = np.mean(np.abs(predictions - actuals))\n",
    "        print(f'Mean Squared Error: {mse:.4f} and Mean Absolute Error: {mae:.4f}')\n",
    "\n",
    "        # for i in range(10):\n",
    "        #     print(f\"Predictions: {predictions[i]}\")\n",
    "        #     print(f\"Actuals: {actuals[i]}\")\n",
    "        #     print(f\"Rounded Predictions: {rounded_predictions[i]}\")\n",
    "        \n",
    "        ##################\n",
    "        # Confusion Matrix\n",
    "        ##################\n",
    "        if conf:\n",
    "            ### Confusion Matrix\n",
    "            cm = confusion_matrix(actuals_for_cm, rounded_predictions)\n",
    "            plt.figure(figsize=(10, 8))\n",
    "            sns.heatmap(cm, annot=True, fmt='g', cmap='Blues', xticklabels=np.unique(actuals), yticklabels=np.unique(actuals))\n",
    "            plt.xlabel('Predicted')\n",
    "            plt.ylabel('Actual')\n",
    "            plt.title('Confusion Matrix')\n",
    "            plt.show()\n",
    "            ### Accuracy\n",
    "            accuracy = np.trace(cm) / np.sum(cm)\n",
    "            print(f'Accuracy: {accuracy:.4f}')\n",
    "            \n",
    "        \n",
    "\n",
    "        \n"
   ]
  },
  {
   "cell_type": "code",
   "execution_count": 14,
   "metadata": {},
   "outputs": [
    {
     "name": "stderr",
     "output_type": "stream",
     "text": [
      "c:\\Users\\20211922\\Documents\\DeepL\\DL_ASSIGNMENT\\.venv\\lib\\site-packages\\torchaudio\\functional\\functional.py:576: UserWarning: At least one mel filterbank has all zero values. The value for `n_mels` (128) may be set too high. Or, the value for `n_freqs` (201) may be set too low.\n",
      "  warnings.warn(\n",
      "  2%|▏         | 1/50 [00:07<06:22,  7.80s/it]"
     ]
    },
    {
     "name": "stdout",
     "output_type": "stream",
     "text": [
      "Epoch [1/50], Loss: 2.5590\n",
      "--------------------------------------------------\n"
     ]
    },
    {
     "name": "stderr",
     "output_type": "stream",
     "text": [
      "  4%|▍         | 2/50 [00:10<03:54,  4.88s/it]"
     ]
    },
    {
     "name": "stdout",
     "output_type": "stream",
     "text": [
      "Epoch [2/50], Loss: 1.3975\n",
      "--------------------------------------------------\n",
      "Epoch [3/50], Loss: 1.1801\n"
     ]
    },
    {
     "name": "stderr",
     "output_type": "stream",
     "text": [
      "  6%|▌         | 3/50 [00:14<03:20,  4.27s/it]"
     ]
    },
    {
     "name": "stdout",
     "output_type": "stream",
     "text": [
      "Mean Squared Error: 0.7529 and Mean Absolute Error: 0.6948\n",
      "None\n",
      "--------------------------------------------------\n",
      "Epoch [4/50], Loss: 1.0707\n"
     ]
    },
    {
     "name": "stderr",
     "output_type": "stream",
     "text": [
      "  8%|▊         | 4/50 [00:17<03:03,  3.99s/it]"
     ]
    },
    {
     "name": "stdout",
     "output_type": "stream",
     "text": [
      "Mean Squared Error: 0.7330 and Mean Absolute Error: 0.6907\n",
      "None\n",
      "--------------------------------------------------\n",
      "Epoch [5/50], Loss: 0.9845\n"
     ]
    },
    {
     "name": "stderr",
     "output_type": "stream",
     "text": [
      " 10%|█         | 5/50 [00:21<02:52,  3.83s/it]"
     ]
    },
    {
     "name": "stdout",
     "output_type": "stream",
     "text": [
      "Mean Squared Error: 0.6951 and Mean Absolute Error: 0.6800\n",
      "None\n",
      "--------------------------------------------------\n",
      "Epoch [6/50], Loss: 0.9353\n"
     ]
    },
    {
     "name": "stderr",
     "output_type": "stream",
     "text": [
      " 12%|█▏        | 6/50 [00:24<02:43,  3.71s/it]"
     ]
    },
    {
     "name": "stdout",
     "output_type": "stream",
     "text": [
      "Mean Squared Error: 0.6732 and Mean Absolute Error: 0.6609\n",
      "None\n",
      "--------------------------------------------------\n",
      "Epoch [7/50], Loss: 0.8994\n"
     ]
    },
    {
     "name": "stderr",
     "output_type": "stream",
     "text": [
      " 14%|█▍        | 7/50 [00:28<02:36,  3.63s/it]"
     ]
    },
    {
     "name": "stdout",
     "output_type": "stream",
     "text": [
      "Mean Squared Error: 0.6834 and Mean Absolute Error: 0.6744\n",
      "None\n",
      "--------------------------------------------------\n",
      "Epoch [8/50], Loss: 0.8562\n"
     ]
    },
    {
     "name": "stderr",
     "output_type": "stream",
     "text": [
      " 16%|█▌        | 8/50 [00:31<02:30,  3.59s/it]"
     ]
    },
    {
     "name": "stdout",
     "output_type": "stream",
     "text": [
      "Mean Squared Error: 0.6719 and Mean Absolute Error: 0.6648\n",
      "None\n",
      "--------------------------------------------------\n",
      "Epoch [9/50], Loss: 0.8220\n"
     ]
    },
    {
     "name": "stderr",
     "output_type": "stream",
     "text": [
      " 18%|█▊        | 9/50 [00:35<02:27,  3.60s/it]"
     ]
    },
    {
     "name": "stdout",
     "output_type": "stream",
     "text": [
      "Mean Squared Error: 0.6677 and Mean Absolute Error: 0.6614\n",
      "None\n",
      "--------------------------------------------------\n",
      "Epoch [10/50], Loss: 0.7996\n"
     ]
    },
    {
     "name": "stderr",
     "output_type": "stream",
     "text": [
      " 20%|██        | 10/50 [00:38<02:23,  3.59s/it]"
     ]
    },
    {
     "name": "stdout",
     "output_type": "stream",
     "text": [
      "Mean Squared Error: 0.6550 and Mean Absolute Error: 0.6489\n",
      "None\n",
      "--------------------------------------------------\n",
      "Epoch [11/50], Loss: 0.8010\n"
     ]
    },
    {
     "name": "stderr",
     "output_type": "stream",
     "text": [
      " 22%|██▏       | 11/50 [00:42<02:18,  3.55s/it]"
     ]
    },
    {
     "name": "stdout",
     "output_type": "stream",
     "text": [
      "Mean Squared Error: 0.6488 and Mean Absolute Error: 0.6453\n",
      "None\n",
      "--------------------------------------------------\n",
      "Epoch [12/50], Loss: 0.7749\n"
     ]
    },
    {
     "name": "stderr",
     "output_type": "stream",
     "text": [
      " 24%|██▍       | 12/50 [00:45<02:14,  3.53s/it]"
     ]
    },
    {
     "name": "stdout",
     "output_type": "stream",
     "text": [
      "Mean Squared Error: 0.6432 and Mean Absolute Error: 0.6447\n",
      "None\n",
      "--------------------------------------------------\n",
      "Epoch [13/50], Loss: 0.7643\n"
     ]
    },
    {
     "name": "stderr",
     "output_type": "stream",
     "text": [
      " 26%|██▌       | 13/50 [00:49<02:10,  3.53s/it]"
     ]
    },
    {
     "name": "stdout",
     "output_type": "stream",
     "text": [
      "Mean Squared Error: 0.6449 and Mean Absolute Error: 0.6466\n",
      "None\n",
      "--------------------------------------------------\n",
      "Epoch [14/50], Loss: 0.7382\n"
     ]
    },
    {
     "name": "stderr",
     "output_type": "stream",
     "text": [
      " 28%|██▊       | 14/50 [00:52<02:06,  3.52s/it]"
     ]
    },
    {
     "name": "stdout",
     "output_type": "stream",
     "text": [
      "Mean Squared Error: 0.6542 and Mean Absolute Error: 0.6526\n",
      "None\n",
      "--------------------------------------------------\n",
      "Epoch [15/50], Loss: 0.7334\n"
     ]
    },
    {
     "name": "stderr",
     "output_type": "stream",
     "text": [
      " 30%|███       | 15/50 [00:56<02:02,  3.50s/it]"
     ]
    },
    {
     "name": "stdout",
     "output_type": "stream",
     "text": [
      "Mean Squared Error: 0.6174 and Mean Absolute Error: 0.6368\n",
      "None\n",
      "--------------------------------------------------\n",
      "Epoch [16/50], Loss: 0.7234\n"
     ]
    },
    {
     "name": "stderr",
     "output_type": "stream",
     "text": [
      " 32%|███▏      | 16/50 [00:59<01:59,  3.52s/it]"
     ]
    },
    {
     "name": "stdout",
     "output_type": "stream",
     "text": [
      "Mean Squared Error: 0.6356 and Mean Absolute Error: 0.6419\n",
      "None\n",
      "--------------------------------------------------\n",
      "Epoch [17/50], Loss: 0.7112\n"
     ]
    },
    {
     "name": "stderr",
     "output_type": "stream",
     "text": [
      " 34%|███▍      | 17/50 [01:03<01:56,  3.53s/it]"
     ]
    },
    {
     "name": "stdout",
     "output_type": "stream",
     "text": [
      "Mean Squared Error: 0.6212 and Mean Absolute Error: 0.6315\n",
      "None\n",
      "--------------------------------------------------\n",
      "Epoch [18/50], Loss: 0.6843\n"
     ]
    },
    {
     "name": "stderr",
     "output_type": "stream",
     "text": [
      " 36%|███▌      | 18/50 [01:07<01:53,  3.53s/it]"
     ]
    },
    {
     "name": "stdout",
     "output_type": "stream",
     "text": [
      "Mean Squared Error: 0.6157 and Mean Absolute Error: 0.6305\n",
      "None\n",
      "--------------------------------------------------\n",
      "Epoch [19/50], Loss: 0.6812\n"
     ]
    },
    {
     "name": "stderr",
     "output_type": "stream",
     "text": [
      " 38%|███▊      | 19/50 [01:10<01:49,  3.53s/it]"
     ]
    },
    {
     "name": "stdout",
     "output_type": "stream",
     "text": [
      "Mean Squared Error: 0.6307 and Mean Absolute Error: 0.6347\n",
      "None\n",
      "--------------------------------------------------\n",
      "Epoch [20/50], Loss: 0.6727\n"
     ]
    },
    {
     "name": "stderr",
     "output_type": "stream",
     "text": [
      " 40%|████      | 20/50 [01:14<01:49,  3.67s/it]"
     ]
    },
    {
     "name": "stdout",
     "output_type": "stream",
     "text": [
      "Mean Squared Error: 0.6381 and Mean Absolute Error: 0.6409\n",
      "None\n",
      "--------------------------------------------------\n",
      "Epoch [21/50], Loss: 0.6681\n"
     ]
    },
    {
     "name": "stderr",
     "output_type": "stream",
     "text": [
      " 42%|████▏     | 21/50 [01:18<01:50,  3.82s/it]"
     ]
    },
    {
     "name": "stdout",
     "output_type": "stream",
     "text": [
      "Mean Squared Error: 0.6362 and Mean Absolute Error: 0.6368\n",
      "None\n",
      "--------------------------------------------------\n",
      "Epoch [22/50], Loss: 0.6486\n"
     ]
    },
    {
     "name": "stderr",
     "output_type": "stream",
     "text": [
      " 44%|████▍     | 22/50 [01:22<01:45,  3.78s/it]"
     ]
    },
    {
     "name": "stdout",
     "output_type": "stream",
     "text": [
      "Mean Squared Error: 0.6391 and Mean Absolute Error: 0.6446\n",
      "None\n",
      "--------------------------------------------------\n",
      "Epoch [23/50], Loss: 0.6415\n"
     ]
    },
    {
     "name": "stderr",
     "output_type": "stream",
     "text": [
      " 46%|████▌     | 23/50 [01:25<01:39,  3.69s/it]"
     ]
    },
    {
     "name": "stdout",
     "output_type": "stream",
     "text": [
      "Mean Squared Error: 0.6260 and Mean Absolute Error: 0.6310\n",
      "None\n",
      "--------------------------------------------------\n",
      "Epoch [24/50], Loss: 0.6405\n"
     ]
    },
    {
     "name": "stderr",
     "output_type": "stream",
     "text": [
      " 48%|████▊     | 24/50 [01:29<01:34,  3.65s/it]"
     ]
    },
    {
     "name": "stdout",
     "output_type": "stream",
     "text": [
      "Mean Squared Error: 0.6450 and Mean Absolute Error: 0.6417\n",
      "None\n",
      "--------------------------------------------------\n",
      "Epoch [25/50], Loss: 0.6253\n"
     ]
    },
    {
     "name": "stderr",
     "output_type": "stream",
     "text": [
      " 50%|█████     | 25/50 [01:33<01:31,  3.66s/it]"
     ]
    },
    {
     "name": "stdout",
     "output_type": "stream",
     "text": [
      "Mean Squared Error: 0.6420 and Mean Absolute Error: 0.6413\n",
      "None\n",
      "--------------------------------------------------\n",
      "Epoch [26/50], Loss: 0.6195\n"
     ]
    },
    {
     "name": "stderr",
     "output_type": "stream",
     "text": [
      " 52%|█████▏    | 26/50 [01:37<01:30,  3.75s/it]"
     ]
    },
    {
     "name": "stdout",
     "output_type": "stream",
     "text": [
      "Mean Squared Error: 0.6142 and Mean Absolute Error: 0.6305\n",
      "None\n",
      "--------------------------------------------------\n",
      "Epoch [27/50], Loss: 0.6135\n"
     ]
    },
    {
     "name": "stderr",
     "output_type": "stream",
     "text": [
      " 54%|█████▍    | 27/50 [01:40<01:27,  3.79s/it]"
     ]
    },
    {
     "name": "stdout",
     "output_type": "stream",
     "text": [
      "Mean Squared Error: 0.6283 and Mean Absolute Error: 0.6372\n",
      "None\n",
      "--------------------------------------------------\n",
      "Epoch [28/50], Loss: 0.6145\n"
     ]
    },
    {
     "name": "stderr",
     "output_type": "stream",
     "text": [
      " 56%|█████▌    | 28/50 [01:44<01:22,  3.75s/it]"
     ]
    },
    {
     "name": "stdout",
     "output_type": "stream",
     "text": [
      "Mean Squared Error: 0.6410 and Mean Absolute Error: 0.6388\n",
      "None\n",
      "--------------------------------------------------\n",
      "Epoch [29/50], Loss: 0.6094\n"
     ]
    },
    {
     "name": "stderr",
     "output_type": "stream",
     "text": [
      " 58%|█████▊    | 29/50 [01:48<01:17,  3.71s/it]"
     ]
    },
    {
     "name": "stdout",
     "output_type": "stream",
     "text": [
      "Mean Squared Error: 0.6249 and Mean Absolute Error: 0.6323\n",
      "None\n",
      "--------------------------------------------------\n",
      "Epoch [30/50], Loss: 0.5987\n"
     ]
    },
    {
     "name": "stderr",
     "output_type": "stream",
     "text": [
      " 60%|██████    | 30/50 [01:51<01:13,  3.69s/it]"
     ]
    },
    {
     "name": "stdout",
     "output_type": "stream",
     "text": [
      "Mean Squared Error: 0.6420 and Mean Absolute Error: 0.6499\n",
      "None\n",
      "--------------------------------------------------\n",
      "Epoch [31/50], Loss: 0.5870\n"
     ]
    },
    {
     "name": "stderr",
     "output_type": "stream",
     "text": [
      " 62%|██████▏   | 31/50 [01:55<01:09,  3.67s/it]"
     ]
    },
    {
     "name": "stdout",
     "output_type": "stream",
     "text": [
      "Mean Squared Error: 0.6139 and Mean Absolute Error: 0.6271\n",
      "None\n",
      "--------------------------------------------------\n",
      "Epoch [32/50], Loss: 0.5829\n"
     ]
    },
    {
     "name": "stderr",
     "output_type": "stream",
     "text": [
      " 64%|██████▍   | 32/50 [01:59<01:05,  3.67s/it]"
     ]
    },
    {
     "name": "stdout",
     "output_type": "stream",
     "text": [
      "Mean Squared Error: 0.6363 and Mean Absolute Error: 0.6345\n",
      "None\n",
      "--------------------------------------------------\n",
      "Epoch [33/50], Loss: 0.5752\n"
     ]
    },
    {
     "name": "stderr",
     "output_type": "stream",
     "text": [
      " 66%|██████▌   | 33/50 [02:02<01:02,  3.69s/it]"
     ]
    },
    {
     "name": "stdout",
     "output_type": "stream",
     "text": [
      "Mean Squared Error: 0.6588 and Mean Absolute Error: 0.6469\n",
      "None\n",
      "--------------------------------------------------\n",
      "Epoch [34/50], Loss: 0.5690\n"
     ]
    },
    {
     "name": "stderr",
     "output_type": "stream",
     "text": [
      " 68%|██████▊   | 34/50 [02:06<00:58,  3.65s/it]"
     ]
    },
    {
     "name": "stdout",
     "output_type": "stream",
     "text": [
      "Mean Squared Error: 0.6326 and Mean Absolute Error: 0.6343\n",
      "None\n",
      "--------------------------------------------------\n",
      "Epoch [35/50], Loss: 0.5555\n"
     ]
    },
    {
     "name": "stderr",
     "output_type": "stream",
     "text": [
      " 70%|███████   | 35/50 [02:09<00:54,  3.62s/it]"
     ]
    },
    {
     "name": "stdout",
     "output_type": "stream",
     "text": [
      "Mean Squared Error: 0.6305 and Mean Absolute Error: 0.6356\n",
      "None\n",
      "--------------------------------------------------\n",
      "Epoch [36/50], Loss: 0.5645\n"
     ]
    },
    {
     "name": "stderr",
     "output_type": "stream",
     "text": [
      " 72%|███████▏  | 36/50 [02:13<00:50,  3.62s/it]"
     ]
    },
    {
     "name": "stdout",
     "output_type": "stream",
     "text": [
      "Mean Squared Error: 0.6396 and Mean Absolute Error: 0.6407\n",
      "None\n",
      "--------------------------------------------------\n",
      "Epoch [37/50], Loss: 0.5514\n"
     ]
    },
    {
     "name": "stderr",
     "output_type": "stream",
     "text": [
      " 74%|███████▍  | 37/50 [02:17<00:47,  3.66s/it]"
     ]
    },
    {
     "name": "stdout",
     "output_type": "stream",
     "text": [
      "Mean Squared Error: 0.6371 and Mean Absolute Error: 0.6396\n",
      "None\n",
      "--------------------------------------------------\n",
      "Epoch [38/50], Loss: 0.5464\n"
     ]
    },
    {
     "name": "stderr",
     "output_type": "stream",
     "text": [
      " 76%|███████▌  | 38/50 [02:20<00:43,  3.62s/it]"
     ]
    },
    {
     "name": "stdout",
     "output_type": "stream",
     "text": [
      "Mean Squared Error: 0.6300 and Mean Absolute Error: 0.6355\n",
      "None\n",
      "--------------------------------------------------\n",
      "Epoch [39/50], Loss: 0.5457\n"
     ]
    },
    {
     "name": "stderr",
     "output_type": "stream",
     "text": [
      " 78%|███████▊  | 39/50 [02:24<00:39,  3.62s/it]"
     ]
    },
    {
     "name": "stdout",
     "output_type": "stream",
     "text": [
      "Mean Squared Error: 0.6376 and Mean Absolute Error: 0.6373\n",
      "None\n",
      "--------------------------------------------------\n",
      "Epoch [40/50], Loss: 0.5407\n"
     ]
    },
    {
     "name": "stderr",
     "output_type": "stream",
     "text": [
      " 80%|████████  | 40/50 [02:28<00:36,  3.61s/it]"
     ]
    },
    {
     "name": "stdout",
     "output_type": "stream",
     "text": [
      "Mean Squared Error: 0.6306 and Mean Absolute Error: 0.6341\n",
      "None\n",
      "--------------------------------------------------\n",
      "Epoch [41/50], Loss: 0.5295\n"
     ]
    },
    {
     "name": "stderr",
     "output_type": "stream",
     "text": [
      " 82%|████████▏ | 41/50 [02:31<00:32,  3.66s/it]"
     ]
    },
    {
     "name": "stdout",
     "output_type": "stream",
     "text": [
      "Mean Squared Error: 0.6173 and Mean Absolute Error: 0.6256\n",
      "None\n",
      "--------------------------------------------------\n",
      "Epoch [42/50], Loss: 0.5243\n"
     ]
    },
    {
     "name": "stderr",
     "output_type": "stream",
     "text": [
      " 84%|████████▍ | 42/50 [02:35<00:29,  3.63s/it]"
     ]
    },
    {
     "name": "stdout",
     "output_type": "stream",
     "text": [
      "Mean Squared Error: 0.6123 and Mean Absolute Error: 0.6284\n",
      "None\n",
      "--------------------------------------------------\n",
      "Epoch [43/50], Loss: 0.5200\n"
     ]
    },
    {
     "name": "stderr",
     "output_type": "stream",
     "text": [
      " 86%|████████▌ | 43/50 [02:38<00:25,  3.60s/it]"
     ]
    },
    {
     "name": "stdout",
     "output_type": "stream",
     "text": [
      "Mean Squared Error: 0.6104 and Mean Absolute Error: 0.6276\n",
      "None\n",
      "--------------------------------------------------\n",
      "Epoch [44/50], Loss: 0.5164\n"
     ]
    },
    {
     "name": "stderr",
     "output_type": "stream",
     "text": [
      " 88%|████████▊ | 44/50 [02:42<00:21,  3.63s/it]"
     ]
    },
    {
     "name": "stdout",
     "output_type": "stream",
     "text": [
      "Mean Squared Error: 0.6343 and Mean Absolute Error: 0.6355\n",
      "None\n",
      "--------------------------------------------------\n",
      "Epoch [45/50], Loss: 0.5230\n"
     ]
    },
    {
     "name": "stderr",
     "output_type": "stream",
     "text": [
      " 90%|█████████ | 45/50 [02:46<00:18,  3.62s/it]"
     ]
    },
    {
     "name": "stdout",
     "output_type": "stream",
     "text": [
      "Mean Squared Error: 0.6330 and Mean Absolute Error: 0.6346\n",
      "None\n",
      "--------------------------------------------------\n",
      "Epoch [46/50], Loss: 0.5142\n"
     ]
    },
    {
     "name": "stderr",
     "output_type": "stream",
     "text": [
      " 92%|█████████▏| 46/50 [02:49<00:14,  3.62s/it]"
     ]
    },
    {
     "name": "stdout",
     "output_type": "stream",
     "text": [
      "Mean Squared Error: 0.6469 and Mean Absolute Error: 0.6415\n",
      "None\n",
      "--------------------------------------------------\n",
      "Epoch [47/50], Loss: 0.5093\n"
     ]
    },
    {
     "name": "stderr",
     "output_type": "stream",
     "text": [
      " 94%|█████████▍| 47/50 [02:53<00:10,  3.62s/it]"
     ]
    },
    {
     "name": "stdout",
     "output_type": "stream",
     "text": [
      "Mean Squared Error: 0.6222 and Mean Absolute Error: 0.6287\n",
      "None\n",
      "--------------------------------------------------\n",
      "Epoch [48/50], Loss: 0.5074\n"
     ]
    },
    {
     "name": "stderr",
     "output_type": "stream",
     "text": [
      " 96%|█████████▌| 48/50 [02:57<00:07,  3.74s/it]"
     ]
    },
    {
     "name": "stdout",
     "output_type": "stream",
     "text": [
      "Mean Squared Error: 0.6280 and Mean Absolute Error: 0.6350\n",
      "None\n",
      "--------------------------------------------------\n",
      "Epoch [49/50], Loss: 0.4972\n"
     ]
    },
    {
     "name": "stderr",
     "output_type": "stream",
     "text": [
      " 98%|█████████▊| 49/50 [03:01<00:03,  3.78s/it]"
     ]
    },
    {
     "name": "stdout",
     "output_type": "stream",
     "text": [
      "Mean Squared Error: 0.6297 and Mean Absolute Error: 0.6323\n",
      "None\n",
      "--------------------------------------------------\n",
      "Epoch [50/50], Loss: 0.4974\n"
     ]
    },
    {
     "name": "stderr",
     "output_type": "stream",
     "text": [
      "100%|██████████| 50/50 [03:05<00:00,  3.71s/it]"
     ]
    },
    {
     "name": "stdout",
     "output_type": "stream",
     "text": [
      "Mean Squared Error: 0.6428 and Mean Absolute Error: 0.6417\n",
      "None\n",
      "--------------------------------------------------\n"
     ]
    },
    {
     "name": "stderr",
     "output_type": "stream",
     "text": [
      "\n"
     ]
    },
    {
     "name": "stdout",
     "output_type": "stream",
     "text": [
      "Mean Squared Error: 0.4921 and Mean Absolute Error: 0.5657\n"
     ]
    },
    {
     "data": {
      "image/png": "[encoded data removed]",
      "text/plain": [
       "<Figure size 1000x800 with 2 Axes>"
      ]
     },
     "metadata": {},
     "output_type": "display_data"
    },
    {
     "name": "stdout",
     "output_type": "stream",
     "text": [
      "Accuracy: 0.1584\n",
      "None\n"
     ]
    }
   ],
   "source": [
    "modelCNN = CNN().to(device)\n",
    "optimizer = optim.Adagrad(modelCNN.parameters(), lr=0.001, weight_decay=0.0001)\n",
    "#optimizer = optim.Adadelta(modelCNN.parameters(), lr=0.001, weight_decay=0.0001)\n",
    "#lr = 0.001\n",
    "train_model(modelCNN, optimizer, num_epochs=50)"
   ]
  },
  {
   "cell_type": "code",
   "execution_count": 15,
   "metadata": {},
   "outputs": [
    {
     "name": "stdout",
     "output_type": "stream",
     "text": [
      "Mean Squared Error: 0.6203 and Mean Absolute Error: 0.6315\n"
     ]
    },
    {
     "data": {
      "image/png": "[encoded data removed]",
      "text/plain": [
       "<Figure size 1000x800 with 2 Axes>"
      ]
     },
     "metadata": {},
     "output_type": "display_data"
    },
    {
     "name": "stdout",
     "output_type": "stream",
     "text": [
      "Accuracy: 0.1121\n"
     ]
    }
   ],
   "source": [
    "evaluate_model(modelCNN, test_loader, conf=True)"
   ]
  }
 ],
 "metadata": {
  "kernelspec": {
   "display_name": ".venv",
   "language": "python",
   "name": "python3"
  },
  "language_info": {
   "codemirror_mode": {
    "name": "ipython",
    "version": 3
   },
   "file_extension": ".py",
   "mimetype": "text/x-python",
   "name": "python",
   "nbconvert_exporter": "python",
   "pygments_lexer": "ipython3",
   "version": "3.10.4"
  }
 },
 "nbformat": 4,
 "nbformat_minor": 2
}
