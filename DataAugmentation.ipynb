{
 "cells": [
  {
   "cell_type": "markdown",
   "metadata": {},
   "source": [
    "# Load Data"
   ]
  },
  {
   "cell_type": "code",
   "execution_count": 1,
   "metadata": {},
   "outputs": [
    {
     "name": "stderr",
     "output_type": "stream",
     "text": [
      "100%|██████████| 10557/10557 [00:47<00:00, 220.64it/s]\n"
     ]
    }
   ],
   "source": [
    "import pickle\n",
    "import os\n",
    "from tqdm import tqdm\n",
    "import numpy as np\n",
    "\n",
    "directory = 'data/train'\n",
    "\n",
    "length_list = []\n",
    "valence_values=[]\n",
    "\n",
    "recordings = []\n",
    "\n",
    "for filename in tqdm(os.listdir(directory)):\n",
    "    if filename.endswith('.pkl'):\n",
    "        file_path = os.path.join(directory, filename)\n",
    "        with open(file_path, 'rb') as file:\n",
    "            data = pickle.load(file)\n",
    "            if data['valence'] != 2.333:# and len(data['audio_data']) < 91000:\n",
    "                length_list.append(len(data['audio_data']))\n",
    "                valence_values.append(data['valence'])\n",
    "                recordings.append(data['audio_data'])\n",
    "\n",
    "valence_values = np.array(valence_values)\n"
   ]
  },
  {
   "cell_type": "code",
   "execution_count": 2,
   "metadata": {},
   "outputs": [
    {
     "data": {
      "text/plain": [
       "{1.25: 140,\n",
       " 3.5: 1194,\n",
       " 3.25: 1299,\n",
       " 3.75: 989,\n",
       " 2.0: 528,\n",
       " 2.75: 1031,\n",
       " 2.25: 694,\n",
       " 3.0: 1063,\n",
       " 4.25: 613,\n",
       " 1.0: 114,\n",
       " 1.5: 229,\n",
       " 1.75: 408,\n",
       " 4.75: 151,\n",
       " 4.0: 801,\n",
       " 2.5: 907,\n",
       " 5.0: 28,\n",
       " 4.5: 367}"
      ]
     },
     "execution_count": 2,
     "metadata": {},
     "output_type": "execute_result"
    }
   ],
   "source": [
    "valennce_dist ={}\n",
    "for i in valence_values:\n",
    "    if i in valennce_dist:\n",
    "        valennce_dist[i] += 1\n",
    "    else:\n",
    "        valennce_dist[i] = 1\n",
    "\n",
    "\n",
    "valennce_dist\n"
   ]
  },
  {
   "cell_type": "code",
   "execution_count": 3,
   "metadata": {},
   "outputs": [
    {
     "name": "stdout",
     "output_type": "stream",
     "text": [
      "174625\n"
     ]
    },
    {
     "data": {
      "text/plain": [
       "(10556, (50000,))"
      ]
     },
     "execution_count": 3,
     "metadata": {},
     "output_type": "execute_result"
    }
   ],
   "source": [
    "# Calculate the maximum length\n",
    "max_length = max(length_list)\n",
    "print(max_length)\n",
    "max_length=50000\n",
    "\n",
    "# Adjust the recordings to have the same length\n",
    "adjusted_recordings = []\n",
    "for recording in recordings:\n",
    "    # Repeat the array until it reaches or exceeds the maximum length\n",
    "    repeated_recording = np.tile(recording, (max_length // len(recording) + 1))[:max_length]\n",
    "    adjusted_recordings.append(repeated_recording)\n",
    "\n",
    "valence_values = np.array(valence_values)\n",
    "len(adjusted_recordings), adjusted_recordings[0].shape\n",
    "\n"
   ]
  },
  {
   "cell_type": "code",
   "execution_count": 4,
   "metadata": {},
   "outputs": [
    {
     "name": "stderr",
     "output_type": "stream",
     "text": [
      "C:\\Users\\20211922\\AppData\\Local\\Temp\\ipykernel_7772\\735191982.py:29: UserWarning: Creating a tensor from a list of numpy.ndarrays is extremely slow. Please consider converting the list to a single numpy.ndarray with numpy.array() before converting to a tensor. (Triggered internally at ..\\torch\\csrc\\utils\\tensor_new.cpp:248.)\n",
      "  X_train_tensor = torch.tensor(X_train, dtype=torch.float32).unsqueeze(1)  # Use float32 for input features\n"
     ]
    }
   ],
   "source": [
    "import torch\n",
    "from torch.utils.data import TensorDataset, DataLoader\n",
    "from sklearn.preprocessing import StandardScaler\n",
    "from sklearn.model_selection import train_test_split\n",
    "\n",
    "\n",
    "############################################################################################################\n",
    "# Pad the recordings to have the same length\n",
    "max_length = max(len(array) for array in recordings)  # Find the maximum length\n",
    "\n",
    "# # Pad each array to have the maximum length\n",
    "# padded_arrays = np.array([np.pad(array, (0, max_length - len(array)), mode='constant') for array in recordings])\n",
    "\n",
    "\n",
    "############################################################################################################\n",
    "# Split the data and labels into training and testing sets\n",
    "X_train, X_test_help, y_train, y_test_help = train_test_split(adjusted_recordings, valence_values, test_size=0.4, random_state=42)\n",
    "\n",
    "X_val, X_test, y_val, y_test = train_test_split(X_test_help, y_test_help, test_size=0.5, random_state=42)\n",
    "\n",
    "\n",
    "\n",
    "############################################################################################################\n",
    "# Create a DataLoader for the training set, test set, and validation set\n",
    "\n",
    "batch_size = 256  # You can adjust the batch size depending on your system's capability\n",
    "\n",
    "# Convert input data and labels to tensors\n",
    "X_train_tensor = torch.tensor(X_train, dtype=torch.float32).unsqueeze(1)  # Use float32 for input features\n",
    "y_train_tensor = torch.tensor(y_train, dtype=torch.float32)  # Use float32 for labels\n",
    "\n",
    "# Create a dataset from tensors\n",
    "train_dataset = TensorDataset(X_train_tensor, y_train_tensor)\n",
    "\n",
    "# Create a DataLoader\n",
    "train_loader = DataLoader(train_dataset, batch_size=batch_size, shuffle=True)\n",
    "\n",
    "############################################################################################################\n",
    "# Repeat the same process for the test set\n",
    "\n",
    "X_test_tensor = torch.tensor(X_test, dtype=torch.float32).unsqueeze(1)\n",
    "y_test_tensor = torch.tensor(y_test, dtype=torch.float32)\n",
    "\n",
    "test_dataset = TensorDataset(X_test_tensor, y_test_tensor)\n",
    "test_loader = DataLoader(test_dataset, batch_size=batch_size, shuffle=False)\n",
    "\n",
    "\n",
    "\n",
    "############################################################################################################\n",
    "# Repeat the same process for the validation set\n",
    "X_validation_tensor = torch.tensor(X_val, dtype=torch.float32).unsqueeze(1)\n",
    "y_validation_tensor = torch.tensor(y_val, dtype=torch.float32)\n",
    "\n",
    "validation_dataset = TensorDataset(X_validation_tensor, y_validation_tensor)\n",
    "validation_loader = DataLoader(validation_dataset, batch_size=batch_size, shuffle=False)\n",
    "\n",
    "\n"
   ]
  },
  {
   "cell_type": "code",
   "execution_count": 5,
   "metadata": {},
   "outputs": [
    {
     "name": "stdout",
     "output_type": "stream",
     "text": [
      "{3.0: 623, 2.75: 616, 2.5: 535, 3.25: 783, 4.25: 363, 3.5: 743, 3.75: 589, 2.25: 420, 1.5: 142, 4.0: 489, 1.75: 245, 1.0: 74, 2.0: 318, 4.5: 211, 4.75: 88, 1.25: 76, 5.0: 18}\n"
     ]
    }
   ],
   "source": [
    "import matplotlib.pyplot as plt\n",
    "\n",
    "def calculate_label_distribution(labels_tensor):\n",
    "    label_dist = {}\n",
    "    for label in labels_tensor:\n",
    "        label = label.item()  # Convert tensor to int\n",
    "        if label in label_dist:\n",
    "            label_dist[label] += 1\n",
    "        else:\n",
    "            label_dist[label] = 1\n",
    "    return label_dist\n",
    "\n",
    "train_labels = train_loader.dataset.tensors[1]\n",
    "\n",
    "train_valence_dist = calculate_label_distribution(train_labels)\n",
    "print(train_valence_dist)\n"
   ]
  },
  {
   "cell_type": "markdown",
   "metadata": {},
   "source": [
    "# Augment Data"
   ]
  },
  {
   "cell_type": "code",
   "execution_count": 6,
   "metadata": {},
   "outputs": [],
   "source": [
    "from audiomentations import Compose, AddGaussianNoise, TimeStretch, PitchShift, Shift, RoomSimulator, Aliasing, HighPassFilter, LowPassFilter,ApplyImpulseResponse\n",
    "import numpy as np\n",
    "import torch\n",
    "import sounddevice as sd\n",
    "import random\n",
    "\n",
    "\n",
    "def draw_augmentations(text,amount,fs=12000):\n",
    "    \n",
    "    augmentGaussian = Compose([\n",
    "        AddGaussianNoise(min_amplitude=0.001, max_amplitude=0.015, p=1),\n",
    "    ]) #0.001, 0.015\n",
    "\n",
    "    augmentPitchShift = Compose([\n",
    "        PitchShift(min_semitones=-4, max_semitones=4, p=1),\n",
    "    ]) #-4, 4\n",
    "\n",
    "    # augmentRoomSimulator = Compose([\n",
    "    #     RoomSimulator(p=1)\n",
    "    # ])\n",
    "\n",
    "    augmentAliasing = Compose([\n",
    "        Aliasing(min_sample_rate=8000, max_sample_rate=30000,p=1)\n",
    "    ]) #8000, 30000\n",
    "\n",
    "    augmentHPF = Compose([\n",
    "        HighPassFilter(min_cutoff_freq=15, max_cutoff_freq=2400,p=1)\n",
    "        ]) #15, 2400\n",
    "\n",
    "    augmentedLPF = Compose([\n",
    "        LowPassFilter(p=1)\n",
    "    ])\n",
    "\n",
    "\n",
    "    list_of_augmentations = [ augmentGaussian, augmentPitchShift, augmentAliasing, augmentHPF, augmentedLPF]\n",
    "\n",
    "    functions = random.sample(list_of_augmentations, amount,)\n",
    "    for i in functions:\n",
    "        # print(i.__name__)\n",
    "        text = i(text, sample_rate=fs)\n",
    "    # sd.play(text, fs)\n",
    "    return text\n"
   ]
  },
  {
   "cell_type": "code",
   "execution_count": 7,
   "metadata": {},
   "outputs": [],
   "source": [
    "\n",
    "waveforms = train_loader.dataset.tensors[0].numpy().squeeze()  # Convert tensor to NumPy array\n",
    "labels = train_loader.dataset.tensors[1].numpy().squeeze()  # Convert tensor to NumPy array\n",
    "\n",
    "\n",
    "# Create a dictionary to hold the data categorized by labels\n",
    "label_dict = {}\n",
    "\n",
    "# Iterate through each label and corresponding waveform\n",
    "for waveform, label in zip(waveforms, labels):\n",
    "    if label not in label_dict:\n",
    "        label_dict[label] = []\n",
    "    label_dict[label].append(waveform)\n"
   ]
  },
  {
   "cell_type": "code",
   "execution_count": 8,
   "metadata": {},
   "outputs": [
    {
     "name": "stderr",
     "output_type": "stream",
     "text": [
      "100%|██████████| 17/17 [02:56<00:00, 10.39s/it]"
     ]
    },
    {
     "name": "stdout",
     "output_type": "stream",
     "text": [
      "dict_keys([3.0, 2.75, 2.5, 3.25, 4.25, 3.5, 3.75, 2.25, 1.5, 4.0, 1.75, 1.0, 2.0, 4.5, 4.75, 1.25, 5.0])\n",
      "[1869, 1848, 1605, 2349, 1089, 2229, 1767, 1260, 542, 1467, 735, 474, 954, 633, 488, 476, 418]\n"
     ]
    },
    {
     "name": "stderr",
     "output_type": "stream",
     "text": [
      "\n"
     ]
    }
   ],
   "source": [
    "from tqdm import tqdm\n",
    "#\n",
    "amount_of_samples = 300\n",
    "# def train_balancer(train_valence_dist):\n",
    "#     train_balanced = {}\n",
    "#     for label in train_valence_dist.keys():\n",
    "#         train_balanced[label] = []\n",
    "#     for label in tqdm(train_valence_dist.keys()):\n",
    "#         if train_valence_dist[label] < amount_of_samples:\n",
    "#             for recording in range(len(label_dict[label])):\n",
    "#                 train_balanced[label].append(label_dict[label][recording])\n",
    "#             for _ in range(amount_of_samples - len(label_dict[label])):\n",
    "#                 choose_func_amount = random.randint(1, 3)\n",
    "#                 choose_index = random.randint(0, len(label_dict[label])-1)\n",
    "#                 train_balanced[label].append(draw_augmentations(label_dict[label][choose_index],choose_func_amount))\n",
    "#         else:\n",
    "#             indices = random.sample(range(len(label_dict[label])), amount_of_samples)\n",
    "#             for index in indices:\n",
    "#                 train_balanced[label].append(label_dict[label][index])\n",
    "#     return train_balanced\n",
    "\n",
    "def train_balancer(train_valence_dist):\n",
    "    train_balanced = {}\n",
    "    for label in train_valence_dist.keys():\n",
    "        train_balanced[label] = []\n",
    "    for label in tqdm(train_valence_dist.keys()):\n",
    "        for recording in range(len(label_dict[label])):\n",
    "            train_balanced[label].append(label_dict[label][recording])\n",
    "        if len(label_dict[label]) < 200:\n",
    "            amount = 200\n",
    "        else:\n",
    "            amount = len(label_dict[label])\n",
    "        for _ in range(amount*2):\n",
    "            choose_func_amount = random.randint(1, 3)\n",
    "            choose_index = random.randint(0, len(label_dict[label])-1)\n",
    "            train_balanced[label].append(draw_augmentations(label_dict[label][choose_index],choose_func_amount))\n",
    "\n",
    "    return train_balanced\n",
    "\n",
    "\n",
    "train_balanced = train_balancer(train_valence_dist= train_valence_dist)\n",
    "print(train_balanced.keys())\n",
    "print([len(x) for x in train_balanced.values()])\n",
    "        "
   ]
  },
  {
   "cell_type": "code",
   "execution_count": 9,
   "metadata": {},
   "outputs": [
    {
     "name": "stdout",
     "output_type": "stream",
     "text": [
      "Label:  3.0\n",
      "Label:  2.75\n",
      "Label:  2.5\n",
      "Label:  3.25\n",
      "Label:  4.25\n",
      "Label:  3.5\n",
      "Label:  3.75\n",
      "Label:  2.25\n",
      "Label:  1.5\n",
      "Label:  4.0\n",
      "Label:  1.75\n",
      "Label:  1.0\n",
      "Label:  2.0\n",
      "Label:  4.5\n",
      "Label:  4.75\n",
      "Label:  1.25\n",
      "Label:  5.0\n"
     ]
    }
   ],
   "source": [
    "def array_to_hashable(arr):\n",
    "    return hash(arr.tobytes())\n",
    "\n",
    "for arrays in train_balanced.keys():\n",
    "    print(\"Label: \", arrays)\n",
    "    # Convert each array to a hashable type\n",
    "    unique_hashes = set(array_to_hashable(arr) for arr in train_balanced[arrays])\n",
    "\n",
    "    # The number of unique arrays\n",
    "    num_unique_arrays = len(unique_hashes)\n",
    "    #print(\"Number of unique arrays for : \", num_unique_arrays)\n",
    "\n",
    "    "
   ]
  },
  {
   "cell_type": "code",
   "execution_count": 10,
   "metadata": {},
   "outputs": [
    {
     "name": "stderr",
     "output_type": "stream",
     "text": [
      "100%|██████████| 17/17 [00:00<00:00, 1887.78it/s]\n"
     ]
    },
    {
     "name": "stdout",
     "output_type": "stream",
     "text": [
      "torch.Size([20203, 1, 50000])\n"
     ]
    }
   ],
   "source": [
    "import torch\n",
    "from torch.utils.data import DataLoader, TensorDataset\n",
    "import numpy as np\n",
    "\n",
    "\n",
    "\n",
    "test_dict = train_balanced\n",
    "\n",
    "# Flatten the dictionary into lists of samples and labels\n",
    "X_train = []\n",
    "y_train = []\n",
    "for label, arrays in tqdm(test_dict.items()):\n",
    "    for array in arrays:\n",
    "        X_train.append(array)\n",
    "        y_train.append(label)  # Adjust how labels are encoded as needed\n",
    "\n",
    "\n",
    "# Convert lists to tensors\n",
    "X_train_tensor = torch.tensor(X_train, dtype=torch.float32).unsqueeze(1)  # Use float32 for input features\n",
    "y_train_tensor = torch.tensor(y_train, dtype=torch.float32)  # Adjust the type depending on how you encode labels\n",
    "\n",
    "# Apply standard scaling to the input data\n",
    "scaler = StandardScaler()\n",
    "X_train_scaled = scaler.fit_transform(X_train_tensor.squeeze().numpy())  # Fit scaler and transform the data\n",
    "\n",
    "# Convert scaled data back to tensor\n",
    "X_train_scaled_tensor = torch.tensor(X_train_scaled, dtype=torch.float32).unsqueeze(1)\n",
    "\n",
    "\n",
    "# Create a dataset from tensors\n",
    "train_dataset = TensorDataset(X_train_scaled_tensor, y_train_tensor)\n",
    "\n",
    "# Define the batch size\n",
    "batch_size = 256  # Adjust batch size based on your system capability\n",
    "\n",
    "# Create a DataLoader\n",
    "train_loader = DataLoader(train_dataset, batch_size=batch_size, shuffle=True)\n",
    "\n",
    "print(train_loader.dataset.tensors[0].shape)"
   ]
  },
  {
   "cell_type": "markdown",
   "metadata": {},
   "source": [
    "# **MODEL**"
   ]
  },
  {
   "cell_type": "code",
   "execution_count": 11,
   "metadata": {},
   "outputs": [],
   "source": [
    "def round_to_nearest_quarter(number):\n",
    "    # Assuming 'number' could be a numpy array with a single value\n",
    "    if isinstance(number, np.ndarray) and number.size == 1:\n",
    "        number = number.item()  # Convert single-item array to scalar\n",
    "    \n",
    "    # Ensure the number is within the 1 to 5 range before processing\n",
    "    number = np.clip(number, 1, 5)\n",
    "    # Scale number to shift quarters to whole numbers, round, and rescale\n",
    "    rounded_number = np.round(number * 4) / 4\n",
    "    # Clip again to ensure no out-of-range values after rounding\n",
    "    rounded_number = np.clip(rounded_number, 1, 5)\n",
    "    return str(rounded_number)"
   ]
  },
  {
   "cell_type": "code",
   "execution_count": 12,
   "metadata": {},
   "outputs": [],
   "source": [
    "import torch\n",
    "from tqdm import tqdm\n",
    "import torch.nn as nn\n",
    "import torch.optim as optim\n",
    "import torch.nn.functional as F\n",
    "from sklearn.metrics import confusion_matrix\n",
    "import matplotlib.pyplot as plt\n",
    "import seaborn as sns\n",
    "import torchaudio.transforms as transforms\n",
    "\n",
    "\n",
    "class CNN(nn.Module):\n",
    "    def __init__(self):\n",
    "        super(CNN, self).__init__()\n",
    "\n",
    "\n",
    "\n",
    "        # Set random seed for reproducibility\n",
    "        torch.manual_seed(42)\n",
    "\n",
    "\n",
    "        self.mfcc_transform = transforms.MFCC(\n",
    "            sample_rate=44100,      ## 44.1 kHz\n",
    "            n_mfcc=24              ## Created channels\n",
    "        )\n",
    "\n",
    "        self.layers = nn.ModuleList()\n",
    "        \n",
    "        self.layers.append(nn.BatchNorm1d(24)) #24\n",
    "        conv1 = nn.Conv1d(in_channels=24, out_channels=24, kernel_size=7, padding=1) #24,48\n",
    "        nn.init.kaiming_normal_(conv1.weight, nonlinearity='relu')\n",
    "        self.layers.append(conv1)\n",
    "        self.layers.append(nn.BatchNorm1d(24)) #48\n",
    "        self.layers.append(nn.ReLU())\n",
    "        self.layers.append(nn.MaxPool1d(kernel_size=3)) \n",
    "        self.layers.append(nn.Dropout(0.25))\n",
    "\n",
    "        conv2 = nn.Conv1d(in_channels=24, out_channels=48, kernel_size=7, padding=1) #48,48\n",
    "        nn.init.kaiming_normal_(conv2.weight, nonlinearity='relu')\n",
    "        self.layers.append(conv2)\n",
    "        self.layers.append(nn.BatchNorm1d(48)) #48\n",
    "        self.layers.append(nn.ReLU())\n",
    "\n",
    "\n",
    "        conv3 = nn.Conv1d(in_channels=48, out_channels=96, kernel_size=7, padding=1) #48,12\n",
    "        nn.init.kaiming_normal_(conv3.weight, nonlinearity='relu')\n",
    "        self.layers.append(conv3)\n",
    "        self.layers.append(nn.BatchNorm1d(96)) #12\n",
    "        self.layers.append(nn.ReLU())\n",
    "        self.layers.append(nn.MaxPool1d(kernel_size=4)) #3\n",
    "        self.layers.append(nn.Dropout(0.25))\n",
    "#\n",
    "        conv4 = nn.Conv1d(in_channels=96, out_channels=192, kernel_size=7, padding=1)\n",
    "        nn.init.kaiming_normal_(conv4.weight, nonlinearity='relu')\n",
    "        self.layers.append(conv4)\n",
    "        self.layers.append(nn.BatchNorm1d(192))\n",
    "        self.layers.append(nn.ReLU())\n",
    "\n",
    "        conv5 = nn.Conv1d(in_channels=192, out_channels=192, kernel_size=7, padding=1)\n",
    "        nn.init.kaiming_normal_(conv5.weight, nonlinearity='relu')\n",
    "        self.layers.append(conv5)\n",
    "        self.layers.append(nn.BatchNorm1d(192))\n",
    "        self.layers.append(nn.ReLU())\n",
    "        self.layers.append(nn.MaxPool1d(kernel_size=5)) #3\n",
    "        self.layers.append(nn.Dropout(0.25))\n",
    "\n",
    "#\n",
    "        self.layers.append(nn.Flatten())\n",
    "\n",
    "        linear1= nn.Linear(384,256) #(564, 256)\n",
    "        nn.init.kaiming_normal_(linear1.weight, nonlinearity='relu')\n",
    "        self.layers.append(linear1)\n",
    "        self.layers.append(nn.ReLU())\n",
    "        \n",
    "        linear2 = nn.Linear(256, 1)\n",
    "        nn.init.kaiming_normal_(linear2.weight, nonlinearity='relu')\n",
    "        self.layers.append(linear2)\n",
    "\n",
    "\n",
    "# class CNN(nn.Module):\n",
    "#     def __init__(self):\n",
    "#         super(CNN, self).__init__()\n",
    "\n",
    "\n",
    "\n",
    "#         # Set random seed for reproducibility\n",
    "#         torch.manual_seed(42)\n",
    "\n",
    "\n",
    "#         self.mfcc_transform = transforms.MFCC(\n",
    "#             sample_rate=44100,      ## 44.1 kHz\n",
    "#             n_mfcc=40              ## Created channels\n",
    "#         )\n",
    "\n",
    "#         self.layers = nn.ModuleList()\n",
    "        \n",
    "#         self.layers.append(nn.BatchNorm1d(40))\n",
    "#         conv1 = nn.Conv1d(in_channels=40, out_channels=20, kernel_size=10, padding=1)\n",
    "#         nn.init.kaiming_normal_(conv1.weight, nonlinearity='relu')\n",
    "#         self.layers.append(conv1)\n",
    "#         self.layers.append(nn.BatchNorm1d(20))\n",
    "#         self.layers.append(nn.ReLU())\n",
    "#         self.layers.append(nn.MaxPool1d(kernel_size=2))\n",
    "#         self.layers.append(nn.Dropout(0.25))\n",
    "\n",
    "#         conv2 = nn.Conv1d(in_channels=20, out_channels=20, kernel_size=10, padding=1)\n",
    "#         nn.init.kaiming_normal_(conv2.weight, nonlinearity='relu')\n",
    "#         self.layers.append(conv2)\n",
    "#         self.layers.append(nn.BatchNorm1d(20))\n",
    "#         self.layers.append(nn.ReLU())\n",
    "#         self.layers.append(nn.MaxPool1d(kernel_size=2))\n",
    "       \n",
    "#         conv3 = nn.Conv1d(in_channels=20, out_channels=10, kernel_size=10, padding=1)\n",
    "#         nn.init.kaiming_normal_(conv3.weight, nonlinearity='relu')\n",
    "#         self.layers.append(conv3)\n",
    "#         self.layers.append(nn.BatchNorm1d(10))\n",
    "#         self.layers.append(nn.ReLU())\n",
    "#         self.layers.append(nn.MaxPool1d(kernel_size=2))\n",
    "#         self.layers.append(nn.Dropout(0.25))\n",
    "\n",
    "#         self.layers.append(nn.Flatten())\n",
    "\n",
    "#         linear1= nn.Linear(250,256)\n",
    "#         nn.init.kaiming_normal_(linear1.weight, nonlinearity='relu')\n",
    "#         self.layers.append(linear1)\n",
    "#         self.layers.append(nn.ReLU())\n",
    "        \n",
    "#         linear2 = nn.Linear(256, 1)\n",
    "#         nn.init.kaiming_normal_(linear2.weight, nonlinearity='relu')\n",
    "#         self.layers.append(linear2)\n",
    "\n",
    "    \n",
    "    def forward(self, x):\n",
    "        x = self.mfcc_transform(x)\n",
    "        x = x.squeeze(1)\n",
    "        for layer in self.layers:\n",
    "            x = layer(x)\n",
    "            #print(x.shape)\n",
    "        return x.view(-1)\n",
    "\n",
    "\n",
    "### CUDA\n",
    "device = torch.device(\"cuda\" if torch.cuda.is_available() else \"cpu\")\n",
    "\n",
    "    # Training Cycle\n",
    "\n",
    "def train_model(MLP_model, optimizer, num_epochs):\n",
    "        criterion = nn.MSELoss()\n",
    "        #criterion = nn.L1Loss()\n",
    "        # Training loop\n",
    "        for epoch in tqdm(range(num_epochs)):\n",
    "            total_loss = 0\n",
    "\n",
    "            for inputs, labels in train_loader:\n",
    "                inputs, labels = inputs.to(device), labels.to(device)  # Move data to GPU\n",
    "                outputs = MLP_model(inputs)  # Forward pass\n",
    "                loss = criterion(outputs, labels)  # Compute the loss\n",
    "                loss.backward()  # Backward pass\n",
    "\n",
    "                optimizer.step()\n",
    "\n",
    "                # Store the loss. loss.item() gets the value in a tensor. This only works for scalars.\n",
    "                total_loss += loss.item()\n",
    "        \n",
    "            print(f'Epoch [{epoch + 1}/{num_epochs}], Loss: {total_loss / len(train_loader):.4f}')\n",
    "            if epoch > 1:\n",
    "                print(evaluate_model(MLP_model, validation_loader,conf=False))\n",
    "            print('--------------------------------------------------')\n",
    "        print(evaluate_model(MLP_model, train_loader,conf=True))\n",
    "\n",
    "\n",
    "def evaluate_model(MLP_model, test_loader,conf=False):\n",
    "    k = 0\n",
    "    with torch.no_grad():\n",
    "        ### Calculate MSE \n",
    "        predictions = []\n",
    "        actuals = []\n",
    "        actuals_for_cm = []\n",
    "        rounded_predictions = []\n",
    "        for inputs, labels in test_loader:\n",
    "            while k < 1:\n",
    "                print(type(inputs))\n",
    "                k += 1\n",
    "            inputs, labels = inputs.to(device), labels.to(device)\n",
    "            outputs = MLP_model(inputs)\n",
    "            predictions.extend(outputs.cpu().numpy())\n",
    "            actuals.extend(labels.cpu().numpy())\n",
    "            actuals_for_cm.extend([str(label) for label in labels.cpu().numpy()])\n",
    "            rounded_predictions.extend([str(round_to_nearest_quarter(output)) for output in outputs.cpu().numpy()])\n",
    "\n",
    "        predictions = np.array(predictions)\n",
    "        actuals = np.array(actuals)\n",
    "        mse = np.mean((predictions - actuals) ** 2)\n",
    "        mae = np.mean(np.abs(predictions - actuals))\n",
    "        print(f'Mean Squared Error: {mse:.4f} and Mean Absolute Error: {mae:.4f}')\n",
    "\n",
    "        # for i in range(10):\n",
    "        #     print(f\"Predictions: {predictions[i]}\")\n",
    "        #     print(f\"Actuals: {actuals[i]}\")\n",
    "        #     print(f\"Rounded Predictions: {rounded_predictions[i]}\")\n",
    "        \n",
    "        ##################\n",
    "        # Confusion Matrix\n",
    "        ##################\n",
    "        if conf:\n",
    "            ### Confusion Matrix\n",
    "            cm = confusion_matrix(actuals_for_cm, rounded_predictions)\n",
    "            plt.figure(figsize=(10, 8))\n",
    "            sns.heatmap(cm, annot=True, fmt='g', cmap='Blues', xticklabels=np.unique(actuals), yticklabels=np.unique(actuals))\n",
    "            plt.xlabel('Predicted')\n",
    "            plt.ylabel('Actual')\n",
    "            plt.title('Confusion Matrix')\n",
    "            plt.show()\n",
    "            ### Accuracy\n",
    "            accuracy = np.trace(cm) / np.sum(cm)\n",
    "            print(f'Accuracy: {accuracy:.4f}')\n",
    "    \n",
    "def get_predictions(MLP_model, test_loader,conf=False):\n",
    "    with torch.no_grad():\n",
    "        ### Calculate MSE \n",
    "        predictions = []\n",
    "        actuals = []\n",
    "        actuals_for_cm = []\n",
    "        rounded_predictions = []\n",
    "        for inputs in test_loader:\n",
    "            inputs= inputs.to(device)\n",
    "            outputs = MLP_model(inputs)\n",
    "            predictions.extend(outputs.cpu().numpy())\n",
    "            #actuals.extend(labels.cpu().numpy())\n",
    "            #actuals_for_cm.extend([str(label) for label in labels.cpu().numpy()])\n",
    "            rounded_predictions.extend([str(round_to_nearest_quarter(output)) for output in outputs.cpu().numpy()])\n",
    "\n",
    "        predictions = np.array(predictions)\n",
    "\n",
    "    return predictions\n",
    "\n"
   ]
  },
  {
   "cell_type": "code",
   "execution_count": 13,
   "metadata": {},
   "outputs": [
    {
     "name": "stderr",
     "output_type": "stream",
     "text": [
      "c:\\Users\\20211922\\Documents\\DeepL\\DL_ASSIGNMENT\\.venv\\lib\\site-packages\\torchaudio\\functional\\functional.py:576: UserWarning: At least one mel filterbank has all zero values. The value for `n_mels` (128) may be set too high. Or, the value for `n_freqs` (201) may be set too low.\n",
      "  warnings.warn(\n",
      "  2%|▏         | 1/50 [00:14<11:59, 14.67s/it]"
     ]
    },
    {
     "name": "stdout",
     "output_type": "stream",
     "text": [
      "Epoch [1/50], Loss: 1.9431\n",
      "--------------------------------------------------\n"
     ]
    },
    {
     "name": "stderr",
     "output_type": "stream",
     "text": [
      "  4%|▍         | 2/50 [00:21<08:07, 10.17s/it]"
     ]
    },
    {
     "name": "stdout",
     "output_type": "stream",
     "text": [
      "Epoch [2/50], Loss: 0.9073\n",
      "--------------------------------------------------\n",
      "Epoch [3/50], Loss: 0.8155\n",
      "<class 'torch.Tensor'>\n"
     ]
    },
    {
     "name": "stderr",
     "output_type": "stream",
     "text": [
      "  6%|▌         | 3/50 [00:29<07:14,  9.25s/it]"
     ]
    },
    {
     "name": "stdout",
     "output_type": "stream",
     "text": [
      "Mean Squared Error: 0.6807 and Mean Absolute Error: 0.6742\n",
      "None\n",
      "--------------------------------------------------\n",
      "Epoch [4/50], Loss: 0.7756\n",
      "<class 'torch.Tensor'>\n"
     ]
    },
    {
     "name": "stderr",
     "output_type": "stream",
     "text": [
      "  8%|▊         | 4/50 [00:37<06:40,  8.71s/it]"
     ]
    },
    {
     "name": "stdout",
     "output_type": "stream",
     "text": [
      "Mean Squared Error: 0.6719 and Mean Absolute Error: 0.6667\n",
      "None\n",
      "--------------------------------------------------\n",
      "Epoch [5/50], Loss: 0.7285\n",
      "<class 'torch.Tensor'>\n"
     ]
    },
    {
     "name": "stderr",
     "output_type": "stream",
     "text": [
      " 10%|█         | 5/50 [00:45<06:10,  8.24s/it]"
     ]
    },
    {
     "name": "stdout",
     "output_type": "stream",
     "text": [
      "Mean Squared Error: 0.6047 and Mean Absolute Error: 0.6263\n",
      "None\n",
      "--------------------------------------------------\n",
      "Epoch [6/50], Loss: 0.7000\n",
      "<class 'torch.Tensor'>\n"
     ]
    },
    {
     "name": "stderr",
     "output_type": "stream",
     "text": [
      " 12%|█▏        | 6/50 [00:52<05:50,  7.96s/it]"
     ]
    },
    {
     "name": "stdout",
     "output_type": "stream",
     "text": [
      "Mean Squared Error: 0.6096 and Mean Absolute Error: 0.6297\n",
      "None\n",
      "--------------------------------------------------\n",
      "Epoch [7/50], Loss: 0.6747\n",
      "<class 'torch.Tensor'>\n"
     ]
    },
    {
     "name": "stderr",
     "output_type": "stream",
     "text": [
      " 14%|█▍        | 7/50 [00:59<05:30,  7.69s/it]"
     ]
    },
    {
     "name": "stdout",
     "output_type": "stream",
     "text": [
      "Mean Squared Error: 0.5937 and Mean Absolute Error: 0.6188\n",
      "None\n",
      "--------------------------------------------------\n",
      "Epoch [8/50], Loss: 0.6572\n",
      "<class 'torch.Tensor'>\n"
     ]
    },
    {
     "name": "stderr",
     "output_type": "stream",
     "text": [
      " 16%|█▌        | 8/50 [01:06<05:16,  7.52s/it]"
     ]
    },
    {
     "name": "stdout",
     "output_type": "stream",
     "text": [
      "Mean Squared Error: 0.5364 and Mean Absolute Error: 0.5883\n",
      "None\n",
      "--------------------------------------------------\n",
      "Epoch [9/50], Loss: 0.6426\n",
      "<class 'torch.Tensor'>\n"
     ]
    },
    {
     "name": "stderr",
     "output_type": "stream",
     "text": [
      " 18%|█▊        | 9/50 [01:14<05:06,  7.48s/it]"
     ]
    },
    {
     "name": "stdout",
     "output_type": "stream",
     "text": [
      "Mean Squared Error: 0.5712 and Mean Absolute Error: 0.6075\n",
      "None\n",
      "--------------------------------------------------\n",
      "Epoch [10/50], Loss: 0.6324\n",
      "<class 'torch.Tensor'>\n"
     ]
    },
    {
     "name": "stderr",
     "output_type": "stream",
     "text": [
      " 20%|██        | 10/50 [01:21<04:56,  7.42s/it]"
     ]
    },
    {
     "name": "stdout",
     "output_type": "stream",
     "text": [
      "Mean Squared Error: 0.5354 and Mean Absolute Error: 0.5844\n",
      "None\n",
      "--------------------------------------------------\n",
      "Epoch [11/50], Loss: 0.6159\n",
      "<class 'torch.Tensor'>\n"
     ]
    },
    {
     "name": "stderr",
     "output_type": "stream",
     "text": [
      " 22%|██▏       | 11/50 [01:28<04:48,  7.41s/it]"
     ]
    },
    {
     "name": "stdout",
     "output_type": "stream",
     "text": [
      "Mean Squared Error: 0.5404 and Mean Absolute Error: 0.5883\n",
      "None\n",
      "--------------------------------------------------\n",
      "Epoch [12/50], Loss: 0.6021\n",
      "<class 'torch.Tensor'>\n"
     ]
    },
    {
     "name": "stderr",
     "output_type": "stream",
     "text": [
      " 24%|██▍       | 12/50 [01:36<04:44,  7.48s/it]"
     ]
    },
    {
     "name": "stdout",
     "output_type": "stream",
     "text": [
      "Mean Squared Error: 0.5166 and Mean Absolute Error: 0.5812\n",
      "None\n",
      "--------------------------------------------------\n",
      "Epoch [13/50], Loss: 0.5910\n",
      "<class 'torch.Tensor'>\n"
     ]
    },
    {
     "name": "stderr",
     "output_type": "stream",
     "text": [
      " 26%|██▌       | 13/50 [01:43<04:34,  7.41s/it]"
     ]
    },
    {
     "name": "stdout",
     "output_type": "stream",
     "text": [
      "Mean Squared Error: 0.5424 and Mean Absolute Error: 0.5889\n",
      "None\n",
      "--------------------------------------------------\n",
      "Epoch [14/50], Loss: 0.5842\n",
      "<class 'torch.Tensor'>\n"
     ]
    },
    {
     "name": "stderr",
     "output_type": "stream",
     "text": [
      " 28%|██▊       | 14/50 [01:51<04:26,  7.40s/it]"
     ]
    },
    {
     "name": "stdout",
     "output_type": "stream",
     "text": [
      "Mean Squared Error: 0.5088 and Mean Absolute Error: 0.5749\n",
      "None\n",
      "--------------------------------------------------\n",
      "Epoch [15/50], Loss: 0.5778\n",
      "<class 'torch.Tensor'>\n"
     ]
    },
    {
     "name": "stderr",
     "output_type": "stream",
     "text": [
      " 30%|███       | 15/50 [01:58<04:19,  7.42s/it]"
     ]
    },
    {
     "name": "stdout",
     "output_type": "stream",
     "text": [
      "Mean Squared Error: 0.5289 and Mean Absolute Error: 0.5818\n",
      "None\n",
      "--------------------------------------------------\n",
      "Epoch [16/50], Loss: 0.5746\n",
      "<class 'torch.Tensor'>\n"
     ]
    },
    {
     "name": "stderr",
     "output_type": "stream",
     "text": [
      " 32%|███▏      | 16/50 [02:06<04:13,  7.46s/it]"
     ]
    },
    {
     "name": "stdout",
     "output_type": "stream",
     "text": [
      "Mean Squared Error: 0.5036 and Mean Absolute Error: 0.5733\n",
      "None\n",
      "--------------------------------------------------\n",
      "Epoch [17/50], Loss: 0.5639\n",
      "<class 'torch.Tensor'>\n"
     ]
    },
    {
     "name": "stderr",
     "output_type": "stream",
     "text": [
      " 34%|███▍      | 17/50 [02:13<04:05,  7.44s/it]"
     ]
    },
    {
     "name": "stdout",
     "output_type": "stream",
     "text": [
      "Mean Squared Error: 0.5227 and Mean Absolute Error: 0.5767\n",
      "None\n",
      "--------------------------------------------------\n",
      "Epoch [18/50], Loss: 0.5581\n",
      "<class 'torch.Tensor'>\n"
     ]
    },
    {
     "name": "stderr",
     "output_type": "stream",
     "text": [
      " 36%|███▌      | 18/50 [02:20<03:56,  7.40s/it]"
     ]
    },
    {
     "name": "stdout",
     "output_type": "stream",
     "text": [
      "Mean Squared Error: 0.4968 and Mean Absolute Error: 0.5679\n",
      "None\n",
      "--------------------------------------------------\n",
      "Epoch [19/50], Loss: 0.5547\n",
      "<class 'torch.Tensor'>\n"
     ]
    },
    {
     "name": "stderr",
     "output_type": "stream",
     "text": [
      " 38%|███▊      | 19/50 [02:28<03:48,  7.38s/it]"
     ]
    },
    {
     "name": "stdout",
     "output_type": "stream",
     "text": [
      "Mean Squared Error: 0.5110 and Mean Absolute Error: 0.5752\n",
      "None\n",
      "--------------------------------------------------\n",
      "Epoch [20/50], Loss: 0.5464\n",
      "<class 'torch.Tensor'>\n"
     ]
    },
    {
     "name": "stderr",
     "output_type": "stream",
     "text": [
      " 40%|████      | 20/50 [02:35<03:41,  7.39s/it]"
     ]
    },
    {
     "name": "stdout",
     "output_type": "stream",
     "text": [
      "Mean Squared Error: 0.5112 and Mean Absolute Error: 0.5722\n",
      "None\n",
      "--------------------------------------------------\n",
      "Epoch [21/50], Loss: 0.5409\n",
      "<class 'torch.Tensor'>\n"
     ]
    },
    {
     "name": "stderr",
     "output_type": "stream",
     "text": [
      " 42%|████▏     | 21/50 [02:43<03:36,  7.46s/it]"
     ]
    },
    {
     "name": "stdout",
     "output_type": "stream",
     "text": [
      "Mean Squared Error: 0.4832 and Mean Absolute Error: 0.5578\n",
      "None\n",
      "--------------------------------------------------\n",
      "Epoch [22/50], Loss: 0.5360\n",
      "<class 'torch.Tensor'>\n"
     ]
    },
    {
     "name": "stderr",
     "output_type": "stream",
     "text": [
      " 44%|████▍     | 22/50 [02:50<03:28,  7.44s/it]"
     ]
    },
    {
     "name": "stdout",
     "output_type": "stream",
     "text": [
      "Mean Squared Error: 0.4953 and Mean Absolute Error: 0.5684\n",
      "None\n",
      "--------------------------------------------------\n",
      "Epoch [23/50], Loss: 0.5316\n",
      "<class 'torch.Tensor'>\n"
     ]
    },
    {
     "name": "stderr",
     "output_type": "stream",
     "text": [
      " 46%|████▌     | 23/50 [02:58<03:22,  7.50s/it]"
     ]
    },
    {
     "name": "stdout",
     "output_type": "stream",
     "text": [
      "Mean Squared Error: 0.4793 and Mean Absolute Error: 0.5603\n",
      "None\n",
      "--------------------------------------------------\n",
      "Epoch [24/50], Loss: 0.5245\n",
      "<class 'torch.Tensor'>\n"
     ]
    },
    {
     "name": "stderr",
     "output_type": "stream",
     "text": [
      " 48%|████▊     | 24/50 [03:05<03:16,  7.55s/it]"
     ]
    },
    {
     "name": "stdout",
     "output_type": "stream",
     "text": [
      "Mean Squared Error: 0.5049 and Mean Absolute Error: 0.5721\n",
      "None\n",
      "--------------------------------------------------\n",
      "Epoch [25/50], Loss: 0.5251\n",
      "<class 'torch.Tensor'>\n"
     ]
    },
    {
     "name": "stderr",
     "output_type": "stream",
     "text": [
      " 50%|█████     | 25/50 [03:13<03:09,  7.57s/it]"
     ]
    },
    {
     "name": "stdout",
     "output_type": "stream",
     "text": [
      "Mean Squared Error: 0.4853 and Mean Absolute Error: 0.5597\n",
      "None\n",
      "--------------------------------------------------\n",
      "Epoch [26/50], Loss: 0.5222\n",
      "<class 'torch.Tensor'>\n"
     ]
    },
    {
     "name": "stderr",
     "output_type": "stream",
     "text": [
      " 52%|█████▏    | 26/50 [03:21<03:02,  7.59s/it]"
     ]
    },
    {
     "name": "stdout",
     "output_type": "stream",
     "text": [
      "Mean Squared Error: 0.4801 and Mean Absolute Error: 0.5563\n",
      "None\n",
      "--------------------------------------------------\n",
      "Epoch [27/50], Loss: 0.5151\n",
      "<class 'torch.Tensor'>\n"
     ]
    },
    {
     "name": "stderr",
     "output_type": "stream",
     "text": [
      " 54%|█████▍    | 27/50 [03:28<02:54,  7.60s/it]"
     ]
    },
    {
     "name": "stdout",
     "output_type": "stream",
     "text": [
      "Mean Squared Error: 0.4951 and Mean Absolute Error: 0.5619\n",
      "None\n",
      "--------------------------------------------------\n",
      "Epoch [28/50], Loss: 0.5077\n",
      "<class 'torch.Tensor'>\n"
     ]
    },
    {
     "name": "stderr",
     "output_type": "stream",
     "text": [
      " 56%|█████▌    | 28/50 [03:36<02:45,  7.52s/it]"
     ]
    },
    {
     "name": "stdout",
     "output_type": "stream",
     "text": [
      "Mean Squared Error: 0.4860 and Mean Absolute Error: 0.5624\n",
      "None\n",
      "--------------------------------------------------\n",
      "Epoch [29/50], Loss: 0.5071\n",
      "<class 'torch.Tensor'>\n"
     ]
    },
    {
     "name": "stderr",
     "output_type": "stream",
     "text": [
      " 58%|█████▊    | 29/50 [03:43<02:36,  7.45s/it]"
     ]
    },
    {
     "name": "stdout",
     "output_type": "stream",
     "text": [
      "Mean Squared Error: 0.4870 and Mean Absolute Error: 0.5632\n",
      "None\n",
      "--------------------------------------------------\n",
      "Epoch [30/50], Loss: 0.5008\n",
      "<class 'torch.Tensor'>\n"
     ]
    },
    {
     "name": "stderr",
     "output_type": "stream",
     "text": [
      " 60%|██████    | 30/50 [03:50<02:28,  7.44s/it]"
     ]
    },
    {
     "name": "stdout",
     "output_type": "stream",
     "text": [
      "Mean Squared Error: 0.4804 and Mean Absolute Error: 0.5588\n",
      "None\n",
      "--------------------------------------------------\n",
      "Epoch [31/50], Loss: 0.5002\n",
      "<class 'torch.Tensor'>\n"
     ]
    },
    {
     "name": "stderr",
     "output_type": "stream",
     "text": [
      " 62%|██████▏   | 31/50 [03:58<02:21,  7.45s/it]"
     ]
    },
    {
     "name": "stdout",
     "output_type": "stream",
     "text": [
      "Mean Squared Error: 0.4739 and Mean Absolute Error: 0.5523\n",
      "None\n",
      "--------------------------------------------------\n",
      "Epoch [32/50], Loss: 0.4970\n",
      "<class 'torch.Tensor'>\n"
     ]
    },
    {
     "name": "stderr",
     "output_type": "stream",
     "text": [
      " 64%|██████▍   | 32/50 [04:05<02:13,  7.44s/it]"
     ]
    },
    {
     "name": "stdout",
     "output_type": "stream",
     "text": [
      "Mean Squared Error: 0.4921 and Mean Absolute Error: 0.5656\n",
      "None\n",
      "--------------------------------------------------\n",
      "Epoch [33/50], Loss: 0.4915\n",
      "<class 'torch.Tensor'>\n"
     ]
    },
    {
     "name": "stderr",
     "output_type": "stream",
     "text": [
      " 66%|██████▌   | 33/50 [04:13<02:05,  7.39s/it]"
     ]
    },
    {
     "name": "stdout",
     "output_type": "stream",
     "text": [
      "Mean Squared Error: 0.4981 and Mean Absolute Error: 0.5656\n",
      "None\n",
      "--------------------------------------------------\n",
      "Epoch [34/50], Loss: 0.4909\n",
      "<class 'torch.Tensor'>\n"
     ]
    },
    {
     "name": "stderr",
     "output_type": "stream",
     "text": [
      " 68%|██████▊   | 34/50 [04:20<01:58,  7.41s/it]"
     ]
    },
    {
     "name": "stdout",
     "output_type": "stream",
     "text": [
      "Mean Squared Error: 0.4731 and Mean Absolute Error: 0.5537\n",
      "None\n",
      "--------------------------------------------------\n",
      "Epoch [35/50], Loss: 0.4827\n",
      "<class 'torch.Tensor'>\n"
     ]
    },
    {
     "name": "stderr",
     "output_type": "stream",
     "text": [
      " 70%|███████   | 35/50 [04:28<01:51,  7.44s/it]"
     ]
    },
    {
     "name": "stdout",
     "output_type": "stream",
     "text": [
      "Mean Squared Error: 0.4710 and Mean Absolute Error: 0.5500\n",
      "None\n",
      "--------------------------------------------------\n",
      "Epoch [36/50], Loss: 0.4824\n",
      "<class 'torch.Tensor'>\n"
     ]
    },
    {
     "name": "stderr",
     "output_type": "stream",
     "text": [
      " 72%|███████▏  | 36/50 [04:35<01:44,  7.45s/it]"
     ]
    },
    {
     "name": "stdout",
     "output_type": "stream",
     "text": [
      "Mean Squared Error: 0.4736 and Mean Absolute Error: 0.5541\n",
      "None\n",
      "--------------------------------------------------\n",
      "Epoch [37/50], Loss: 0.4815\n",
      "<class 'torch.Tensor'>\n"
     ]
    },
    {
     "name": "stderr",
     "output_type": "stream",
     "text": [
      " 74%|███████▍  | 37/50 [04:43<01:37,  7.49s/it]"
     ]
    },
    {
     "name": "stdout",
     "output_type": "stream",
     "text": [
      "Mean Squared Error: 0.4943 and Mean Absolute Error: 0.5661\n",
      "None\n",
      "--------------------------------------------------\n",
      "Epoch [38/50], Loss: 0.4811\n",
      "<class 'torch.Tensor'>\n"
     ]
    },
    {
     "name": "stderr",
     "output_type": "stream",
     "text": [
      " 76%|███████▌  | 38/50 [04:50<01:30,  7.51s/it]"
     ]
    },
    {
     "name": "stdout",
     "output_type": "stream",
     "text": [
      "Mean Squared Error: 0.4862 and Mean Absolute Error: 0.5572\n",
      "None\n",
      "--------------------------------------------------\n",
      "Epoch [39/50], Loss: 0.4761\n",
      "<class 'torch.Tensor'>\n"
     ]
    },
    {
     "name": "stderr",
     "output_type": "stream",
     "text": [
      " 78%|███████▊  | 39/50 [04:58<01:22,  7.51s/it]"
     ]
    },
    {
     "name": "stdout",
     "output_type": "stream",
     "text": [
      "Mean Squared Error: 0.4811 and Mean Absolute Error: 0.5562\n",
      "None\n",
      "--------------------------------------------------\n",
      "Epoch [40/50], Loss: 0.4758\n",
      "<class 'torch.Tensor'>\n"
     ]
    },
    {
     "name": "stderr",
     "output_type": "stream",
     "text": [
      " 80%|████████  | 40/50 [05:05<01:15,  7.54s/it]"
     ]
    },
    {
     "name": "stdout",
     "output_type": "stream",
     "text": [
      "Mean Squared Error: 0.4857 and Mean Absolute Error: 0.5607\n",
      "None\n",
      "--------------------------------------------------\n",
      "Epoch [41/50], Loss: 0.4705\n",
      "<class 'torch.Tensor'>\n"
     ]
    },
    {
     "name": "stderr",
     "output_type": "stream",
     "text": [
      " 82%|████████▏ | 41/50 [05:13<01:07,  7.53s/it]"
     ]
    },
    {
     "name": "stdout",
     "output_type": "stream",
     "text": [
      "Mean Squared Error: 0.4788 and Mean Absolute Error: 0.5525\n",
      "None\n",
      "--------------------------------------------------\n",
      "Epoch [42/50], Loss: 0.4654\n",
      "<class 'torch.Tensor'>\n"
     ]
    },
    {
     "name": "stderr",
     "output_type": "stream",
     "text": [
      " 84%|████████▍ | 42/50 [05:20<01:00,  7.55s/it]"
     ]
    },
    {
     "name": "stdout",
     "output_type": "stream",
     "text": [
      "Mean Squared Error: 0.4900 and Mean Absolute Error: 0.5655\n",
      "None\n",
      "--------------------------------------------------\n",
      "Epoch [43/50], Loss: 0.4623\n",
      "<class 'torch.Tensor'>\n"
     ]
    },
    {
     "name": "stderr",
     "output_type": "stream",
     "text": [
      " 86%|████████▌ | 43/50 [05:28<00:52,  7.46s/it]"
     ]
    },
    {
     "name": "stdout",
     "output_type": "stream",
     "text": [
      "Mean Squared Error: 0.4782 and Mean Absolute Error: 0.5531\n",
      "None\n",
      "--------------------------------------------------\n",
      "Epoch [44/50], Loss: 0.4640\n",
      "<class 'torch.Tensor'>\n"
     ]
    },
    {
     "name": "stderr",
     "output_type": "stream",
     "text": [
      " 88%|████████▊ | 44/50 [05:35<00:44,  7.39s/it]"
     ]
    },
    {
     "name": "stdout",
     "output_type": "stream",
     "text": [
      "Mean Squared Error: 0.4735 and Mean Absolute Error: 0.5514\n",
      "None\n",
      "--------------------------------------------------\n",
      "Epoch [45/50], Loss: 0.4607\n",
      "<class 'torch.Tensor'>\n"
     ]
    },
    {
     "name": "stderr",
     "output_type": "stream",
     "text": [
      " 90%|█████████ | 45/50 [05:42<00:36,  7.35s/it]"
     ]
    },
    {
     "name": "stdout",
     "output_type": "stream",
     "text": [
      "Mean Squared Error: 0.4814 and Mean Absolute Error: 0.5546\n",
      "None\n",
      "--------------------------------------------------\n",
      "Epoch [46/50], Loss: 0.4601\n",
      "<class 'torch.Tensor'>\n"
     ]
    },
    {
     "name": "stderr",
     "output_type": "stream",
     "text": [
      " 92%|█████████▏| 46/50 [05:49<00:29,  7.33s/it]"
     ]
    },
    {
     "name": "stdout",
     "output_type": "stream",
     "text": [
      "Mean Squared Error: 0.4612 and Mean Absolute Error: 0.5428\n",
      "None\n",
      "--------------------------------------------------\n",
      "Epoch [47/50], Loss: 0.4560\n",
      "<class 'torch.Tensor'>\n"
     ]
    },
    {
     "name": "stderr",
     "output_type": "stream",
     "text": [
      " 94%|█████████▍| 47/50 [05:56<00:21,  7.27s/it]"
     ]
    },
    {
     "name": "stdout",
     "output_type": "stream",
     "text": [
      "Mean Squared Error: 0.4934 and Mean Absolute Error: 0.5611\n",
      "None\n",
      "--------------------------------------------------\n",
      "Epoch [48/50], Loss: 0.4513\n",
      "<class 'torch.Tensor'>\n"
     ]
    },
    {
     "name": "stderr",
     "output_type": "stream",
     "text": [
      " 96%|█████████▌| 48/50 [06:04<00:14,  7.32s/it]"
     ]
    },
    {
     "name": "stdout",
     "output_type": "stream",
     "text": [
      "Mean Squared Error: 0.4791 and Mean Absolute Error: 0.5518\n",
      "None\n",
      "--------------------------------------------------\n",
      "Epoch [49/50], Loss: 0.4520\n",
      "<class 'torch.Tensor'>\n"
     ]
    },
    {
     "name": "stderr",
     "output_type": "stream",
     "text": [
      " 98%|█████████▊| 49/50 [06:11<00:07,  7.34s/it]"
     ]
    },
    {
     "name": "stdout",
     "output_type": "stream",
     "text": [
      "Mean Squared Error: 0.4862 and Mean Absolute Error: 0.5546\n",
      "None\n",
      "--------------------------------------------------\n",
      "Epoch [50/50], Loss: 0.4506\n",
      "<class 'torch.Tensor'>\n"
     ]
    },
    {
     "name": "stderr",
     "output_type": "stream",
     "text": [
      "100%|██████████| 50/50 [06:19<00:00,  7.58s/it]"
     ]
    },
    {
     "name": "stdout",
     "output_type": "stream",
     "text": [
      "Mean Squared Error: 0.4943 and Mean Absolute Error: 0.5630\n",
      "None\n",
      "--------------------------------------------------\n",
      "<class 'torch.Tensor'>\n"
     ]
    },
    {
     "name": "stderr",
     "output_type": "stream",
     "text": [
      "\n"
     ]
    },
    {
     "name": "stdout",
     "output_type": "stream",
     "text": [
      "Mean Squared Error: 0.4454 and Mean Absolute Error: 0.5317\n"
     ]
    },
    {
     "data": {
      "image/png": "[encoded data removed]",
      "text/plain": [
       "<Figure size 1000x800 with 2 Axes>"
      ]
     },
     "metadata": {},
     "output_type": "display_data"
    },
    {
     "name": "stdout",
     "output_type": "stream",
     "text": [
      "Accuracy: 0.1488\n",
      "None\n"
     ]
    }
   ],
   "source": [
    "modelCNN = CNN().to(device)\n",
    "optimizer = optim.Adagrad(modelCNN.parameters(), lr=0.001, weight_decay=0.0001)\n",
    "#optimizer = optim.Adadelta(modelCNN.parameters(), lr=0.001, weight_decay=0.0001)\n",
    "#optimizer = optim.SGD(modelCNN.parameters(), lr=0.0005, momentum=0.01, weight_decay =0.0001, nesterov=True)\n",
    "#lr = 0.001\n",
    "train_model(modelCNN, optimizer, num_epochs=50)"
   ]
  },
  {
   "cell_type": "code",
   "execution_count": 14,
   "metadata": {},
   "outputs": [
    {
     "name": "stdout",
     "output_type": "stream",
     "text": [
      "<class 'torch.Tensor'>\n",
      "Mean Squared Error: 0.5101 and Mean Absolute Error: 0.5697\n"
     ]
    },
    {
     "data": {
      "image/png": "[encoded data removed]",
      "text/plain": [
       "<Figure size 1000x800 with 2 Axes>"
      ]
     },
     "metadata": {},
     "output_type": "display_data"
    },
    {
     "name": "stdout",
     "output_type": "stream",
     "text": [
      "Accuracy: 0.1411\n"
     ]
    }
   ],
   "source": [
    "evaluate_model(modelCNN, test_loader,conf=True)"
   ]
  },
  {
   "cell_type": "code",
   "execution_count": 15,
   "metadata": {},
   "outputs": [],
   "source": [
    "# # Define the directory containing test data\n",
    "# directory = 'data/test'\n",
    "\n",
    "# # Load test data\n",
    "# test_recordings = []\n",
    "# test_filenames = []\n",
    "# lenght_list = []\n",
    "\n",
    "# for filename in tqdm(os.listdir(directory)):\n",
    "#     if filename.endswith('.pkl'):\n",
    "#         file_path = os.path.join(directory, filename)\n",
    "#         with open(file_path, 'rb') as file:\n",
    "#             data = pickle.load(file)\n",
    "#             length_list.append(len(data['audio_data']))\n",
    "#             test_recordings.append(data['audio_data'])\n",
    "#             test_filenames.append(filename)\n",
    "\n",
    "# # Calculate the maximum length\n",
    "# max_length = max(length_list)\n",
    "\n",
    "# # Adjust the recordings to have the same length\n",
    "# adjusted_recordings = []\n",
    "# for recording in test_recordings:\n",
    "#     # Repeat the array until it reaches or exceeds the maximum length\n",
    "#     repeated_recording = np.tile(recording, (max_length // len(recording) + 1))[:max_length]\n",
    "#     adjusted_recordings.append(repeated_recording)\n",
    "\n",
    "\n",
    "# batch_size = 256  # You can adjust the batch size depending on your system's capability\n",
    "\n",
    "# # Convert input data and labels to tensors\n",
    "# X_train_tensor = torch.tensor(adjusted_recordings, dtype=torch.float32).unsqueeze(1)  # Use float32 for input features\n",
    "\n",
    "# # Create a dataset from tensors\n",
    "# train_dataset = TensorDataset(X_train_tensor)\n",
    "\n",
    "# # Create a DataLoader\n",
    "# final_test_loader = DataLoader(train_dataset, batch_size=batch_size, shuffle=True)\n",
    "\n"
   ]
  },
  {
   "cell_type": "code",
   "execution_count": 16,
   "metadata": {},
   "outputs": [],
   "source": [
    "# def get_predictions(MLP_model, test_loader, conf=False):\n",
    "#     with torch.no_grad():\n",
    "#         predictions = []\n",
    "#         for inputs in test_loader:  # Iterate over batches from the DataLoader\n",
    "#             print(inputs)\n",
    "#             inputs = test_loader.dataset.tensors[0].numpy().squeeze()\n",
    "#             print(inputs)\n",
    "#             print(inputs.shape)\n",
    "#             outputs = MLP_model(inputs)\n",
    "#             predictions.extend(outputs.cpu().numpy())\n",
    "#         return predictions"
   ]
  },
  {
   "cell_type": "code",
   "execution_count": 17,
   "metadata": {},
   "outputs": [],
   "source": [
    "# ### CUDA\n",
    "# device = torch.device(\"cuda\" if torch.cuda.is_available() else \"cpu\")\n",
    "# predictions = get_predictions(modelCNN, final_test_loader,conf=False)\n",
    "# # Create DataFrame to store predictions in the required format\n",
    "# predictions_df = pd.DataFrame({'ID': test_filenames, 'Label': predictions})\n",
    "\n",
    "# # Save predictions to a CSV file\n",
    "\n",
    "# predictions_df.to_csv('predictions.csv', index=False)"
   ]
  },
  {
   "cell_type": "code",
   "execution_count": null,
   "metadata": {},
   "outputs": [],
   "source": []
  }
 ],
 "metadata": {
  "kernelspec": {
   "display_name": ".venv",
   "language": "python",
   "name": "python3"
  },
  "language_info": {
   "codemirror_mode": {
    "name": "ipython",
    "version": 3
   },
   "file_extension": ".py",
   "mimetype": "text/x-python",
   "name": "python",
   "nbconvert_exporter": "python",
   "pygments_lexer": "ipython3",
   "version": "3.10.4"
  }
 },
 "nbformat": 4,
 "nbformat_minor": 2
}
