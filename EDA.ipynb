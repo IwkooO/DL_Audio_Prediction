{
 "cells": [
  {
   "cell_type": "code",
   "execution_count": 1,
   "metadata": {},
   "outputs": [
    {
     "name": "stderr",
     "output_type": "stream",
     "text": [
      "100%|██████████| 10557/10557 [00:26<00:00, 400.05it/s]\n"
     ]
    },
    {
     "data": {
      "text/plain": [
       "10556"
      ]
     },
     "execution_count": 1,
     "metadata": {},
     "output_type": "execute_result"
    }
   ],
   "source": [
    "import pickle\n",
    "import os\n",
    "from tqdm import tqdm\n",
    "import numpy as np\n",
    "\n",
    "directory = 'data/train'\n",
    "\n",
    "length_list = []\n",
    "valence_values=[]\n",
    "\n",
    "recordings = []\n",
    "\n",
    "for filename in tqdm(os.listdir(directory)):\n",
    "    if filename.endswith('.pkl'):\n",
    "        file_path = os.path.join(directory, filename)\n",
    "        with open(file_path, 'rb') as file:\n",
    "            data = pickle.load(file)\n",
    "            if data['valence'] != 2.333:\n",
    "                length_list.append(len(data['audio_data']))\n",
    "                valence_values.append(data['valence'])\n",
    "                recordings.append(data['audio_data'])\n",
    "\n",
    "len(recordings)"
   ]
  },
  {
   "cell_type": "code",
   "execution_count": 2,
   "metadata": {},
   "outputs": [],
   "source": [
    "\n",
    "max_length = max(len(array) for array in recordings)  # Find the maximum length\n",
    "\n",
    "# Pad each array to have the maximum length\n",
    "padded_arrays = np.array([np.pad(array, (0, max_length - len(array)), mode='constant') for array in recordings])"
   ]
  },
  {
   "cell_type": "code",
   "execution_count": 3,
   "metadata": {},
   "outputs": [
    {
     "data": {
      "text/plain": [
       "array([1.25, 3.5 , 3.25, ..., 3.25, 3.75, 4.5 ])"
      ]
     },
     "execution_count": 3,
     "metadata": {},
     "output_type": "execute_result"
    }
   ],
   "source": [
    "valence_values = np.array(valence_values)\n",
    "valence_values"
   ]
  },
  {
   "cell_type": "code",
   "execution_count": 14,
   "metadata": {},
   "outputs": [
    {
     "name": "stderr",
     "output_type": "stream",
     "text": [
      "100%|██████████| 10556/10556 [00:00<00:00, 1681800.24it/s]"
     ]
    },
    {
     "name": "stderr",
     "output_type": "stream",
     "text": [
      "\n"
     ]
    },
    {
     "data": {
      "text/plain": [
       "array([ 1., 10.,  9., ...,  9., 11., 14.])"
      ]
     },
     "execution_count": 14,
     "metadata": {},
     "output_type": "execute_result"
    }
   ],
   "source": [
    "unique_valence_list = sorted(list(set(valence_values)))\n",
    "\n",
    "for i in tqdm(range(len(valence_values))):\n",
    "    valence_values[i] = unique_valence_list.index(valence_values[i])\n",
    "valence_values"
   ]
  },
  {
   "cell_type": "code",
   "execution_count": 15,
   "metadata": {},
   "outputs": [],
   "source": [
    "from sklearn.model_selection import train_test_split\n",
    "\n",
    "# Split the data and labels into training and testing sets\n",
    "X_train, X_test_help, y_train, y_test_help = train_test_split(padded_arrays, valence_values, test_size=0.4, random_state=42)\n",
    "\n",
    "X_val, X_test, y_val, y_test = train_test_split(X_test_help, y_test_help, test_size=0.5, random_state=42)\n"
   ]
  },
  {
   "cell_type": "code",
   "execution_count": 22,
   "metadata": {},
   "outputs": [
    {
     "data": {
      "text/plain": [
       "array([ 7.,  9., 12., ..., 15., 14., 15.])"
      ]
     },
     "execution_count": 22,
     "metadata": {},
     "output_type": "execute_result"
    }
   ],
   "source": []
  },
  {
   "cell_type": "markdown",
   "metadata": {},
   "source": [
    "# Length of recordings distribution"
   ]
  },
  {
   "cell_type": "code",
   "execution_count": 23,
   "metadata": {},
   "outputs": [
    {
     "data": {
      "image/png": "[encoded data removed]",
      "text/plain": [
       "<Figure size 432x288 with 1 Axes>"
      ]
     },
     "metadata": {
      "needs_background": "light"
     },
     "output_type": "display_data"
    },
    {
     "name": "stdout",
     "output_type": "stream",
     "text": [
      "10556\n",
      "5605\n"
     ]
    }
   ],
   "source": [
    "import matplotlib.pyplot as plt\n",
    "import numpy as np\n",
    "\n",
    "plt.hist(length_list, bins=100)\n",
    "plt.show()\n",
    "\n",
    "print(len(length_list))\n",
    "print(len(np.unique(np.array(length_list))))\n",
    "\n"
   ]
  },
  {
   "cell_type": "markdown",
   "metadata": {},
   "source": [
    "# Valence distribution"
   ]
  },
  {
   "cell_type": "code",
   "execution_count": 24,
   "metadata": {},
   "outputs": [
    {
     "data": {
      "text/plain": [
       "{1.0: 140,\n",
       " 10.0: 1194,\n",
       " 9.0: 1299,\n",
       " 11.0: 989,\n",
       " 4.0: 528,\n",
       " 7.0: 1031,\n",
       " 5.0: 694,\n",
       " 8.0: 1063,\n",
       " 13.0: 613,\n",
       " 0.0: 114,\n",
       " 2.0: 229,\n",
       " 3.0: 408,\n",
       " 15.0: 151,\n",
       " 12.0: 801,\n",
       " 6.0: 907,\n",
       " 16.0: 28,\n",
       " 14.0: 367}"
      ]
     },
     "execution_count": 24,
     "metadata": {},
     "output_type": "execute_result"
    }
   ],
   "source": [
    "valence_dict = {}\n",
    "\n",
    "for i in valence_values:\n",
    "    if i not in valence_dict:\n",
    "        valence_dict[i] = 1\n",
    "    else:\n",
    "        valence_dict[i] += 1\n",
    "valence_dict\n"
   ]
  },
  {
   "cell_type": "code",
   "execution_count": 25,
   "metadata": {},
   "outputs": [],
   "source": [
    "import torch\n",
    "\n",
    "# Convert input data\n",
    "X_train_tensor = torch.tensor(X_train, dtype=torch.float32)  # Use float32 for input features\n",
    "\n",
    "# Convert labels\n",
    "y_train_tensor = torch.tensor(y_train, dtype=torch.long)  # Use long if your labels are for classification tasks\n",
    "\n",
    "from torch.utils.data import TensorDataset, DataLoader\n",
    "\n",
    "# Create a dataset from tensors\n",
    "train_dataset = TensorDataset(X_train_tensor, y_train_tensor)\n",
    "\n",
    "# Create a DataLoader\n",
    "batch_size = 64  # You can adjust the batch size depending on your system's capability\n",
    "train_loader = DataLoader(train_dataset, batch_size=batch_size, shuffle=True)\n",
    "\n",
    "\n",
    "\n",
    "X_test_tensor = torch.tensor(X_test, dtype=torch.float32)\n",
    "y_test_tensor = torch.tensor(y_test, dtype=torch.long)\n",
    "\n",
    "test_dataset = TensorDataset(X_test_tensor, y_test_tensor)\n",
    "test_loader = DataLoader(test_dataset, batch_size=batch_size, shuffle=False)\n",
    "\n",
    "\n"
   ]
  },
  {
   "cell_type": "code",
   "execution_count": 26,
   "metadata": {},
   "outputs": [
    {
     "data": {
      "text/plain": [
       "tensor([ 8,  8,  9,  ..., 12,  9, 10])"
      ]
     },
     "execution_count": 26,
     "metadata": {},
     "output_type": "execute_result"
    }
   ],
   "source": [
    "y_test_tensor"
   ]
  },
  {
   "cell_type": "markdown",
   "metadata": {},
   "source": [
    "# Plan\n",
    "\n",
    "\n",
    "### 1. Neural network with padding\n",
    "\n",
    "### 2. Neural network with 1 input 1 hidden 1 output layer\n",
    "\n",
    "### 3. Optimizer : ADAM \n",
    "\n",
    "### 4. Loss function - Categorical cross entropy\n",
    "\n"
   ]
  },
  {
   "cell_type": "code",
   "execution_count": null,
   "metadata": {},
   "outputs": [],
   "source": [
    "\n"
   ]
  },
  {
   "cell_type": "code",
   "execution_count": 27,
   "metadata": {},
   "outputs": [],
   "source": [
    "import torch\n",
    "import torch.nn as nn\n",
    "import torch.optim as optim\n",
    "import torch.nn.functional as F\n",
    "\n",
    "\n",
    "class MLP(nn.Module):\n",
    "    def __init__(self, input_size, hidden_sizes, output_size, activation_function):\n",
    "        \"\"\"\n",
    "        Initialize the MLP model.\n",
    "\n",
    "        Parameters:\n",
    "        - input_size (int): Size of the input features.\n",
    "        - hidden_sizes (list): List containing the sizes of hidden layers.\n",
    "        - output_size (int): Size of the output layer.\n",
    "        - activation_function (torch.nn.Module): Activation function for hidden layers.\n",
    "        \"\"\"\n",
    "        super(MLP, self).__init__()\n",
    "\n",
    "        # Set random seed for reproducibility\n",
    "        torch.manual_seed(42)\n",
    "\n",
    "        self.input_size = input_size\n",
    "        self.hidden_sizes = hidden_sizes\n",
    "        self.output_size = output_size\n",
    "\n",
    "        # Create hidden layers and activations dynamically\n",
    "        self.layers = nn.ModuleList()\n",
    "\n",
    "        for i in range(len(hidden_sizes)):\n",
    "            # Linear layer\n",
    "            self.layers.append(nn.Linear(input_size if i == 0 else hidden_sizes[i - 1], hidden_sizes[i]))\n",
    "\n",
    "            # Activation function (except for the last layer)\n",
    "            self.layers.append(activation_function())\n",
    "\n",
    "        # Append the ouptu layer\n",
    "        self.layers.append(nn.Softmax(dim=1))\n",
    "        \n",
    "\n",
    "    def forward(self, x):\n",
    " \n",
    "        # Flatten the input\n",
    "        x = x.view(-1, self.input_size)\n",
    "\n",
    "        # Forward pass through hidden layers with activation functions\n",
    "        for layer in self.layers:\n",
    "            x = layer(x)\n",
    "\n",
    "        return x\n"
   ]
  },
  {
   "cell_type": "code",
   "execution_count": 44,
   "metadata": {},
   "outputs": [],
   "source": [
    "# Training Cycle\n",
    "\n",
    "def train_model(MLP_model, optimizer, num_epochs):\n",
    "    # Define the loss function\n",
    "    criterion = nn.CrossEntropyLoss()\n",
    "    # Training loop\n",
    "    for epoch in range(num_epochs):\n",
    "        total_loss = 0\n",
    "\n",
    "        for inputs, labels in test_loader:\n",
    "            inputs = inputs.view(-1, max_length)  # Flatten the images\n",
    "            outputs = MLP_model(inputs)  # Forward pass\n",
    "            loss = criterion(outputs, labels)  # Compute the loss\n",
    "            loss.backward()  # Backward pass\n",
    "\n",
    "            # Update weights using the step function of our custom ADAM optimizer\n",
    "            optimizer.step()\n",
    "\n",
    "            # Store the loss. loss.item() gets the value in a tensor. This only works for scalars.\n",
    "            total_loss += loss.item()\n",
    "    \n",
    "        print(f'Epoch [{epoch + 1}/{num_epochs}], Loss: {total_loss / len(train_loader):.4f}')\n",
    "    "
   ]
  },
  {
   "cell_type": "code",
   "execution_count": 45,
   "metadata": {},
   "outputs": [],
   "source": [
    "def evaluate_model(MLP_model, test_loader):\n",
    "    # Model Evaluation\n",
    "    predicted_labels = []\n",
    "    true_labels = []\n",
    "    with torch.no_grad():\n",
    "        MLP_model.eval()  # Set the model to evaluation mode\n",
    "        total_correct = 0\n",
    "        total_samples = 0\n",
    "\n",
    "        for inputs, labels in test_loader:\n",
    "            inputs = inputs.view(-1, max_length)  # Flatten the test images\n",
    "            outputs = MLP_model(inputs)\n",
    "            _, predicted = torch.max(outputs, 1)\n",
    "            predicted_labels.extend(predicted.numpy())\n",
    "            true_labels.extend(labels.numpy())\n",
    "            \n",
    "            total_correct += (predicted == labels).sum().item()\n",
    "            total_samples += labels.size(0)\n",
    "    \n",
    "\n",
    "    accuracy = total_correct / total_samples\n",
    "    print(f'Test Accuracy: {accuracy * 100:.2f}%')\n",
    "    print(predicted_labels)\n",
    "    print(\"True Labels:\")\n",
    "    print(true_labels)\n"
   ]
  },
  {
   "cell_type": "code",
   "execution_count": 46,
   "metadata": {},
   "outputs": [
    {
     "name": "stdout",
     "output_type": "stream",
     "text": [
      "Epoch [1/20], Loss: 1.1547\n",
      "Epoch [2/20], Loss: 1.1126\n",
      "Epoch [3/20], Loss: 1.0642\n",
      "Epoch [4/20], Loss: 1.0203\n",
      "Epoch [5/20], Loss: 0.9868\n",
      "Epoch [6/20], Loss: 0.9644\n",
      "Epoch [7/20], Loss: 0.9533\n",
      "Epoch [8/20], Loss: 0.9466\n",
      "Epoch [9/20], Loss: 0.9430\n",
      "Epoch [10/20], Loss: 0.9404\n",
      "Epoch [11/20], Loss: 0.9394\n",
      "Epoch [12/20], Loss: 0.9387\n",
      "Epoch [13/20], Loss: 0.9382\n",
      "Epoch [14/20], Loss: 0.9383\n",
      "Epoch [15/20], Loss: 0.9377\n",
      "Epoch [16/20], Loss: 0.9375\n",
      "Epoch [17/20], Loss: 0.9373\n",
      "Epoch [18/20], Loss: 0.9372\n",
      "Epoch [19/20], Loss: 0.9369\n",
      "Epoch [20/20], Loss: 0.9373\n",
      "Test Accuracy: 70.55%\n",
      "[5, 11, 9, 9, 11, 11, 12, 9, 10, 7, 12, 10, 7, 9, 10, 11, 7, 13, 10, 1, 10, 13, 12, 10, 7, 13, 10, 9, 13, 12, 11, 13, 3, 10, 5, 7, 7, 15, 5, 11, 13, 11, 10, 12, 11, 9, 12, 4, 5, 5, 7, 9, 15, 10, 10, 12, 5, 1, 4, 0, 4, 9, 10, 9, 10, 5, 13, 4, 7, 11, 7, 12, 12, 12, 11, 0, 13, 10, 3, 11, 9, 3, 9, 5, 5, 4, 9, 15, 11, 9, 0, 7, 12, 4, 11, 11, 12, 11, 14, 15, 13, 1, 12, 11, 9, 14, 12, 5, 12, 3, 10, 10, 4, 14, 11, 11, 4, 9, 7, 9, 7, 3, 10, 11, 13, 13, 11, 10, 11, 12, 11, 9, 9, 13, 13, 7, 15, 12, 3, 10, 11, 11, 11, 9, 3, 10, 3, 7, 12, 11, 4, 5, 11, 10, 7, 7, 4, 14, 7, 10, 7, 13, 11, 12, 10, 10, 7, 9, 7, 11, 13, 11, 13, 10, 12, 11, 9, 1, 9, 11, 9, 7, 12, 14, 11, 7, 11, 1, 5, 11, 9, 10, 3, 12, 13, 5, 7, 5, 13, 9, 7, 3, 4, 4, 12, 7, 10, 5, 10, 5, 7, 10, 9, 7, 7, 11, 14, 10, 11, 11, 10, 10, 11, 4, 14, 4, 11, 11, 11, 11, 7, 12, 15, 10, 4, 9, 14, 12, 9, 13, 9, 9, 3, 7, 3, 7, 11, 9, 10, 11, 9, 10, 9, 9, 9, 9, 9, 13, 11, 9, 7, 14, 10, 11, 9, 5, 7, 9, 7, 5, 12, 7, 11, 4, 4, 10, 11, 0, 10, 11, 11, 12, 12, 7, 13, 11, 7, 14, 9, 7, 10, 13, 3, 9, 13, 5, 10, 5, 7, 7, 11, 7, 7, 7, 3, 9, 9, 14, 11, 14, 5, 11, 9, 10, 12, 12, 5, 9, 9, 4, 11, 9, 9, 10, 7, 10, 11, 10, 13, 10, 10, 5, 1, 4, 10, 11, 12, 7, 5, 13, 10, 4, 5, 7, 10, 5, 5, 10, 3, 13, 9, 11, 13, 11, 5, 3, 7, 9, 10, 3, 7, 7, 10, 10, 11, 7, 10, 11, 1, 15, 5, 9, 10, 14, 13, 5, 13, 13, 11, 11, 14, 7, 7, 11, 10, 9, 12, 9, 10, 5, 10, 9, 3, 12, 12, 1, 0, 7, 9, 10, 10, 14, 7, 7, 14, 9, 9, 10, 11, 12, 5, 3, 1, 4, 14, 9, 9, 10, 13, 10, 5, 7, 15, 14, 14, 11, 9, 3, 9, 11, 12, 10, 7, 11, 13, 11, 3, 10, 9, 1, 9, 14, 3, 3, 13, 9, 11, 12, 11, 7, 5, 14, 5, 11, 3, 9, 1, 5, 10, 5, 4, 9, 5, 9, 5, 14, 11, 9, 4, 9, 13, 12, 10, 11, 9, 9, 9, 4, 9, 10, 9, 9, 9, 14, 10, 10, 1, 10, 5, 9, 12, 14, 12, 7, 10, 12, 7, 0, 12, 11, 5, 9, 9, 3, 7, 5, 12, 12, 1, 5, 13, 5, 7, 11, 4, 7, 5, 7, 14, 7, 1, 11, 10, 0, 5, 7, 3, 13, 9, 10, 7, 7, 9, 9, 9, 7, 13, 9, 12, 9, 13, 7, 5, 10, 0, 11, 0, 13, 7, 11, 11, 9, 10, 13, 5, 12, 7, 7, 3, 11, 14, 14, 12, 3, 5, 5, 9, 9, 11, 10, 14, 15, 9, 9, 9, 5, 4, 5, 9, 12, 13, 11, 10, 11, 12, 12, 11, 12, 12, 4, 14, 11, 12, 13, 9, 10, 3, 7, 12, 10, 4, 7, 9, 9, 10, 3, 4, 13, 10, 13, 13, 7, 3, 10, 11, 12, 14, 11, 5, 5, 13, 7, 7, 7, 4, 7, 5, 3, 3, 13, 7, 10, 12, 12, 11, 5, 7, 12, 5, 7, 9, 3, 10, 9, 1, 12, 7, 9, 9, 7, 4, 7, 9, 4, 12, 13, 9, 4, 12, 9, 9, 9, 12, 9, 10, 11, 9, 12, 5, 10, 13, 11, 11, 11, 11, 5, 3, 7, 9, 10, 3, 12, 9, 10, 5, 7, 10, 11, 7, 10, 9, 7, 7, 9, 11, 10, 7, 9, 0, 12, 12, 7, 7, 12, 9, 5, 13, 7, 10, 14, 10, 7, 10, 7, 12, 9, 9, 3, 13, 9, 4, 9, 13, 7, 9, 14, 3, 9, 1, 9, 5, 5, 12, 7, 5, 9, 14, 5, 11, 9, 12, 9, 12, 10, 10, 7, 10, 9, 12, 7, 5, 5, 12, 11, 3, 9, 9, 4, 12, 1, 10, 11, 7, 12, 14, 11, 10, 1, 7, 13, 9, 10, 14, 9, 9, 11, 12, 10, 7, 10, 9, 7, 13, 12, 0, 11, 10, 9, 12, 9, 3, 9, 12, 14, 10, 11, 14, 13, 14, 11, 12, 11, 1, 3, 13, 11, 11, 9, 12, 9, 9, 5, 11, 7, 10, 9, 11, 9, 11, 1, 10, 9, 14, 10, 3, 10, 7, 5, 14, 4, 11, 5, 13, 3, 9, 11, 12, 4, 5, 9, 13, 11, 14, 11, 11, 11, 7, 1, 9, 10, 14, 13, 10, 10, 7, 13, 9, 1, 10, 5, 7, 7, 5, 10, 3, 9, 5, 12, 5, 14, 12, 12, 4, 12, 10, 10, 13, 14, 5, 10, 12, 13, 10, 9, 0, 4, 10, 13, 3, 13, 14, 9, 12, 13, 13, 13, 11, 3, 9, 12, 12, 1, 4, 12, 13, 10, 11, 7, 5, 9, 12, 3, 3, 10, 12, 10, 4, 11, 7, 7, 11, 5, 12, 12, 13, 11, 7, 7, 10, 5, 10, 9, 7, 5, 11, 10, 7, 10, 12, 9, 10, 9, 11, 12, 9, 9, 9, 13, 5, 9, 9, 7, 5, 5, 7, 9, 5, 5, 7, 3, 10, 9, 5, 12, 14, 9, 10, 1, 12, 4, 4, 10, 12, 12, 12, 5, 12, 10, 12, 11, 5, 3, 12, 13, 5, 11, 9, 4, 11, 11, 10, 9, 4, 9, 10, 12, 10, 5, 11, 7, 11, 14, 7, 5, 11, 9, 4, 9, 9, 10, 10, 5, 13, 9, 10, 10, 3, 11, 12, 7, 11, 11, 11, 11, 9, 10, 7, 4, 3, 11, 7, 11, 9, 5, 13, 4, 11, 13, 9, 9, 5, 7, 9, 7, 4, 5, 12, 10, 13, 10, 5, 9, 10, 11, 11, 7, 11, 11, 9, 9, 11, 9, 11, 9, 4, 9, 5, 3, 7, 14, 5, 10, 12, 10, 10, 9, 9, 9, 5, 4, 12, 4, 12, 9, 9, 7, 7, 3, 11, 4, 1, 4, 10, 3, 10, 9, 11, 11, 11, 4, 3, 3, 12, 5, 11, 11, 11, 7, 15, 3, 5, 7, 12, 10, 9, 10, 4, 9, 10, 5, 7, 5, 4, 9, 10, 11, 9, 10, 13, 10, 7, 12, 12, 4, 9, 10, 10, 5, 5, 4, 10, 3, 9, 9, 12, 5, 9, 10, 7, 10, 11, 9, 12, 11, 14, 14, 5, 12, 7, 10, 7, 11, 13, 10, 9, 13, 10, 10, 13, 10, 3, 7, 7, 10, 7, 11, 14, 7, 10, 5, 7, 7, 11, 13, 11, 9, 7, 11, 10, 9, 5, 4, 10, 12, 7, 14, 3, 10, 14, 5, 4, 7, 9, 10, 9, 7, 7, 3, 3, 12, 10, 3, 14, 7, 7, 7, 13, 13, 9, 10, 14, 7, 7, 4, 7, 4, 11, 4, 10, 5, 12, 5, 13, 7, 5, 4, 13, 12, 10, 12, 11, 7, 7, 12, 12, 11, 11, 11, 5, 11, 7, 11, 9, 7, 5, 9, 5, 12, 0, 11, 11, 10, 7, 10, 7, 5, 14, 13, 10, 11, 14, 3, 4, 7, 4, 7, 7, 9, 11, 10, 7, 4, 10, 10, 12, 9, 10, 12, 1, 10, 14, 10, 3, 10, 14, 11, 12, 11, 10, 12, 9, 10, 5, 4, 9, 4, 3, 11, 9, 7, 5, 10, 10, 9, 4, 3, 10, 7, 1, 13, 7, 5, 10, 5, 7, 9, 0, 10, 13, 11, 12, 12, 7, 13, 12, 4, 11, 15, 10, 15, 11, 10, 5, 14, 4, 10, 14, 11, 9, 9, 11, 10, 5, 4, 4, 5, 9, 9, 12, 12, 11, 3, 9, 9, 11, 15, 10, 11, 9, 7, 7, 0, 7, 13, 5, 14, 11, 10, 12, 7, 14, 10, 11, 3, 4, 5, 10, 3, 9, 9, 4, 5, 14, 5, 10, 11, 9, 5, 14, 11, 0, 11, 11, 7, 7, 3, 12, 7, 11, 0, 4, 5, 9, 1, 4, 13, 10, 13, 4, 11, 3, 11, 5, 9, 9, 13, 7, 13, 11, 7, 14, 9, 14, 12, 11, 12, 9, 9, 7, 7, 14, 9, 7, 9, 9, 11, 7, 11, 11, 9, 4, 11, 3, 10, 11, 9, 9, 12, 5, 7, 12, 5, 10, 14, 11, 13, 5, 4, 10, 9, 7, 5, 9, 11, 3, 7, 12, 9, 14, 3, 10, 12, 13, 12, 1, 12, 9, 5, 5, 5, 10, 10, 4, 9, 10, 10, 9, 10, 11, 5, 12, 7, 10, 7, 7, 14, 13, 13, 10, 9, 10, 9, 3, 12, 9, 11, 11, 10, 11, 7, 12, 12, 4, 14, 13, 15, 3, 10, 3, 3, 5, 10, 10, 13, 7, 10, 14, 11, 5, 14, 7, 0, 11, 7, 5, 14, 10, 12, 3, 5, 3, 12, 13, 10, 7, 14, 9, 11, 4, 11, 11, 11, 9, 3, 5, 9, 10, 11, 10, 13, 5, 14, 1, 5, 11, 5, 10, 5, 4, 10, 9, 9, 9, 9, 7, 9, 12, 12, 5, 3, 10, 5, 12, 10, 9, 11, 11, 7, 9, 10, 9, 12, 10, 9, 13, 12, 7, 7, 7, 9, 13, 5, 12, 9, 11, 10, 5, 9, 4, 9, 9, 14, 4, 4, 10, 9, 10, 11, 9, 11, 9, 11, 5, 10, 9, 11, 12, 5, 1, 13, 5, 13, 5, 11, 14, 9, 10, 1, 7, 4, 5, 9, 5, 4, 12, 11, 13, 5, 10, 12, 12, 10, 9, 5, 7, 5, 13, 14, 10, 5, 9, 11, 12, 5, 4, 9, 11, 4, 14, 7, 11, 10, 9, 9, 13, 12, 7, 9, 14, 10, 7, 13, 14, 12, 9, 9, 14, 11, 10, 11, 13, 4, 10, 11, 11, 5, 11, 9, 11, 11, 9, 9, 5, 3, 9, 0, 15, 11, 10, 9, 11, 7, 5, 5, 9, 9, 9, 12, 15, 10, 10, 7, 10, 9, 14, 9, 12, 10, 9, 14, 7, 3, 10, 11, 5, 0, 11, 9, 9, 9, 3, 13, 5, 5, 12, 10, 7, 14, 13, 11, 9, 5, 11, 7, 9, 11, 12, 10, 14, 12, 9, 9, 9, 13, 12, 7, 9, 10, 0, 9, 9, 14, 12, 12, 9, 9, 11, 14, 14, 4, 7, 5, 7, 9, 9, 7, 12, 9, 11, 13, 4, 10, 7, 9, 5, 4, 10, 7, 7, 11, 11, 3, 12, 9, 9, 3, 7, 13, 14, 9, 11, 10, 9, 9, 9, 9, 11, 10, 7, 7, 12, 9, 3, 13, 4, 12, 13, 9, 3, 11, 11, 10, 10, 7, 10, 7, 13, 12, 11, 13, 14, 9, 7, 10, 10, 13, 7, 4, 7, 9, 3, 5, 10, 12, 9, 13, 12, 7, 9, 10, 11, 12, 12, 9, 12, 9, 13, 11, 13, 4, 10, 12, 13, 7, 5, 7, 13, 5, 11, 9, 10, 9, 11, 9, 7, 7, 4, 3, 9, 10, 10, 11, 12, 9, 11, 10, 10, 5, 15, 12, 12, 7, 7, 13, 11, 10, 9, 13, 9, 11, 5, 3, 10, 10, 12, 7, 9, 12, 11, 11, 10, 14, 9, 14, 10, 7, 9, 5, 7, 11, 14, 5, 9, 5, 3, 11, 7, 3, 7, 11, 10, 11, 13, 13, 12, 9, 5, 11, 7, 13, 11, 11, 10, 11, 11, 14, 9, 13, 4, 5, 11, 5, 13, 11, 4, 9, 11, 9, 0, 11, 3, 0, 7, 9, 5, 13, 3, 5, 5, 12, 13, 7, 5, 3, 3, 11, 9, 11, 12, 10, 10, 11, 7, 7, 10, 11, 13, 3, 13, 4, 14, 9, 10, 11, 4, 9, 13, 15, 12, 7, 10, 10, 5, 11, 11, 12, 7, 5, 11, 14, 9, 4, 11, 10, 13, 13, 13, 5, 5, 12, 10, 9, 10, 10, 5, 10, 12, 9, 4, 7, 9, 11, 9, 11, 0, 5, 12, 14, 12, 14, 10, 7, 7, 3, 10, 9, 13, 11, 10, 10, 9, 9, 4, 10, 10, 5, 11, 7, 11, 12, 10, 7, 14, 7, 0, 13, 10, 12, 13, 11, 14, 10, 10, 7, 14, 5, 7, 14, 9, 10, 1, 11, 12, 9, 11, 12, 7, 3, 9, 12, 9, 10]\n",
      "True Labels:\n",
      "[8, 8, 9, 9, 16, 11, 8, 6, 10, 7, 12, 10, 7, 9, 6, 11, 7, 13, 10, 1, 10, 13, 8, 10, 8, 8, 10, 9, 13, 8, 11, 13, 3, 10, 6, 6, 7, 8, 5, 11, 13, 8, 10, 12, 11, 9, 8, 4, 5, 2, 12, 9, 15, 10, 10, 6, 5, 1, 4, 0, 4, 9, 12, 9, 10, 5, 13, 4, 2, 11, 7, 12, 9, 12, 11, 8, 6, 8, 6, 7, 9, 3, 8, 5, 8, 7, 6, 15, 11, 9, 4, 7, 2, 4, 11, 11, 12, 11, 11, 15, 13, 8, 14, 11, 9, 2, 12, 5, 12, 3, 10, 10, 4, 14, 2, 9, 8, 9, 7, 6, 7, 3, 10, 11, 13, 13, 11, 6, 11, 12, 11, 9, 8, 13, 13, 7, 15, 8, 3, 10, 11, 11, 11, 9, 8, 10, 3, 7, 12, 11, 4, 5, 11, 10, 7, 8, 4, 8, 7, 8, 7, 13, 6, 8, 6, 10, 7, 9, 7, 14, 13, 2, 2, 10, 6, 11, 9, 1, 9, 11, 8, 7, 12, 14, 8, 14, 8, 1, 5, 15, 5, 10, 3, 12, 13, 5, 7, 5, 13, 9, 7, 3, 4, 4, 12, 8, 8, 5, 6, 5, 7, 0, 9, 7, 8, 11, 14, 10, 16, 11, 6, 10, 11, 4, 14, 4, 8, 6, 11, 11, 7, 12, 15, 10, 4, 8, 6, 6, 9, 12, 9, 9, 8, 7, 3, 7, 11, 4, 10, 11, 9, 10, 8, 9, 9, 9, 9, 13, 8, 9, 8, 14, 10, 11, 14, 5, 6, 9, 8, 2, 12, 7, 11, 4, 4, 10, 11, 8, 10, 11, 14, 8, 12, 7, 13, 8, 7, 15, 6, 7, 10, 13, 12, 9, 13, 5, 10, 6, 7, 7, 11, 7, 7, 6, 3, 9, 8, 2, 11, 2, 5, 0, 9, 10, 6, 11, 8, 9, 9, 4, 11, 9, 9, 6, 6, 10, 8, 8, 13, 10, 10, 5, 1, 4, 8, 6, 12, 7, 5, 13, 10, 8, 3, 7, 10, 5, 5, 10, 8, 13, 9, 11, 13, 11, 8, 3, 6, 9, 10, 3, 7, 7, 10, 10, 11, 6, 0, 11, 1, 15, 5, 9, 10, 14, 13, 5, 13, 13, 11, 11, 8, 7, 7, 11, 6, 9, 12, 6, 10, 5, 10, 9, 3, 12, 12, 1, 0, 7, 9, 10, 10, 14, 7, 14, 14, 9, 6, 10, 11, 12, 5, 0, 6, 8, 14, 9, 9, 10, 8, 8, 5, 7, 15, 8, 14, 6, 9, 8, 9, 11, 12, 8, 7, 11, 8, 11, 3, 10, 9, 1, 9, 14, 3, 14, 13, 9, 11, 8, 6, 8, 5, 14, 5, 14, 8, 9, 8, 5, 1, 5, 6, 9, 5, 9, 8, 14, 11, 2, 4, 9, 13, 12, 10, 11, 9, 9, 8, 4, 9, 10, 6, 9, 8, 14, 10, 6, 1, 10, 5, 8, 8, 8, 7, 7, 10, 12, 7, 13, 12, 3, 11, 6, 8, 3, 7, 6, 6, 12, 6, 8, 6, 5, 7, 8, 6, 7, 4, 8, 14, 7, 2, 10, 10, 12, 5, 8, 3, 13, 9, 10, 7, 7, 9, 6, 9, 7, 13, 9, 12, 8, 13, 7, 5, 10, 0, 11, 2, 13, 7, 14, 6, 9, 10, 13, 5, 11, 8, 7, 3, 11, 14, 14, 6, 3, 5, 5, 9, 6, 11, 10, 14, 15, 8, 6, 9, 5, 8, 5, 9, 12, 13, 11, 10, 11, 6, 6, 11, 12, 12, 4, 2, 11, 6, 13, 9, 10, 3, 7, 12, 10, 4, 7, 9, 9, 10, 7, 14, 13, 10, 13, 13, 7, 3, 10, 6, 12, 14, 8, 5, 5, 8, 6, 7, 7, 4, 7, 5, 3, 3, 8, 7, 10, 12, 12, 8, 7, 7, 12, 5, 7, 9, 7, 10, 6, 6, 5, 7, 9, 8, 7, 4, 7, 9, 4, 1, 13, 9, 4, 11, 9, 9, 9, 12, 9, 10, 11, 9, 12, 5, 7, 6, 11, 6, 11, 11, 4, 8, 7, 9, 10, 3, 12, 9, 10, 8, 8, 10, 1, 6, 10, 9, 1, 2, 9, 11, 6, 7, 9, 8, 8, 12, 7, 8, 12, 9, 5, 13, 1, 10, 8, 10, 7, 10, 8, 12, 9, 9, 8, 8, 8, 4, 9, 13, 2, 9, 14, 3, 8, 1, 15, 6, 5, 4, 7, 2, 9, 8, 5, 11, 9, 12, 6, 12, 10, 6, 7, 10, 6, 12, 7, 5, 5, 8, 11, 8, 9, 9, 8, 12, 1, 10, 11, 7, 12, 14, 11, 10, 1, 7, 13, 9, 10, 14, 10, 9, 8, 12, 10, 7, 2, 9, 15, 13, 2, 0, 11, 5, 11, 12, 9, 3, 9, 12, 8, 10, 11, 14, 8, 14, 11, 12, 14, 1, 3, 8, 11, 0, 9, 12, 13, 6, 8, 11, 7, 10, 9, 6, 6, 11, 6, 10, 9, 8, 10, 3, 10, 7, 5, 6, 4, 15, 5, 8, 3, 6, 11, 12, 4, 7, 9, 13, 11, 12, 11, 11, 11, 7, 8, 6, 6, 14, 13, 10, 10, 7, 13, 8, 1, 10, 8, 7, 7, 5, 10, 3, 9, 5, 12, 5, 2, 4, 8, 4, 6, 10, 8, 13, 14, 2, 10, 12, 13, 10, 8, 0, 4, 10, 13, 3, 15, 12, 9, 12, 13, 13, 13, 11, 3, 4, 6, 12, 1, 16, 12, 13, 10, 11, 8, 5, 9, 12, 3, 3, 10, 12, 3, 4, 11, 7, 7, 11, 5, 8, 6, 13, 11, 5, 7, 10, 5, 10, 6, 7, 5, 11, 10, 7, 10, 12, 8, 10, 9, 11, 12, 8, 9, 11, 13, 5, 9, 8, 7, 5, 5, 7, 9, 5, 6, 8, 3, 10, 8, 5, 8, 8, 9, 10, 1, 12, 2, 6, 10, 8, 8, 6, 5, 8, 6, 12, 11, 5, 3, 12, 2, 5, 11, 9, 4, 8, 11, 10, 9, 4, 9, 10, 2, 10, 8, 11, 7, 6, 14, 7, 5, 11, 9, 4, 9, 9, 10, 10, 5, 13, 6, 10, 10, 8, 11, 12, 8, 8, 9, 11, 11, 6, 10, 7, 4, 4, 11, 7, 8, 8, 13, 9, 4, 11, 13, 9, 9, 5, 6, 9, 7, 6, 14, 12, 6, 8, 10, 6, 8, 10, 11, 11, 7, 11, 12, 9, 9, 12, 9, 12, 9, 4, 9, 5, 3, 6, 11, 5, 10, 8, 10, 10, 9, 9, 9, 5, 4, 12, 6, 12, 9, 9, 7, 7, 3, 8, 6, 1, 4, 10, 6, 10, 9, 11, 11, 11, 4, 3, 3, 12, 5, 11, 11, 11, 7, 15, 3, 5, 7, 12, 10, 8, 10, 8, 9, 1, 5, 7, 5, 11, 9, 10, 11, 9, 10, 3, 10, 7, 12, 12, 4, 8, 10, 10, 8, 5, 4, 10, 6, 9, 11, 12, 5, 9, 10, 7, 10, 6, 9, 6, 8, 14, 14, 5, 8, 7, 10, 7, 8, 8, 10, 9, 12, 10, 10, 13, 9, 4, 2, 12, 10, 7, 11, 14, 7, 10, 5, 7, 7, 11, 13, 11, 6, 7, 11, 10, 9, 5, 4, 10, 8, 7, 6, 3, 10, 13, 5, 4, 7, 9, 8, 9, 6, 7, 6, 3, 12, 10, 15, 8, 8, 7, 8, 13, 13, 8, 10, 14, 7, 7, 8, 7, 6, 8, 4, 10, 5, 6, 8, 13, 8, 5, 4, 13, 12, 6, 8, 8, 1, 8, 8, 12, 8, 11, 11, 11, 8, 7, 11, 9, 7, 5, 6, 5, 6, 0, 12, 11, 6, 7, 10, 7, 5, 11, 13, 10, 15, 14, 3, 4, 7, 4, 12, 7, 9, 11, 8, 7, 3, 10, 10, 12, 9, 10, 12, 1, 2, 14, 10, 3, 10, 14, 11, 12, 11, 10, 12, 9, 8, 6, 4, 9, 6, 10, 11, 2, 7, 5, 10, 10, 9, 4, 3, 10, 2, 2, 13, 7, 8, 10, 5, 7, 9, 6, 10, 13, 11, 12, 8, 7, 13, 6, 8, 11, 4, 10, 15, 6, 10, 8, 6, 1, 10, 14, 11, 14, 9, 11, 10, 5, 4, 4, 5, 9, 9, 12, 6, 11, 3, 9, 6, 11, 15, 10, 11, 9, 10, 7, 8, 7, 13, 5, 6, 11, 10, 12, 10, 14, 10, 11, 3, 4, 5, 10, 6, 9, 9, 4, 5, 12, 5, 10, 11, 9, 6, 14, 6, 0, 11, 11, 7, 7, 2, 12, 7, 11, 4, 6, 5, 6, 8, 4, 13, 8, 13, 4, 11, 3, 6, 5, 6, 9, 13, 7, 6, 11, 7, 6, 9, 14, 4, 11, 6, 8, 9, 7, 7, 0, 2, 7, 9, 15, 11, 7, 11, 11, 9, 4, 11, 0, 6, 6, 6, 9, 12, 5, 7, 12, 5, 10, 14, 11, 13, 5, 4, 10, 9, 7, 5, 9, 11, 3, 12, 8, 6, 14, 3, 8, 12, 8, 14, 1, 12, 9, 5, 5, 5, 10, 10, 4, 9, 12, 10, 9, 10, 11, 5, 12, 7, 10, 7, 7, 14, 13, 13, 10, 9, 10, 9, 3, 3, 9, 11, 11, 10, 11, 7, 2, 12, 4, 14, 6, 15, 3, 5, 6, 3, 8, 10, 10, 13, 7, 15, 15, 11, 5, 14, 3, 8, 9, 7, 5, 1, 8, 12, 3, 5, 3, 7, 13, 13, 0, 8, 9, 8, 2, 11, 11, 11, 9, 3, 5, 9, 10, 11, 10, 13, 5, 8, 1, 5, 11, 5, 2, 5, 4, 10, 9, 9, 9, 9, 2, 9, 12, 10, 5, 3, 10, 6, 6, 10, 6, 2, 4, 7, 9, 10, 9, 12, 10, 9, 8, 12, 7, 7, 7, 9, 8, 6, 12, 14, 11, 10, 6, 9, 4, 8, 9, 14, 11, 4, 10, 9, 12, 11, 9, 11, 12, 11, 5, 10, 9, 11, 12, 5, 1, 13, 5, 8, 5, 10, 8, 9, 10, 8, 7, 4, 5, 9, 5, 4, 12, 8, 13, 8, 10, 12, 12, 6, 6, 4, 7, 6, 13, 8, 6, 6, 6, 11, 12, 5, 4, 9, 11, 8, 14, 7, 8, 10, 9, 8, 13, 12, 8, 8, 8, 10, 7, 13, 14, 11, 9, 9, 1, 10, 10, 2, 8, 4, 14, 11, 11, 11, 11, 9, 8, 4, 9, 8, 5, 4, 8, 8, 15, 11, 10, 9, 11, 6, 5, 6, 9, 9, 6, 12, 8, 10, 10, 7, 10, 6, 14, 9, 8, 10, 12, 14, 7, 3, 8, 6, 8, 0, 11, 9, 9, 9, 8, 13, 10, 5, 12, 10, 7, 14, 13, 11, 6, 5, 6, 7, 6, 14, 12, 6, 6, 6, 9, 9, 9, 13, 2, 7, 9, 6, 6, 9, 6, 14, 12, 12, 9, 9, 11, 14, 15, 4, 6, 5, 7, 8, 9, 7, 2, 6, 11, 13, 4, 10, 7, 8, 5, 10, 8, 2, 7, 8, 11, 3, 12, 9, 9, 3, 7, 13, 14, 9, 11, 10, 9, 9, 6, 9, 11, 10, 7, 7, 6, 9, 3, 13, 8, 6, 13, 9, 3, 8, 11, 10, 10, 6, 14, 7, 13, 12, 6, 13, 14, 9, 3, 10, 10, 13, 7, 4, 6, 9, 3, 5, 10, 12, 9, 13, 12, 7, 9, 10, 8, 6, 6, 9, 6, 9, 3, 11, 13, 4, 6, 12, 13, 8, 8, 12, 13, 5, 9, 9, 8, 9, 11, 9, 7, 7, 1, 3, 6, 6, 10, 11, 8, 9, 11, 10, 10, 5, 15, 12, 8, 14, 7, 13, 11, 6, 9, 6, 3, 11, 5, 2, 4, 6, 12, 7, 9, 12, 11, 0, 10, 14, 2, 14, 10, 7, 2, 2, 7, 11, 14, 5, 9, 5, 6, 11, 7, 3, 7, 11, 10, 7, 13, 13, 12, 9, 5, 8, 7, 7, 11, 11, 10, 11, 11, 14, 9, 13, 4, 5, 11, 5, 13, 8, 4, 9, 11, 9, 0, 8, 6, 0, 7, 9, 5, 6, 8, 8, 14, 12, 13, 7, 5, 3, 6, 11, 9, 11, 6, 10, 6, 11, 6, 7, 10, 11, 8, 3, 13, 4, 14, 9, 10, 8, 8, 6, 13, 15, 8, 7, 10, 13, 5, 8, 8, 12, 7, 6, 11, 14, 9, 4, 6, 10, 13, 13, 13, 5, 5, 12, 6, 8, 10, 10, 5, 10, 12, 9, 4, 7, 9, 11, 9, 11, 0, 5, 12, 8, 9, 12, 10, 7, 7, 2, 10, 9, 13, 11, 10, 10, 9, 8, 4, 10, 8, 6, 11, 7, 11, 12, 0, 7, 14, 7, 6, 8, 10, 12, 13, 11, 14, 10, 4, 7, 14, 8, 8, 14, 8, 11, 1, 6, 12, 13, 11, 12, 7, 3, 9, 12, 9, 10]\n"
     ]
    }
   ],
   "source": [
    "\n",
    "# Initialize the model\n",
    "input_size = max_length  # MNIST images are 28x28 pixels\n",
    "hidden_size = [32, 32]\n",
    "output_size = 17  # 10 classes for digits 0 to 9\n",
    "activation_function = nn.ReLU\n",
    "num_epochs = 20\n",
    "\n",
    "# Create the model\n",
    "model = MLP(input_size, hidden_size, output_size, activation_function)\n",
    "\n",
    "# Here we create an instance of our custom_SGD class, giving as arguments the learning rate.\n",
    "optimizer = torch.optim.Adam(model.parameters(), lr=0.001)\n",
    "\n",
    "# Train the model\n",
    "train_model(model, optimizer, num_epochs=num_epochs)\n",
    "\n",
    "# Evaluate the model\n",
    "evaluate_model(model, test_loader)\n"
   ]
  },
  {
   "cell_type": "code",
   "execution_count": null,
   "metadata": {},
   "outputs": [],
   "source": []
  }
 ],
 "metadata": {
  "kernelspec": {
   "display_name": "Python 3",
   "language": "python",
   "name": "python3"
  },
  "language_info": {
   "codemirror_mode": {
    "name": "ipython",
    "version": 3
   },
   "file_extension": ".py",
   "mimetype": "text/x-python",
   "name": "python",
   "nbconvert_exporter": "python",
   "pygments_lexer": "ipython3",
   "version": "3.10.4"
  }
 },
 "nbformat": 4,
 "nbformat_minor": 2
}
