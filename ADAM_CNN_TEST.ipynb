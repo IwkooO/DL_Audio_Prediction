{
 "cells": [
  {
   "cell_type": "code",
   "execution_count": 1,
   "metadata": {},
   "outputs": [
    {
     "name": "stderr",
     "output_type": "stream",
     "text": [
      "100%|██████████| 10557/10557 [02:39<00:00, 66.33it/s]\n"
     ]
    },
    {
     "data": {
      "text/plain": [
       "10556"
      ]
     },
     "execution_count": 1,
     "metadata": {},
     "output_type": "execute_result"
    }
   ],
   "source": [
    "import pickle\n",
    "import os\n",
    "from tqdm import tqdm\n",
    "import numpy as np\n",
    "\n",
    "directory = 'data/train'\n",
    "\n",
    "length_list = []\n",
    "valence_values=[]\n",
    "\n",
    "recordings = []\n",
    "\n",
    "for filename in tqdm(os.listdir(directory)):\n",
    "    if filename.endswith('.pkl'):\n",
    "        file_path = os.path.join(directory, filename)\n",
    "        with open(file_path, 'rb') as file:\n",
    "            data = pickle.load(file)\n",
    "            if data['valence'] != 2.333: #and len(data['audio_data']) < 91000:\n",
    "                length_list.append(len(data['audio_data']))\n",
    "                valence_values.append(data['valence'])\n",
    "                recordings.append(data['audio_data'])\n",
    "\n",
    "valence_values = np.array(valence_values)\n",
    "len(recordings)"
   ]
  },
  {
   "cell_type": "code",
   "execution_count": 2,
   "metadata": {},
   "outputs": [
    {
     "data": {
      "text/plain": [
       "(10556, (174625,))"
      ]
     },
     "execution_count": 2,
     "metadata": {},
     "output_type": "execute_result"
    }
   ],
   "source": [
    "# Calculate the maximum length\n",
    "max_length = max(length_list)\n",
    "\n",
    "# Adjust the recordings to have the same length\n",
    "adjusted_recordings = []\n",
    "for recording in recordings:\n",
    "    # Repeat the array until it reaches or exceeds the maximum length\n",
    "    repeated_recording = np.tile(recording, (max_length // len(recording) + 1))[:max_length]\n",
    "    adjusted_recordings.append(repeated_recording)\n",
    "\n",
    "valence_values = np.array(valence_values)\n",
    "len(adjusted_recordings), adjusted_recordings[0].shape\n",
    "\n",
    "\n",
    "# for i in adjusted_recordings:\n",
    "#     print(i.shape)"
   ]
  },
  {
   "cell_type": "code",
   "execution_count": 3,
   "metadata": {},
   "outputs": [],
   "source": [
    "def round_to_nearest_quarter(number):\n",
    "    # Assuming 'number' could be a numpy array with a single value\n",
    "    if isinstance(number, np.ndarray) and number.size == 1:\n",
    "        number = number.item()  # Convert single-item array to scalar\n",
    "    \n",
    "    # Ensure the number is within the 1 to 5 range before processing\n",
    "    number = np.clip(number, 1, 5)\n",
    "    # Scale number to shift quarters to whole numbers, round, and rescale\n",
    "    rounded_number = np.round(number * 4) / 4\n",
    "    # Clip again to ensure no out-of-range values after rounding\n",
    "    rounded_number = np.clip(rounded_number, 1, 5)\n",
    "    return str(rounded_number)"
   ]
  },
  {
   "cell_type": "markdown",
   "metadata": {},
   "source": [
    "# Pre-process data"
   ]
  },
  {
   "cell_type": "code",
   "execution_count": 4,
   "metadata": {},
   "outputs": [
    {
     "name": "stderr",
     "output_type": "stream",
     "text": [
      "C:\\Users\\20211445\\AppData\\Local\\Temp\\ipykernel_10692\\3858996454.py:33: UserWarning: Creating a tensor from a list of numpy.ndarrays is extremely slow. Please consider converting the list to a single numpy.ndarray with numpy.array() before converting to a tensor. (Triggered internally at ..\\torch\\csrc\\utils\\tensor_new.cpp:248.)\n",
      "  X_train_tensor = torch.tensor(X_train, dtype=torch.float32).unsqueeze(1)  # Use float32 for input features\n"
     ]
    }
   ],
   "source": [
    "import torch\n",
    "from torch.utils.data import TensorDataset, DataLoader\n",
    "from sklearn.preprocessing import StandardScaler\n",
    "from sklearn.model_selection import train_test_split\n",
    "\n",
    "\n",
    "############################################################################################################\n",
    "# Standardize the recordings (not used in this example)\n",
    "# standard = StandardScaler()\n",
    "# adjusted_recordings = standard.fit_transform(adjusted_recordings)\n",
    "#print(adjusted_recordings)\n",
    "\n",
    "############################################################################################################\n",
    "# Pad the recordings to have the same length\n",
    "max_length = max(len(array) for array in recordings)  # Find the maximum length\n",
    "\n",
    "### Padding with zeros\n",
    "# # Pad each array to have the maximum length\n",
    "# padded_arrays = np.array([np.pad(array, (0, max_length - len(array)), mode='constant') for array in recordings])\n",
    "\n",
    "\n",
    "############################################################################################################\n",
    "# Split the data and labels into training and validation sets\n",
    "X_train, X_val, y_train, y_val = train_test_split(adjusted_recordings, valence_values, test_size=0.2, random_state=42)\n",
    "\n",
    "\n",
    "############################################################################################################\n",
    "# Create a DataLoader for the training set, test set, and validation set\n",
    "\n",
    "batch_size = 256  \n",
    "\n",
    "# Convert input data and labels to tensors\n",
    "X_train_tensor = torch.tensor(X_train, dtype=torch.float32).unsqueeze(1)  # Use float32 for input features\n",
    "y_train_tensor = torch.tensor(y_train, dtype=torch.float32)  # Use float32 for labels\n",
    "\n",
    "# Create a dataset from tensors\n",
    "train_dataset = TensorDataset(X_train_tensor, y_train_tensor)\n",
    "\n",
    "# Create a DataLoader\n",
    "train_loader = DataLoader(train_dataset, batch_size=batch_size, shuffle=True)\n",
    "\n",
    "\n",
    "\n",
    "############################################################################################################\n",
    "# Validation set\n",
    "X_validation_tensor = torch.tensor(X_val, dtype=torch.float32).unsqueeze(1)\n",
    "y_validation_tensor = torch.tensor(y_val, dtype=torch.float32)\n",
    "\n",
    "validation_dataset = TensorDataset(X_validation_tensor, y_validation_tensor)\n",
    "validation_loader = DataLoader(validation_dataset, batch_size=batch_size, shuffle=False)\n",
    "\n",
    "\n"
   ]
  },
  {
   "cell_type": "code",
   "execution_count": 5,
   "metadata": {},
   "outputs": [
    {
     "data": {
      "text/plain": [
       "(torch.Size([8444, 1, 174625]), torch.Size([8444]))"
      ]
     },
     "execution_count": 5,
     "metadata": {},
     "output_type": "execute_result"
    }
   ],
   "source": [
    "train_loader.dataset.tensors[0].shape, train_loader.dataset.tensors[1].shape"
   ]
  },
  {
   "cell_type": "code",
   "execution_count": 6,
   "metadata": {},
   "outputs": [],
   "source": [
    "import torch\n",
    "from tqdm import tqdm\n",
    "import torch.nn as nn\n",
    "import torch.optim as optim\n",
    "import torch.nn.functional as F\n",
    "from sklearn.metrics import confusion_matrix\n",
    "import matplotlib.pyplot as plt\n",
    "import seaborn as sns\n",
    "import torchaudio.transforms as transforms\n",
    "from torch.optim.lr_scheduler import ReduceLROnPlateau\n",
    "\n",
    "models = {}\n",
    "\n",
    "\n",
    "class ResidualBlock(nn.Module):\n",
    "    def __init__(self, channels, kernel_size=7, dilation=2):\n",
    "        super(ResidualBlock, self).__init__()\n",
    "\n",
    "\n",
    "        padding = (kernel_size - 1) * dilation // 2  \n",
    "\n",
    "        # 1st Convolutional Layer\n",
    "        self.conv1 = nn.Conv1d(channels, channels, kernel_size=kernel_size, padding=padding, dilation=dilation)\n",
    "        self.bn1 = nn.BatchNorm1d(channels)\n",
    "        self.relu = nn.ReLU(inplace=True)\n",
    "\n",
    "        # 2nd Convolutional Layer\n",
    "        self.conv2 = nn.Conv1d(channels, channels, kernel_size=kernel_size, padding=padding, dilation=dilation)\n",
    "        self.bn2 = nn.BatchNorm1d(channels)\n",
    "\n",
    "    def forward(self, x):\n",
    "        residual = x  \n",
    "        out = self.conv1(x)\n",
    "        out = self.bn1(out)\n",
    "        out = self.relu(out)\n",
    "        out = self.conv2(out)\n",
    "        out = self.bn2(out)\n",
    "        \n",
    "        #  addition of input to the output -- residual connection\n",
    "        out += residual  \n",
    "        out = self.relu(out)\n",
    "        return out\n",
    "\n",
    "class CNN(nn.Module):\n",
    "    def __init__(self):\n",
    "        super(CNN, self).__init__()\n",
    "\n",
    "        # Random seed for reproducibility\n",
    "        torch.manual_seed(42)\n",
    "\n",
    "\n",
    "        self.mfcc_transform = transforms.MFCC(\n",
    "            sample_rate=8000,      ## \n",
    "            n_mfcc=24              ## Created channels\n",
    "        )\n",
    "\n",
    "\n",
    "        self.layers = nn.ModuleList()\n",
    "        \n",
    "        # Start with 1D BatchNorm\n",
    "        self.layers.append(nn.BatchNorm1d(24))\n",
    "\n",
    "\n",
    "        ###########################\n",
    "        # 1st Convolutional Layer\n",
    "        ###########################\n",
    "\n",
    "        conv1 = nn.Conv1d(in_channels=24, out_channels=64, kernel_size=7, padding=1)\n",
    "        # Initialize the weight using He initialization\n",
    "        nn.init.kaiming_normal_(conv1.weight, nonlinearity='relu')\n",
    "        self.layers.append(conv1)\n",
    "        self.layers.append(nn.BatchNorm1d(64))\n",
    "        self.layers.append(nn.ReLU())\n",
    "        self.layers.append(nn.MaxPool1d(kernel_size=3))\n",
    "        self.layers.append(nn.Dropout(0.3))\n",
    "\n",
    "        ###########################\n",
    "        # Residual Block\n",
    "        ###########################\n",
    "        self.layers.append(ResidualBlock(64))\n",
    "\n",
    "        ###########################\n",
    "        # 2nd Convolutional Layer\n",
    "        ###########################\n",
    "        \n",
    "        conv2 = nn.Conv1d(in_channels=64, out_channels=48, kernel_size=7, padding=1)\n",
    "        # He initialization\n",
    "        nn.init.kaiming_normal_(conv2.weight, nonlinearity='relu')\n",
    "        self.layers.append(conv2)\n",
    "        self.layers.append(nn.BatchNorm1d(48))\n",
    "        self.layers.append(nn.ReLU())\n",
    "\n",
    "        ###########################\n",
    "        # 3rd Convolutional Layer\n",
    "        ###########################\n",
    "\n",
    "        conv3 = nn.Conv1d(in_channels=48, out_channels=12, kernel_size=7, padding=1,dilation=2)\n",
    "        # He initialization\n",
    "        nn.init.kaiming_normal_(conv3.weight, nonlinearity='relu')\n",
    "        self.layers.append(conv3)\n",
    "        self.layers.append(nn.BatchNorm1d(12))\n",
    "        self.layers.append(nn.ReLU())\n",
    "        self.layers.append(nn.MaxPool1d(kernel_size=3))\n",
    "        self.layers.append(nn.Dropout(0.25))\n",
    "\n",
    "        ###########################\n",
    "        # Flatten\n",
    "        ###########################\n",
    "        self.layers.append(nn.Flatten())\n",
    "\n",
    "        ###########################\n",
    "        # 1st Fully Connected Layer\n",
    "        ###########################\n",
    "\n",
    "        linear1= nn.Linear(1104,256)\n",
    "        nn.init.kaiming_normal_(linear1.weight, nonlinearity='relu')\n",
    "        self.layers.append(linear1)\n",
    "        self.layers.append(nn.ReLU())\n",
    "        \n",
    "        ###########################\n",
    "        # 2nd Fully Connected Layer\n",
    "        ###########################\n",
    "        linear2 = nn.Linear(256, 1)\n",
    "        nn.init.kaiming_normal_(linear2.weight, nonlinearity='relu')\n",
    "        self.layers.append(linear2)\n",
    "\n",
    "\n",
    "\n",
    "\n",
    "    \n",
    "    def forward(self, x):\n",
    "        x = self.mfcc_transform(x)\n",
    "        x = x.squeeze(1)\n",
    "        for layer in self.layers:\n",
    "            x = layer(x)\n",
    "            #print(x.shape)\n",
    "        return x.view(-1)\n",
    "\n",
    "\n",
    "### CUDA\n",
    "device = torch.device(\"cuda\" if torch.cuda.is_available() else \"cpu\")\n",
    "\n",
    "    # Training Cycle\n",
    "\n",
    "def train_model(MLP_model, optimizer, num_epochs,save_dir = 'model_checkpoint/'):\n",
    "        if not os.path.exists(save_dir):\n",
    "            os.makedirs(save_dir)\n",
    "\n",
    "        criterion = nn.MSELoss()\n",
    "        # Training loop\n",
    "        for epoch in tqdm(range(num_epochs)):\n",
    "            MLP_model.train()\n",
    "            total_loss = 0\n",
    "\n",
    "            for inputs, labels in train_loader:\n",
    "                inputs, labels = inputs.to(device), labels.to(device)  # To GPU\n",
    "                outputs = MLP_model(inputs)  # Forward pass\n",
    "                loss = criterion(outputs, labels)  # Compute the loss\n",
    "                loss.backward()  # Backward pass\n",
    "                optimizer.step()\n",
    "                total_loss += loss.item()\n",
    "            \n",
    "            # Print the loss every epoch\n",
    "            print(f'Epoch [{epoch + 1}/{num_epochs}], Loss: {total_loss / len(train_loader):.4f}')\n",
    "            if epoch > 1:\n",
    "                # Set the model to evaluation mode and calculate the loss for the validation set\n",
    "                MLP_model.eval() \n",
    "                val_eval = evaluate_model(MLP_model, validation_loader,conf=False)\n",
    "                print(f'Validation: {val_eval}')\n",
    "                # Set the model back to training mode\n",
    "                MLP_model.train()\n",
    "            print('--------------------------------------------------')\n",
    "\n",
    "            # Save the model at each epoch using torch.save\n",
    "            torch.save({\n",
    "                'epoch': epoch,\n",
    "                'model_state_dict': MLP_model.state_dict(),\n",
    "                'optimizer_state_dict': optimizer.state_dict(),\n",
    "            }, os.path.join(save_dir, f'model_epoch_{epoch}.pth'))\n",
    "                    \n",
    "        print(evaluate_model(MLP_model, train_loader,conf=True))\n",
    "\n",
    "\n",
    "\n",
    "def evaluate_model(MLP_model, test_loader,conf=False):\n",
    "    with torch.no_grad():\n",
    "\n",
    "        ### Calculate MSE \n",
    "        predictions = []\n",
    "        actuals = []\n",
    "        actuals_for_cm = []\n",
    "        rounded_predictions = []\n",
    "        for inputs, labels in test_loader:\n",
    "            inputs, labels = inputs.to(device), labels.to(device)\n",
    "            outputs = MLP_model(inputs)\n",
    "            predictions.extend(outputs.cpu().numpy())\n",
    "            actuals.extend(labels.cpu().numpy())\n",
    "            actuals_for_cm.extend([str(label) for label in labels.cpu().numpy()])\n",
    "            rounded_predictions.extend([str(round_to_nearest_quarter(output)) for output in outputs.cpu().numpy()])\n",
    "\n",
    "        predictions = np.array(predictions)\n",
    "        actuals = np.array(actuals)\n",
    "        mse = np.mean((predictions - actuals) ** 2)\n",
    "        mae = np.mean(np.abs(predictions - actuals))\n",
    "        #print(f'Mean Squared Error: {mse:.4f} and Mean Absolute Error: {mae:.4f}')\n",
    "\n",
    "        # for i in range(10):\n",
    "        #     print(f\"Predictions: {predictions[i]}\")\n",
    "        #     print(f\"Actuals: {actuals[i]}\")\n",
    "        #     print(f\"Rounded Predictions: {rounded_predictions[i]}\")\n",
    "        \n",
    "        ##################\n",
    "        # Confusion Matrix\n",
    "        ##################\n",
    "        if conf:\n",
    "            ### Confusion Matrix\n",
    "            cm = confusion_matrix(actuals_for_cm, rounded_predictions)\n",
    "            plt.figure(figsize=(10, 8))\n",
    "            sns.heatmap(cm, annot=True, fmt='g', cmap='Blues', xticklabels=np.unique(actuals), yticklabels=np.unique(actuals))\n",
    "            plt.xlabel('Predicted')\n",
    "            plt.ylabel('Actual')\n",
    "            plt.title('Confusion Matrix')\n",
    "            plt.show()\n",
    "            ### Accuracy\n",
    "            accuracy = np.trace(cm) / np.sum(cm)\n",
    "            print(f'Accuracy: {accuracy:.4f}')\n",
    "        return f'Mean Squared Error: {mse:.4f} and Mean Absolute Error: {mae:.4f}'\n",
    "\n",
    "\n",
    "\n",
    "############################################################################################################\n",
    "### PREDICT\n",
    "def predict(model, data, device):\n",
    "    model.eval()  \n",
    "    data = data.to(device)  \n",
    "    with torch.no_grad(): \n",
    "        predictions = []\n",
    "        for sample in data:\n",
    "            sample = sample.unsqueeze(0)  \n",
    "            output = model(sample)\n",
    "            predictions.append(output.item())\n",
    "    return predictions\n",
    "\n",
    "\n",
    "\n",
    "\n",
    "\n",
    "            \n",
    "        \n",
    "\n",
    "        \n"
   ]
  },
  {
   "cell_type": "code",
   "execution_count": 7,
   "metadata": {},
   "outputs": [
    {
     "name": "stderr",
     "output_type": "stream",
     "text": [
      "  0%|          | 0/30 [00:00<?, ?it/s]"
     ]
    },
    {
     "name": "stdout",
     "output_type": "stream",
     "text": [
      "Epoch [1/30], Loss: 12.1455\n",
      "--------------------------------------------------\n"
     ]
    },
    {
     "name": "stderr",
     "output_type": "stream",
     "text": [
      "  7%|▋         | 2/30 [00:49<10:04, 21.60s/it]"
     ]
    },
    {
     "name": "stdout",
     "output_type": "stream",
     "text": [
      "Epoch [2/30], Loss: 5.9877\n",
      "--------------------------------------------------\n",
      "Epoch [3/30], Loss: 4.8918\n"
     ]
    },
    {
     "name": "stderr",
     "output_type": "stream",
     "text": [
      " 10%|█         | 3/30 [00:58<07:11, 15.97s/it]"
     ]
    },
    {
     "name": "stdout",
     "output_type": "stream",
     "text": [
      "Validation: Mean Squared Error: 3.7010 and Mean Absolute Error: 1.6777\n",
      "--------------------------------------------------\n",
      "Epoch [4/30], Loss: 2.7453\n"
     ]
    },
    {
     "name": "stderr",
     "output_type": "stream",
     "text": [
      " 13%|█▎        | 4/30 [01:06<05:35, 12.90s/it]"
     ]
    },
    {
     "name": "stdout",
     "output_type": "stream",
     "text": [
      "Validation: Mean Squared Error: 7.7166 and Mean Absolute Error: 1.9897\n",
      "--------------------------------------------------\n",
      "Epoch [5/30], Loss: 2.6666\n"
     ]
    },
    {
     "name": "stderr",
     "output_type": "stream",
     "text": [
      " 17%|█▋        | 5/30 [01:14<04:39, 11.19s/it]"
     ]
    },
    {
     "name": "stdout",
     "output_type": "stream",
     "text": [
      "Validation: Mean Squared Error: 3.9466 and Mean Absolute Error: 1.8009\n",
      "--------------------------------------------------\n",
      "Epoch [6/30], Loss: 6.8727\n"
     ]
    },
    {
     "name": "stderr",
     "output_type": "stream",
     "text": [
      " 20%|██        | 6/30 [01:22<04:03, 10.15s/it]"
     ]
    },
    {
     "name": "stdout",
     "output_type": "stream",
     "text": [
      "Validation: Mean Squared Error: 8.4262 and Mean Absolute Error: 2.7848\n",
      "--------------------------------------------------\n",
      "Epoch [7/30], Loss: 8.4501\n"
     ]
    },
    {
     "name": "stderr",
     "output_type": "stream",
     "text": [
      " 23%|██▎       | 7/30 [01:30<03:38,  9.50s/it]"
     ]
    },
    {
     "name": "stdout",
     "output_type": "stream",
     "text": [
      "Validation: Mean Squared Error: 8.2247 and Mean Absolute Error: 2.7476\n",
      "--------------------------------------------------\n",
      "Epoch [8/30], Loss: 7.7050\n"
     ]
    },
    {
     "name": "stderr",
     "output_type": "stream",
     "text": [
      " 27%|██▋       | 8/30 [01:39<03:19,  9.09s/it]"
     ]
    },
    {
     "name": "stdout",
     "output_type": "stream",
     "text": [
      "Validation: Mean Squared Error: 6.8616 and Mean Absolute Error: 2.4839\n",
      "--------------------------------------------------\n",
      "Epoch [9/30], Loss: 4.9779\n"
     ]
    },
    {
     "name": "stderr",
     "output_type": "stream",
     "text": [
      " 30%|███       | 9/30 [01:47<03:05,  8.83s/it]"
     ]
    },
    {
     "name": "stdout",
     "output_type": "stream",
     "text": [
      "Validation: Mean Squared Error: 2.7695 and Mean Absolute Error: 1.3447\n",
      "--------------------------------------------------\n",
      "Epoch [10/30], Loss: 4.7556\n"
     ]
    },
    {
     "name": "stderr",
     "output_type": "stream",
     "text": [
      " 33%|███▎      | 10/30 [01:55<02:53,  8.67s/it]"
     ]
    },
    {
     "name": "stdout",
     "output_type": "stream",
     "text": [
      "Validation: Mean Squared Error: 9.3613 and Mean Absolute Error: 2.6451\n",
      "--------------------------------------------------\n",
      "Epoch [11/30], Loss: 4.7528\n"
     ]
    },
    {
     "name": "stderr",
     "output_type": "stream",
     "text": [
      " 37%|███▋      | 11/30 [02:04<02:43,  8.59s/it]"
     ]
    },
    {
     "name": "stdout",
     "output_type": "stream",
     "text": [
      "Validation: Mean Squared Error: 2.2340 and Mean Absolute Error: 1.2350\n",
      "--------------------------------------------------\n",
      "Epoch [12/30], Loss: 4.9669\n"
     ]
    },
    {
     "name": "stderr",
     "output_type": "stream",
     "text": [
      " 40%|████      | 12/30 [02:12<02:34,  8.57s/it]"
     ]
    },
    {
     "name": "stdout",
     "output_type": "stream",
     "text": [
      "Validation: Mean Squared Error: 5.8314 and Mean Absolute Error: 2.2692\n",
      "--------------------------------------------------\n",
      "Epoch [13/30], Loss: 5.5489\n"
     ]
    },
    {
     "name": "stderr",
     "output_type": "stream",
     "text": [
      " 43%|████▎     | 13/30 [02:21<02:24,  8.51s/it]"
     ]
    },
    {
     "name": "stdout",
     "output_type": "stream",
     "text": [
      "Validation: Mean Squared Error: 4.9285 and Mean Absolute Error: 2.0580\n",
      "--------------------------------------------------\n",
      "Epoch [14/30], Loss: 4.4975\n"
     ]
    },
    {
     "name": "stderr",
     "output_type": "stream",
     "text": [
      " 47%|████▋     | 14/30 [02:29<02:16,  8.50s/it]"
     ]
    },
    {
     "name": "stdout",
     "output_type": "stream",
     "text": [
      "Validation: Mean Squared Error: 4.5213 and Mean Absolute Error: 1.8693\n",
      "--------------------------------------------------\n",
      "Epoch [15/30], Loss: 4.0707\n"
     ]
    },
    {
     "name": "stderr",
     "output_type": "stream",
     "text": [
      " 50%|█████     | 15/30 [02:37<02:07,  8.47s/it]"
     ]
    },
    {
     "name": "stdout",
     "output_type": "stream",
     "text": [
      "Validation: Mean Squared Error: 3.2655 and Mean Absolute Error: 1.5785\n",
      "--------------------------------------------------\n",
      "Epoch [16/30], Loss: 2.6505\n"
     ]
    },
    {
     "name": "stderr",
     "output_type": "stream",
     "text": [
      " 53%|█████▎    | 16/30 [02:46<01:58,  8.48s/it]"
     ]
    },
    {
     "name": "stdout",
     "output_type": "stream",
     "text": [
      "Validation: Mean Squared Error: 2.1235 and Mean Absolute Error: 1.2554\n",
      "--------------------------------------------------\n",
      "Epoch [17/30], Loss: 1.5383\n"
     ]
    },
    {
     "name": "stderr",
     "output_type": "stream",
     "text": [
      " 57%|█████▋    | 17/30 [02:54<01:50,  8.48s/it]"
     ]
    },
    {
     "name": "stdout",
     "output_type": "stream",
     "text": [
      "Validation: Mean Squared Error: 0.8900 and Mean Absolute Error: 0.7750\n",
      "--------------------------------------------------\n",
      "Epoch [18/30], Loss: 0.7661\n"
     ]
    },
    {
     "name": "stderr",
     "output_type": "stream",
     "text": [
      " 60%|██████    | 18/30 [03:03<01:41,  8.43s/it]"
     ]
    },
    {
     "name": "stdout",
     "output_type": "stream",
     "text": [
      "Validation: Mean Squared Error: 0.8832 and Mean Absolute Error: 0.7488\n",
      "--------------------------------------------------\n",
      "Epoch [19/30], Loss: 1.2944\n"
     ]
    },
    {
     "name": "stderr",
     "output_type": "stream",
     "text": [
      " 63%|██████▎   | 19/30 [03:11<01:32,  8.40s/it]"
     ]
    },
    {
     "name": "stdout",
     "output_type": "stream",
     "text": [
      "Validation: Mean Squared Error: 1.6792 and Mean Absolute Error: 1.0732\n",
      "--------------------------------------------------\n",
      "Epoch [20/30], Loss: 1.6237\n"
     ]
    },
    {
     "name": "stderr",
     "output_type": "stream",
     "text": [
      " 67%|██████▋   | 20/30 [03:19<01:23,  8.37s/it]"
     ]
    },
    {
     "name": "stdout",
     "output_type": "stream",
     "text": [
      "Validation: Mean Squared Error: 1.4450 and Mean Absolute Error: 0.9809\n",
      "--------------------------------------------------\n",
      "Epoch [21/30], Loss: 1.1975\n"
     ]
    },
    {
     "name": "stderr",
     "output_type": "stream",
     "text": [
      " 70%|███████   | 21/30 [03:28<01:15,  8.35s/it]"
     ]
    },
    {
     "name": "stdout",
     "output_type": "stream",
     "text": [
      "Validation: Mean Squared Error: 0.9813 and Mean Absolute Error: 0.7936\n",
      "--------------------------------------------------\n",
      "Epoch [22/30], Loss: 0.8537\n"
     ]
    },
    {
     "name": "stderr",
     "output_type": "stream",
     "text": [
      " 73%|███████▎  | 22/30 [03:36<01:06,  8.36s/it]"
     ]
    },
    {
     "name": "stdout",
     "output_type": "stream",
     "text": [
      "Validation: Mean Squared Error: 0.7513 and Mean Absolute Error: 0.6968\n",
      "--------------------------------------------------\n",
      "Epoch [23/30], Loss: 0.7198\n"
     ]
    },
    {
     "name": "stderr",
     "output_type": "stream",
     "text": [
      " 77%|███████▋  | 23/30 [03:44<00:58,  8.35s/it]"
     ]
    },
    {
     "name": "stdout",
     "output_type": "stream",
     "text": [
      "Validation: Mean Squared Error: 0.6783 and Mean Absolute Error: 0.6708\n",
      "--------------------------------------------------\n",
      "Epoch [24/30], Loss: 0.6925\n"
     ]
    },
    {
     "name": "stderr",
     "output_type": "stream",
     "text": [
      " 80%|████████  | 24/30 [03:53<00:50,  8.35s/it]"
     ]
    },
    {
     "name": "stdout",
     "output_type": "stream",
     "text": [
      "Validation: Mean Squared Error: 0.7002 and Mean Absolute Error: 0.6802\n",
      "--------------------------------------------------\n",
      "Epoch [25/30], Loss: 0.7496\n"
     ]
    },
    {
     "name": "stderr",
     "output_type": "stream",
     "text": [
      " 83%|████████▎ | 25/30 [04:01<00:41,  8.35s/it]"
     ]
    },
    {
     "name": "stdout",
     "output_type": "stream",
     "text": [
      "Validation: Mean Squared Error: 0.8524 and Mean Absolute Error: 0.7235\n",
      "--------------------------------------------------\n",
      "Epoch [26/30], Loss: 0.9028\n"
     ]
    },
    {
     "name": "stderr",
     "output_type": "stream",
     "text": [
      " 87%|████████▋ | 26/30 [04:09<00:33,  8.35s/it]"
     ]
    },
    {
     "name": "stdout",
     "output_type": "stream",
     "text": [
      "Validation: Mean Squared Error: 1.1014 and Mean Absolute Error: 0.7645\n",
      "--------------------------------------------------\n",
      "Epoch [27/30], Loss: 1.0696\n"
     ]
    },
    {
     "name": "stderr",
     "output_type": "stream",
     "text": [
      " 90%|█████████ | 27/30 [04:18<00:25,  8.36s/it]"
     ]
    },
    {
     "name": "stdout",
     "output_type": "stream",
     "text": [
      "Validation: Mean Squared Error: 1.2115 and Mean Absolute Error: 0.7805\n",
      "--------------------------------------------------\n",
      "Epoch [28/30], Loss: 1.5641\n"
     ]
    },
    {
     "name": "stderr",
     "output_type": "stream",
     "text": [
      " 93%|█████████▎| 28/30 [04:26<00:16,  8.35s/it]"
     ]
    },
    {
     "name": "stdout",
     "output_type": "stream",
     "text": [
      "Validation: Mean Squared Error: 4.0502 and Mean Absolute Error: 0.8646\n",
      "--------------------------------------------------\n",
      "Epoch [29/30], Loss: 1.5062\n"
     ]
    },
    {
     "name": "stderr",
     "output_type": "stream",
     "text": [
      " 97%|█████████▋| 29/30 [04:35<00:08,  8.37s/it]"
     ]
    },
    {
     "name": "stdout",
     "output_type": "stream",
     "text": [
      "Validation: Mean Squared Error: 1.7611 and Mean Absolute Error: 0.8137\n",
      "--------------------------------------------------\n",
      "Epoch [30/30], Loss: 1.4393\n"
     ]
    },
    {
     "name": "stderr",
     "output_type": "stream",
     "text": [
      "100%|██████████| 30/30 [04:43<00:00,  9.45s/it]"
     ]
    },
    {
     "name": "stdout",
     "output_type": "stream",
     "text": [
      "Validation: Mean Squared Error: 1.7071 and Mean Absolute Error: 0.8021\n",
      "--------------------------------------------------\n"
     ]
    },
    {
     "name": "stderr",
     "output_type": "stream",
     "text": [
      "\n"
     ]
    },
    {
     "data": {
      "image/png": "[encoded data removed]",
      "text/plain": [
       "<Figure size 1000x800 with 2 Axes>"
      ]
     },
     "metadata": {},
     "output_type": "display_data"
    },
    {
     "name": "stdout",
     "output_type": "stream",
     "text": [
      "Accuracy: 0.0981\n",
      "Mean Squared Error: 1.3565 and Mean Absolute Error: 0.7832\n"
     ]
    }
   ],
   "source": [
    "modelCNN = CNN().to(device)\n",
    "#optimizer = optim.Adagrad(modelCNN.parameters(), lr=0.001, weight_decay=0.0001)\n",
    "optimizer = optim.Adam(modelCNN.parameters(), lr=0.001, weight_decay=0.0001)\n",
    "\n",
    "train_model(modelCNN, optimizer, num_epochs=30)"
   ]
  }
 ],
 "metadata": {
  "kernelspec": {
   "display_name": ".venv",
   "language": "python",
   "name": "python3"
  },
  "language_info": {
   "codemirror_mode": {
    "name": "ipython",
    "version": 3
   },
   "file_extension": ".py",
   "mimetype": "text/x-python",
   "name": "python",
   "nbconvert_exporter": "python",
   "pygments_lexer": "ipython3",
   "version": "3.10.4"
  }
 },
 "nbformat": 4,
 "nbformat_minor": 2
}
