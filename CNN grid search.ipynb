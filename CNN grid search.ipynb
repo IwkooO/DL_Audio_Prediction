{
 "cells": [
  {
   "cell_type": "code",
   "execution_count": 12,
   "metadata": {},
   "outputs": [
    {
     "name": "stderr",
     "output_type": "stream",
     "text": [
      "100%|██████████| 10557/10557 [01:15<00:00, 140.55it/s]\n"
     ]
    },
    {
     "data": {
      "text/plain": [
       "10556"
      ]
     },
     "execution_count": 12,
     "metadata": {},
     "output_type": "execute_result"
    }
   ],
   "source": [
    "import pickle\n",
    "import os\n",
    "from tqdm import tqdm\n",
    "import numpy as np\n",
    "\n",
    "directory = 'data/train'\n",
    "\n",
    "length_list = []\n",
    "valence_values=[]\n",
    "\n",
    "recordings = []\n",
    "\n",
    "for filename in tqdm(os.listdir(directory)):\n",
    "    if filename.endswith('.pkl'):\n",
    "        file_path = os.path.join(directory, filename)\n",
    "        with open(file_path, 'rb') as file:\n",
    "            data = pickle.load(file)\n",
    "            if data['valence'] != 2.333: #and len(data['audio_data']) < 91000:\n",
    "                length_list.append(len(data['audio_data']))\n",
    "                valence_values.append(data['valence'])\n",
    "                recordings.append(data['audio_data'])\n",
    "\n",
    "valence_values = np.array(valence_values)\n",
    "len(recordings)"
   ]
  },
  {
   "cell_type": "code",
   "execution_count": 13,
   "metadata": {},
   "outputs": [
    {
     "data": {
      "text/plain": [
       "(10556, (174625,))"
      ]
     },
     "execution_count": 13,
     "metadata": {},
     "output_type": "execute_result"
    }
   ],
   "source": [
    "# Calculate the maximum length\n",
    "max_length = max(length_list)\n",
    "\n",
    "# Adjust the recordings to have the same length\n",
    "adjusted_recordings = []\n",
    "for recording in recordings:\n",
    "    # Repeat the array until it reaches or exceeds the maximum length\n",
    "    repeated_recording = np.tile(recording, (max_length // len(recording) + 1))[:max_length]\n",
    "    adjusted_recordings.append(repeated_recording)\n",
    "\n",
    "valence_values = np.array(valence_values)\n",
    "len(adjusted_recordings), adjusted_recordings[0].shape\n",
    "\n",
    "\n",
    "# for i in adjusted_recordings:\n",
    "#     print(i.shape)"
   ]
  },
  {
   "cell_type": "code",
   "execution_count": 14,
   "metadata": {},
   "outputs": [],
   "source": [
    "def round_to_nearest_quarter(number):\n",
    "    # Assuming 'number' could be a numpy array with a single value\n",
    "    if isinstance(number, np.ndarray) and number.size == 1:\n",
    "        number = number.item()  # Convert single-item array to scalar\n",
    "    \n",
    "    # Ensure the number is within the 1 to 5 range before processing\n",
    "    number = np.clip(number, 1, 5)\n",
    "    # Scale number to shift quarters to whole numbers, round, and rescale\n",
    "    rounded_number = np.round(number * 4) / 4\n",
    "    # Clip again to ensure no out-of-range values after rounding\n",
    "    rounded_number = np.clip(rounded_number, 1, 5)\n",
    "    return str(rounded_number)"
   ]
  },
  {
   "cell_type": "markdown",
   "metadata": {},
   "source": [
    "# Pre-process data"
   ]
  },
  {
   "cell_type": "code",
   "execution_count": 15,
   "metadata": {},
   "outputs": [],
   "source": [
    "import torch\n",
    "from torch.utils.data import TensorDataset, DataLoader\n",
    "from sklearn.preprocessing import StandardScaler\n",
    "from sklearn.model_selection import train_test_split\n",
    "\n",
    "\n",
    "############################################################################################################\n",
    "# standard = StandardScaler()\n",
    "# adjusted_recordings = standard.fit_transform(adjusted_recordings)\n",
    "#print(adjusted_recordings)\n",
    "\n",
    "############################################################################################################\n",
    "# Pad the recordings to have the same length\n",
    "max_length = max(len(array) for array in recordings)  # Find the maximum length\n",
    "\n",
    "# # Pad each array to have the maximum length\n",
    "# padded_arrays = np.array([np.pad(array, (0, max_length - len(array)), mode='constant') for array in recordings])\n",
    "\n",
    "\n",
    "############################################################################################################\n",
    "# Split the data and labels into training and validation sets\n",
    "X_train, X_val, y_train, y_val = train_test_split(adjusted_recordings, valence_values, test_size=0.2, random_state=42)\n",
    "\n",
    "\n",
    "\n",
    "\n",
    "############################################################################################################\n",
    "# Create a DataLoader for the training set, test set, and validation set\n",
    "\n",
    "batch_size = 256  # You can adjust the batch size depending on your system's capability\n",
    "\n",
    "# Convert input data and labels to tensors\n",
    "X_train_tensor = torch.tensor(X_train, dtype=torch.float32).unsqueeze(1)  # Use float32 for input features\n",
    "y_train_tensor = torch.tensor(y_train, dtype=torch.float32)  # Use float32 for labels\n",
    "\n",
    "# Create a dataset from tensors\n",
    "train_dataset = TensorDataset(X_train_tensor, y_train_tensor)\n",
    "\n",
    "# Create a DataLoader\n",
    "train_loader = DataLoader(train_dataset, batch_size=batch_size, shuffle=True)\n",
    "\n",
    "\n",
    "\n",
    "############################################################################################################\n",
    "# Repeat the same process for the validation set\n",
    "X_validation_tensor = torch.tensor(X_val, dtype=torch.float32).unsqueeze(1)\n",
    "y_validation_tensor = torch.tensor(y_val, dtype=torch.float32)\n",
    "\n",
    "validation_dataset = TensorDataset(X_validation_tensor, y_validation_tensor)\n",
    "validation_loader = DataLoader(validation_dataset, batch_size=batch_size, shuffle=False)\n",
    "\n",
    "\n"
   ]
  },
  {
   "cell_type": "code",
   "execution_count": 16,
   "metadata": {},
   "outputs": [
    {
     "data": {
      "text/plain": [
       "(torch.Size([8444, 1, 174625]), torch.Size([8444]))"
      ]
     },
     "execution_count": 16,
     "metadata": {},
     "output_type": "execute_result"
    }
   ],
   "source": [
    "train_loader.dataset.tensors[0].shape, train_loader.dataset.tensors[1].shape"
   ]
  },
  {
   "cell_type": "code",
   "execution_count": 17,
   "metadata": {},
   "outputs": [],
   "source": [
    "import torch\n",
    "from tqdm import tqdm\n",
    "import torch.nn as nn\n",
    "import torch.optim as optim\n",
    "import torch.nn.functional as F\n",
    "from sklearn.metrics import confusion_matrix\n",
    "import matplotlib.pyplot as plt\n",
    "import seaborn as sns\n",
    "import torchaudio.transforms as transforms\n",
    "from torch.optim.lr_scheduler import ReduceLROnPlateau\n",
    "\n",
    "models = {}\n",
    "\n",
    "\n",
    "class ResidualBlock(nn.Module):\n",
    "    def __init__(self, channels, kernel_size=7, dilation=2):\n",
    "        super(ResidualBlock, self).__init__()\n",
    "        padding = (kernel_size - 1) * dilation // 2  # Adjust padding to maintain size\n",
    "\n",
    "        self.conv1 = nn.Conv1d(channels, channels, kernel_size=kernel_size, padding=padding, dilation=dilation)\n",
    "        self.bn1 = nn.BatchNorm1d(channels)\n",
    "        self.relu = nn.ReLU(inplace=True)\n",
    "\n",
    "        self.conv2 = nn.Conv1d(channels, channels, kernel_size=kernel_size, padding=padding, dilation=dilation)\n",
    "        self.bn2 = nn.BatchNorm1d(channels)\n",
    "\n",
    "    def forward(self, x):\n",
    "        residual = x  \n",
    "        out = self.conv1(x)\n",
    "        out = self.bn1(out)\n",
    "        out = self.relu(out)\n",
    "        out = self.conv2(out)\n",
    "        out = self.bn2(out)\n",
    "        \n",
    "        #  addition of input to the output\n",
    "        out += residual  \n",
    "        out = self.relu(out)\n",
    "        return out\n",
    "\n",
    "class CNN(nn.Module):\n",
    "    def __init__(self):\n",
    "        super(CNN, self).__init__()\n",
    "\n",
    "        # Set random seed for reproducibility\n",
    "        torch.manual_seed(42)\n",
    "\n",
    "\n",
    "        self.mfcc_transform = transforms.MFCC(\n",
    "            sample_rate=8000,      ## \n",
    "            n_mfcc=24              ## Created channels\n",
    "        )\n",
    "\n",
    "\n",
    "        self.layers = nn.ModuleList()\n",
    "        \n",
    "        self.layers.append(nn.BatchNorm1d(24))\n",
    "        conv1 = nn.Conv1d(in_channels=24, out_channels=64, kernel_size=7, padding=1)\n",
    "        nn.init.kaiming_normal_(conv1.weight, nonlinearity='relu')\n",
    "        self.layers.append(conv1)\n",
    "        self.layers.append(nn.BatchNorm1d(64))\n",
    "        self.layers.append(nn.ReLU())\n",
    "        self.layers.append(nn.MaxPool1d(kernel_size=3))\n",
    "        self.layers.append(nn.Dropout(0.3))\n",
    "\n",
    "\n",
    "        self.layers.append(ResidualBlock(64))\n",
    "        \n",
    "        conv2 = nn.Conv1d(in_channels=64, out_channels=48, kernel_size=7, padding=1)\n",
    "        nn.init.kaiming_normal_(conv2.weight, nonlinearity='relu')\n",
    "        self.layers.append(conv2)\n",
    "        self.layers.append(nn.BatchNorm1d(48))\n",
    "        self.layers.append(nn.ReLU())\n",
    "\n",
    "\n",
    "        conv3 = nn.Conv1d(in_channels=48, out_channels=12, kernel_size=7, padding=1,dilation=2)\n",
    "        nn.init.kaiming_normal_(conv3.weight, nonlinearity='relu')\n",
    "        self.layers.append(conv3)\n",
    "        self.layers.append(nn.BatchNorm1d(12))\n",
    "        self.layers.append(nn.ReLU())\n",
    "        self.layers.append(nn.MaxPool1d(kernel_size=3))\n",
    "        self.layers.append(nn.Dropout(0.25))\n",
    "\n",
    "\n",
    "        self.layers.append(nn.Flatten())\n",
    "\n",
    "        linear1= nn.Linear(1104,256)\n",
    "        nn.init.kaiming_normal_(linear1.weight, nonlinearity='relu')\n",
    "        self.layers.append(linear1)\n",
    "        self.layers.append(nn.ReLU())\n",
    "        \n",
    "        linear2 = nn.Linear(256, 1)\n",
    "        nn.init.kaiming_normal_(linear2.weight, nonlinearity='relu')\n",
    "        self.layers.append(linear2)\n",
    "\n",
    "\n",
    "\n",
    "\n",
    "    \n",
    "    def forward(self, x):\n",
    "        x = self.mfcc_transform(x)\n",
    "        x = x.squeeze(1)\n",
    "        for layer in self.layers:\n",
    "            x = layer(x)\n",
    "            #print(x.shape)\n",
    "        return x.view(-1)\n",
    "\n",
    "\n",
    "### CUDA\n",
    "device = torch.device(\"cuda\" if torch.cuda.is_available() else \"cpu\")\n",
    "\n",
    "    # Training Cycle\n",
    "\n",
    "def train_model(MLP_model, optimizer, num_epochs,save_dir = 'model_checkpoint/'):\n",
    "        if not os.path.exists(save_dir):\n",
    "            os.makedirs(save_dir)\n",
    "\n",
    "        criterion = nn.MSELoss()\n",
    "        #criterion = nn.L1Loss()\n",
    "        # Training loop\n",
    "        for epoch in tqdm(range(num_epochs)):\n",
    "            MLP_model.train()\n",
    "            total_loss = 0\n",
    "\n",
    "            for inputs, labels in train_loader:\n",
    "                inputs, labels = inputs.to(device), labels.to(device)  # Move data to GPU\n",
    "                outputs = MLP_model(inputs)  # Forward pass\n",
    "                loss = criterion(outputs, labels)  # Compute the loss\n",
    "                loss.backward()  # Backward pass\n",
    "\n",
    "                optimizer.step()\n",
    "\n",
    "                # Store the loss. loss.item() gets the value in a tensor. This only works for scalars.\n",
    "                total_loss += loss.item()\n",
    "            \n",
    "        \n",
    "            print(f'Epoch [{epoch + 1}/{num_epochs}], Loss: {total_loss / len(train_loader):.4f}')\n",
    "            if epoch > 1:\n",
    "                MLP_model.eval() \n",
    "                val_eval = evaluate_model(MLP_model, validation_loader,conf=False)\n",
    "                print(f'Validation: {val_eval}')\n",
    "                MLP_model.train()\n",
    "            print('--------------------------------------------------')\n",
    "            # Save the model at each epoch\n",
    "            torch.save({\n",
    "                'epoch': epoch,\n",
    "                'model_state_dict': MLP_model.state_dict(),\n",
    "                'optimizer_state_dict': optimizer.state_dict(),\n",
    "            }, os.path.join(save_dir, f'model_epoch_{epoch}.pth'))\n",
    "                    \n",
    "        print(evaluate_model(MLP_model, train_loader,conf=True))\n",
    "\n",
    "\n",
    "\n",
    "def evaluate_model(MLP_model, test_loader,conf=False):\n",
    "    with torch.no_grad():\n",
    "\n",
    "        ### Calculate MSE \n",
    "        predictions = []\n",
    "        actuals = []\n",
    "        actuals_for_cm = []\n",
    "        rounded_predictions = []\n",
    "        for inputs, labels in test_loader:\n",
    "            inputs, labels = inputs.to(device), labels.to(device)\n",
    "            outputs = MLP_model(inputs)\n",
    "            predictions.extend(outputs.cpu().numpy())\n",
    "            actuals.extend(labels.cpu().numpy())\n",
    "            actuals_for_cm.extend([str(label) for label in labels.cpu().numpy()])\n",
    "            rounded_predictions.extend([str(round_to_nearest_quarter(output)) for output in outputs.cpu().numpy()])\n",
    "\n",
    "        predictions = np.array(predictions)\n",
    "        actuals = np.array(actuals)\n",
    "        mse = np.mean((predictions - actuals) ** 2)\n",
    "        mae = np.mean(np.abs(predictions - actuals))\n",
    "        #print(f'Mean Squared Error: {mse:.4f} and Mean Absolute Error: {mae:.4f}')\n",
    "\n",
    "        # for i in range(10):\n",
    "        #     print(f\"Predictions: {predictions[i]}\")\n",
    "        #     print(f\"Actuals: {actuals[i]}\")\n",
    "        #     print(f\"Rounded Predictions: {rounded_predictions[i]}\")\n",
    "        \n",
    "        ##################\n",
    "        # Confusion Matrix\n",
    "        ##################\n",
    "        if conf:\n",
    "            ### Confusion Matrix\n",
    "            cm = confusion_matrix(actuals_for_cm, rounded_predictions)\n",
    "            plt.figure(figsize=(10, 8))\n",
    "            sns.heatmap(cm, annot=True, fmt='g', cmap='Blues', xticklabels=np.unique(actuals), yticklabels=np.unique(actuals))\n",
    "            plt.xlabel('Predicted')\n",
    "            plt.ylabel('Actual')\n",
    "            plt.title('Confusion Matrix')\n",
    "            plt.show()\n",
    "            ### Accuracy\n",
    "            accuracy = np.trace(cm) / np.sum(cm)\n",
    "            print(f'Accuracy: {accuracy:.4f}')\n",
    "        return f'Mean Squared Error: {mse:.4f} and Mean Absolute Error: {mae:.4f}'\n",
    "\n",
    "\n",
    "\n",
    "############################################################################################################\n",
    "### PREDICT\n",
    "def predict(model, data, device):\n",
    "    model.eval()  # Set the model to evaluation mode\n",
    "    data = data.to(device)  # Move the data to the same device as the model\n",
    "    with torch.no_grad():  # Turn off gradients to speed up this part\n",
    "        predictions = []\n",
    "        for sample in data:\n",
    "            sample = sample.unsqueeze(0)  # Add batch dimension\n",
    "            output = model(sample)\n",
    "            predictions.append(output.item())\n",
    "    return predictions\n",
    "\n",
    "\n",
    "\n",
    "\n",
    "\n",
    "            \n",
    "        \n",
    "\n",
    "        \n"
   ]
  },
  {
   "cell_type": "code",
   "execution_count": 18,
   "metadata": {},
   "outputs": [
    {
     "name": "stderr",
     "output_type": "stream",
     "text": [
      "  0%|          | 1/200 [00:17<57:37, 17.37s/it]"
     ]
    },
    {
     "name": "stdout",
     "output_type": "stream",
     "text": [
      "Epoch [1/200], Loss: 3.8617\n",
      "--------------------------------------------------\n"
     ]
    },
    {
     "name": "stderr",
     "output_type": "stream",
     "text": [
      "  1%|          | 2/200 [00:24<38:24, 11.64s/it]"
     ]
    },
    {
     "name": "stdout",
     "output_type": "stream",
     "text": [
      "Epoch [2/200], Loss: 0.9333\n",
      "--------------------------------------------------\n",
      "Epoch [3/200], Loss: 0.7781\n"
     ]
    },
    {
     "name": "stderr",
     "output_type": "stream",
     "text": [
      "  2%|▏         | 3/200 [00:34<34:50, 10.61s/it]"
     ]
    },
    {
     "name": "stdout",
     "output_type": "stream",
     "text": [
      "Validation: Mean Squared Error: 0.7786 and Mean Absolute Error: 0.6989\n",
      "--------------------------------------------------\n",
      "Epoch [4/200], Loss: 0.6990\n"
     ]
    },
    {
     "name": "stderr",
     "output_type": "stream",
     "text": [
      "  2%|▏         | 4/200 [00:43<32:16,  9.88s/it]"
     ]
    },
    {
     "name": "stdout",
     "output_type": "stream",
     "text": [
      "Validation: Mean Squared Error: 0.6194 and Mean Absolute Error: 0.6323\n",
      "--------------------------------------------------\n",
      "Epoch [5/200], Loss: 0.6616\n"
     ]
    },
    {
     "name": "stderr",
     "output_type": "stream",
     "text": [
      "  2%|▎         | 5/200 [00:52<31:01,  9.55s/it]"
     ]
    },
    {
     "name": "stdout",
     "output_type": "stream",
     "text": [
      "Validation: Mean Squared Error: 0.5928 and Mean Absolute Error: 0.6162\n",
      "--------------------------------------------------\n",
      "Epoch [6/200], Loss: 0.5969\n"
     ]
    },
    {
     "name": "stderr",
     "output_type": "stream",
     "text": [
      "  3%|▎         | 6/200 [01:00<30:05,  9.31s/it]"
     ]
    },
    {
     "name": "stdout",
     "output_type": "stream",
     "text": [
      "Validation: Mean Squared Error: 0.6080 and Mean Absolute Error: 0.6241\n",
      "--------------------------------------------------\n",
      "Epoch [7/200], Loss: 0.5911\n"
     ]
    },
    {
     "name": "stderr",
     "output_type": "stream",
     "text": [
      "  4%|▎         | 7/200 [01:09<29:27,  9.16s/it]"
     ]
    },
    {
     "name": "stdout",
     "output_type": "stream",
     "text": [
      "Validation: Mean Squared Error: 0.5445 and Mean Absolute Error: 0.5922\n",
      "--------------------------------------------------\n",
      "Epoch [8/200], Loss: 0.5748\n"
     ]
    },
    {
     "name": "stderr",
     "output_type": "stream",
     "text": [
      "  4%|▍         | 8/200 [01:18<28:57,  9.05s/it]"
     ]
    },
    {
     "name": "stdout",
     "output_type": "stream",
     "text": [
      "Validation: Mean Squared Error: 0.5772 and Mean Absolute Error: 0.6157\n",
      "--------------------------------------------------\n",
      "Epoch [9/200], Loss: 0.5573\n"
     ]
    },
    {
     "name": "stderr",
     "output_type": "stream",
     "text": [
      "  4%|▍         | 9/200 [01:27<28:37,  8.99s/it]"
     ]
    },
    {
     "name": "stdout",
     "output_type": "stream",
     "text": [
      "Validation: Mean Squared Error: 0.5218 and Mean Absolute Error: 0.5821\n",
      "--------------------------------------------------\n",
      "Epoch [10/200], Loss: 0.5480\n"
     ]
    },
    {
     "name": "stderr",
     "output_type": "stream",
     "text": [
      "  5%|▌         | 10/200 [01:36<28:19,  8.95s/it]"
     ]
    },
    {
     "name": "stdout",
     "output_type": "stream",
     "text": [
      "Validation: Mean Squared Error: 0.5112 and Mean Absolute Error: 0.5737\n",
      "--------------------------------------------------\n",
      "Epoch [11/200], Loss: 0.5296\n"
     ]
    },
    {
     "name": "stderr",
     "output_type": "stream",
     "text": [
      "  6%|▌         | 11/200 [01:45<28:03,  8.91s/it]"
     ]
    },
    {
     "name": "stdout",
     "output_type": "stream",
     "text": [
      "Validation: Mean Squared Error: 0.5026 and Mean Absolute Error: 0.5714\n",
      "--------------------------------------------------\n",
      "Epoch [12/200], Loss: 0.5309\n"
     ]
    },
    {
     "name": "stderr",
     "output_type": "stream",
     "text": [
      "  6%|▌         | 12/200 [01:54<28:01,  8.94s/it]"
     ]
    },
    {
     "name": "stdout",
     "output_type": "stream",
     "text": [
      "Validation: Mean Squared Error: 0.5620 and Mean Absolute Error: 0.6053\n",
      "--------------------------------------------------\n",
      "Epoch [13/200], Loss: 0.5230\n"
     ]
    },
    {
     "name": "stderr",
     "output_type": "stream",
     "text": [
      "  6%|▋         | 13/200 [02:04<28:59,  9.30s/it]"
     ]
    },
    {
     "name": "stdout",
     "output_type": "stream",
     "text": [
      "Validation: Mean Squared Error: 0.5065 and Mean Absolute Error: 0.5723\n",
      "--------------------------------------------------\n",
      "Epoch [14/200], Loss: 0.5115\n"
     ]
    },
    {
     "name": "stderr",
     "output_type": "stream",
     "text": [
      "  7%|▋         | 14/200 [02:13<28:47,  9.29s/it]"
     ]
    },
    {
     "name": "stdout",
     "output_type": "stream",
     "text": [
      "Validation: Mean Squared Error: 0.5045 and Mean Absolute Error: 0.5714\n",
      "--------------------------------------------------\n",
      "Epoch [15/200], Loss: 0.5143\n"
     ]
    },
    {
     "name": "stderr",
     "output_type": "stream",
     "text": [
      "  8%|▊         | 15/200 [02:23<29:41,  9.63s/it]"
     ]
    },
    {
     "name": "stdout",
     "output_type": "stream",
     "text": [
      "Validation: Mean Squared Error: 0.4937 and Mean Absolute Error: 0.5645\n",
      "--------------------------------------------------\n",
      "Epoch [16/200], Loss: 0.4928\n"
     ]
    },
    {
     "name": "stderr",
     "output_type": "stream",
     "text": [
      "  8%|▊         | 16/200 [02:34<30:14,  9.86s/it]"
     ]
    },
    {
     "name": "stdout",
     "output_type": "stream",
     "text": [
      "Validation: Mean Squared Error: 0.5187 and Mean Absolute Error: 0.5796\n",
      "--------------------------------------------------\n",
      "Epoch [17/200], Loss: 0.5044\n"
     ]
    },
    {
     "name": "stderr",
     "output_type": "stream",
     "text": [
      "  8%|▊         | 17/200 [02:44<30:38, 10.05s/it]"
     ]
    },
    {
     "name": "stdout",
     "output_type": "stream",
     "text": [
      "Validation: Mean Squared Error: 0.5168 and Mean Absolute Error: 0.5779\n",
      "--------------------------------------------------\n",
      "Epoch [18/200], Loss: 0.4891\n"
     ]
    },
    {
     "name": "stderr",
     "output_type": "stream",
     "text": [
      "  9%|▉         | 18/200 [02:55<30:49, 10.16s/it]"
     ]
    },
    {
     "name": "stdout",
     "output_type": "stream",
     "text": [
      "Validation: Mean Squared Error: 0.4754 and Mean Absolute Error: 0.5565\n",
      "--------------------------------------------------\n",
      "Epoch [19/200], Loss: 0.4791\n"
     ]
    },
    {
     "name": "stderr",
     "output_type": "stream",
     "text": [
      " 10%|▉         | 19/200 [03:05<30:55, 10.25s/it]"
     ]
    },
    {
     "name": "stdout",
     "output_type": "stream",
     "text": [
      "Validation: Mean Squared Error: 0.4810 and Mean Absolute Error: 0.5584\n",
      "--------------------------------------------------\n",
      "Epoch [20/200], Loss: 0.4782\n"
     ]
    },
    {
     "name": "stderr",
     "output_type": "stream",
     "text": [
      " 10%|█         | 20/200 [03:16<30:56, 10.31s/it]"
     ]
    },
    {
     "name": "stdout",
     "output_type": "stream",
     "text": [
      "Validation: Mean Squared Error: 0.4719 and Mean Absolute Error: 0.5515\n",
      "--------------------------------------------------\n",
      "Epoch [21/200], Loss: 0.4680\n"
     ]
    },
    {
     "name": "stderr",
     "output_type": "stream",
     "text": [
      " 10%|█         | 21/200 [03:26<30:55, 10.37s/it]"
     ]
    },
    {
     "name": "stdout",
     "output_type": "stream",
     "text": [
      "Validation: Mean Squared Error: 0.4947 and Mean Absolute Error: 0.5609\n",
      "--------------------------------------------------\n",
      "Epoch [22/200], Loss: 0.4714\n"
     ]
    },
    {
     "name": "stderr",
     "output_type": "stream",
     "text": [
      " 11%|█         | 22/200 [03:37<30:51, 10.40s/it]"
     ]
    },
    {
     "name": "stdout",
     "output_type": "stream",
     "text": [
      "Validation: Mean Squared Error: 0.4906 and Mean Absolute Error: 0.5594\n",
      "--------------------------------------------------\n",
      "Epoch [23/200], Loss: 0.4703\n"
     ]
    },
    {
     "name": "stderr",
     "output_type": "stream",
     "text": [
      " 12%|█▏        | 23/200 [03:47<30:50, 10.46s/it]"
     ]
    },
    {
     "name": "stdout",
     "output_type": "stream",
     "text": [
      "Validation: Mean Squared Error: 0.4781 and Mean Absolute Error: 0.5546\n",
      "--------------------------------------------------\n",
      "Epoch [24/200], Loss: 0.4613\n"
     ]
    },
    {
     "name": "stderr",
     "output_type": "stream",
     "text": [
      " 12%|█▏        | 24/200 [03:58<30:43, 10.47s/it]"
     ]
    },
    {
     "name": "stdout",
     "output_type": "stream",
     "text": [
      "Validation: Mean Squared Error: 0.4700 and Mean Absolute Error: 0.5511\n",
      "--------------------------------------------------\n",
      "Epoch [25/200], Loss: 0.4643\n"
     ]
    },
    {
     "name": "stderr",
     "output_type": "stream",
     "text": [
      " 12%|█▎        | 25/200 [04:08<30:40, 10.52s/it]"
     ]
    },
    {
     "name": "stdout",
     "output_type": "stream",
     "text": [
      "Validation: Mean Squared Error: 0.4643 and Mean Absolute Error: 0.5487\n",
      "--------------------------------------------------\n",
      "Epoch [26/200], Loss: 0.4536\n"
     ]
    },
    {
     "name": "stderr",
     "output_type": "stream",
     "text": [
      " 13%|█▎        | 26/200 [04:20<31:32, 10.87s/it]"
     ]
    },
    {
     "name": "stdout",
     "output_type": "stream",
     "text": [
      "Validation: Mean Squared Error: 0.4569 and Mean Absolute Error: 0.5437\n",
      "--------------------------------------------------\n",
      "Epoch [27/200], Loss: 0.4485\n"
     ]
    },
    {
     "name": "stderr",
     "output_type": "stream",
     "text": [
      " 14%|█▎        | 27/200 [04:31<31:02, 10.77s/it]"
     ]
    },
    {
     "name": "stdout",
     "output_type": "stream",
     "text": [
      "Validation: Mean Squared Error: 0.4686 and Mean Absolute Error: 0.5507\n",
      "--------------------------------------------------\n",
      "Epoch [28/200], Loss: 0.4535\n"
     ]
    },
    {
     "name": "stderr",
     "output_type": "stream",
     "text": [
      " 14%|█▍        | 28/200 [04:41<30:42, 10.71s/it]"
     ]
    },
    {
     "name": "stdout",
     "output_type": "stream",
     "text": [
      "Validation: Mean Squared Error: 0.4757 and Mean Absolute Error: 0.5549\n",
      "--------------------------------------------------\n",
      "Epoch [29/200], Loss: 0.4443\n"
     ]
    },
    {
     "name": "stderr",
     "output_type": "stream",
     "text": [
      " 14%|█▍        | 29/200 [04:52<30:25, 10.68s/it]"
     ]
    },
    {
     "name": "stdout",
     "output_type": "stream",
     "text": [
      "Validation: Mean Squared Error: 0.4562 and Mean Absolute Error: 0.5425\n",
      "--------------------------------------------------\n",
      "Epoch [30/200], Loss: 0.4354\n"
     ]
    },
    {
     "name": "stderr",
     "output_type": "stream",
     "text": [
      " 15%|█▌        | 30/200 [05:02<30:11, 10.65s/it]"
     ]
    },
    {
     "name": "stdout",
     "output_type": "stream",
     "text": [
      "Validation: Mean Squared Error: 0.4509 and Mean Absolute Error: 0.5406\n",
      "--------------------------------------------------\n",
      "Epoch [31/200], Loss: 0.4447\n"
     ]
    },
    {
     "name": "stderr",
     "output_type": "stream",
     "text": [
      " 16%|█▌        | 31/200 [05:13<30:10, 10.71s/it]"
     ]
    },
    {
     "name": "stdout",
     "output_type": "stream",
     "text": [
      "Validation: Mean Squared Error: 0.4537 and Mean Absolute Error: 0.5430\n",
      "--------------------------------------------------\n",
      "Epoch [32/200], Loss: 0.4334\n"
     ]
    },
    {
     "name": "stderr",
     "output_type": "stream",
     "text": [
      " 16%|█▌        | 32/200 [05:24<29:55, 10.69s/it]"
     ]
    },
    {
     "name": "stdout",
     "output_type": "stream",
     "text": [
      "Validation: Mean Squared Error: 0.4539 and Mean Absolute Error: 0.5442\n",
      "--------------------------------------------------\n",
      "Epoch [33/200], Loss: 0.4341\n",
      "Validation: Mean Squared Error: 0.4585 and Mean Absolute Error: 0.5467\n",
      "--------------------------------------------------\n"
     ]
    },
    {
     "name": "stderr",
     "output_type": "stream",
     "text": [
      " 16%|█▋        | 33/200 [05:58<49:42, 17.86s/it]"
     ]
    },
    {
     "name": "stdout",
     "output_type": "stream",
     "text": [
      "Epoch [34/200], Loss: 0.4349\n",
      "Validation: Mean Squared Error: 0.4596 and Mean Absolute Error: 0.5453\n",
      "--------------------------------------------------\n"
     ]
    },
    {
     "name": "stderr",
     "output_type": "stream",
     "text": [
      " 17%|█▋        | 34/200 [07:10<1:33:59, 33.98s/it]"
     ]
    },
    {
     "name": "stdout",
     "output_type": "stream",
     "text": [
      "Epoch [35/200], Loss: 0.4289\n"
     ]
    },
    {
     "name": "stderr",
     "output_type": "stream",
     "text": [
      " 18%|█▊        | 35/200 [08:08<1:53:29, 41.27s/it]"
     ]
    },
    {
     "name": "stdout",
     "output_type": "stream",
     "text": [
      "Validation: Mean Squared Error: 0.4468 and Mean Absolute Error: 0.5362\n",
      "--------------------------------------------------\n",
      "Epoch [36/200], Loss: 0.4253\n"
     ]
    },
    {
     "name": "stderr",
     "output_type": "stream",
     "text": [
      " 18%|█▊        | 36/200 [08:18<1:26:44, 31.73s/it]"
     ]
    },
    {
     "name": "stdout",
     "output_type": "stream",
     "text": [
      "Validation: Mean Squared Error: 0.4400 and Mean Absolute Error: 0.5321\n",
      "--------------------------------------------------\n",
      "Epoch [37/200], Loss: 0.4186\n"
     ]
    },
    {
     "name": "stderr",
     "output_type": "stream",
     "text": [
      " 18%|█▊        | 37/200 [08:27<1:07:41, 24.92s/it]"
     ]
    },
    {
     "name": "stdout",
     "output_type": "stream",
     "text": [
      "Validation: Mean Squared Error: 0.4420 and Mean Absolute Error: 0.5337\n",
      "--------------------------------------------------\n",
      "Epoch [38/200], Loss: 0.4155\n"
     ]
    },
    {
     "name": "stderr",
     "output_type": "stream",
     "text": [
      " 19%|█▉        | 38/200 [08:37<55:33, 20.58s/it]  "
     ]
    },
    {
     "name": "stdout",
     "output_type": "stream",
     "text": [
      "Validation: Mean Squared Error: 0.4470 and Mean Absolute Error: 0.5366\n",
      "--------------------------------------------------\n",
      "Epoch [39/200], Loss: 0.4184\n"
     ]
    },
    {
     "name": "stderr",
     "output_type": "stream",
     "text": [
      " 20%|█▉        | 39/200 [08:48<47:06, 17.56s/it]"
     ]
    },
    {
     "name": "stdout",
     "output_type": "stream",
     "text": [
      "Validation: Mean Squared Error: 0.4472 and Mean Absolute Error: 0.5383\n",
      "--------------------------------------------------\n",
      "Epoch [40/200], Loss: 0.4178\n"
     ]
    },
    {
     "name": "stderr",
     "output_type": "stream",
     "text": [
      " 20%|██        | 40/200 [08:58<41:11, 15.45s/it]"
     ]
    },
    {
     "name": "stdout",
     "output_type": "stream",
     "text": [
      "Validation: Mean Squared Error: 0.4467 and Mean Absolute Error: 0.5373\n",
      "--------------------------------------------------\n",
      "Epoch [41/200], Loss: 0.4155\n"
     ]
    },
    {
     "name": "stderr",
     "output_type": "stream",
     "text": [
      " 20%|██        | 41/200 [09:09<37:00, 13.96s/it]"
     ]
    },
    {
     "name": "stdout",
     "output_type": "stream",
     "text": [
      "Validation: Mean Squared Error: 0.4486 and Mean Absolute Error: 0.5381\n",
      "--------------------------------------------------\n",
      "Epoch [42/200], Loss: 0.4143\n"
     ]
    },
    {
     "name": "stderr",
     "output_type": "stream",
     "text": [
      " 21%|██        | 42/200 [09:19<34:03, 12.93s/it]"
     ]
    },
    {
     "name": "stdout",
     "output_type": "stream",
     "text": [
      "Validation: Mean Squared Error: 0.4400 and Mean Absolute Error: 0.5326\n",
      "--------------------------------------------------\n",
      "Epoch [43/200], Loss: 0.4078\n"
     ]
    },
    {
     "name": "stderr",
     "output_type": "stream",
     "text": [
      " 22%|██▏       | 43/200 [09:30<31:58, 12.22s/it]"
     ]
    },
    {
     "name": "stdout",
     "output_type": "stream",
     "text": [
      "Validation: Mean Squared Error: 0.4381 and Mean Absolute Error: 0.5312\n",
      "--------------------------------------------------\n",
      "Epoch [44/200], Loss: 0.4069\n"
     ]
    },
    {
     "name": "stderr",
     "output_type": "stream",
     "text": [
      " 22%|██▏       | 44/200 [09:40<30:28, 11.72s/it]"
     ]
    },
    {
     "name": "stdout",
     "output_type": "stream",
     "text": [
      "Validation: Mean Squared Error: 0.4381 and Mean Absolute Error: 0.5307\n",
      "--------------------------------------------------\n",
      "Epoch [45/200], Loss: 0.4099\n"
     ]
    },
    {
     "name": "stderr",
     "output_type": "stream",
     "text": [
      " 22%|██▎       | 45/200 [09:51<29:26, 11.40s/it]"
     ]
    },
    {
     "name": "stdout",
     "output_type": "stream",
     "text": [
      "Validation: Mean Squared Error: 0.4357 and Mean Absolute Error: 0.5299\n",
      "--------------------------------------------------\n",
      "Epoch [46/200], Loss: 0.4003\n"
     ]
    },
    {
     "name": "stderr",
     "output_type": "stream",
     "text": [
      " 23%|██▎       | 46/200 [10:02<28:38, 11.16s/it]"
     ]
    },
    {
     "name": "stdout",
     "output_type": "stream",
     "text": [
      "Validation: Mean Squared Error: 0.4320 and Mean Absolute Error: 0.5275\n",
      "--------------------------------------------------\n",
      "Epoch [47/200], Loss: 0.4041\n"
     ]
    },
    {
     "name": "stderr",
     "output_type": "stream",
     "text": [
      " 24%|██▎       | 47/200 [10:12<28:02, 11.00s/it]"
     ]
    },
    {
     "name": "stdout",
     "output_type": "stream",
     "text": [
      "Validation: Mean Squared Error: 0.4408 and Mean Absolute Error: 0.5339\n",
      "--------------------------------------------------\n",
      "Epoch [48/200], Loss: 0.4049\n"
     ]
    },
    {
     "name": "stderr",
     "output_type": "stream",
     "text": [
      " 24%|██▍       | 48/200 [10:23<27:32, 10.87s/it]"
     ]
    },
    {
     "name": "stdout",
     "output_type": "stream",
     "text": [
      "Validation: Mean Squared Error: 0.4439 and Mean Absolute Error: 0.5358\n",
      "--------------------------------------------------\n",
      "Epoch [49/200], Loss: 0.4029\n"
     ]
    },
    {
     "name": "stderr",
     "output_type": "stream",
     "text": [
      " 24%|██▍       | 49/200 [10:33<27:08, 10.78s/it]"
     ]
    },
    {
     "name": "stdout",
     "output_type": "stream",
     "text": [
      "Validation: Mean Squared Error: 0.4400 and Mean Absolute Error: 0.5335\n",
      "--------------------------------------------------\n",
      "Epoch [50/200], Loss: 0.4013\n"
     ]
    },
    {
     "name": "stderr",
     "output_type": "stream",
     "text": [
      " 25%|██▌       | 50/200 [10:44<26:52, 10.75s/it]"
     ]
    },
    {
     "name": "stdout",
     "output_type": "stream",
     "text": [
      "Validation: Mean Squared Error: 0.4375 and Mean Absolute Error: 0.5321\n",
      "--------------------------------------------------\n",
      "Epoch [51/200], Loss: 0.3981\n"
     ]
    },
    {
     "name": "stderr",
     "output_type": "stream",
     "text": [
      " 26%|██▌       | 51/200 [10:55<26:38, 10.73s/it]"
     ]
    },
    {
     "name": "stdout",
     "output_type": "stream",
     "text": [
      "Validation: Mean Squared Error: 0.4383 and Mean Absolute Error: 0.5314\n",
      "--------------------------------------------------\n",
      "Epoch [52/200], Loss: 0.4013\n"
     ]
    },
    {
     "name": "stderr",
     "output_type": "stream",
     "text": [
      " 26%|██▌       | 52/200 [11:05<26:24, 10.71s/it]"
     ]
    },
    {
     "name": "stdout",
     "output_type": "stream",
     "text": [
      "Validation: Mean Squared Error: 0.4325 and Mean Absolute Error: 0.5268\n",
      "--------------------------------------------------\n",
      "Epoch [53/200], Loss: 0.3972\n"
     ]
    },
    {
     "name": "stderr",
     "output_type": "stream",
     "text": [
      " 26%|██▋       | 53/200 [11:16<26:12, 10.70s/it]"
     ]
    },
    {
     "name": "stdout",
     "output_type": "stream",
     "text": [
      "Validation: Mean Squared Error: 0.4305 and Mean Absolute Error: 0.5245\n",
      "--------------------------------------------------\n",
      "Epoch [54/200], Loss: 0.3912\n"
     ]
    },
    {
     "name": "stderr",
     "output_type": "stream",
     "text": [
      " 27%|██▋       | 54/200 [11:27<26:02, 10.70s/it]"
     ]
    },
    {
     "name": "stdout",
     "output_type": "stream",
     "text": [
      "Validation: Mean Squared Error: 0.4314 and Mean Absolute Error: 0.5258\n",
      "--------------------------------------------------\n",
      "Epoch [55/200], Loss: 0.3959\n"
     ]
    },
    {
     "name": "stderr",
     "output_type": "stream",
     "text": [
      " 28%|██▊       | 55/200 [11:38<25:49, 10.69s/it]"
     ]
    },
    {
     "name": "stdout",
     "output_type": "stream",
     "text": [
      "Validation: Mean Squared Error: 0.4367 and Mean Absolute Error: 0.5299\n",
      "--------------------------------------------------\n",
      "Epoch [56/200], Loss: 0.3929\n"
     ]
    },
    {
     "name": "stderr",
     "output_type": "stream",
     "text": [
      " 28%|██▊       | 56/200 [11:50<26:47, 11.16s/it]"
     ]
    },
    {
     "name": "stdout",
     "output_type": "stream",
     "text": [
      "Validation: Mean Squared Error: 0.4361 and Mean Absolute Error: 0.5311\n",
      "--------------------------------------------------\n",
      "Epoch [57/200], Loss: 0.3927\n"
     ]
    },
    {
     "name": "stderr",
     "output_type": "stream",
     "text": [
      " 28%|██▊       | 57/200 [12:02<27:25, 11.51s/it]"
     ]
    },
    {
     "name": "stdout",
     "output_type": "stream",
     "text": [
      "Validation: Mean Squared Error: 0.4308 and Mean Absolute Error: 0.5286\n",
      "--------------------------------------------------\n",
      "Epoch [58/200], Loss: 0.3894\n"
     ]
    },
    {
     "name": "stderr",
     "output_type": "stream",
     "text": [
      " 29%|██▉       | 58/200 [12:15<27:56, 11.81s/it]"
     ]
    },
    {
     "name": "stdout",
     "output_type": "stream",
     "text": [
      "Validation: Mean Squared Error: 0.4266 and Mean Absolute Error: 0.5254\n",
      "--------------------------------------------------\n",
      "Epoch [59/200], Loss: 0.3916\n"
     ]
    },
    {
     "name": "stderr",
     "output_type": "stream",
     "text": [
      " 30%|██▉       | 59/200 [12:25<26:53, 11.44s/it]"
     ]
    },
    {
     "name": "stdout",
     "output_type": "stream",
     "text": [
      "Validation: Mean Squared Error: 0.4259 and Mean Absolute Error: 0.5244\n",
      "--------------------------------------------------\n",
      "Epoch [60/200], Loss: 0.3878\n"
     ]
    },
    {
     "name": "stderr",
     "output_type": "stream",
     "text": [
      " 30%|███       | 60/200 [12:39<28:32, 12.23s/it]"
     ]
    },
    {
     "name": "stdout",
     "output_type": "stream",
     "text": [
      "Validation: Mean Squared Error: 0.4257 and Mean Absolute Error: 0.5232\n",
      "--------------------------------------------------\n",
      "Epoch [61/200], Loss: 0.3868\n"
     ]
    },
    {
     "name": "stderr",
     "output_type": "stream",
     "text": [
      " 30%|███       | 61/200 [12:53<29:39, 12.80s/it]"
     ]
    },
    {
     "name": "stdout",
     "output_type": "stream",
     "text": [
      "Validation: Mean Squared Error: 0.4282 and Mean Absolute Error: 0.5245\n",
      "--------------------------------------------------\n",
      "Epoch [62/200], Loss: 0.3826\n"
     ]
    },
    {
     "name": "stderr",
     "output_type": "stream",
     "text": [
      " 31%|███       | 62/200 [13:09<31:25, 13.67s/it]"
     ]
    },
    {
     "name": "stdout",
     "output_type": "stream",
     "text": [
      "Validation: Mean Squared Error: 0.4391 and Mean Absolute Error: 0.5313\n",
      "--------------------------------------------------\n",
      "Epoch [63/200], Loss: 0.3865\n"
     ]
    },
    {
     "name": "stderr",
     "output_type": "stream",
     "text": [
      " 32%|███▏      | 63/200 [13:20<29:04, 12.73s/it]"
     ]
    },
    {
     "name": "stdout",
     "output_type": "stream",
     "text": [
      "Validation: Mean Squared Error: 0.4422 and Mean Absolute Error: 0.5332\n",
      "--------------------------------------------------\n",
      "Epoch [64/200], Loss: 0.3857\n"
     ]
    },
    {
     "name": "stderr",
     "output_type": "stream",
     "text": [
      " 32%|███▏      | 64/200 [13:30<27:23, 12.08s/it]"
     ]
    },
    {
     "name": "stdout",
     "output_type": "stream",
     "text": [
      "Validation: Mean Squared Error: 0.4357 and Mean Absolute Error: 0.5296\n",
      "--------------------------------------------------\n",
      "Epoch [65/200], Loss: 0.3837\n"
     ]
    },
    {
     "name": "stderr",
     "output_type": "stream",
     "text": [
      " 32%|███▎      | 65/200 [13:44<28:32, 12.68s/it]"
     ]
    },
    {
     "name": "stdout",
     "output_type": "stream",
     "text": [
      "Validation: Mean Squared Error: 0.4297 and Mean Absolute Error: 0.5262\n",
      "--------------------------------------------------\n",
      "Epoch [66/200], Loss: 0.3740\n"
     ]
    },
    {
     "name": "stderr",
     "output_type": "stream",
     "text": [
      " 33%|███▎      | 66/200 [13:57<28:01, 12.55s/it]"
     ]
    },
    {
     "name": "stdout",
     "output_type": "stream",
     "text": [
      "Validation: Mean Squared Error: 0.4274 and Mean Absolute Error: 0.5256\n",
      "--------------------------------------------------\n",
      "Epoch [67/200], Loss: 0.3777\n"
     ]
    },
    {
     "name": "stderr",
     "output_type": "stream",
     "text": [
      " 34%|███▎      | 67/200 [14:09<27:40, 12.49s/it]"
     ]
    },
    {
     "name": "stdout",
     "output_type": "stream",
     "text": [
      "Validation: Mean Squared Error: 0.4305 and Mean Absolute Error: 0.5285\n",
      "--------------------------------------------------\n",
      "Epoch [68/200], Loss: 0.3817\n"
     ]
    },
    {
     "name": "stderr",
     "output_type": "stream",
     "text": [
      " 34%|███▍      | 68/200 [14:19<26:14, 11.92s/it]"
     ]
    },
    {
     "name": "stdout",
     "output_type": "stream",
     "text": [
      "Validation: Mean Squared Error: 0.4297 and Mean Absolute Error: 0.5284\n",
      "--------------------------------------------------\n",
      "Epoch [69/200], Loss: 0.3780\n"
     ]
    },
    {
     "name": "stderr",
     "output_type": "stream",
     "text": [
      " 34%|███▍      | 69/200 [14:30<25:12, 11.54s/it]"
     ]
    },
    {
     "name": "stdout",
     "output_type": "stream",
     "text": [
      "Validation: Mean Squared Error: 0.4268 and Mean Absolute Error: 0.5265\n",
      "--------------------------------------------------\n",
      "Epoch [70/200], Loss: 0.3756\n"
     ]
    },
    {
     "name": "stderr",
     "output_type": "stream",
     "text": [
      " 35%|███▌      | 70/200 [14:44<26:38, 12.29s/it]"
     ]
    },
    {
     "name": "stdout",
     "output_type": "stream",
     "text": [
      "Validation: Mean Squared Error: 0.4230 and Mean Absolute Error: 0.5236\n",
      "--------------------------------------------------\n",
      "Epoch [71/200], Loss: 0.3754\n",
      "Validation: Mean Squared Error: 0.4249 and Mean Absolute Error: 0.5243\n",
      "--------------------------------------------------\n"
     ]
    },
    {
     "name": "stderr",
     "output_type": "stream",
     "text": [
      " 36%|███▌      | 71/200 [15:17<39:23, 18.32s/it]"
     ]
    },
    {
     "name": "stdout",
     "output_type": "stream",
     "text": [
      "Epoch [72/200], Loss: 0.3759\n",
      "Validation: Mean Squared Error: 0.4273 and Mean Absolute Error: 0.5251\n",
      "--------------------------------------------------\n"
     ]
    },
    {
     "name": "stderr",
     "output_type": "stream",
     "text": [
      " 36%|███▌      | 72/200 [16:19<1:07:23, 31.59s/it]"
     ]
    },
    {
     "name": "stdout",
     "output_type": "stream",
     "text": [
      "Epoch [73/200], Loss: 0.3747\n"
     ]
    },
    {
     "name": "stderr",
     "output_type": "stream",
     "text": [
      " 36%|███▋      | 73/200 [16:44<1:02:27, 29.51s/it]"
     ]
    },
    {
     "name": "stdout",
     "output_type": "stream",
     "text": [
      "Validation: Mean Squared Error: 0.4254 and Mean Absolute Error: 0.5235\n",
      "--------------------------------------------------\n",
      "Epoch [74/200], Loss: 0.3709\n"
     ]
    },
    {
     "name": "stderr",
     "output_type": "stream",
     "text": [
      " 37%|███▋      | 74/200 [16:54<49:42, 23.67s/it]  "
     ]
    },
    {
     "name": "stdout",
     "output_type": "stream",
     "text": [
      "Validation: Mean Squared Error: 0.4242 and Mean Absolute Error: 0.5230\n",
      "--------------------------------------------------\n",
      "Epoch [75/200], Loss: 0.3671\n"
     ]
    },
    {
     "name": "stderr",
     "output_type": "stream",
     "text": [
      " 38%|███▊      | 75/200 [17:04<41:06, 19.74s/it]"
     ]
    },
    {
     "name": "stdout",
     "output_type": "stream",
     "text": [
      "Validation: Mean Squared Error: 0.4215 and Mean Absolute Error: 0.5220\n",
      "--------------------------------------------------\n",
      "Epoch [76/200], Loss: 0.3730\n"
     ]
    },
    {
     "name": "stderr",
     "output_type": "stream",
     "text": [
      " 38%|███▊      | 76/200 [17:15<35:01, 16.95s/it]"
     ]
    },
    {
     "name": "stdout",
     "output_type": "stream",
     "text": [
      "Validation: Mean Squared Error: 0.4219 and Mean Absolute Error: 0.5228\n",
      "--------------------------------------------------\n",
      "Epoch [77/200], Loss: 0.3692\n"
     ]
    },
    {
     "name": "stderr",
     "output_type": "stream",
     "text": [
      " 38%|███▊      | 77/200 [17:25<30:47, 15.02s/it]"
     ]
    },
    {
     "name": "stdout",
     "output_type": "stream",
     "text": [
      "Validation: Mean Squared Error: 0.4226 and Mean Absolute Error: 0.5238\n",
      "--------------------------------------------------\n",
      "Epoch [78/200], Loss: 0.3701\n"
     ]
    },
    {
     "name": "stderr",
     "output_type": "stream",
     "text": [
      " 39%|███▉      | 78/200 [17:36<27:44, 13.65s/it]"
     ]
    },
    {
     "name": "stdout",
     "output_type": "stream",
     "text": [
      "Validation: Mean Squared Error: 0.4222 and Mean Absolute Error: 0.5245\n",
      "--------------------------------------------------\n",
      "Epoch [79/200], Loss: 0.3664\n"
     ]
    },
    {
     "name": "stderr",
     "output_type": "stream",
     "text": [
      " 40%|███▉      | 79/200 [17:46<25:38, 12.71s/it]"
     ]
    },
    {
     "name": "stdout",
     "output_type": "stream",
     "text": [
      "Validation: Mean Squared Error: 0.4223 and Mean Absolute Error: 0.5249\n",
      "--------------------------------------------------\n",
      "Epoch [80/200], Loss: 0.3680\n"
     ]
    },
    {
     "name": "stderr",
     "output_type": "stream",
     "text": [
      " 40%|████      | 80/200 [17:57<24:05, 12.05s/it]"
     ]
    },
    {
     "name": "stdout",
     "output_type": "stream",
     "text": [
      "Validation: Mean Squared Error: 0.4248 and Mean Absolute Error: 0.5267\n",
      "--------------------------------------------------\n",
      "Epoch [81/200], Loss: 0.3632\n"
     ]
    },
    {
     "name": "stderr",
     "output_type": "stream",
     "text": [
      " 40%|████      | 81/200 [18:07<23:00, 11.60s/it]"
     ]
    },
    {
     "name": "stdout",
     "output_type": "stream",
     "text": [
      "Validation: Mean Squared Error: 0.4261 and Mean Absolute Error: 0.5268\n",
      "--------------------------------------------------\n",
      "Epoch [82/200], Loss: 0.3659\n"
     ]
    },
    {
     "name": "stderr",
     "output_type": "stream",
     "text": [
      " 41%|████      | 82/200 [18:18<22:11, 11.28s/it]"
     ]
    },
    {
     "name": "stdout",
     "output_type": "stream",
     "text": [
      "Validation: Mean Squared Error: 0.4247 and Mean Absolute Error: 0.5254\n",
      "--------------------------------------------------\n",
      "Epoch [83/200], Loss: 0.3645\n"
     ]
    },
    {
     "name": "stderr",
     "output_type": "stream",
     "text": [
      " 42%|████▏     | 83/200 [18:28<21:35, 11.07s/it]"
     ]
    },
    {
     "name": "stdout",
     "output_type": "stream",
     "text": [
      "Validation: Mean Squared Error: 0.4194 and Mean Absolute Error: 0.5205\n",
      "--------------------------------------------------\n",
      "Epoch [84/200], Loss: 0.3596\n"
     ]
    },
    {
     "name": "stderr",
     "output_type": "stream",
     "text": [
      " 42%|████▏     | 84/200 [18:39<21:08, 10.94s/it]"
     ]
    },
    {
     "name": "stdout",
     "output_type": "stream",
     "text": [
      "Validation: Mean Squared Error: 0.4207 and Mean Absolute Error: 0.5201\n",
      "--------------------------------------------------\n",
      "Epoch [85/200], Loss: 0.3629\n"
     ]
    },
    {
     "name": "stderr",
     "output_type": "stream",
     "text": [
      " 42%|████▎     | 85/200 [18:50<20:44, 10.82s/it]"
     ]
    },
    {
     "name": "stdout",
     "output_type": "stream",
     "text": [
      "Validation: Mean Squared Error: 0.4184 and Mean Absolute Error: 0.5186\n",
      "--------------------------------------------------\n",
      "Epoch [86/200], Loss: 0.3617\n"
     ]
    },
    {
     "name": "stderr",
     "output_type": "stream",
     "text": [
      " 43%|████▎     | 86/200 [19:00<20:31, 10.81s/it]"
     ]
    },
    {
     "name": "stdout",
     "output_type": "stream",
     "text": [
      "Validation: Mean Squared Error: 0.4153 and Mean Absolute Error: 0.5171\n",
      "--------------------------------------------------\n",
      "Epoch [87/200], Loss: 0.3583\n"
     ]
    },
    {
     "name": "stderr",
     "output_type": "stream",
     "text": [
      " 44%|████▎     | 87/200 [19:11<20:16, 10.76s/it]"
     ]
    },
    {
     "name": "stdout",
     "output_type": "stream",
     "text": [
      "Validation: Mean Squared Error: 0.4140 and Mean Absolute Error: 0.5172\n",
      "--------------------------------------------------\n",
      "Epoch [88/200], Loss: 0.3554\n"
     ]
    },
    {
     "name": "stderr",
     "output_type": "stream",
     "text": [
      " 44%|████▍     | 88/200 [19:22<20:04, 10.75s/it]"
     ]
    },
    {
     "name": "stdout",
     "output_type": "stream",
     "text": [
      "Validation: Mean Squared Error: 0.4171 and Mean Absolute Error: 0.5198\n",
      "--------------------------------------------------\n",
      "Epoch [89/200], Loss: 0.3571\n"
     ]
    },
    {
     "name": "stderr",
     "output_type": "stream",
     "text": [
      " 44%|████▍     | 89/200 [19:33<19:54, 10.76s/it]"
     ]
    },
    {
     "name": "stdout",
     "output_type": "stream",
     "text": [
      "Validation: Mean Squared Error: 0.4203 and Mean Absolute Error: 0.5219\n",
      "--------------------------------------------------\n",
      "Epoch [90/200], Loss: 0.3588\n"
     ]
    },
    {
     "name": "stderr",
     "output_type": "stream",
     "text": [
      " 45%|████▌     | 90/200 [19:43<19:40, 10.73s/it]"
     ]
    },
    {
     "name": "stdout",
     "output_type": "stream",
     "text": [
      "Validation: Mean Squared Error: 0.4203 and Mean Absolute Error: 0.5221\n",
      "--------------------------------------------------\n",
      "Epoch [91/200], Loss: 0.3582\n"
     ]
    },
    {
     "name": "stderr",
     "output_type": "stream",
     "text": [
      " 46%|████▌     | 91/200 [19:54<19:29, 10.73s/it]"
     ]
    },
    {
     "name": "stdout",
     "output_type": "stream",
     "text": [
      "Validation: Mean Squared Error: 0.4156 and Mean Absolute Error: 0.5185\n",
      "--------------------------------------------------\n",
      "Epoch [92/200], Loss: 0.3567\n"
     ]
    },
    {
     "name": "stderr",
     "output_type": "stream",
     "text": [
      " 46%|████▌     | 92/200 [20:05<19:21, 10.76s/it]"
     ]
    },
    {
     "name": "stdout",
     "output_type": "stream",
     "text": [
      "Validation: Mean Squared Error: 0.4119 and Mean Absolute Error: 0.5153\n",
      "--------------------------------------------------\n",
      "Epoch [93/200], Loss: 0.3550\n",
      "Validation: Mean Squared Error: 0.4131 and Mean Absolute Error: 0.5158\n",
      "--------------------------------------------------\n"
     ]
    },
    {
     "name": "stderr",
     "output_type": "stream",
     "text": [
      " 46%|████▋     | 93/200 [20:57<41:25, 23.23s/it]"
     ]
    },
    {
     "name": "stdout",
     "output_type": "stream",
     "text": [
      "Epoch [94/200], Loss: 0.3557\n",
      "Validation: Mean Squared Error: 0.4126 and Mean Absolute Error: 0.5157\n",
      "--------------------------------------------------\n"
     ]
    },
    {
     "name": "stderr",
     "output_type": "stream",
     "text": [
      " 47%|████▋     | 94/200 [22:11<1:07:51, 38.41s/it]"
     ]
    },
    {
     "name": "stdout",
     "output_type": "stream",
     "text": [
      "Epoch [95/200], Loss: 0.3549\n",
      "Validation: Mean Squared Error: 0.4145 and Mean Absolute Error: 0.5162\n",
      "--------------------------------------------------\n"
     ]
    },
    {
     "name": "stderr",
     "output_type": "stream",
     "text": [
      " 48%|████▊     | 95/200 [23:24<1:25:25, 48.81s/it]"
     ]
    },
    {
     "name": "stdout",
     "output_type": "stream",
     "text": [
      "Epoch [96/200], Loss: 0.3532\n",
      "Validation: Mean Squared Error: 0.4130 and Mean Absolute Error: 0.5155\n",
      "--------------------------------------------------\n"
     ]
    },
    {
     "name": "stderr",
     "output_type": "stream",
     "text": [
      " 48%|████▊     | 96/200 [24:34<1:35:36, 55.16s/it]"
     ]
    },
    {
     "name": "stdout",
     "output_type": "stream",
     "text": [
      "Epoch [97/200], Loss: 0.3488\n",
      "Validation: Mean Squared Error: 0.4165 and Mean Absolute Error: 0.5178\n",
      "--------------------------------------------------\n"
     ]
    },
    {
     "name": "stderr",
     "output_type": "stream",
     "text": [
      " 48%|████▊     | 97/200 [25:42<1:41:24, 59.08s/it]"
     ]
    },
    {
     "name": "stdout",
     "output_type": "stream",
     "text": [
      "Epoch [98/200], Loss: 0.3497\n",
      "Validation: Mean Squared Error: 0.4200 and Mean Absolute Error: 0.5202\n",
      "--------------------------------------------------\n"
     ]
    },
    {
     "name": "stderr",
     "output_type": "stream",
     "text": [
      " 49%|████▉     | 98/200 [26:52<1:46:03, 62.38s/it]"
     ]
    },
    {
     "name": "stdout",
     "output_type": "stream",
     "text": [
      "Epoch [99/200], Loss: 0.3540\n"
     ]
    },
    {
     "name": "stderr",
     "output_type": "stream",
     "text": [
      " 50%|████▉     | 99/200 [27:34<1:34:29, 56.13s/it]"
     ]
    },
    {
     "name": "stdout",
     "output_type": "stream",
     "text": [
      "Validation: Mean Squared Error: 0.4195 and Mean Absolute Error: 0.5201\n",
      "--------------------------------------------------\n",
      "Epoch [100/200], Loss: 0.3539\n"
     ]
    },
    {
     "name": "stderr",
     "output_type": "stream",
     "text": [
      " 50%|█████     | 100/200 [27:46<1:11:26, 42.86s/it]"
     ]
    },
    {
     "name": "stdout",
     "output_type": "stream",
     "text": [
      "Validation: Mean Squared Error: 0.4164 and Mean Absolute Error: 0.5190\n",
      "--------------------------------------------------\n",
      "Epoch [101/200], Loss: 0.3500\n"
     ]
    },
    {
     "name": "stderr",
     "output_type": "stream",
     "text": [
      " 50%|█████     | 101/200 [28:00<56:29, 34.24s/it]  "
     ]
    },
    {
     "name": "stdout",
     "output_type": "stream",
     "text": [
      "Validation: Mean Squared Error: 0.4150 and Mean Absolute Error: 0.5170\n",
      "--------------------------------------------------\n",
      "Epoch [102/200], Loss: 0.3501\n"
     ]
    },
    {
     "name": "stderr",
     "output_type": "stream",
     "text": [
      " 51%|█████     | 102/200 [28:15<46:22, 28.39s/it]"
     ]
    },
    {
     "name": "stdout",
     "output_type": "stream",
     "text": [
      "Validation: Mean Squared Error: 0.4173 and Mean Absolute Error: 0.5199\n",
      "--------------------------------------------------\n",
      "Epoch [103/200], Loss: 0.3467\n"
     ]
    },
    {
     "name": "stderr",
     "output_type": "stream",
     "text": [
      " 52%|█████▏    | 103/200 [28:30<39:46, 24.60s/it]"
     ]
    },
    {
     "name": "stdout",
     "output_type": "stream",
     "text": [
      "Validation: Mean Squared Error: 0.4161 and Mean Absolute Error: 0.5187\n",
      "--------------------------------------------------\n",
      "Epoch [104/200], Loss: 0.3493\n"
     ]
    },
    {
     "name": "stderr",
     "output_type": "stream",
     "text": [
      " 52%|█████▏    | 104/200 [28:48<35:49, 22.39s/it]"
     ]
    },
    {
     "name": "stdout",
     "output_type": "stream",
     "text": [
      "Validation: Mean Squared Error: 0.4148 and Mean Absolute Error: 0.5175\n",
      "--------------------------------------------------\n",
      "Epoch [105/200], Loss: 0.3445\n"
     ]
    },
    {
     "name": "stderr",
     "output_type": "stream",
     "text": [
      " 52%|█████▎    | 105/200 [29:06<33:18, 21.03s/it]"
     ]
    },
    {
     "name": "stdout",
     "output_type": "stream",
     "text": [
      "Validation: Mean Squared Error: 0.4125 and Mean Absolute Error: 0.5155\n",
      "--------------------------------------------------\n",
      "Epoch [106/200], Loss: 0.3448\n"
     ]
    },
    {
     "name": "stderr",
     "output_type": "stream",
     "text": [
      " 53%|█████▎    | 106/200 [29:27<33:00, 21.07s/it]"
     ]
    },
    {
     "name": "stdout",
     "output_type": "stream",
     "text": [
      "Validation: Mean Squared Error: 0.4133 and Mean Absolute Error: 0.5155\n",
      "--------------------------------------------------\n",
      "Epoch [107/200], Loss: 0.3427\n"
     ]
    },
    {
     "name": "stderr",
     "output_type": "stream",
     "text": [
      " 54%|█████▎    | 107/200 [29:46<31:58, 20.62s/it]"
     ]
    },
    {
     "name": "stdout",
     "output_type": "stream",
     "text": [
      "Validation: Mean Squared Error: 0.4132 and Mean Absolute Error: 0.5155\n",
      "--------------------------------------------------\n",
      "Epoch [108/200], Loss: 0.3429\n"
     ]
    },
    {
     "name": "stderr",
     "output_type": "stream",
     "text": [
      " 54%|█████▍    | 108/200 [30:01<28:55, 18.86s/it]"
     ]
    },
    {
     "name": "stdout",
     "output_type": "stream",
     "text": [
      "Validation: Mean Squared Error: 0.4132 and Mean Absolute Error: 0.5159\n",
      "--------------------------------------------------\n",
      "Epoch [109/200], Loss: 0.3452\n"
     ]
    },
    {
     "name": "stderr",
     "output_type": "stream",
     "text": [
      " 55%|█████▍    | 109/200 [30:17<27:11, 17.93s/it]"
     ]
    },
    {
     "name": "stdout",
     "output_type": "stream",
     "text": [
      "Validation: Mean Squared Error: 0.4136 and Mean Absolute Error: 0.5167\n",
      "--------------------------------------------------\n",
      "Epoch [110/200], Loss: 0.3405\n"
     ]
    },
    {
     "name": "stderr",
     "output_type": "stream",
     "text": [
      " 55%|█████▌    | 110/200 [30:33<25:57, 17.31s/it]"
     ]
    },
    {
     "name": "stdout",
     "output_type": "stream",
     "text": [
      "Validation: Mean Squared Error: 0.4122 and Mean Absolute Error: 0.5165\n",
      "--------------------------------------------------\n",
      "Epoch [111/200], Loss: 0.3435\n"
     ]
    },
    {
     "name": "stderr",
     "output_type": "stream",
     "text": [
      " 56%|█████▌    | 111/200 [30:51<26:14, 17.69s/it]"
     ]
    },
    {
     "name": "stdout",
     "output_type": "stream",
     "text": [
      "Validation: Mean Squared Error: 0.4120 and Mean Absolute Error: 0.5174\n",
      "--------------------------------------------------\n",
      "Epoch [112/200], Loss: 0.3399\n"
     ]
    },
    {
     "name": "stderr",
     "output_type": "stream",
     "text": [
      " 56%|█████▌    | 112/200 [31:08<25:33, 17.43s/it]"
     ]
    },
    {
     "name": "stdout",
     "output_type": "stream",
     "text": [
      "Validation: Mean Squared Error: 0.4133 and Mean Absolute Error: 0.5176\n",
      "--------------------------------------------------\n",
      "Epoch [113/200], Loss: 0.3408\n"
     ]
    },
    {
     "name": "stderr",
     "output_type": "stream",
     "text": [
      " 56%|█████▋    | 113/200 [31:24<24:26, 16.85s/it]"
     ]
    },
    {
     "name": "stdout",
     "output_type": "stream",
     "text": [
      "Validation: Mean Squared Error: 0.4127 and Mean Absolute Error: 0.5178\n",
      "--------------------------------------------------\n",
      "Epoch [114/200], Loss: 0.3416\n"
     ]
    },
    {
     "name": "stderr",
     "output_type": "stream",
     "text": [
      " 57%|█████▋    | 114/200 [31:38<22:58, 16.03s/it]"
     ]
    },
    {
     "name": "stdout",
     "output_type": "stream",
     "text": [
      "Validation: Mean Squared Error: 0.4109 and Mean Absolute Error: 0.5155\n",
      "--------------------------------------------------\n",
      "Epoch [115/200], Loss: 0.3411\n"
     ]
    },
    {
     "name": "stderr",
     "output_type": "stream",
     "text": [
      " 57%|█████▊    | 115/200 [31:52<22:08, 15.63s/it]"
     ]
    },
    {
     "name": "stdout",
     "output_type": "stream",
     "text": [
      "Validation: Mean Squared Error: 0.4099 and Mean Absolute Error: 0.5152\n",
      "--------------------------------------------------\n",
      "Epoch [116/200], Loss: 0.3386\n"
     ]
    },
    {
     "name": "stderr",
     "output_type": "stream",
     "text": [
      " 58%|█████▊    | 116/200 [32:11<23:11, 16.57s/it]"
     ]
    },
    {
     "name": "stdout",
     "output_type": "stream",
     "text": [
      "Validation: Mean Squared Error: 0.4099 and Mean Absolute Error: 0.5150\n",
      "--------------------------------------------------\n",
      "Epoch [117/200], Loss: 0.3369\n"
     ]
    },
    {
     "name": "stderr",
     "output_type": "stream",
     "text": [
      " 58%|█████▊    | 117/200 [32:27<22:28, 16.25s/it]"
     ]
    },
    {
     "name": "stdout",
     "output_type": "stream",
     "text": [
      "Validation: Mean Squared Error: 0.4116 and Mean Absolute Error: 0.5151\n",
      "--------------------------------------------------\n",
      "Epoch [118/200], Loss: 0.3360\n"
     ]
    },
    {
     "name": "stderr",
     "output_type": "stream",
     "text": [
      " 59%|█████▉    | 118/200 [32:41<21:17, 15.58s/it]"
     ]
    },
    {
     "name": "stdout",
     "output_type": "stream",
     "text": [
      "Validation: Mean Squared Error: 0.4130 and Mean Absolute Error: 0.5158\n",
      "--------------------------------------------------\n",
      "Epoch [119/200], Loss: 0.3360\n"
     ]
    },
    {
     "name": "stderr",
     "output_type": "stream",
     "text": [
      " 60%|█████▉    | 119/200 [32:55<20:37, 15.28s/it]"
     ]
    },
    {
     "name": "stdout",
     "output_type": "stream",
     "text": [
      "Validation: Mean Squared Error: 0.4131 and Mean Absolute Error: 0.5165\n",
      "--------------------------------------------------\n",
      "Epoch [120/200], Loss: 0.3335\n"
     ]
    },
    {
     "name": "stderr",
     "output_type": "stream",
     "text": [
      " 60%|██████    | 120/200 [33:10<20:02, 15.03s/it]"
     ]
    },
    {
     "name": "stdout",
     "output_type": "stream",
     "text": [
      "Validation: Mean Squared Error: 0.4107 and Mean Absolute Error: 0.5151\n",
      "--------------------------------------------------\n",
      "Epoch [121/200], Loss: 0.3314\n"
     ]
    },
    {
     "name": "stderr",
     "output_type": "stream",
     "text": [
      " 60%|██████    | 121/200 [33:24<19:33, 14.85s/it]"
     ]
    },
    {
     "name": "stdout",
     "output_type": "stream",
     "text": [
      "Validation: Mean Squared Error: 0.4116 and Mean Absolute Error: 0.5164\n",
      "--------------------------------------------------\n",
      "Epoch [122/200], Loss: 0.3346\n"
     ]
    },
    {
     "name": "stderr",
     "output_type": "stream",
     "text": [
      " 61%|██████    | 122/200 [33:39<19:12, 14.78s/it]"
     ]
    },
    {
     "name": "stdout",
     "output_type": "stream",
     "text": [
      "Validation: Mean Squared Error: 0.4128 and Mean Absolute Error: 0.5180\n",
      "--------------------------------------------------\n",
      "Epoch [123/200], Loss: 0.3381\n"
     ]
    },
    {
     "name": "stderr",
     "output_type": "stream",
     "text": [
      " 62%|██████▏   | 123/200 [33:53<18:55, 14.74s/it]"
     ]
    },
    {
     "name": "stdout",
     "output_type": "stream",
     "text": [
      "Validation: Mean Squared Error: 0.4119 and Mean Absolute Error: 0.5168\n",
      "--------------------------------------------------\n",
      "Epoch [124/200], Loss: 0.3327\n"
     ]
    },
    {
     "name": "stderr",
     "output_type": "stream",
     "text": [
      " 62%|██████▏   | 124/200 [34:07<18:26, 14.56s/it]"
     ]
    },
    {
     "name": "stdout",
     "output_type": "stream",
     "text": [
      "Validation: Mean Squared Error: 0.4139 and Mean Absolute Error: 0.5180\n",
      "--------------------------------------------------\n",
      "Epoch [125/200], Loss: 0.3341\n"
     ]
    },
    {
     "name": "stderr",
     "output_type": "stream",
     "text": [
      " 62%|██████▎   | 125/200 [34:22<18:17, 14.63s/it]"
     ]
    },
    {
     "name": "stdout",
     "output_type": "stream",
     "text": [
      "Validation: Mean Squared Error: 0.4145 and Mean Absolute Error: 0.5194\n",
      "--------------------------------------------------\n",
      "Epoch [126/200], Loss: 0.3340\n"
     ]
    },
    {
     "name": "stderr",
     "output_type": "stream",
     "text": [
      " 63%|██████▎   | 126/200 [34:37<18:02, 14.62s/it]"
     ]
    },
    {
     "name": "stdout",
     "output_type": "stream",
     "text": [
      "Validation: Mean Squared Error: 0.4131 and Mean Absolute Error: 0.5183\n",
      "--------------------------------------------------\n",
      "Epoch [127/200], Loss: 0.3331\n"
     ]
    },
    {
     "name": "stderr",
     "output_type": "stream",
     "text": [
      " 64%|██████▎   | 127/200 [34:51<17:42, 14.56s/it]"
     ]
    },
    {
     "name": "stdout",
     "output_type": "stream",
     "text": [
      "Validation: Mean Squared Error: 0.4145 and Mean Absolute Error: 0.5183\n",
      "--------------------------------------------------\n",
      "Epoch [128/200], Loss: 0.3312\n"
     ]
    },
    {
     "name": "stderr",
     "output_type": "stream",
     "text": [
      " 64%|██████▍   | 128/200 [35:05<17:20, 14.45s/it]"
     ]
    },
    {
     "name": "stdout",
     "output_type": "stream",
     "text": [
      "Validation: Mean Squared Error: 0.4151 and Mean Absolute Error: 0.5172\n",
      "--------------------------------------------------\n",
      "Epoch [129/200], Loss: 0.3279\n"
     ]
    },
    {
     "name": "stderr",
     "output_type": "stream",
     "text": [
      " 64%|██████▍   | 129/200 [35:20<17:01, 14.39s/it]"
     ]
    },
    {
     "name": "stdout",
     "output_type": "stream",
     "text": [
      "Validation: Mean Squared Error: 0.4117 and Mean Absolute Error: 0.5148\n",
      "--------------------------------------------------\n",
      "Epoch [130/200], Loss: 0.3278\n"
     ]
    },
    {
     "name": "stderr",
     "output_type": "stream",
     "text": [
      " 65%|██████▌   | 130/200 [35:34<16:35, 14.23s/it]"
     ]
    },
    {
     "name": "stdout",
     "output_type": "stream",
     "text": [
      "Validation: Mean Squared Error: 0.4110 and Mean Absolute Error: 0.5148\n",
      "--------------------------------------------------\n",
      "Epoch [131/200], Loss: 0.3300\n"
     ]
    },
    {
     "name": "stderr",
     "output_type": "stream",
     "text": [
      " 66%|██████▌   | 131/200 [35:47<16:11, 14.08s/it]"
     ]
    },
    {
     "name": "stdout",
     "output_type": "stream",
     "text": [
      "Validation: Mean Squared Error: 0.4098 and Mean Absolute Error: 0.5145\n",
      "--------------------------------------------------\n",
      "Epoch [132/200], Loss: 0.3277\n"
     ]
    },
    {
     "name": "stderr",
     "output_type": "stream",
     "text": [
      " 66%|██████▌   | 132/200 [36:01<15:51, 13.99s/it]"
     ]
    },
    {
     "name": "stdout",
     "output_type": "stream",
     "text": [
      "Validation: Mean Squared Error: 0.4123 and Mean Absolute Error: 0.5175\n",
      "--------------------------------------------------\n",
      "Epoch [133/200], Loss: 0.3284\n"
     ]
    },
    {
     "name": "stderr",
     "output_type": "stream",
     "text": [
      " 66%|██████▋   | 133/200 [36:15<15:33, 13.94s/it]"
     ]
    },
    {
     "name": "stdout",
     "output_type": "stream",
     "text": [
      "Validation: Mean Squared Error: 0.4129 and Mean Absolute Error: 0.5178\n",
      "--------------------------------------------------\n",
      "Epoch [134/200], Loss: 0.3300\n"
     ]
    },
    {
     "name": "stderr",
     "output_type": "stream",
     "text": [
      " 67%|██████▋   | 134/200 [36:30<15:35, 14.18s/it]"
     ]
    },
    {
     "name": "stdout",
     "output_type": "stream",
     "text": [
      "Validation: Mean Squared Error: 0.4105 and Mean Absolute Error: 0.5164\n",
      "--------------------------------------------------\n",
      "Epoch [135/200], Loss: 0.3250\n"
     ]
    },
    {
     "name": "stderr",
     "output_type": "stream",
     "text": [
      " 68%|██████▊   | 135/200 [36:44<15:24, 14.22s/it]"
     ]
    },
    {
     "name": "stdout",
     "output_type": "stream",
     "text": [
      "Validation: Mean Squared Error: 0.4105 and Mean Absolute Error: 0.5163\n",
      "--------------------------------------------------\n",
      "Epoch [136/200], Loss: 0.3226\n"
     ]
    },
    {
     "name": "stderr",
     "output_type": "stream",
     "text": [
      " 68%|██████▊   | 136/200 [36:58<15:10, 14.22s/it]"
     ]
    },
    {
     "name": "stdout",
     "output_type": "stream",
     "text": [
      "Validation: Mean Squared Error: 0.4123 and Mean Absolute Error: 0.5168\n",
      "--------------------------------------------------\n",
      "Epoch [137/200], Loss: 0.3280\n"
     ]
    },
    {
     "name": "stderr",
     "output_type": "stream",
     "text": [
      " 68%|██████▊   | 137/200 [37:12<14:49, 14.11s/it]"
     ]
    },
    {
     "name": "stdout",
     "output_type": "stream",
     "text": [
      "Validation: Mean Squared Error: 0.4127 and Mean Absolute Error: 0.5170\n",
      "--------------------------------------------------\n",
      "Epoch [138/200], Loss: 0.3274\n"
     ]
    },
    {
     "name": "stderr",
     "output_type": "stream",
     "text": [
      " 69%|██████▉   | 138/200 [37:26<14:30, 14.04s/it]"
     ]
    },
    {
     "name": "stdout",
     "output_type": "stream",
     "text": [
      "Validation: Mean Squared Error: 0.4143 and Mean Absolute Error: 0.5183\n",
      "--------------------------------------------------\n",
      "Epoch [139/200], Loss: 0.3229\n"
     ]
    },
    {
     "name": "stderr",
     "output_type": "stream",
     "text": [
      " 70%|██████▉   | 139/200 [37:40<14:19, 14.10s/it]"
     ]
    },
    {
     "name": "stdout",
     "output_type": "stream",
     "text": [
      "Validation: Mean Squared Error: 0.4155 and Mean Absolute Error: 0.5190\n",
      "--------------------------------------------------\n",
      "Epoch [140/200], Loss: 0.3219\n"
     ]
    },
    {
     "name": "stderr",
     "output_type": "stream",
     "text": [
      " 70%|███████   | 140/200 [37:55<14:14, 14.23s/it]"
     ]
    },
    {
     "name": "stdout",
     "output_type": "stream",
     "text": [
      "Validation: Mean Squared Error: 0.4109 and Mean Absolute Error: 0.5156\n",
      "--------------------------------------------------\n",
      "Epoch [141/200], Loss: 0.3214\n"
     ]
    },
    {
     "name": "stderr",
     "output_type": "stream",
     "text": [
      " 70%|███████   | 141/200 [38:09<13:57, 14.19s/it]"
     ]
    },
    {
     "name": "stdout",
     "output_type": "stream",
     "text": [
      "Validation: Mean Squared Error: 0.4122 and Mean Absolute Error: 0.5160\n",
      "--------------------------------------------------\n",
      "Epoch [142/200], Loss: 0.3211\n"
     ]
    },
    {
     "name": "stderr",
     "output_type": "stream",
     "text": [
      " 71%|███████   | 142/200 [38:22<13:30, 13.98s/it]"
     ]
    },
    {
     "name": "stdout",
     "output_type": "stream",
     "text": [
      "Validation: Mean Squared Error: 0.4138 and Mean Absolute Error: 0.5169\n",
      "--------------------------------------------------\n",
      "Epoch [143/200], Loss: 0.3231\n"
     ]
    },
    {
     "name": "stderr",
     "output_type": "stream",
     "text": [
      " 72%|███████▏  | 143/200 [38:36<13:18, 14.00s/it]"
     ]
    },
    {
     "name": "stdout",
     "output_type": "stream",
     "text": [
      "Validation: Mean Squared Error: 0.4169 and Mean Absolute Error: 0.5194\n",
      "--------------------------------------------------\n",
      "Epoch [144/200], Loss: 0.3226\n"
     ]
    },
    {
     "name": "stderr",
     "output_type": "stream",
     "text": [
      " 72%|███████▏  | 144/200 [38:54<14:09, 15.18s/it]"
     ]
    },
    {
     "name": "stdout",
     "output_type": "stream",
     "text": [
      "Validation: Mean Squared Error: 0.4160 and Mean Absolute Error: 0.5185\n",
      "--------------------------------------------------\n",
      "Epoch [145/200], Loss: 0.3222\n"
     ]
    },
    {
     "name": "stderr",
     "output_type": "stream",
     "text": [
      " 72%|███████▎  | 145/200 [39:09<13:43, 14.96s/it]"
     ]
    },
    {
     "name": "stdout",
     "output_type": "stream",
     "text": [
      "Validation: Mean Squared Error: 0.4128 and Mean Absolute Error: 0.5159\n",
      "--------------------------------------------------\n",
      "Epoch [146/200], Loss: 0.3185\n"
     ]
    },
    {
     "name": "stderr",
     "output_type": "stream",
     "text": [
      " 73%|███████▎  | 146/200 [39:23<13:21, 14.84s/it]"
     ]
    },
    {
     "name": "stdout",
     "output_type": "stream",
     "text": [
      "Validation: Mean Squared Error: 0.4119 and Mean Absolute Error: 0.5151\n",
      "--------------------------------------------------\n",
      "Epoch [147/200], Loss: 0.3190\n"
     ]
    },
    {
     "name": "stderr",
     "output_type": "stream",
     "text": [
      " 74%|███████▎  | 147/200 [39:38<13:04, 14.80s/it]"
     ]
    },
    {
     "name": "stdout",
     "output_type": "stream",
     "text": [
      "Validation: Mean Squared Error: 0.4133 and Mean Absolute Error: 0.5172\n",
      "--------------------------------------------------\n",
      "Epoch [148/200], Loss: 0.3224\n"
     ]
    },
    {
     "name": "stderr",
     "output_type": "stream",
     "text": [
      " 74%|███████▍  | 148/200 [39:54<13:14, 15.29s/it]"
     ]
    },
    {
     "name": "stdout",
     "output_type": "stream",
     "text": [
      "Validation: Mean Squared Error: 0.4171 and Mean Absolute Error: 0.5203\n",
      "--------------------------------------------------\n",
      "Epoch [149/200], Loss: 0.3204\n"
     ]
    },
    {
     "name": "stderr",
     "output_type": "stream",
     "text": [
      " 74%|███████▍  | 149/200 [40:08<12:30, 14.73s/it]"
     ]
    },
    {
     "name": "stdout",
     "output_type": "stream",
     "text": [
      "Validation: Mean Squared Error: 0.4207 and Mean Absolute Error: 0.5229\n",
      "--------------------------------------------------\n",
      "Epoch [150/200], Loss: 0.3175\n"
     ]
    },
    {
     "name": "stderr",
     "output_type": "stream",
     "text": [
      " 75%|███████▌  | 150/200 [40:22<12:01, 14.44s/it]"
     ]
    },
    {
     "name": "stdout",
     "output_type": "stream",
     "text": [
      "Validation: Mean Squared Error: 0.4184 and Mean Absolute Error: 0.5210\n",
      "--------------------------------------------------\n",
      "Epoch [151/200], Loss: 0.3183\n"
     ]
    },
    {
     "name": "stderr",
     "output_type": "stream",
     "text": [
      " 76%|███████▌  | 151/200 [40:35<11:33, 14.15s/it]"
     ]
    },
    {
     "name": "stdout",
     "output_type": "stream",
     "text": [
      "Validation: Mean Squared Error: 0.4146 and Mean Absolute Error: 0.5185\n",
      "--------------------------------------------------\n",
      "Epoch [152/200], Loss: 0.3162\n"
     ]
    },
    {
     "name": "stderr",
     "output_type": "stream",
     "text": [
      " 76%|███████▌  | 152/200 [40:51<11:40, 14.59s/it]"
     ]
    },
    {
     "name": "stdout",
     "output_type": "stream",
     "text": [
      "Validation: Mean Squared Error: 0.4128 and Mean Absolute Error: 0.5174\n",
      "--------------------------------------------------\n",
      "Epoch [153/200], Loss: 0.3185\n"
     ]
    },
    {
     "name": "stderr",
     "output_type": "stream",
     "text": [
      " 76%|███████▋  | 153/200 [41:07<11:50, 15.11s/it]"
     ]
    },
    {
     "name": "stdout",
     "output_type": "stream",
     "text": [
      "Validation: Mean Squared Error: 0.4154 and Mean Absolute Error: 0.5189\n",
      "--------------------------------------------------\n",
      "Epoch [154/200], Loss: 0.3157\n"
     ]
    },
    {
     "name": "stderr",
     "output_type": "stream",
     "text": [
      " 77%|███████▋  | 154/200 [41:21<11:17, 14.73s/it]"
     ]
    },
    {
     "name": "stdout",
     "output_type": "stream",
     "text": [
      "Validation: Mean Squared Error: 0.4189 and Mean Absolute Error: 0.5210\n",
      "--------------------------------------------------\n",
      "Epoch [155/200], Loss: 0.3160\n"
     ]
    },
    {
     "name": "stderr",
     "output_type": "stream",
     "text": [
      " 78%|███████▊  | 155/200 [41:35<10:54, 14.55s/it]"
     ]
    },
    {
     "name": "stdout",
     "output_type": "stream",
     "text": [
      "Validation: Mean Squared Error: 0.4136 and Mean Absolute Error: 0.5167\n",
      "--------------------------------------------------\n",
      "Epoch [156/200], Loss: 0.3158\n"
     ]
    },
    {
     "name": "stderr",
     "output_type": "stream",
     "text": [
      " 78%|███████▊  | 156/200 [41:49<10:27, 14.26s/it]"
     ]
    },
    {
     "name": "stdout",
     "output_type": "stream",
     "text": [
      "Validation: Mean Squared Error: 0.4116 and Mean Absolute Error: 0.5150\n",
      "--------------------------------------------------\n",
      "Epoch [157/200], Loss: 0.3145\n"
     ]
    },
    {
     "name": "stderr",
     "output_type": "stream",
     "text": [
      " 78%|███████▊  | 157/200 [1:13:00<6:49:33, 571.49s/it]"
     ]
    },
    {
     "name": "stdout",
     "output_type": "stream",
     "text": [
      "Validation: Mean Squared Error: 0.4112 and Mean Absolute Error: 0.5144\n",
      "--------------------------------------------------\n",
      "Epoch [158/200], Loss: 0.3122\n"
     ]
    },
    {
     "name": "stderr",
     "output_type": "stream",
     "text": [
      " 79%|███████▉  | 158/200 [1:13:09<4:41:46, 402.54s/it]"
     ]
    },
    {
     "name": "stdout",
     "output_type": "stream",
     "text": [
      "Validation: Mean Squared Error: 0.4161 and Mean Absolute Error: 0.5180\n",
      "--------------------------------------------------\n",
      "Epoch [159/200], Loss: 0.3157\n"
     ]
    },
    {
     "name": "stderr",
     "output_type": "stream",
     "text": [
      " 80%|███████▉  | 159/200 [1:13:17<3:14:13, 284.23s/it]"
     ]
    },
    {
     "name": "stdout",
     "output_type": "stream",
     "text": [
      "Validation: Mean Squared Error: 0.4231 and Mean Absolute Error: 0.5230\n",
      "--------------------------------------------------\n",
      "Epoch [160/200], Loss: 0.3166\n"
     ]
    },
    {
     "name": "stderr",
     "output_type": "stream",
     "text": [
      " 80%|████████  | 160/200 [1:13:25<2:14:12, 201.32s/it]"
     ]
    },
    {
     "name": "stdout",
     "output_type": "stream",
     "text": [
      "Validation: Mean Squared Error: 0.4159 and Mean Absolute Error: 0.5178\n",
      "--------------------------------------------------\n",
      "Epoch [161/200], Loss: 0.3139\n"
     ]
    },
    {
     "name": "stderr",
     "output_type": "stream",
     "text": [
      " 80%|████████  | 161/200 [1:13:33<1:33:11, 143.36s/it]"
     ]
    },
    {
     "name": "stdout",
     "output_type": "stream",
     "text": [
      "Validation: Mean Squared Error: 0.4171 and Mean Absolute Error: 0.5188\n",
      "--------------------------------------------------\n",
      "Epoch [162/200], Loss: 0.3130\n"
     ]
    },
    {
     "name": "stderr",
     "output_type": "stream",
     "text": [
      " 81%|████████  | 162/200 [1:13:41<1:05:06, 102.81s/it]"
     ]
    },
    {
     "name": "stdout",
     "output_type": "stream",
     "text": [
      "Validation: Mean Squared Error: 0.4160 and Mean Absolute Error: 0.5185\n",
      "--------------------------------------------------\n",
      "Epoch [163/200], Loss: 0.3061\n"
     ]
    },
    {
     "name": "stderr",
     "output_type": "stream",
     "text": [
      " 82%|████████▏ | 163/200 [1:13:51<46:14, 74.99s/it]   "
     ]
    },
    {
     "name": "stdout",
     "output_type": "stream",
     "text": [
      "Validation: Mean Squared Error: 0.4177 and Mean Absolute Error: 0.5207\n",
      "--------------------------------------------------\n",
      "Epoch [164/200], Loss: 0.3137\n"
     ]
    },
    {
     "name": "stderr",
     "output_type": "stream",
     "text": [
      " 82%|████████▏ | 164/200 [1:14:00<33:09, 55.27s/it]"
     ]
    },
    {
     "name": "stdout",
     "output_type": "stream",
     "text": [
      "Validation: Mean Squared Error: 0.4198 and Mean Absolute Error: 0.5225\n",
      "--------------------------------------------------\n",
      "Epoch [165/200], Loss: 0.3099\n"
     ]
    },
    {
     "name": "stderr",
     "output_type": "stream",
     "text": [
      " 82%|████████▎ | 165/200 [1:14:10<24:13, 41.52s/it]"
     ]
    },
    {
     "name": "stdout",
     "output_type": "stream",
     "text": [
      "Validation: Mean Squared Error: 0.4180 and Mean Absolute Error: 0.5205\n",
      "--------------------------------------------------\n",
      "Epoch [166/200], Loss: 0.3124\n"
     ]
    },
    {
     "name": "stderr",
     "output_type": "stream",
     "text": [
      " 83%|████████▎ | 166/200 [1:14:19<18:05, 31.93s/it]"
     ]
    },
    {
     "name": "stdout",
     "output_type": "stream",
     "text": [
      "Validation: Mean Squared Error: 0.4178 and Mean Absolute Error: 0.5197\n",
      "--------------------------------------------------\n",
      "Epoch [167/200], Loss: 0.3095\n"
     ]
    },
    {
     "name": "stderr",
     "output_type": "stream",
     "text": [
      " 84%|████████▎ | 167/200 [1:14:29<13:50, 25.16s/it]"
     ]
    },
    {
     "name": "stdout",
     "output_type": "stream",
     "text": [
      "Validation: Mean Squared Error: 0.4177 and Mean Absolute Error: 0.5193\n",
      "--------------------------------------------------\n",
      "Epoch [168/200], Loss: 0.3071\n"
     ]
    },
    {
     "name": "stderr",
     "output_type": "stream",
     "text": [
      " 84%|████████▍ | 168/200 [1:14:38<10:52, 20.40s/it]"
     ]
    },
    {
     "name": "stdout",
     "output_type": "stream",
     "text": [
      "Validation: Mean Squared Error: 0.4200 and Mean Absolute Error: 0.5204\n",
      "--------------------------------------------------\n",
      "Epoch [169/200], Loss: 0.3077\n"
     ]
    },
    {
     "name": "stderr",
     "output_type": "stream",
     "text": [
      " 84%|████████▍ | 169/200 [1:14:47<08:49, 17.09s/it]"
     ]
    },
    {
     "name": "stdout",
     "output_type": "stream",
     "text": [
      "Validation: Mean Squared Error: 0.4186 and Mean Absolute Error: 0.5192\n",
      "--------------------------------------------------\n",
      "Epoch [170/200], Loss: 0.3066\n"
     ]
    },
    {
     "name": "stderr",
     "output_type": "stream",
     "text": [
      " 85%|████████▌ | 170/200 [1:14:57<07:27, 14.91s/it]"
     ]
    },
    {
     "name": "stdout",
     "output_type": "stream",
     "text": [
      "Validation: Mean Squared Error: 0.4172 and Mean Absolute Error: 0.5180\n",
      "--------------------------------------------------\n",
      "Epoch [171/200], Loss: 0.3129\n"
     ]
    },
    {
     "name": "stderr",
     "output_type": "stream",
     "text": [
      " 86%|████████▌ | 171/200 [1:15:07<06:28, 13.39s/it]"
     ]
    },
    {
     "name": "stdout",
     "output_type": "stream",
     "text": [
      "Validation: Mean Squared Error: 0.4187 and Mean Absolute Error: 0.5190\n",
      "--------------------------------------------------\n",
      "Epoch [172/200], Loss: 0.3053\n"
     ]
    },
    {
     "name": "stderr",
     "output_type": "stream",
     "text": [
      " 86%|████████▌ | 172/200 [1:15:16<05:42, 12.22s/it]"
     ]
    },
    {
     "name": "stdout",
     "output_type": "stream",
     "text": [
      "Validation: Mean Squared Error: 0.4187 and Mean Absolute Error: 0.5191\n",
      "--------------------------------------------------\n",
      "Epoch [173/200], Loss: 0.3034\n"
     ]
    },
    {
     "name": "stderr",
     "output_type": "stream",
     "text": [
      " 86%|████████▋ | 173/200 [1:15:26<05:07, 11.37s/it]"
     ]
    },
    {
     "name": "stdout",
     "output_type": "stream",
     "text": [
      "Validation: Mean Squared Error: 0.4180 and Mean Absolute Error: 0.5192\n",
      "--------------------------------------------------\n",
      "Epoch [174/200], Loss: 0.3039\n"
     ]
    },
    {
     "name": "stderr",
     "output_type": "stream",
     "text": [
      " 87%|████████▋ | 174/200 [1:15:36<04:43, 10.89s/it]"
     ]
    },
    {
     "name": "stdout",
     "output_type": "stream",
     "text": [
      "Validation: Mean Squared Error: 0.4223 and Mean Absolute Error: 0.5230\n",
      "--------------------------------------------------\n",
      "Epoch [175/200], Loss: 0.3055\n"
     ]
    },
    {
     "name": "stderr",
     "output_type": "stream",
     "text": [
      " 88%|████████▊ | 175/200 [1:15:45<04:21, 10.45s/it]"
     ]
    },
    {
     "name": "stdout",
     "output_type": "stream",
     "text": [
      "Validation: Mean Squared Error: 0.4189 and Mean Absolute Error: 0.5202\n",
      "--------------------------------------------------\n",
      "Epoch [176/200], Loss: 0.3075\n"
     ]
    },
    {
     "name": "stderr",
     "output_type": "stream",
     "text": [
      " 88%|████████▊ | 176/200 [1:15:55<04:06, 10.26s/it]"
     ]
    },
    {
     "name": "stdout",
     "output_type": "stream",
     "text": [
      "Validation: Mean Squared Error: 0.4199 and Mean Absolute Error: 0.5206\n",
      "--------------------------------------------------\n",
      "Epoch [177/200], Loss: 0.3056\n"
     ]
    },
    {
     "name": "stderr",
     "output_type": "stream",
     "text": [
      " 88%|████████▊ | 177/200 [1:16:04<03:51, 10.08s/it]"
     ]
    },
    {
     "name": "stdout",
     "output_type": "stream",
     "text": [
      "Validation: Mean Squared Error: 0.4209 and Mean Absolute Error: 0.5216\n",
      "--------------------------------------------------\n",
      "Epoch [178/200], Loss: 0.3054\n"
     ]
    },
    {
     "name": "stderr",
     "output_type": "stream",
     "text": [
      " 89%|████████▉ | 178/200 [1:16:14<03:39, 10.00s/it]"
     ]
    },
    {
     "name": "stdout",
     "output_type": "stream",
     "text": [
      "Validation: Mean Squared Error: 0.4255 and Mean Absolute Error: 0.5248\n",
      "--------------------------------------------------\n",
      "Epoch [179/200], Loss: 0.3036\n"
     ]
    },
    {
     "name": "stderr",
     "output_type": "stream",
     "text": [
      " 90%|████████▉ | 179/200 [1:16:24<03:26,  9.82s/it]"
     ]
    },
    {
     "name": "stdout",
     "output_type": "stream",
     "text": [
      "Validation: Mean Squared Error: 0.4203 and Mean Absolute Error: 0.5207\n",
      "--------------------------------------------------\n",
      "Epoch [180/200], Loss: 0.3014\n"
     ]
    },
    {
     "name": "stderr",
     "output_type": "stream",
     "text": [
      " 90%|█████████ | 180/200 [1:16:33<03:13,  9.69s/it]"
     ]
    },
    {
     "name": "stdout",
     "output_type": "stream",
     "text": [
      "Validation: Mean Squared Error: 0.4195 and Mean Absolute Error: 0.5194\n",
      "--------------------------------------------------\n",
      "Epoch [181/200], Loss: 0.3026\n"
     ]
    },
    {
     "name": "stderr",
     "output_type": "stream",
     "text": [
      " 90%|█████████ | 181/200 [1:16:42<03:02,  9.58s/it]"
     ]
    },
    {
     "name": "stdout",
     "output_type": "stream",
     "text": [
      "Validation: Mean Squared Error: 0.4225 and Mean Absolute Error: 0.5209\n",
      "--------------------------------------------------\n",
      "Epoch [182/200], Loss: 0.3032\n"
     ]
    },
    {
     "name": "stderr",
     "output_type": "stream",
     "text": [
      " 91%|█████████ | 182/200 [1:16:52<02:52,  9.60s/it]"
     ]
    },
    {
     "name": "stdout",
     "output_type": "stream",
     "text": [
      "Validation: Mean Squared Error: 0.4231 and Mean Absolute Error: 0.5209\n",
      "--------------------------------------------------\n",
      "Epoch [183/200], Loss: 0.3004\n"
     ]
    },
    {
     "name": "stderr",
     "output_type": "stream",
     "text": [
      " 92%|█████████▏| 183/200 [1:17:02<02:45,  9.76s/it]"
     ]
    },
    {
     "name": "stdout",
     "output_type": "stream",
     "text": [
      "Validation: Mean Squared Error: 0.4240 and Mean Absolute Error: 0.5217\n",
      "--------------------------------------------------\n",
      "Epoch [184/200], Loss: 0.3014\n"
     ]
    },
    {
     "name": "stderr",
     "output_type": "stream",
     "text": [
      " 92%|█████████▏| 184/200 [1:17:12<02:34,  9.65s/it]"
     ]
    },
    {
     "name": "stdout",
     "output_type": "stream",
     "text": [
      "Validation: Mean Squared Error: 0.4255 and Mean Absolute Error: 0.5225\n",
      "--------------------------------------------------\n",
      "Epoch [185/200], Loss: 0.3021\n"
     ]
    },
    {
     "name": "stderr",
     "output_type": "stream",
     "text": [
      " 92%|█████████▎| 185/200 [1:17:21<02:22,  9.49s/it]"
     ]
    },
    {
     "name": "stdout",
     "output_type": "stream",
     "text": [
      "Validation: Mean Squared Error: 0.4214 and Mean Absolute Error: 0.5203\n",
      "--------------------------------------------------\n",
      "Epoch [186/200], Loss: 0.3031\n"
     ]
    },
    {
     "name": "stderr",
     "output_type": "stream",
     "text": [
      " 93%|█████████▎| 186/200 [1:17:30<02:13,  9.57s/it]"
     ]
    },
    {
     "name": "stdout",
     "output_type": "stream",
     "text": [
      "Validation: Mean Squared Error: 0.4238 and Mean Absolute Error: 0.5221\n",
      "--------------------------------------------------\n",
      "Epoch [187/200], Loss: 0.2988\n"
     ]
    },
    {
     "name": "stderr",
     "output_type": "stream",
     "text": [
      " 94%|█████████▎| 187/200 [1:17:40<02:03,  9.48s/it]"
     ]
    },
    {
     "name": "stdout",
     "output_type": "stream",
     "text": [
      "Validation: Mean Squared Error: 0.4233 and Mean Absolute Error: 0.5224\n",
      "--------------------------------------------------\n",
      "Epoch [188/200], Loss: 0.2998\n"
     ]
    },
    {
     "name": "stderr",
     "output_type": "stream",
     "text": [
      " 94%|█████████▍| 188/200 [1:17:49<01:53,  9.46s/it]"
     ]
    },
    {
     "name": "stdout",
     "output_type": "stream",
     "text": [
      "Validation: Mean Squared Error: 0.4306 and Mean Absolute Error: 0.5278\n",
      "--------------------------------------------------\n",
      "Epoch [189/200], Loss: 0.3003\n"
     ]
    },
    {
     "name": "stderr",
     "output_type": "stream",
     "text": [
      " 94%|█████████▍| 189/200 [1:17:58<01:43,  9.40s/it]"
     ]
    },
    {
     "name": "stdout",
     "output_type": "stream",
     "text": [
      "Validation: Mean Squared Error: 0.4266 and Mean Absolute Error: 0.5252\n",
      "--------------------------------------------------\n",
      "Epoch [190/200], Loss: 0.2971\n"
     ]
    },
    {
     "name": "stderr",
     "output_type": "stream",
     "text": [
      " 95%|█████████▌| 190/200 [1:18:08<01:33,  9.35s/it]"
     ]
    },
    {
     "name": "stdout",
     "output_type": "stream",
     "text": [
      "Validation: Mean Squared Error: 0.4236 and Mean Absolute Error: 0.5219\n",
      "--------------------------------------------------\n",
      "Epoch [191/200], Loss: 0.3002\n"
     ]
    },
    {
     "name": "stderr",
     "output_type": "stream",
     "text": [
      " 96%|█████████▌| 191/200 [1:18:17<01:24,  9.36s/it]"
     ]
    },
    {
     "name": "stdout",
     "output_type": "stream",
     "text": [
      "Validation: Mean Squared Error: 0.4239 and Mean Absolute Error: 0.5215\n",
      "--------------------------------------------------\n",
      "Epoch [192/200], Loss: 0.2956\n"
     ]
    },
    {
     "name": "stderr",
     "output_type": "stream",
     "text": [
      " 96%|█████████▌| 192/200 [1:18:26<01:14,  9.27s/it]"
     ]
    },
    {
     "name": "stdout",
     "output_type": "stream",
     "text": [
      "Validation: Mean Squared Error: 0.4250 and Mean Absolute Error: 0.5221\n",
      "--------------------------------------------------\n",
      "Epoch [193/200], Loss: 0.2964\n"
     ]
    },
    {
     "name": "stderr",
     "output_type": "stream",
     "text": [
      " 96%|█████████▋| 193/200 [1:18:36<01:05,  9.33s/it]"
     ]
    },
    {
     "name": "stdout",
     "output_type": "stream",
     "text": [
      "Validation: Mean Squared Error: 0.4311 and Mean Absolute Error: 0.5262\n",
      "--------------------------------------------------\n",
      "Epoch [194/200], Loss: 0.2994\n"
     ]
    },
    {
     "name": "stderr",
     "output_type": "stream",
     "text": [
      " 97%|█████████▋| 194/200 [1:18:45<00:56,  9.37s/it]"
     ]
    },
    {
     "name": "stdout",
     "output_type": "stream",
     "text": [
      "Validation: Mean Squared Error: 0.4336 and Mean Absolute Error: 0.5274\n",
      "--------------------------------------------------\n",
      "Epoch [195/200], Loss: 0.2936\n"
     ]
    },
    {
     "name": "stderr",
     "output_type": "stream",
     "text": [
      " 98%|█████████▊| 195/200 [1:18:54<00:46,  9.35s/it]"
     ]
    },
    {
     "name": "stdout",
     "output_type": "stream",
     "text": [
      "Validation: Mean Squared Error: 0.4260 and Mean Absolute Error: 0.5209\n",
      "--------------------------------------------------\n",
      "Epoch [196/200], Loss: 0.2971\n"
     ]
    },
    {
     "name": "stderr",
     "output_type": "stream",
     "text": [
      " 98%|█████████▊| 196/200 [1:19:04<00:37,  9.41s/it]"
     ]
    },
    {
     "name": "stdout",
     "output_type": "stream",
     "text": [
      "Validation: Mean Squared Error: 0.4278 and Mean Absolute Error: 0.5224\n",
      "--------------------------------------------------\n",
      "Epoch [197/200], Loss: 0.2981\n"
     ]
    },
    {
     "name": "stderr",
     "output_type": "stream",
     "text": [
      " 98%|█████████▊| 197/200 [1:19:13<00:28,  9.38s/it]"
     ]
    },
    {
     "name": "stdout",
     "output_type": "stream",
     "text": [
      "Validation: Mean Squared Error: 0.4278 and Mean Absolute Error: 0.5228\n",
      "--------------------------------------------------\n",
      "Epoch [198/200], Loss: 0.2935\n"
     ]
    },
    {
     "name": "stderr",
     "output_type": "stream",
     "text": [
      " 99%|█████████▉| 198/200 [1:19:23<00:18,  9.46s/it]"
     ]
    },
    {
     "name": "stdout",
     "output_type": "stream",
     "text": [
      "Validation: Mean Squared Error: 0.4391 and Mean Absolute Error: 0.5310\n",
      "--------------------------------------------------\n",
      "Epoch [199/200], Loss: 0.2973\n"
     ]
    },
    {
     "name": "stderr",
     "output_type": "stream",
     "text": [
      "100%|█████████▉| 199/200 [1:19:33<00:09,  9.64s/it]"
     ]
    },
    {
     "name": "stdout",
     "output_type": "stream",
     "text": [
      "Validation: Mean Squared Error: 0.4333 and Mean Absolute Error: 0.5269\n",
      "--------------------------------------------------\n",
      "Epoch [200/200], Loss: 0.2944\n"
     ]
    },
    {
     "name": "stderr",
     "output_type": "stream",
     "text": [
      "100%|██████████| 200/200 [1:19:43<00:00, 23.92s/it]"
     ]
    },
    {
     "name": "stdout",
     "output_type": "stream",
     "text": [
      "Validation: Mean Squared Error: 0.4315 and Mean Absolute Error: 0.5259\n",
      "--------------------------------------------------\n"
     ]
    },
    {
     "name": "stderr",
     "output_type": "stream",
     "text": [
      "\n"
     ]
    },
    {
     "data": {
      "image/png": "[encoded data removed]",
      "text/plain": [
       "<Figure size 1000x800 with 2 Axes>"
      ]
     },
     "metadata": {},
     "output_type": "display_data"
    },
    {
     "name": "stdout",
     "output_type": "stream",
     "text": [
      "Accuracy: 0.1775\n",
      "Mean Squared Error: 0.2954 and Mean Absolute Error: 0.4373\n"
     ]
    }
   ],
   "source": [
    "modelCNN = CNN().to(device)\n",
    "optimizer = optim.Adagrad(modelCNN.parameters(), lr=0.001, weight_decay=0.0001)\n",
    "train_model(modelCNN, optimizer, num_epochs=200)"
   ]
  },
  {
   "cell_type": "code",
   "execution_count": 24,
   "metadata": {},
   "outputs": [
    {
     "data": {
      "image/png": "[encoded data removed]",
      "text/plain": [
       "<Figure size 1000x800 with 2 Axes>"
      ]
     },
     "metadata": {},
     "output_type": "display_data"
    },
    {
     "name": "stdout",
     "output_type": "stream",
     "text": [
      "Accuracy: 0.1416\n"
     ]
    },
    {
     "data": {
      "text/plain": [
       "'Mean Squared Error: 0.4098 and Mean Absolute Error: 0.5145'"
      ]
     },
     "execution_count": 24,
     "metadata": {},
     "output_type": "execute_result"
    }
   ],
   "source": [
    "############################################################################################################\n",
    "### Load the model\n",
    "def load_model(epoch, save_dir='model_checkpoint'):\n",
    "    model = CNN()\n",
    "    optimizer = optim.Adagrad(model.parameters(), lr=0.001, weight_decay=0.0001)  # Use the same optimizer as during training\n",
    "    checkpoint = torch.load(os.path.join(save_dir, f'model_epoch_{epoch}.pth'))\n",
    "    model.load_state_dict(checkpoint['model_state_dict'])\n",
    "    optimizer.load_state_dict(checkpoint['optimizer_state_dict'])\n",
    "    epoch = checkpoint['epoch']\n",
    "    device = torch.device(\"cuda\" if torch.cuda.is_available() else \"cpu\")\n",
    "    model = model.to(device)  # Move the loaded model to the device\n",
    "    model.eval()\n",
    "    return model, optimizer, epoch\n",
    "\n",
    "\n",
    "loaded_epoch = 130  # Change this to the epoch you want to evaluate\n",
    "loaded_model, loaded_optimizer, loaded_epoch = load_model(loaded_epoch)\n",
    "\n",
    "# Evaluate the loaded model\n",
    "evaluate_model(loaded_model, validation_loader, conf=True)"
   ]
  },
  {
   "cell_type": "markdown",
   "metadata": {},
   "source": [
    "# Official Test Data"
   ]
  },
  {
   "cell_type": "code",
   "execution_count": 20,
   "metadata": {},
   "outputs": [
    {
     "name": "stderr",
     "output_type": "stream",
     "text": [
      "100%|██████████| 1863/1863 [00:19<00:00, 97.12it/s] "
     ]
    },
    {
     "name": "stdout",
     "output_type": "stream",
     "text": [
      "133534\n"
     ]
    },
    {
     "name": "stderr",
     "output_type": "stream",
     "text": [
      "\n"
     ]
    }
   ],
   "source": [
    "import pickle\n",
    "import os\n",
    "from tqdm import tqdm\n",
    "import numpy as np\n",
    "\n",
    "directory = 'data/test'\n",
    "test_label = {}\n",
    "lenghts = []\n",
    "for filename in tqdm(os.listdir(directory)):\n",
    "    if filename.endswith('.pkl'):\n",
    "        file_path = os.path.join(directory, filename)\n",
    "        with open(file_path, 'rb') as file:\n",
    "            data = pickle.load(file)\n",
    "            test_label[filename] = data['audio_data']\n",
    "            lenghts.append(len(data['audio_data']))\n",
    "print(max(lenghts))\n",
    "            "
   ]
  },
  {
   "cell_type": "code",
   "execution_count": 21,
   "metadata": {},
   "outputs": [
    {
     "name": "stdout",
     "output_type": "stream",
     "text": [
      "10011.pkl (174625,)\n",
      "10025.pkl (174625,)\n",
      "10033.pkl (174625,)\n",
      "10036.pkl (174625,)\n",
      "10043.pkl (174625,)\n",
      "10067.pkl (174625,)\n",
      "10074.pkl (174625,)\n",
      "10079.pkl (174625,)\n",
      "10083.pkl (174625,)\n",
      "10090.pkl (174625,)\n",
      "10092.pkl (174625,)\n",
      "10097.pkl (174625,)\n",
      "10099.pkl (174625,)\n",
      "10110.pkl (174625,)\n",
      "10116.pkl (174625,)\n",
      "10120.pkl (174625,)\n",
      "10149.pkl (174625,)\n",
      "10179.pkl (174625,)\n",
      "10184.pkl (174625,)\n",
      "10189.pkl (174625,)\n",
      "10191.pkl (174625,)\n",
      "10192.pkl (174625,)\n",
      "10194.pkl (174625,)\n",
      "10200.pkl (174625,)\n",
      "10202.pkl (174625,)\n",
      "10204.pkl (174625,)\n",
      "10206.pkl (174625,)\n",
      "10207.pkl (174625,)\n",
      "10216.pkl (174625,)\n",
      "10222.pkl (174625,)\n",
      "10224.pkl (174625,)\n",
      "10235.pkl (174625,)\n",
      "10236.pkl (174625,)\n",
      "10240.pkl (174625,)\n",
      "10242.pkl (174625,)\n",
      "10251.pkl (174625,)\n",
      "10253.pkl (174625,)\n",
      "10259.pkl (174625,)\n",
      "10267.pkl (174625,)\n",
      "10271.pkl (174625,)\n",
      "10277.pkl (174625,)\n",
      "10279.pkl (174625,)\n",
      "10286.pkl (174625,)\n",
      "10287.pkl (174625,)\n",
      "10288.pkl (174625,)\n",
      "10290.pkl (174625,)\n",
      "10291.pkl (174625,)\n",
      "10293.pkl (174625,)\n",
      "10306.pkl (174625,)\n",
      "10315.pkl (174625,)\n",
      "10316.pkl (174625,)\n",
      "10317.pkl (174625,)\n",
      "10326.pkl (174625,)\n",
      "10332.pkl (174625,)\n",
      "10335.pkl (174625,)\n",
      "10349.pkl (174625,)\n",
      "10351.pkl (174625,)\n",
      "10356.pkl (174625,)\n",
      "10359.pkl (174625,)\n",
      "10363.pkl (174625,)\n",
      "10376.pkl (174625,)\n",
      "10379.pkl (174625,)\n",
      "10380.pkl (174625,)\n",
      "10383.pkl (174625,)\n",
      "10384.pkl (174625,)\n",
      "10390.pkl (174625,)\n",
      "10394.pkl (174625,)\n",
      "10398.pkl (174625,)\n",
      "10405.pkl (174625,)\n",
      "10415.pkl (174625,)\n",
      "10421.pkl (174625,)\n",
      "10425.pkl (174625,)\n",
      "10427.pkl (174625,)\n",
      "10433.pkl (174625,)\n",
      "10444.pkl (174625,)\n",
      "10450.pkl (174625,)\n",
      "10452.pkl (174625,)\n",
      "10457.pkl (174625,)\n",
      "10462.pkl (174625,)\n",
      "10466.pkl (174625,)\n",
      "10467.pkl (174625,)\n",
      "10472.pkl (174625,)\n",
      "10481.pkl (174625,)\n",
      "10489.pkl (174625,)\n",
      "10506.pkl (174625,)\n",
      "10507.pkl (174625,)\n",
      "10513.pkl (174625,)\n",
      "10518.pkl (174625,)\n",
      "10528.pkl (174625,)\n",
      "10529.pkl (174625,)\n",
      "10533.pkl (174625,)\n",
      "10535.pkl (174625,)\n",
      "10539.pkl (174625,)\n",
      "10543.pkl (174625,)\n",
      "10552.pkl (174625,)\n",
      "10553.pkl (174625,)\n",
      "10558.pkl (174625,)\n",
      "10559.pkl (174625,)\n",
      "10560.pkl (174625,)\n",
      "10561.pkl (174625,)\n",
      "10589.pkl (174625,)\n",
      "10612.pkl (174625,)\n",
      "10620.pkl (174625,)\n",
      "10627.pkl (174625,)\n",
      "10629.pkl (174625,)\n",
      "10631.pkl (174625,)\n",
      "10638.pkl (174625,)\n",
      "10646.pkl (174625,)\n",
      "10655.pkl (174625,)\n",
      "10658.pkl (174625,)\n",
      "10663.pkl (174625,)\n",
      "10679.pkl (174625,)\n",
      "10681.pkl (174625,)\n",
      "10687.pkl (174625,)\n",
      "10695.pkl (174625,)\n",
      "10711.pkl (174625,)\n",
      "10712.pkl (174625,)\n",
      "10718.pkl (174625,)\n",
      "10721.pkl (174625,)\n",
      "10723.pkl (174625,)\n",
      "10724.pkl (174625,)\n",
      "10733.pkl (174625,)\n",
      "10735.pkl (174625,)\n",
      "10749.pkl (174625,)\n",
      "10756.pkl (174625,)\n",
      "10757.pkl (174625,)\n",
      "10767.pkl (174625,)\n",
      "10771.pkl (174625,)\n",
      "10776.pkl (174625,)\n",
      "10787.pkl (174625,)\n",
      "10790.pkl (174625,)\n",
      "10792.pkl (174625,)\n",
      "10793.pkl (174625,)\n",
      "10800.pkl (174625,)\n",
      "10801.pkl (174625,)\n",
      "10802.pkl (174625,)\n",
      "10810.pkl (174625,)\n",
      "10833.pkl (174625,)\n",
      "10835.pkl (174625,)\n",
      "10839.pkl (174625,)\n",
      "10840.pkl (174625,)\n",
      "10846.pkl (174625,)\n",
      "10851.pkl (174625,)\n",
      "10857.pkl (174625,)\n",
      "10865.pkl (174625,)\n",
      "10883.pkl (174625,)\n",
      "10884.pkl (174625,)\n",
      "10886.pkl (174625,)\n",
      "10890.pkl (174625,)\n",
      "10895.pkl (174625,)\n",
      "10900.pkl (174625,)\n",
      "10903.pkl (174625,)\n",
      "10909.pkl (174625,)\n",
      "10914.pkl (174625,)\n",
      "10924.pkl (174625,)\n",
      "10940.pkl (174625,)\n",
      "10941.pkl (174625,)\n",
      "10944.pkl (174625,)\n",
      "10956.pkl (174625,)\n",
      "10975.pkl (174625,)\n",
      "10979.pkl (174625,)\n",
      "10981.pkl (174625,)\n",
      "10987.pkl (174625,)\n",
      "10993.pkl (174625,)\n",
      "10994.pkl (174625,)\n",
      "11004.pkl (174625,)\n",
      "11007.pkl (174625,)\n",
      "11009.pkl (174625,)\n",
      "11011.pkl (174625,)\n",
      "11021.pkl (174625,)\n",
      "11024.pkl (174625,)\n",
      "11041.pkl (174625,)\n",
      "11043.pkl (174625,)\n",
      "11049.pkl (174625,)\n",
      "11052.pkl (174625,)\n",
      "11055.pkl (174625,)\n",
      "11075.pkl (174625,)\n",
      "11083.pkl (174625,)\n",
      "11093.pkl (174625,)\n",
      "11102.pkl (174625,)\n",
      "11120.pkl (174625,)\n",
      "11121.pkl (174625,)\n",
      "11128.pkl (174625,)\n",
      "11129.pkl (174625,)\n",
      "11143.pkl (174625,)\n",
      "11144.pkl (174625,)\n",
      "11150.pkl (174625,)\n",
      "11175.pkl (174625,)\n",
      "11191.pkl (174625,)\n",
      "11193.pkl (174625,)\n",
      "11201.pkl (174625,)\n",
      "11209.pkl (174625,)\n",
      "11236.pkl (174625,)\n",
      "11237.pkl (174625,)\n",
      "11240.pkl (174625,)\n",
      "11243.pkl (174625,)\n",
      "11244.pkl (174625,)\n",
      "11255.pkl (174625,)\n",
      "11257.pkl (174625,)\n",
      "11267.pkl (174625,)\n",
      "11272.pkl (174625,)\n",
      "11283.pkl (174625,)\n",
      "11289.pkl (174625,)\n",
      "11293.pkl (174625,)\n",
      "11301.pkl (174625,)\n",
      "11315.pkl (174625,)\n",
      "11319.pkl (174625,)\n",
      "11322.pkl (174625,)\n",
      "11326.pkl (174625,)\n",
      "11327.pkl (174625,)\n",
      "11328.pkl (174625,)\n",
      "11338.pkl (174625,)\n",
      "11347.pkl (174625,)\n",
      "11351.pkl (174625,)\n",
      "11362.pkl (174625,)\n",
      "11365.pkl (174625,)\n",
      "11366.pkl (174625,)\n",
      "11367.pkl (174625,)\n",
      "11373.pkl (174625,)\n",
      "11379.pkl (174625,)\n",
      "11382.pkl (174625,)\n",
      "11395.pkl (174625,)\n",
      "11398.pkl (174625,)\n",
      "11406.pkl (174625,)\n",
      "11411.pkl (174625,)\n",
      "11415.pkl (174625,)\n",
      "11423.pkl (174625,)\n",
      "11426.pkl (174625,)\n",
      "11454.pkl (174625,)\n",
      "11455.pkl (174625,)\n",
      "11461.pkl (174625,)\n",
      "11463.pkl (174625,)\n",
      "11480.pkl (174625,)\n",
      "11483.pkl (174625,)\n",
      "11491.pkl (174625,)\n",
      "11494.pkl (174625,)\n",
      "11512.pkl (174625,)\n",
      "11514.pkl (174625,)\n",
      "11521.pkl (174625,)\n",
      "11524.pkl (174625,)\n",
      "11525.pkl (174625,)\n",
      "11529.pkl (174625,)\n",
      "11540.pkl (174625,)\n",
      "11547.pkl (174625,)\n",
      "11553.pkl (174625,)\n",
      "11556.pkl (174625,)\n",
      "11561.pkl (174625,)\n",
      "11575.pkl (174625,)\n",
      "11576.pkl (174625,)\n",
      "11577.pkl (174625,)\n",
      "11583.pkl (174625,)\n",
      "11584.pkl (174625,)\n",
      "11591.pkl (174625,)\n",
      "11618.pkl (174625,)\n",
      "11620.pkl (174625,)\n",
      "11625.pkl (174625,)\n",
      "11626.pkl (174625,)\n",
      "11631.pkl (174625,)\n",
      "11636.pkl (174625,)\n",
      "11641.pkl (174625,)\n",
      "11646.pkl (174625,)\n",
      "11649.pkl (174625,)\n",
      "11653.pkl (174625,)\n",
      "11658.pkl (174625,)\n",
      "11659.pkl (174625,)\n",
      "11670.pkl (174625,)\n",
      "11687.pkl (174625,)\n",
      "11699.pkl (174625,)\n",
      "11700.pkl (174625,)\n",
      "11703.pkl (174625,)\n",
      "11704.pkl (174625,)\n",
      "11710.pkl (174625,)\n",
      "11713.pkl (174625,)\n",
      "11724.pkl (174625,)\n",
      "11728.pkl (174625,)\n",
      "11735.pkl (174625,)\n",
      "11745.pkl (174625,)\n",
      "11751.pkl (174625,)\n",
      "11756.pkl (174625,)\n",
      "11761.pkl (174625,)\n",
      "11777.pkl (174625,)\n",
      "11790.pkl (174625,)\n",
      "11796.pkl (174625,)\n",
      "11804.pkl (174625,)\n",
      "11822.pkl (174625,)\n",
      "11839.pkl (174625,)\n",
      "11846.pkl (174625,)\n",
      "11848.pkl (174625,)\n",
      "11851.pkl (174625,)\n",
      "11853.pkl (174625,)\n",
      "11861.pkl (174625,)\n",
      "11871.pkl (174625,)\n",
      "11873.pkl (174625,)\n",
      "11874.pkl (174625,)\n",
      "11876.pkl (174625,)\n",
      "11878.pkl (174625,)\n",
      "11889.pkl (174625,)\n",
      "11895.pkl (174625,)\n",
      "11898.pkl (174625,)\n",
      "11937.pkl (174625,)\n",
      "11938.pkl (174625,)\n",
      "11946.pkl (174625,)\n",
      "11950.pkl (174625,)\n",
      "11953.pkl (174625,)\n",
      "11955.pkl (174625,)\n",
      "11967.pkl (174625,)\n",
      "11970.pkl (174625,)\n",
      "11985.pkl (174625,)\n",
      "11987.pkl (174625,)\n",
      "11989.pkl (174625,)\n",
      "11990.pkl (174625,)\n",
      "11992.pkl (174625,)\n",
      "11996.pkl (174625,)\n",
      "12005.pkl (174625,)\n",
      "12018.pkl (174625,)\n",
      "12019.pkl (174625,)\n",
      "12024.pkl (174625,)\n",
      "12025.pkl (174625,)\n",
      "12029.pkl (174625,)\n",
      "12030.pkl (174625,)\n",
      "12032.pkl (174625,)\n",
      "12035.pkl (174625,)\n",
      "12036.pkl (174625,)\n",
      "12037.pkl (174625,)\n",
      "12040.pkl (174625,)\n",
      "12042.pkl (174625,)\n",
      "12047.pkl (174625,)\n",
      "12051.pkl (174625,)\n",
      "12055.pkl (174625,)\n",
      "12058.pkl (174625,)\n",
      "12059.pkl (174625,)\n",
      "12070.pkl (174625,)\n",
      "12080.pkl (174625,)\n",
      "12081.pkl (174625,)\n",
      "12087.pkl (174625,)\n",
      "12091.pkl (174625,)\n",
      "12093.pkl (174625,)\n",
      "12095.pkl (174625,)\n",
      "12099.pkl (174625,)\n",
      "12138.pkl (174625,)\n",
      "12139.pkl (174625,)\n",
      "12152.pkl (174625,)\n",
      "12153.pkl (174625,)\n",
      "12164.pkl (174625,)\n",
      "12165.pkl (174625,)\n",
      "12171.pkl (174625,)\n",
      "12185.pkl (174625,)\n",
      "12189.pkl (174625,)\n",
      "12197.pkl (174625,)\n",
      "12211.pkl (174625,)\n",
      "12233.pkl (174625,)\n",
      "12240.pkl (174625,)\n",
      "12247.pkl (174625,)\n",
      "12250.pkl (174625,)\n",
      "12254.pkl (174625,)\n",
      "12258.pkl (174625,)\n",
      "12264.pkl (174625,)\n",
      "12269.pkl (174625,)\n",
      "12275.pkl (174625,)\n",
      "12278.pkl (174625,)\n",
      "12287.pkl (174625,)\n",
      "12290.pkl (174625,)\n",
      "12293.pkl (174625,)\n",
      "12294.pkl (174625,)\n",
      "12295.pkl (174625,)\n",
      "12304.pkl (174625,)\n",
      "12311.pkl (174625,)\n",
      "12317.pkl (174625,)\n",
      "12324.pkl (174625,)\n",
      "12335.pkl (174625,)\n",
      "12347.pkl (174625,)\n",
      "12356.pkl (174625,)\n",
      "12361.pkl (174625,)\n",
      "12393.pkl (174625,)\n",
      "12395.pkl (174625,)\n",
      "12397.pkl (174625,)\n",
      "12404.pkl (174625,)\n",
      "12412.pkl (174625,)\n",
      "12418.pkl (174625,)\n",
      "12419.pkl (174625,)\n",
      "12420.pkl (174625,)\n",
      "12429.pkl (174625,)\n",
      "12441.pkl (174625,)\n",
      "12456.pkl (174625,)\n",
      "12458.pkl (174625,)\n",
      "12462.pkl (174625,)\n",
      "12466.pkl (174625,)\n",
      "12470.pkl (174625,)\n",
      "12478.pkl (174625,)\n",
      "12479.pkl (174625,)\n",
      "12497.pkl (174625,)\n",
      "12503.pkl (174625,)\n",
      "12525.pkl (174625,)\n",
      "12530.pkl (174625,)\n",
      "12531.pkl (174625,)\n",
      "12556.pkl (174625,)\n",
      "12564.pkl (174625,)\n",
      "12565.pkl (174625,)\n",
      "12582.pkl (174625,)\n",
      "12588.pkl (174625,)\n",
      "12593.pkl (174625,)\n",
      "12602.pkl (174625,)\n",
      "12604.pkl (174625,)\n",
      "12609.pkl (174625,)\n",
      "12613.pkl (174625,)\n",
      "12614.pkl (174625,)\n",
      "12623.pkl (174625,)\n",
      "12624.pkl (174625,)\n",
      "12626.pkl (174625,)\n",
      "12633.pkl (174625,)\n",
      "12634.pkl (174625,)\n",
      "12644.pkl (174625,)\n",
      "12645.pkl (174625,)\n",
      "12652.pkl (174625,)\n",
      "12658.pkl (174625,)\n",
      "12661.pkl (174625,)\n",
      "12669.pkl (174625,)\n",
      "12678.pkl (174625,)\n",
      "12680.pkl (174625,)\n",
      "12681.pkl (174625,)\n",
      "12683.pkl (174625,)\n",
      "12684.pkl (174625,)\n",
      "12685.pkl (174625,)\n",
      "12692.pkl (174625,)\n",
      "12693.pkl (174625,)\n",
      "12704.pkl (174625,)\n",
      "12710.pkl (174625,)\n",
      "12729.pkl (174625,)\n",
      "12735.pkl (174625,)\n",
      "12739.pkl (174625,)\n",
      "12756.pkl (174625,)\n",
      "12758.pkl (174625,)\n",
      "12768.pkl (174625,)\n",
      "12770.pkl (174625,)\n",
      "12779.pkl (174625,)\n",
      "12797.pkl (174625,)\n",
      "12798.pkl (174625,)\n",
      "12802.pkl (174625,)\n",
      "12808.pkl (174625,)\n",
      "12812.pkl (174625,)\n",
      "12814.pkl (174625,)\n",
      "12828.pkl (174625,)\n",
      "12829.pkl (174625,)\n",
      "12836.pkl (174625,)\n",
      "12844.pkl (174625,)\n",
      "12864.pkl (174625,)\n",
      "12868.pkl (174625,)\n",
      "12879.pkl (174625,)\n",
      "12882.pkl (174625,)\n",
      "12902.pkl (174625,)\n",
      "12906.pkl (174625,)\n",
      "12913.pkl (174625,)\n",
      "12915.pkl (174625,)\n",
      "12916.pkl (174625,)\n",
      "12918.pkl (174625,)\n",
      "12921.pkl (174625,)\n",
      "12924.pkl (174625,)\n",
      "12927.pkl (174625,)\n",
      "12932.pkl (174625,)\n",
      "12937.pkl (174625,)\n",
      "12945.pkl (174625,)\n",
      "12959.pkl (174625,)\n",
      "12974.pkl (174625,)\n",
      "12986.pkl (174625,)\n",
      "12987.pkl (174625,)\n",
      "12997.pkl (174625,)\n",
      "13003.pkl (174625,)\n",
      "13005.pkl (174625,)\n",
      "13009.pkl (174625,)\n",
      "13013.pkl (174625,)\n",
      "13017.pkl (174625,)\n",
      "13018.pkl (174625,)\n",
      "13029.pkl (174625,)\n",
      "13031.pkl (174625,)\n",
      "13034.pkl (174625,)\n",
      "13040.pkl (174625,)\n",
      "13041.pkl (174625,)\n",
      "13042.pkl (174625,)\n",
      "13043.pkl (174625,)\n",
      "13046.pkl (174625,)\n",
      "13051.pkl (174625,)\n",
      "13054.pkl (174625,)\n",
      "13055.pkl (174625,)\n",
      "13058.pkl (174625,)\n",
      "13060.pkl (174625,)\n",
      "13070.pkl (174625,)\n",
      "13080.pkl (174625,)\n",
      "13083.pkl (174625,)\n",
      "13096.pkl (174625,)\n",
      "13097.pkl (174625,)\n",
      "13101.pkl (174625,)\n",
      "13111.pkl (174625,)\n",
      "13118.pkl (174625,)\n",
      "13125.pkl (174625,)\n",
      "13127.pkl (174625,)\n",
      "13137.pkl (174625,)\n",
      "13154.pkl (174625,)\n",
      "13162.pkl (174625,)\n",
      "13166.pkl (174625,)\n",
      "13170.pkl (174625,)\n",
      "13188.pkl (174625,)\n",
      "13205.pkl (174625,)\n",
      "13226.pkl (174625,)\n",
      "13228.pkl (174625,)\n",
      "13236.pkl (174625,)\n",
      "13237.pkl (174625,)\n",
      "13253.pkl (174625,)\n",
      "13259.pkl (174625,)\n",
      "13265.pkl (174625,)\n",
      "13286.pkl (174625,)\n",
      "13294.pkl (174625,)\n",
      "13296.pkl (174625,)\n",
      "13302.pkl (174625,)\n",
      "13307.pkl (174625,)\n",
      "13316.pkl (174625,)\n",
      "13318.pkl (174625,)\n",
      "13324.pkl (174625,)\n",
      "13344.pkl (174625,)\n",
      "13363.pkl (174625,)\n",
      "13372.pkl (174625,)\n",
      "13373.pkl (174625,)\n",
      "13374.pkl (174625,)\n",
      "13379.pkl (174625,)\n",
      "13382.pkl (174625,)\n",
      "13399.pkl (174625,)\n",
      "13405.pkl (174625,)\n",
      "13406.pkl (174625,)\n",
      "13408.pkl (174625,)\n",
      "13409.pkl (174625,)\n",
      "13412.pkl (174625,)\n",
      "13416.pkl (174625,)\n",
      "13429.pkl (174625,)\n",
      "13430.pkl (174625,)\n",
      "13436.pkl (174625,)\n",
      "13437.pkl (174625,)\n",
      "13439.pkl (174625,)\n",
      "13441.pkl (174625,)\n",
      "13443.pkl (174625,)\n",
      "13449.pkl (174625,)\n",
      "13464.pkl (174625,)\n",
      "13478.pkl (174625,)\n",
      "13479.pkl (174625,)\n",
      "13487.pkl (174625,)\n",
      "13490.pkl (174625,)\n",
      "13497.pkl (174625,)\n",
      "13504.pkl (174625,)\n",
      "13507.pkl (174625,)\n",
      "13508.pkl (174625,)\n",
      "13511.pkl (174625,)\n",
      "13514.pkl (174625,)\n",
      "13515.pkl (174625,)\n",
      "13516.pkl (174625,)\n",
      "13519.pkl (174625,)\n",
      "13520.pkl (174625,)\n",
      "13527.pkl (174625,)\n",
      "13534.pkl (174625,)\n",
      "13538.pkl (174625,)\n",
      "13549.pkl (174625,)\n",
      "13551.pkl (174625,)\n",
      "13556.pkl (174625,)\n",
      "13568.pkl (174625,)\n",
      "13572.pkl (174625,)\n",
      "13574.pkl (174625,)\n",
      "13578.pkl (174625,)\n",
      "13591.pkl (174625,)\n",
      "13594.pkl (174625,)\n",
      "13595.pkl (174625,)\n",
      "13601.pkl (174625,)\n",
      "13612.pkl (174625,)\n",
      "13615.pkl (174625,)\n",
      "13624.pkl (174625,)\n",
      "13625.pkl (174625,)\n",
      "13637.pkl (174625,)\n",
      "13638.pkl (174625,)\n",
      "13644.pkl (174625,)\n",
      "13654.pkl (174625,)\n",
      "13655.pkl (174625,)\n",
      "13671.pkl (174625,)\n",
      "13678.pkl (174625,)\n",
      "13684.pkl (174625,)\n",
      "13686.pkl (174625,)\n",
      "13692.pkl (174625,)\n",
      "13693.pkl (174625,)\n",
      "13697.pkl (174625,)\n",
      "13698.pkl (174625,)\n",
      "13700.pkl (174625,)\n",
      "13711.pkl (174625,)\n",
      "13726.pkl (174625,)\n",
      "13731.pkl (174625,)\n",
      "13741.pkl (174625,)\n",
      "13751.pkl (174625,)\n",
      "13753.pkl (174625,)\n",
      "13759.pkl (174625,)\n",
      "13766.pkl (174625,)\n",
      "13773.pkl (174625,)\n",
      "13777.pkl (174625,)\n",
      "13784.pkl (174625,)\n",
      "13789.pkl (174625,)\n",
      "13795.pkl (174625,)\n",
      "13797.pkl (174625,)\n",
      "13805.pkl (174625,)\n",
      "13819.pkl (174625,)\n",
      "13820.pkl (174625,)\n",
      "13821.pkl (174625,)\n",
      "13823.pkl (174625,)\n",
      "13827.pkl (174625,)\n",
      "13828.pkl (174625,)\n",
      "13831.pkl (174625,)\n",
      "13833.pkl (174625,)\n",
      "13835.pkl (174625,)\n",
      "13837.pkl (174625,)\n",
      "13839.pkl (174625,)\n",
      "13845.pkl (174625,)\n",
      "13855.pkl (174625,)\n",
      "13873.pkl (174625,)\n",
      "13891.pkl (174625,)\n",
      "13895.pkl (174625,)\n",
      "13903.pkl (174625,)\n",
      "13911.pkl (174625,)\n",
      "13931.pkl (174625,)\n",
      "13932.pkl (174625,)\n",
      "13957.pkl (174625,)\n",
      "13962.pkl (174625,)\n",
      "13963.pkl (174625,)\n",
      "13965.pkl (174625,)\n",
      "13967.pkl (174625,)\n",
      "13970.pkl (174625,)\n",
      "13992.pkl (174625,)\n",
      "14000.pkl (174625,)\n",
      "14020.pkl (174625,)\n",
      "14021.pkl (174625,)\n",
      "14027.pkl (174625,)\n",
      "14029.pkl (174625,)\n",
      "14038.pkl (174625,)\n",
      "14043.pkl (174625,)\n",
      "14053.pkl (174625,)\n",
      "14057.pkl (174625,)\n",
      "14068.pkl (174625,)\n",
      "14079.pkl (174625,)\n",
      "14089.pkl (174625,)\n",
      "14092.pkl (174625,)\n",
      "14094.pkl (174625,)\n",
      "14096.pkl (174625,)\n",
      "14106.pkl (174625,)\n",
      "14107.pkl (174625,)\n",
      "14110.pkl (174625,)\n",
      "14111.pkl (174625,)\n",
      "14115.pkl (174625,)\n",
      "14123.pkl (174625,)\n",
      "14139.pkl (174625,)\n",
      "14142.pkl (174625,)\n",
      "14149.pkl (174625,)\n",
      "14151.pkl (174625,)\n",
      "14154.pkl (174625,)\n",
      "14160.pkl (174625,)\n",
      "14162.pkl (174625,)\n",
      "14170.pkl (174625,)\n",
      "14171.pkl (174625,)\n",
      "14172.pkl (174625,)\n",
      "14174.pkl (174625,)\n",
      "14175.pkl (174625,)\n",
      "14184.pkl (174625,)\n",
      "14192.pkl (174625,)\n",
      "14196.pkl (174625,)\n",
      "14198.pkl (174625,)\n",
      "14201.pkl (174625,)\n",
      "14209.pkl (174625,)\n",
      "14212.pkl (174625,)\n",
      "14223.pkl (174625,)\n",
      "14231.pkl (174625,)\n",
      "14237.pkl (174625,)\n",
      "14238.pkl (174625,)\n",
      "14242.pkl (174625,)\n",
      "14248.pkl (174625,)\n",
      "14249.pkl (174625,)\n",
      "14254.pkl (174625,)\n",
      "14256.pkl (174625,)\n",
      "14258.pkl (174625,)\n",
      "14263.pkl (174625,)\n",
      "14269.pkl (174625,)\n",
      "14272.pkl (174625,)\n",
      "14273.pkl (174625,)\n",
      "14289.pkl (174625,)\n",
      "14297.pkl (174625,)\n",
      "14303.pkl (174625,)\n",
      "14304.pkl (174625,)\n",
      "14306.pkl (174625,)\n",
      "14307.pkl (174625,)\n",
      "14319.pkl (174625,)\n",
      "14322.pkl (174625,)\n",
      "14324.pkl (174625,)\n",
      "14325.pkl (174625,)\n",
      "14333.pkl (174625,)\n",
      "14339.pkl (174625,)\n",
      "14345.pkl (174625,)\n",
      "14353.pkl (174625,)\n",
      "14365.pkl (174625,)\n",
      "14377.pkl (174625,)\n",
      "14378.pkl (174625,)\n",
      "14385.pkl (174625,)\n",
      "14394.pkl (174625,)\n",
      "14411.pkl (174625,)\n",
      "14417.pkl (174625,)\n",
      "14429.pkl (174625,)\n",
      "14439.pkl (174625,)\n",
      "14441.pkl (174625,)\n",
      "14442.pkl (174625,)\n",
      "14446.pkl (174625,)\n",
      "14448.pkl (174625,)\n",
      "14453.pkl (174625,)\n",
      "14461.pkl (174625,)\n",
      "14462.pkl (174625,)\n",
      "14464.pkl (174625,)\n",
      "14467.pkl (174625,)\n",
      "14470.pkl (174625,)\n",
      "14472.pkl (174625,)\n",
      "14478.pkl (174625,)\n",
      "14485.pkl (174625,)\n",
      "14487.pkl (174625,)\n",
      "14491.pkl (174625,)\n",
      "14494.pkl (174625,)\n",
      "14495.pkl (174625,)\n",
      "14519.pkl (174625,)\n",
      "14520.pkl (174625,)\n",
      "14521.pkl (174625,)\n",
      "14529.pkl (174625,)\n",
      "14534.pkl (174625,)\n",
      "14542.pkl (174625,)\n",
      "14548.pkl (174625,)\n",
      "14562.pkl (174625,)\n",
      "14567.pkl (174625,)\n",
      "14568.pkl (174625,)\n",
      "14577.pkl (174625,)\n",
      "14584.pkl (174625,)\n",
      "14586.pkl (174625,)\n",
      "14593.pkl (174625,)\n",
      "14595.pkl (174625,)\n",
      "14596.pkl (174625,)\n",
      "14602.pkl (174625,)\n",
      "14605.pkl (174625,)\n",
      "14608.pkl (174625,)\n",
      "14616.pkl (174625,)\n",
      "14618.pkl (174625,)\n",
      "14630.pkl (174625,)\n",
      "14634.pkl (174625,)\n",
      "14636.pkl (174625,)\n",
      "14639.pkl (174625,)\n",
      "14643.pkl (174625,)\n",
      "14648.pkl (174625,)\n",
      "14657.pkl (174625,)\n",
      "14659.pkl (174625,)\n",
      "14662.pkl (174625,)\n",
      "14665.pkl (174625,)\n",
      "14688.pkl (174625,)\n",
      "14693.pkl (174625,)\n",
      "14701.pkl (174625,)\n",
      "14722.pkl (174625,)\n",
      "14726.pkl (174625,)\n",
      "14729.pkl (174625,)\n",
      "14734.pkl (174625,)\n",
      "14742.pkl (174625,)\n",
      "14754.pkl (174625,)\n",
      "14755.pkl (174625,)\n",
      "14756.pkl (174625,)\n",
      "14757.pkl (174625,)\n",
      "14760.pkl (174625,)\n",
      "14770.pkl (174625,)\n",
      "14787.pkl (174625,)\n",
      "14788.pkl (174625,)\n",
      "14791.pkl (174625,)\n",
      "14800.pkl (174625,)\n",
      "14803.pkl (174625,)\n",
      "14806.pkl (174625,)\n",
      "14810.pkl (174625,)\n",
      "14827.pkl (174625,)\n",
      "14828.pkl (174625,)\n",
      "14837.pkl (174625,)\n",
      "14857.pkl (174625,)\n",
      "14868.pkl (174625,)\n",
      "14882.pkl (174625,)\n",
      "14891.pkl (174625,)\n",
      "14898.pkl (174625,)\n",
      "14939.pkl (174625,)\n",
      "14942.pkl (174625,)\n",
      "14954.pkl (174625,)\n",
      "14973.pkl (174625,)\n",
      "14976.pkl (174625,)\n",
      "14982.pkl (174625,)\n",
      "14986.pkl (174625,)\n",
      "14988.pkl (174625,)\n",
      "15000.pkl (174625,)\n",
      "15006.pkl (174625,)\n",
      "15018.pkl (174625,)\n",
      "15020.pkl (174625,)\n",
      "15028.pkl (174625,)\n",
      "15031.pkl (174625,)\n",
      "15032.pkl (174625,)\n",
      "15033.pkl (174625,)\n",
      "15036.pkl (174625,)\n",
      "15038.pkl (174625,)\n",
      "15045.pkl (174625,)\n",
      "15053.pkl (174625,)\n",
      "15062.pkl (174625,)\n",
      "15063.pkl (174625,)\n",
      "15068.pkl (174625,)\n",
      "15095.pkl (174625,)\n",
      "15097.pkl (174625,)\n",
      "15098.pkl (174625,)\n",
      "15099.pkl (174625,)\n",
      "15107.pkl (174625,)\n",
      "15108.pkl (174625,)\n",
      "15122.pkl (174625,)\n",
      "15127.pkl (174625,)\n",
      "15157.pkl (174625,)\n",
      "15158.pkl (174625,)\n",
      "15168.pkl (174625,)\n",
      "15169.pkl (174625,)\n",
      "15172.pkl (174625,)\n",
      "15176.pkl (174625,)\n",
      "15178.pkl (174625,)\n",
      "15185.pkl (174625,)\n",
      "15189.pkl (174625,)\n",
      "15190.pkl (174625,)\n",
      "15201.pkl (174625,)\n",
      "15205.pkl (174625,)\n",
      "15206.pkl (174625,)\n",
      "15214.pkl (174625,)\n",
      "15227.pkl (174625,)\n",
      "15229.pkl (174625,)\n",
      "15236.pkl (174625,)\n",
      "15237.pkl (174625,)\n",
      "15239.pkl (174625,)\n",
      "15252.pkl (174625,)\n",
      "15253.pkl (174625,)\n",
      "15255.pkl (174625,)\n",
      "15264.pkl (174625,)\n",
      "15265.pkl (174625,)\n",
      "15298.pkl (174625,)\n",
      "15304.pkl (174625,)\n",
      "15320.pkl (174625,)\n",
      "15344.pkl (174625,)\n",
      "15355.pkl (174625,)\n",
      "15360.pkl (174625,)\n",
      "15367.pkl (174625,)\n",
      "15370.pkl (174625,)\n",
      "15375.pkl (174625,)\n",
      "15377.pkl (174625,)\n",
      "15396.pkl (174625,)\n",
      "15397.pkl (174625,)\n",
      "15399.pkl (174625,)\n",
      "15407.pkl (174625,)\n",
      "15412.pkl (174625,)\n",
      "15423.pkl (174625,)\n",
      "15424.pkl (174625,)\n",
      "15427.pkl (174625,)\n",
      "15431.pkl (174625,)\n",
      "15432.pkl (174625,)\n",
      "15435.pkl (174625,)\n",
      "15440.pkl (174625,)\n",
      "15447.pkl (174625,)\n",
      "15454.pkl (174625,)\n",
      "15475.pkl (174625,)\n",
      "15477.pkl (174625,)\n",
      "15481.pkl (174625,)\n",
      "15484.pkl (174625,)\n",
      "15493.pkl (174625,)\n",
      "15520.pkl (174625,)\n",
      "15523.pkl (174625,)\n",
      "15540.pkl (174625,)\n",
      "15542.pkl (174625,)\n",
      "15543.pkl (174625,)\n",
      "15549.pkl (174625,)\n",
      "15555.pkl (174625,)\n",
      "15560.pkl (174625,)\n",
      "15562.pkl (174625,)\n",
      "15582.pkl (174625,)\n",
      "15590.pkl (174625,)\n",
      "15596.pkl (174625,)\n",
      "15597.pkl (174625,)\n",
      "15604.pkl (174625,)\n",
      "15606.pkl (174625,)\n",
      "15616.pkl (174625,)\n",
      "15620.pkl (174625,)\n",
      "15646.pkl (174625,)\n",
      "15653.pkl (174625,)\n",
      "15661.pkl (174625,)\n",
      "15672.pkl (174625,)\n",
      "15675.pkl (174625,)\n",
      "15678.pkl (174625,)\n",
      "15680.pkl (174625,)\n",
      "15682.pkl (174625,)\n",
      "15691.pkl (174625,)\n",
      "15695.pkl (174625,)\n",
      "15700.pkl (174625,)\n",
      "15707.pkl (174625,)\n",
      "15726.pkl (174625,)\n",
      "15743.pkl (174625,)\n",
      "15752.pkl (174625,)\n",
      "15760.pkl (174625,)\n",
      "15761.pkl (174625,)\n",
      "15767.pkl (174625,)\n",
      "15771.pkl (174625,)\n",
      "15793.pkl (174625,)\n",
      "15800.pkl (174625,)\n",
      "15801.pkl (174625,)\n",
      "15809.pkl (174625,)\n",
      "15839.pkl (174625,)\n",
      "15840.pkl (174625,)\n",
      "15849.pkl (174625,)\n",
      "15855.pkl (174625,)\n",
      "15856.pkl (174625,)\n",
      "15862.pkl (174625,)\n",
      "15868.pkl (174625,)\n",
      "15872.pkl (174625,)\n",
      "15885.pkl (174625,)\n",
      "15886.pkl (174625,)\n",
      "15892.pkl (174625,)\n",
      "15898.pkl (174625,)\n",
      "15901.pkl (174625,)\n",
      "15903.pkl (174625,)\n",
      "15907.pkl (174625,)\n",
      "15913.pkl (174625,)\n",
      "15918.pkl (174625,)\n",
      "15922.pkl (174625,)\n",
      "15937.pkl (174625,)\n",
      "15941.pkl (174625,)\n",
      "15961.pkl (174625,)\n",
      "15969.pkl (174625,)\n",
      "15976.pkl (174625,)\n",
      "15990.pkl (174625,)\n",
      "16009.pkl (174625,)\n",
      "16029.pkl (174625,)\n",
      "16031.pkl (174625,)\n",
      "16044.pkl (174625,)\n",
      "16060.pkl (174625,)\n",
      "16064.pkl (174625,)\n",
      "16071.pkl (174625,)\n",
      "16075.pkl (174625,)\n",
      "16079.pkl (174625,)\n",
      "16086.pkl (174625,)\n",
      "16089.pkl (174625,)\n",
      "16094.pkl (174625,)\n",
      "16096.pkl (174625,)\n",
      "16098.pkl (174625,)\n",
      "16101.pkl (174625,)\n",
      "16102.pkl (174625,)\n",
      "16104.pkl (174625,)\n",
      "16105.pkl (174625,)\n",
      "16116.pkl (174625,)\n",
      "16119.pkl (174625,)\n",
      "16120.pkl (174625,)\n",
      "16121.pkl (174625,)\n",
      "16124.pkl (174625,)\n",
      "16125.pkl (174625,)\n",
      "16168.pkl (174625,)\n",
      "16181.pkl (174625,)\n",
      "16187.pkl (174625,)\n",
      "16204.pkl (174625,)\n",
      "16208.pkl (174625,)\n",
      "16210.pkl (174625,)\n",
      "16213.pkl (174625,)\n",
      "16220.pkl (174625,)\n",
      "16243.pkl (174625,)\n",
      "16281.pkl (174625,)\n",
      "16285.pkl (174625,)\n",
      "16286.pkl (174625,)\n",
      "16294.pkl (174625,)\n",
      "16298.pkl (174625,)\n",
      "16305.pkl (174625,)\n",
      "16306.pkl (174625,)\n",
      "16310.pkl (174625,)\n",
      "16312.pkl (174625,)\n",
      "16318.pkl (174625,)\n",
      "16324.pkl (174625,)\n",
      "16342.pkl (174625,)\n",
      "16349.pkl (174625,)\n",
      "16358.pkl (174625,)\n",
      "16367.pkl (174625,)\n",
      "16368.pkl (174625,)\n",
      "16371.pkl (174625,)\n",
      "16384.pkl (174625,)\n",
      "16407.pkl (174625,)\n",
      "16416.pkl (174625,)\n",
      "16420.pkl (174625,)\n",
      "16426.pkl (174625,)\n",
      "16443.pkl (174625,)\n",
      "16447.pkl (174625,)\n",
      "16448.pkl (174625,)\n",
      "16459.pkl (174625,)\n",
      "16466.pkl (174625,)\n",
      "16473.pkl (174625,)\n",
      "16496.pkl (174625,)\n",
      "16516.pkl (174625,)\n",
      "16517.pkl (174625,)\n",
      "16520.pkl (174625,)\n",
      "16525.pkl (174625,)\n",
      "16539.pkl (174625,)\n",
      "16546.pkl (174625,)\n",
      "16552.pkl (174625,)\n",
      "16562.pkl (174625,)\n",
      "16565.pkl (174625,)\n",
      "16568.pkl (174625,)\n",
      "16579.pkl (174625,)\n",
      "16584.pkl (174625,)\n",
      "16586.pkl (174625,)\n",
      "16593.pkl (174625,)\n",
      "16600.pkl (174625,)\n",
      "16604.pkl (174625,)\n",
      "16611.pkl (174625,)\n",
      "16614.pkl (174625,)\n",
      "16619.pkl (174625,)\n",
      "16620.pkl (174625,)\n",
      "16624.pkl (174625,)\n",
      "16626.pkl (174625,)\n",
      "16627.pkl (174625,)\n",
      "16636.pkl (174625,)\n",
      "16639.pkl (174625,)\n",
      "16642.pkl (174625,)\n",
      "16648.pkl (174625,)\n",
      "16665.pkl (174625,)\n",
      "16681.pkl (174625,)\n",
      "16683.pkl (174625,)\n",
      "16684.pkl (174625,)\n",
      "16686.pkl (174625,)\n",
      "16696.pkl (174625,)\n",
      "16733.pkl (174625,)\n",
      "16735.pkl (174625,)\n",
      "16746.pkl (174625,)\n",
      "16747.pkl (174625,)\n",
      "16754.pkl (174625,)\n",
      "16758.pkl (174625,)\n",
      "16762.pkl (174625,)\n",
      "16773.pkl (174625,)\n",
      "16777.pkl (174625,)\n",
      "16798.pkl (174625,)\n",
      "16801.pkl (174625,)\n",
      "16820.pkl (174625,)\n",
      "16839.pkl (174625,)\n",
      "16848.pkl (174625,)\n",
      "16854.pkl (174625,)\n",
      "16867.pkl (174625,)\n",
      "16872.pkl (174625,)\n",
      "16877.pkl (174625,)\n",
      "16880.pkl (174625,)\n",
      "16886.pkl (174625,)\n",
      "16894.pkl (174625,)\n",
      "16901.pkl (174625,)\n",
      "16903.pkl (174625,)\n",
      "16910.pkl (174625,)\n",
      "16911.pkl (174625,)\n",
      "16912.pkl (174625,)\n",
      "16914.pkl (174625,)\n",
      "16920.pkl (174625,)\n",
      "16922.pkl (174625,)\n",
      "16930.pkl (174625,)\n",
      "16935.pkl (174625,)\n",
      "16938.pkl (174625,)\n",
      "16953.pkl (174625,)\n",
      "16985.pkl (174625,)\n",
      "16986.pkl (174625,)\n",
      "16996.pkl (174625,)\n",
      "17008.pkl (174625,)\n",
      "17015.pkl (174625,)\n",
      "17018.pkl (174625,)\n",
      "17023.pkl (174625,)\n",
      "17031.pkl (174625,)\n",
      "17041.pkl (174625,)\n",
      "17052.pkl (174625,)\n",
      "17059.pkl (174625,)\n",
      "17068.pkl (174625,)\n",
      "17071.pkl (174625,)\n",
      "17077.pkl (174625,)\n",
      "17085.pkl (174625,)\n",
      "17095.pkl (174625,)\n",
      "17102.pkl (174625,)\n",
      "17105.pkl (174625,)\n",
      "17125.pkl (174625,)\n",
      "17127.pkl (174625,)\n",
      "17128.pkl (174625,)\n",
      "17129.pkl (174625,)\n",
      "17131.pkl (174625,)\n",
      "17143.pkl (174625,)\n",
      "17149.pkl (174625,)\n",
      "17163.pkl (174625,)\n",
      "17166.pkl (174625,)\n",
      "17170.pkl (174625,)\n",
      "17173.pkl (174625,)\n",
      "17178.pkl (174625,)\n",
      "17180.pkl (174625,)\n",
      "17188.pkl (174625,)\n",
      "17189.pkl (174625,)\n",
      "17197.pkl (174625,)\n",
      "17201.pkl (174625,)\n",
      "17209.pkl (174625,)\n",
      "17212.pkl (174625,)\n",
      "17214.pkl (174625,)\n",
      "17221.pkl (174625,)\n",
      "17229.pkl (174625,)\n",
      "17230.pkl (174625,)\n",
      "17233.pkl (174625,)\n",
      "17235.pkl (174625,)\n",
      "17236.pkl (174625,)\n",
      "17238.pkl (174625,)\n",
      "17241.pkl (174625,)\n",
      "17250.pkl (174625,)\n",
      "17258.pkl (174625,)\n",
      "17260.pkl (174625,)\n",
      "17263.pkl (174625,)\n",
      "17280.pkl (174625,)\n",
      "17281.pkl (174625,)\n",
      "17283.pkl (174625,)\n",
      "17291.pkl (174625,)\n",
      "17293.pkl (174625,)\n",
      "17297.pkl (174625,)\n",
      "17323.pkl (174625,)\n",
      "17330.pkl (174625,)\n",
      "17333.pkl (174625,)\n",
      "17338.pkl (174625,)\n",
      "17340.pkl (174625,)\n",
      "17342.pkl (174625,)\n",
      "17344.pkl (174625,)\n",
      "17346.pkl (174625,)\n",
      "17348.pkl (174625,)\n",
      "17375.pkl (174625,)\n",
      "17379.pkl (174625,)\n",
      "17380.pkl (174625,)\n",
      "17381.pkl (174625,)\n",
      "17386.pkl (174625,)\n",
      "17408.pkl (174625,)\n",
      "17411.pkl (174625,)\n",
      "17412.pkl (174625,)\n",
      "17413.pkl (174625,)\n",
      "17421.pkl (174625,)\n",
      "17436.pkl (174625,)\n",
      "17458.pkl (174625,)\n",
      "17465.pkl (174625,)\n",
      "17482.pkl (174625,)\n",
      "17491.pkl (174625,)\n",
      "17515.pkl (174625,)\n",
      "17521.pkl (174625,)\n",
      "17526.pkl (174625,)\n",
      "17528.pkl (174625,)\n",
      "17539.pkl (174625,)\n",
      "17551.pkl (174625,)\n",
      "17556.pkl (174625,)\n",
      "17557.pkl (174625,)\n",
      "17559.pkl (174625,)\n",
      "17561.pkl (174625,)\n",
      "17569.pkl (174625,)\n",
      "17578.pkl (174625,)\n",
      "17579.pkl (174625,)\n",
      "17580.pkl (174625,)\n",
      "17592.pkl (174625,)\n",
      "17606.pkl (174625,)\n",
      "17607.pkl (174625,)\n",
      "17608.pkl (174625,)\n",
      "17618.pkl (174625,)\n",
      "17631.pkl (174625,)\n",
      "17632.pkl (174625,)\n",
      "17643.pkl (174625,)\n",
      "17652.pkl (174625,)\n",
      "17657.pkl (174625,)\n",
      "17659.pkl (174625,)\n",
      "17660.pkl (174625,)\n",
      "17667.pkl (174625,)\n",
      "17672.pkl (174625,)\n",
      "17674.pkl (174625,)\n",
      "17678.pkl (174625,)\n",
      "17685.pkl (174625,)\n",
      "17691.pkl (174625,)\n",
      "17696.pkl (174625,)\n",
      "17699.pkl (174625,)\n",
      "17700.pkl (174625,)\n",
      "17702.pkl (174625,)\n",
      "17703.pkl (174625,)\n",
      "17713.pkl (174625,)\n",
      "17723.pkl (174625,)\n",
      "17726.pkl (174625,)\n",
      "17733.pkl (174625,)\n",
      "17737.pkl (174625,)\n",
      "17738.pkl (174625,)\n",
      "17746.pkl (174625,)\n",
      "17750.pkl (174625,)\n",
      "17756.pkl (174625,)\n",
      "17771.pkl (174625,)\n",
      "17775.pkl (174625,)\n",
      "17779.pkl (174625,)\n",
      "17783.pkl (174625,)\n",
      "17784.pkl (174625,)\n",
      "17786.pkl (174625,)\n",
      "17789.pkl (174625,)\n",
      "17805.pkl (174625,)\n",
      "17821.pkl (174625,)\n",
      "17824.pkl (174625,)\n",
      "17837.pkl (174625,)\n",
      "17841.pkl (174625,)\n",
      "17843.pkl (174625,)\n",
      "17849.pkl (174625,)\n",
      "17868.pkl (174625,)\n",
      "17873.pkl (174625,)\n",
      "17895.pkl (174625,)\n",
      "17906.pkl (174625,)\n",
      "17915.pkl (174625,)\n",
      "17922.pkl (174625,)\n",
      "17924.pkl (174625,)\n",
      "17933.pkl (174625,)\n",
      "17934.pkl (174625,)\n",
      "17936.pkl (174625,)\n",
      "17944.pkl (174625,)\n",
      "17952.pkl (174625,)\n",
      "17959.pkl (174625,)\n",
      "17960.pkl (174625,)\n",
      "17963.pkl (174625,)\n",
      "17970.pkl (174625,)\n",
      "17971.pkl (174625,)\n",
      "17983.pkl (174625,)\n",
      "17985.pkl (174625,)\n",
      "17990.pkl (174625,)\n",
      "17998.pkl (174625,)\n",
      "18002.pkl (174625,)\n",
      "18005.pkl (174625,)\n",
      "18011.pkl (174625,)\n",
      "18016.pkl (174625,)\n",
      "18020.pkl (174625,)\n",
      "18025.pkl (174625,)\n",
      "18026.pkl (174625,)\n",
      "18027.pkl (174625,)\n",
      "18028.pkl (174625,)\n",
      "18032.pkl (174625,)\n",
      "18039.pkl (174625,)\n",
      "18050.pkl (174625,)\n",
      "18055.pkl (174625,)\n",
      "18063.pkl (174625,)\n",
      "18066.pkl (174625,)\n",
      "18070.pkl (174625,)\n",
      "18076.pkl (174625,)\n",
      "18078.pkl (174625,)\n",
      "18085.pkl (174625,)\n",
      "18109.pkl (174625,)\n",
      "18113.pkl (174625,)\n",
      "18121.pkl (174625,)\n",
      "18123.pkl (174625,)\n",
      "18145.pkl (174625,)\n",
      "18147.pkl (174625,)\n",
      "18156.pkl (174625,)\n",
      "18158.pkl (174625,)\n",
      "18163.pkl (174625,)\n",
      "18168.pkl (174625,)\n",
      "18185.pkl (174625,)\n",
      "18187.pkl (174625,)\n",
      "18194.pkl (174625,)\n",
      "18198.pkl (174625,)\n",
      "18199.pkl (174625,)\n",
      "18200.pkl (174625,)\n",
      "18210.pkl (174625,)\n",
      "18214.pkl (174625,)\n",
      "18215.pkl (174625,)\n",
      "18231.pkl (174625,)\n",
      "18234.pkl (174625,)\n",
      "18243.pkl (174625,)\n",
      "18244.pkl (174625,)\n",
      "18253.pkl (174625,)\n",
      "18259.pkl (174625,)\n",
      "18267.pkl (174625,)\n",
      "18276.pkl (174625,)\n",
      "18278.pkl (174625,)\n",
      "18282.pkl (174625,)\n",
      "18283.pkl (174625,)\n",
      "18287.pkl (174625,)\n",
      "18323.pkl (174625,)\n",
      "18332.pkl (174625,)\n",
      "18333.pkl (174625,)\n",
      "18336.pkl (174625,)\n",
      "18350.pkl (174625,)\n",
      "18364.pkl (174625,)\n",
      "18366.pkl (174625,)\n",
      "18367.pkl (174625,)\n",
      "18370.pkl (174625,)\n",
      "18378.pkl (174625,)\n",
      "18405.pkl (174625,)\n",
      "18406.pkl (174625,)\n",
      "18417.pkl (174625,)\n",
      "18420.pkl (174625,)\n",
      "18422.pkl (174625,)\n",
      "18423.pkl (174625,)\n",
      "18424.pkl (174625,)\n",
      "18433.pkl (174625,)\n",
      "18436.pkl (174625,)\n",
      "18440.pkl (174625,)\n",
      "18449.pkl (174625,)\n",
      "18451.pkl (174625,)\n",
      "18461.pkl (174625,)\n",
      "18465.pkl (174625,)\n",
      "18487.pkl (174625,)\n",
      "18490.pkl (174625,)\n",
      "18491.pkl (174625,)\n",
      "18501.pkl (174625,)\n",
      "18507.pkl (174625,)\n",
      "18513.pkl (174625,)\n",
      "18524.pkl (174625,)\n",
      "18535.pkl (174625,)\n",
      "18546.pkl (174625,)\n",
      "18550.pkl (174625,)\n",
      "18553.pkl (174625,)\n",
      "18555.pkl (174625,)\n",
      "18557.pkl (174625,)\n",
      "18563.pkl (174625,)\n",
      "18566.pkl (174625,)\n",
      "18573.pkl (174625,)\n",
      "18587.pkl (174625,)\n",
      "18591.pkl (174625,)\n",
      "18601.pkl (174625,)\n",
      "18604.pkl (174625,)\n",
      "18608.pkl (174625,)\n",
      "18617.pkl (174625,)\n",
      "18621.pkl (174625,)\n",
      "18622.pkl (174625,)\n",
      "18636.pkl (174625,)\n",
      "18642.pkl (174625,)\n",
      "18645.pkl (174625,)\n",
      "18652.pkl (174625,)\n",
      "18672.pkl (174625,)\n",
      "18674.pkl (174625,)\n",
      "18684.pkl (174625,)\n",
      "18688.pkl (174625,)\n",
      "18692.pkl (174625,)\n",
      "18693.pkl (174625,)\n",
      "18702.pkl (174625,)\n",
      "18703.pkl (174625,)\n",
      "18709.pkl (174625,)\n",
      "18714.pkl (174625,)\n",
      "18716.pkl (174625,)\n",
      "18717.pkl (174625,)\n",
      "18719.pkl (174625,)\n",
      "18722.pkl (174625,)\n",
      "18730.pkl (174625,)\n",
      "18732.pkl (174625,)\n",
      "18753.pkl (174625,)\n",
      "18766.pkl (174625,)\n",
      "18769.pkl (174625,)\n",
      "18788.pkl (174625,)\n",
      "18798.pkl (174625,)\n",
      "18803.pkl (174625,)\n",
      "18804.pkl (174625,)\n",
      "18816.pkl (174625,)\n",
      "18821.pkl (174625,)\n",
      "18828.pkl (174625,)\n",
      "18838.pkl (174625,)\n",
      "18841.pkl (174625,)\n",
      "18845.pkl (174625,)\n",
      "18851.pkl (174625,)\n",
      "18852.pkl (174625,)\n",
      "18863.pkl (174625,)\n",
      "18867.pkl (174625,)\n",
      "18869.pkl (174625,)\n",
      "18871.pkl (174625,)\n",
      "18873.pkl (174625,)\n",
      "18875.pkl (174625,)\n",
      "18880.pkl (174625,)\n",
      "18884.pkl (174625,)\n",
      "18892.pkl (174625,)\n",
      "18896.pkl (174625,)\n",
      "18900.pkl (174625,)\n",
      "18904.pkl (174625,)\n",
      "18910.pkl (174625,)\n",
      "18919.pkl (174625,)\n",
      "18922.pkl (174625,)\n",
      "18924.pkl (174625,)\n",
      "18932.pkl (174625,)\n",
      "18938.pkl (174625,)\n",
      "18940.pkl (174625,)\n",
      "18947.pkl (174625,)\n",
      "18949.pkl (174625,)\n",
      "18956.pkl (174625,)\n",
      "18971.pkl (174625,)\n",
      "18980.pkl (174625,)\n",
      "18988.pkl (174625,)\n",
      "18994.pkl (174625,)\n",
      "19003.pkl (174625,)\n",
      "19006.pkl (174625,)\n",
      "19009.pkl (174625,)\n",
      "19010.pkl (174625,)\n",
      "19015.pkl (174625,)\n",
      "19033.pkl (174625,)\n",
      "19049.pkl (174625,)\n",
      "19052.pkl (174625,)\n",
      "19054.pkl (174625,)\n",
      "19059.pkl (174625,)\n",
      "19060.pkl (174625,)\n",
      "19071.pkl (174625,)\n",
      "19077.pkl (174625,)\n",
      "19080.pkl (174625,)\n",
      "19096.pkl (174625,)\n",
      "19104.pkl (174625,)\n",
      "19107.pkl (174625,)\n",
      "19117.pkl (174625,)\n",
      "19127.pkl (174625,)\n",
      "19130.pkl (174625,)\n",
      "19135.pkl (174625,)\n",
      "19136.pkl (174625,)\n",
      "19142.pkl (174625,)\n",
      "19143.pkl (174625,)\n",
      "19145.pkl (174625,)\n",
      "19147.pkl (174625,)\n",
      "19148.pkl (174625,)\n",
      "19173.pkl (174625,)\n",
      "19189.pkl (174625,)\n",
      "19193.pkl (174625,)\n",
      "19234.pkl (174625,)\n",
      "19236.pkl (174625,)\n",
      "19237.pkl (174625,)\n",
      "19242.pkl (174625,)\n",
      "19244.pkl (174625,)\n",
      "19288.pkl (174625,)\n",
      "19302.pkl (174625,)\n",
      "19305.pkl (174625,)\n",
      "19309.pkl (174625,)\n",
      "19317.pkl (174625,)\n",
      "19318.pkl (174625,)\n",
      "19320.pkl (174625,)\n",
      "19322.pkl (174625,)\n",
      "19327.pkl (174625,)\n",
      "19330.pkl (174625,)\n",
      "19339.pkl (174625,)\n",
      "19344.pkl (174625,)\n",
      "19351.pkl (174625,)\n",
      "19353.pkl (174625,)\n",
      "19360.pkl (174625,)\n",
      "19382.pkl (174625,)\n",
      "19383.pkl (174625,)\n",
      "19388.pkl (174625,)\n",
      "19397.pkl (174625,)\n",
      "19399.pkl (174625,)\n",
      "19436.pkl (174625,)\n",
      "19445.pkl (174625,)\n",
      "19451.pkl (174625,)\n",
      "19453.pkl (174625,)\n",
      "19471.pkl (174625,)\n",
      "19472.pkl (174625,)\n",
      "19474.pkl (174625,)\n",
      "19481.pkl (174625,)\n",
      "19491.pkl (174625,)\n",
      "19514.pkl (174625,)\n",
      "19516.pkl (174625,)\n",
      "19521.pkl (174625,)\n",
      "19526.pkl (174625,)\n",
      "19527.pkl (174625,)\n",
      "19550.pkl (174625,)\n",
      "19552.pkl (174625,)\n",
      "19570.pkl (174625,)\n",
      "19576.pkl (174625,)\n",
      "19586.pkl (174625,)\n",
      "19588.pkl (174625,)\n",
      "19595.pkl (174625,)\n",
      "19597.pkl (174625,)\n",
      "19604.pkl (174625,)\n",
      "19610.pkl (174625,)\n",
      "19615.pkl (174625,)\n",
      "19634.pkl (174625,)\n",
      "19635.pkl (174625,)\n",
      "19639.pkl (174625,)\n",
      "19640.pkl (174625,)\n",
      "19641.pkl (174625,)\n",
      "19642.pkl (174625,)\n",
      "19654.pkl (174625,)\n",
      "19659.pkl (174625,)\n",
      "19665.pkl (174625,)\n",
      "19670.pkl (174625,)\n",
      "19685.pkl (174625,)\n",
      "19689.pkl (174625,)\n",
      "19699.pkl (174625,)\n",
      "19704.pkl (174625,)\n",
      "19708.pkl (174625,)\n",
      "19711.pkl (174625,)\n",
      "19720.pkl (174625,)\n",
      "19734.pkl (174625,)\n",
      "19739.pkl (174625,)\n",
      "19743.pkl (174625,)\n",
      "19753.pkl (174625,)\n",
      "19754.pkl (174625,)\n",
      "19760.pkl (174625,)\n",
      "19777.pkl (174625,)\n",
      "19778.pkl (174625,)\n",
      "19784.pkl (174625,)\n",
      "19793.pkl (174625,)\n",
      "19823.pkl (174625,)\n",
      "19825.pkl (174625,)\n",
      "19827.pkl (174625,)\n",
      "19865.pkl (174625,)\n",
      "19878.pkl (174625,)\n",
      "19882.pkl (174625,)\n",
      "19894.pkl (174625,)\n",
      "19902.pkl (174625,)\n",
      "19913.pkl (174625,)\n",
      "19928.pkl (174625,)\n",
      "19929.pkl (174625,)\n",
      "19934.pkl (174625,)\n",
      "19941.pkl (174625,)\n",
      "19943.pkl (174625,)\n",
      "19957.pkl (174625,)\n",
      "19958.pkl (174625,)\n",
      "19959.pkl (174625,)\n",
      "19968.pkl (174625,)\n",
      "19977.pkl (174625,)\n",
      "19980.pkl (174625,)\n",
      "19999.pkl (174625,)\n",
      "20006.pkl (174625,)\n",
      "20012.pkl (174625,)\n",
      "20018.pkl (174625,)\n",
      "20030.pkl (174625,)\n",
      "20031.pkl (174625,)\n",
      "20041.pkl (174625,)\n",
      "20051.pkl (174625,)\n",
      "20056.pkl (174625,)\n",
      "20075.pkl (174625,)\n",
      "20092.pkl (174625,)\n",
      "20097.pkl (174625,)\n",
      "20109.pkl (174625,)\n",
      "20112.pkl (174625,)\n",
      "20113.pkl (174625,)\n",
      "20128.pkl (174625,)\n",
      "20130.pkl (174625,)\n",
      "20137.pkl (174625,)\n",
      "20170.pkl (174625,)\n",
      "20177.pkl (174625,)\n",
      "20180.pkl (174625,)\n",
      "20187.pkl (174625,)\n",
      "20194.pkl (174625,)\n",
      "20198.pkl (174625,)\n",
      "20203.pkl (174625,)\n",
      "20208.pkl (174625,)\n",
      "20214.pkl (174625,)\n",
      "20215.pkl (174625,)\n",
      "20227.pkl (174625,)\n",
      "20240.pkl (174625,)\n",
      "20242.pkl (174625,)\n",
      "20254.pkl (174625,)\n",
      "20258.pkl (174625,)\n",
      "20262.pkl (174625,)\n",
      "20264.pkl (174625,)\n",
      "20265.pkl (174625,)\n",
      "20282.pkl (174625,)\n",
      "20285.pkl (174625,)\n",
      "20287.pkl (174625,)\n",
      "20300.pkl (174625,)\n",
      "20304.pkl (174625,)\n",
      "20318.pkl (174625,)\n",
      "20321.pkl (174625,)\n",
      "20326.pkl (174625,)\n",
      "20329.pkl (174625,)\n",
      "20334.pkl (174625,)\n",
      "20337.pkl (174625,)\n",
      "20354.pkl (174625,)\n",
      "20363.pkl (174625,)\n",
      "20365.pkl (174625,)\n",
      "20377.pkl (174625,)\n",
      "20387.pkl (174625,)\n",
      "20401.pkl (174625,)\n",
      "20403.pkl (174625,)\n",
      "20404.pkl (174625,)\n",
      "20420.pkl (174625,)\n",
      "20421.pkl (174625,)\n",
      "20443.pkl (174625,)\n",
      "20444.pkl (174625,)\n",
      "20458.pkl (174625,)\n",
      "20474.pkl (174625,)\n",
      "20484.pkl (174625,)\n",
      "20491.pkl (174625,)\n",
      "20501.pkl (174625,)\n",
      "20503.pkl (174625,)\n",
      "20512.pkl (174625,)\n",
      "20515.pkl (174625,)\n",
      "20525.pkl (174625,)\n",
      "20539.pkl (174625,)\n",
      "20547.pkl (174625,)\n",
      "20550.pkl (174625,)\n",
      "20557.pkl (174625,)\n",
      "20565.pkl (174625,)\n",
      "20567.pkl (174625,)\n",
      "20570.pkl (174625,)\n",
      "20577.pkl (174625,)\n",
      "20588.pkl (174625,)\n",
      "20603.pkl (174625,)\n",
      "20607.pkl (174625,)\n",
      "20615.pkl (174625,)\n",
      "20621.pkl (174625,)\n",
      "20622.pkl (174625,)\n",
      "20623.pkl (174625,)\n",
      "20637.pkl (174625,)\n",
      "20648.pkl (174625,)\n",
      "20649.pkl (174625,)\n",
      "20653.pkl (174625,)\n",
      "20661.pkl (174625,)\n",
      "20666.pkl (174625,)\n",
      "20671.pkl (174625,)\n",
      "20675.pkl (174625,)\n",
      "20677.pkl (174625,)\n",
      "20678.pkl (174625,)\n",
      "20679.pkl (174625,)\n",
      "20697.pkl (174625,)\n",
      "20704.pkl (174625,)\n",
      "20709.pkl (174625,)\n",
      "20711.pkl (174625,)\n",
      "20712.pkl (174625,)\n",
      "20714.pkl (174625,)\n",
      "20723.pkl (174625,)\n",
      "20734.pkl (174625,)\n",
      "20737.pkl (174625,)\n",
      "20748.pkl (174625,)\n",
      "20768.pkl (174625,)\n",
      "20769.pkl (174625,)\n",
      "20773.pkl (174625,)\n",
      "20775.pkl (174625,)\n",
      "20789.pkl (174625,)\n",
      "20790.pkl (174625,)\n",
      "20795.pkl (174625,)\n",
      "20797.pkl (174625,)\n",
      "20799.pkl (174625,)\n",
      "20810.pkl (174625,)\n",
      "20816.pkl (174625,)\n",
      "20817.pkl (174625,)\n",
      "20822.pkl (174625,)\n",
      "20824.pkl (174625,)\n",
      "20827.pkl (174625,)\n",
      "20840.pkl (174625,)\n",
      "20857.pkl (174625,)\n",
      "20858.pkl (174625,)\n",
      "20865.pkl (174625,)\n",
      "20866.pkl (174625,)\n",
      "20867.pkl (174625,)\n",
      "20874.pkl (174625,)\n",
      "20876.pkl (174625,)\n",
      "20882.pkl (174625,)\n",
      "20888.pkl (174625,)\n",
      "20892.pkl (174625,)\n",
      "20893.pkl (174625,)\n",
      "20894.pkl (174625,)\n",
      "20897.pkl (174625,)\n",
      "20899.pkl (174625,)\n",
      "20904.pkl (174625,)\n",
      "20907.pkl (174625,)\n",
      "20911.pkl (174625,)\n",
      "20920.pkl (174625,)\n",
      "20921.pkl (174625,)\n",
      "20928.pkl (174625,)\n",
      "20929.pkl (174625,)\n",
      "20951.pkl (174625,)\n",
      "20966.pkl (174625,)\n",
      "20970.pkl (174625,)\n",
      "20980.pkl (174625,)\n",
      "20997.pkl (174625,)\n",
      "20998.pkl (174625,)\n",
      "21001.pkl (174625,)\n",
      "21004.pkl (174625,)\n",
      "21007.pkl (174625,)\n",
      "21008.pkl (174625,)\n",
      "21013.pkl (174625,)\n",
      "21014.pkl (174625,)\n",
      "21026.pkl (174625,)\n",
      "21027.pkl (174625,)\n",
      "21040.pkl (174625,)\n",
      "21042.pkl (174625,)\n",
      "21062.pkl (174625,)\n",
      "21063.pkl (174625,)\n",
      "21066.pkl (174625,)\n",
      "21070.pkl (174625,)\n",
      "21071.pkl (174625,)\n",
      "21084.pkl (174625,)\n",
      "21086.pkl (174625,)\n",
      "21089.pkl (174625,)\n",
      "21100.pkl (174625,)\n",
      "21101.pkl (174625,)\n",
      "21111.pkl (174625,)\n",
      "21114.pkl (174625,)\n",
      "21116.pkl (174625,)\n",
      "21117.pkl (174625,)\n",
      "21125.pkl (174625,)\n",
      "21126.pkl (174625,)\n",
      "21130.pkl (174625,)\n",
      "21131.pkl (174625,)\n",
      "21132.pkl (174625,)\n",
      "21138.pkl (174625,)\n",
      "21141.pkl (174625,)\n",
      "21144.pkl (174625,)\n",
      "21145.pkl (174625,)\n",
      "21148.pkl (174625,)\n",
      "21156.pkl (174625,)\n",
      "21165.pkl (174625,)\n",
      "21167.pkl (174625,)\n",
      "21185.pkl (174625,)\n",
      "21197.pkl (174625,)\n",
      "21201.pkl (174625,)\n",
      "21203.pkl (174625,)\n",
      "21208.pkl (174625,)\n",
      "21212.pkl (174625,)\n",
      "21215.pkl (174625,)\n",
      "21216.pkl (174625,)\n",
      "21218.pkl (174625,)\n",
      "21231.pkl (174625,)\n",
      "21240.pkl (174625,)\n",
      "21255.pkl (174625,)\n",
      "21257.pkl (174625,)\n",
      "21261.pkl (174625,)\n",
      "21277.pkl (174625,)\n",
      "21278.pkl (174625,)\n",
      "21282.pkl (174625,)\n",
      "21284.pkl (174625,)\n",
      "21301.pkl (174625,)\n",
      "21302.pkl (174625,)\n",
      "21309.pkl (174625,)\n",
      "21315.pkl (174625,)\n",
      "21328.pkl (174625,)\n",
      "21332.pkl (174625,)\n",
      "21333.pkl (174625,)\n",
      "21354.pkl (174625,)\n",
      "21355.pkl (174625,)\n",
      "21356.pkl (174625,)\n",
      "21357.pkl (174625,)\n",
      "21358.pkl (174625,)\n",
      "21380.pkl (174625,)\n",
      "21382.pkl (174625,)\n",
      "21413.pkl (174625,)\n",
      "21414.pkl (174625,)\n",
      "21415.pkl (174625,)\n",
      "21416.pkl (174625,)\n",
      "21424.pkl (174625,)\n",
      "21429.pkl (174625,)\n",
      "21445.pkl (174625,)\n",
      "21447.pkl (174625,)\n",
      "21448.pkl (174625,)\n",
      "21458.pkl (174625,)\n",
      "21466.pkl (174625,)\n",
      "21490.pkl (174625,)\n",
      "21499.pkl (174625,)\n",
      "21500.pkl (174625,)\n",
      "21506.pkl (174625,)\n",
      "21511.pkl (174625,)\n",
      "21513.pkl (174625,)\n",
      "21516.pkl (174625,)\n",
      "21524.pkl (174625,)\n",
      "21525.pkl (174625,)\n",
      "21528.pkl (174625,)\n",
      "21531.pkl (174625,)\n",
      "21550.pkl (174625,)\n",
      "21557.pkl (174625,)\n",
      "21572.pkl (174625,)\n",
      "21573.pkl (174625,)\n",
      "21574.pkl (174625,)\n",
      "21575.pkl (174625,)\n",
      "21580.pkl (174625,)\n",
      "21607.pkl (174625,)\n",
      "21619.pkl (174625,)\n",
      "21620.pkl (174625,)\n",
      "21624.pkl (174625,)\n",
      "21632.pkl (174625,)\n",
      "21635.pkl (174625,)\n",
      "21637.pkl (174625,)\n",
      "21650.pkl (174625,)\n",
      "21657.pkl (174625,)\n",
      "21662.pkl (174625,)\n",
      "21664.pkl (174625,)\n",
      "21665.pkl (174625,)\n",
      "21668.pkl (174625,)\n",
      "21673.pkl (174625,)\n",
      "21703.pkl (174625,)\n",
      "21710.pkl (174625,)\n",
      "21718.pkl (174625,)\n",
      "21720.pkl (174625,)\n",
      "21724.pkl (174625,)\n",
      "21733.pkl (174625,)\n",
      "21738.pkl (174625,)\n",
      "21743.pkl (174625,)\n",
      "21750.pkl (174625,)\n",
      "21756.pkl (174625,)\n",
      "21757.pkl (174625,)\n",
      "21764.pkl (174625,)\n",
      "21765.pkl (174625,)\n",
      "21768.pkl (174625,)\n",
      "21771.pkl (174625,)\n",
      "21784.pkl (174625,)\n",
      "21786.pkl (174625,)\n",
      "21793.pkl (174625,)\n",
      "21794.pkl (174625,)\n",
      "21799.pkl (174625,)\n",
      "21806.pkl (174625,)\n",
      "21808.pkl (174625,)\n",
      "21811.pkl (174625,)\n",
      "21812.pkl (174625,)\n",
      "21826.pkl (174625,)\n",
      "21847.pkl (174625,)\n",
      "21860.pkl (174625,)\n",
      "21870.pkl (174625,)\n",
      "21883.pkl (174625,)\n",
      "21884.pkl (174625,)\n",
      "21892.pkl (174625,)\n",
      "21906.pkl (174625,)\n",
      "21916.pkl (174625,)\n",
      "21928.pkl (174625,)\n",
      "21930.pkl (174625,)\n",
      "21942.pkl (174625,)\n",
      "21943.pkl (174625,)\n",
      "21947.pkl (174625,)\n",
      "21966.pkl (174625,)\n",
      "21974.pkl (174625,)\n",
      "21979.pkl (174625,)\n",
      "21980.pkl (174625,)\n",
      "21992.pkl (174625,)\n",
      "21996.pkl (174625,)\n",
      "22005.pkl (174625,)\n",
      "22018.pkl (174625,)\n",
      "22025.pkl (174625,)\n",
      "22027.pkl (174625,)\n",
      "22036.pkl (174625,)\n",
      "22039.pkl (174625,)\n",
      "22045.pkl (174625,)\n",
      "22049.pkl (174625,)\n",
      "22058.pkl (174625,)\n",
      "22063.pkl (174625,)\n",
      "22070.pkl (174625,)\n",
      "22073.pkl (174625,)\n",
      "22081.pkl (174625,)\n",
      "22084.pkl (174625,)\n",
      "22089.pkl (174625,)\n",
      "22094.pkl (174625,)\n",
      "22095.pkl (174625,)\n",
      "22114.pkl (174625,)\n",
      "22128.pkl (174625,)\n",
      "22132.pkl (174625,)\n",
      "22139.pkl (174625,)\n",
      "22140.pkl (174625,)\n",
      "22142.pkl (174625,)\n",
      "22158.pkl (174625,)\n",
      "22170.pkl (174625,)\n",
      "22185.pkl (174625,)\n",
      "22187.pkl (174625,)\n",
      "22190.pkl (174625,)\n",
      "22195.pkl (174625,)\n",
      "22197.pkl (174625,)\n",
      "22198.pkl (174625,)\n",
      "22201.pkl (174625,)\n",
      "22206.pkl (174625,)\n",
      "22230.pkl (174625,)\n",
      "22240.pkl (174625,)\n",
      "22249.pkl (174625,)\n",
      "22255.pkl (174625,)\n",
      "22272.pkl (174625,)\n",
      "22273.pkl (174625,)\n",
      "22279.pkl (174625,)\n",
      "22299.pkl (174625,)\n",
      "22310.pkl (174625,)\n",
      "22314.pkl (174625,)\n",
      "22320.pkl (174625,)\n",
      "22326.pkl (174625,)\n",
      "22332.pkl (174625,)\n",
      "22350.pkl (174625,)\n",
      "22364.pkl (174625,)\n",
      "22366.pkl (174625,)\n",
      "22381.pkl (174625,)\n",
      "22393.pkl (174625,)\n",
      "22394.pkl (174625,)\n",
      "22400.pkl (174625,)\n",
      "22401.pkl (174625,)\n",
      "22411.pkl (174625,)\n"
     ]
    }
   ],
   "source": [
    "for recording_test in test_label:\n",
    "    # Repeat the array until it reaches or exceeds the maximum length\n",
    "    repeated_recording = np.tile(test_label[recording_test], (max_length // len(test_label[recording_test]) + 1))[:max_length]\n",
    "    test_label[recording_test] = repeated_recording\n",
    "    \n",
    "for i in test_label:\n",
    "    print(i, test_label[i].shape)\n",
    "\n"
   ]
  },
  {
   "cell_type": "code",
   "execution_count": 27,
   "metadata": {},
   "outputs": [
    {
     "name": "stdout",
     "output_type": "stream",
     "text": [
      "1863\n"
     ]
    }
   ],
   "source": [
    "FinalTestAudio = []\n",
    "for i in test_label:\n",
    "    FinalTestAudio.append(test_label[i])\n",
    "\n",
    "FinalTestDataset = torch.tensor(FinalTestAudio, dtype=torch.float32).unsqueeze(1)\n",
    "\n",
    "results = predict(loaded_model, FinalTestDataset, device)\n",
    "print(len(results))\n"
   ]
  },
  {
   "cell_type": "code",
   "execution_count": 30,
   "metadata": {},
   "outputs": [],
   "source": [
    "import pandas as pd\n",
    "labels_final = test_label.keys()\n",
    "labels_final = list(labels_final)   \n",
    "df = pd.DataFrame({'ID': labels_final, 'Label': results})\n",
    "df['Label'] = df['Label'].clip(lower=1, upper=5)\n",
    "df.to_csv('results_best.csv', index=False)"
   ]
  },
  {
   "cell_type": "code",
   "execution_count": 203,
   "metadata": {},
   "outputs": [
    {
     "data": {
      "text/html": [
       "<div>\n",
       "<style scoped>\n",
       "    .dataframe tbody tr th:only-of-type {\n",
       "        vertical-align: middle;\n",
       "    }\n",
       "\n",
       "    .dataframe tbody tr th {\n",
       "        vertical-align: top;\n",
       "    }\n",
       "\n",
       "    .dataframe thead th {\n",
       "        text-align: right;\n",
       "    }\n",
       "</style>\n",
       "<table border=\"1\" class=\"dataframe\">\n",
       "  <thead>\n",
       "    <tr style=\"text-align: right;\">\n",
       "      <th></th>\n",
       "      <th>ID</th>\n",
       "      <th>Label</th>\n",
       "    </tr>\n",
       "  </thead>\n",
       "  <tbody>\n",
       "    <tr>\n",
       "      <th>1667</th>\n",
       "      <td>21084.pkl</td>\n",
       "      <td>5.0</td>\n",
       "    </tr>\n",
       "  </tbody>\n",
       "</table>\n",
       "</div>"
      ],
      "text/plain": [
       "             ID  Label\n",
       "1667  21084.pkl    5.0"
      ]
     },
     "execution_count": 203,
     "metadata": {},
     "output_type": "execute_result"
    }
   ],
   "source": [
    "df[df['ID']==\"21084.pkl\"]"
   ]
  },
  {
   "cell_type": "code",
   "execution_count": 199,
   "metadata": {},
   "outputs": [
    {
     "data": {
      "text/html": [
       "<div>\n",
       "<style scoped>\n",
       "    .dataframe tbody tr th:only-of-type {\n",
       "        vertical-align: middle;\n",
       "    }\n",
       "\n",
       "    .dataframe tbody tr th {\n",
       "        vertical-align: top;\n",
       "    }\n",
       "\n",
       "    .dataframe thead th {\n",
       "        text-align: right;\n",
       "    }\n",
       "</style>\n",
       "<table border=\"1\" class=\"dataframe\">\n",
       "  <thead>\n",
       "    <tr style=\"text-align: right;\">\n",
       "      <th></th>\n",
       "      <th>ID</th>\n",
       "      <th>Label</th>\n",
       "    </tr>\n",
       "  </thead>\n",
       "  <tbody>\n",
       "    <tr>\n",
       "      <th>1667</th>\n",
       "      <td>21084.pkl</td>\n",
       "      <td>5.069119</td>\n",
       "    </tr>\n",
       "    <tr>\n",
       "      <th>1763</th>\n",
       "      <td>21673.pkl</td>\n",
       "      <td>5.490522</td>\n",
       "    </tr>\n",
       "  </tbody>\n",
       "</table>\n",
       "</div>"
      ],
      "text/plain": [
       "             ID     Label\n",
       "1667  21084.pkl  5.069119\n",
       "1763  21673.pkl  5.490522"
      ]
     },
     "execution_count": 199,
     "metadata": {},
     "output_type": "execute_result"
    }
   ],
   "source": [
    "max(df['Label']), min(df['Label'])\n",
    "df[df['Label'] > 5]\n"
   ]
  },
  {
   "cell_type": "code",
   "execution_count": 198,
   "metadata": {},
   "outputs": [
    {
     "data": {
      "text/html": [
       "<div>\n",
       "<style scoped>\n",
       "    .dataframe tbody tr th:only-of-type {\n",
       "        vertical-align: middle;\n",
       "    }\n",
       "\n",
       "    .dataframe tbody tr th {\n",
       "        vertical-align: top;\n",
       "    }\n",
       "\n",
       "    .dataframe thead th {\n",
       "        text-align: right;\n",
       "    }\n",
       "</style>\n",
       "<table border=\"1\" class=\"dataframe\">\n",
       "  <thead>\n",
       "    <tr style=\"text-align: right;\">\n",
       "      <th></th>\n",
       "      <th>ID</th>\n",
       "      <th>Label</th>\n",
       "    </tr>\n",
       "  </thead>\n",
       "  <tbody>\n",
       "    <tr>\n",
       "      <th>13</th>\n",
       "      <td>10110.pkl</td>\n",
       "      <td>0.979741</td>\n",
       "    </tr>\n",
       "    <tr>\n",
       "      <th>424</th>\n",
       "      <td>12693.pkl</td>\n",
       "      <td>0.720084</td>\n",
       "    </tr>\n",
       "    <tr>\n",
       "      <th>481</th>\n",
       "      <td>13054.pkl</td>\n",
       "      <td>0.943736</td>\n",
       "    </tr>\n",
       "    <tr>\n",
       "      <th>546</th>\n",
       "      <td>13507.pkl</td>\n",
       "      <td>0.926584</td>\n",
       "    </tr>\n",
       "    <tr>\n",
       "      <th>564</th>\n",
       "      <td>13591.pkl</td>\n",
       "      <td>0.542841</td>\n",
       "    </tr>\n",
       "  </tbody>\n",
       "</table>\n",
       "</div>"
      ],
      "text/plain": [
       "            ID     Label\n",
       "13   10110.pkl  0.979741\n",
       "424  12693.pkl  0.720084\n",
       "481  13054.pkl  0.943736\n",
       "546  13507.pkl  0.926584\n",
       "564  13591.pkl  0.542841"
      ]
     },
     "execution_count": 198,
     "metadata": {},
     "output_type": "execute_result"
    }
   ],
   "source": [
    "df[df['Label'] < 1]"
   ]
  },
  {
   "cell_type": "code",
   "execution_count": 42,
   "metadata": {},
   "outputs": [
    {
     "name": "stderr",
     "output_type": "stream",
     "text": [
      "  3%|▎         | 1/30 [00:13<06:44, 13.94s/it]"
     ]
    },
    {
     "name": "stdout",
     "output_type": "stream",
     "text": [
      "Epoch [1/30], Loss: 218.6098\n",
      "--------------------------------------------------\n"
     ]
    },
    {
     "name": "stderr",
     "output_type": "stream",
     "text": [
      "  7%|▋         | 2/30 [00:22<04:53, 10.49s/it]"
     ]
    },
    {
     "name": "stdout",
     "output_type": "stream",
     "text": [
      "Epoch [2/30], Loss: 10.2590\n",
      "--------------------------------------------------\n",
      "Epoch [3/30], Loss: 9.8188\n"
     ]
    },
    {
     "name": "stderr",
     "output_type": "stream",
     "text": [
      " 10%|█         | 3/30 [00:33<04:52, 10.84s/it]"
     ]
    },
    {
     "name": "stdout",
     "output_type": "stream",
     "text": [
      "Validation: Mean Squared Error: 9.4935 and Mean Absolute Error: 2.9699\n",
      "--------------------------------------------------\n",
      "Epoch [4/30], Loss: 9.4264\n"
     ]
    },
    {
     "name": "stderr",
     "output_type": "stream",
     "text": [
      " 13%|█▎        | 4/30 [00:42<04:28, 10.33s/it]"
     ]
    },
    {
     "name": "stdout",
     "output_type": "stream",
     "text": [
      "Validation: Mean Squared Error: 9.1430 and Mean Absolute Error: 2.9103\n",
      "--------------------------------------------------\n",
      "Epoch [5/30], Loss: 9.1026\n"
     ]
    },
    {
     "name": "stderr",
     "output_type": "stream",
     "text": [
      " 17%|█▋        | 5/30 [00:52<04:08,  9.96s/it]"
     ]
    },
    {
     "name": "stdout",
     "output_type": "stream",
     "text": [
      "Validation: Mean Squared Error: 8.8477 and Mean Absolute Error: 2.8591\n",
      "--------------------------------------------------\n",
      "Epoch [6/30], Loss: 8.8253\n"
     ]
    },
    {
     "name": "stderr",
     "output_type": "stream",
     "text": [
      " 20%|██        | 6/30 [01:01<03:54,  9.77s/it]"
     ]
    },
    {
     "name": "stdout",
     "output_type": "stream",
     "text": [
      "Validation: Mean Squared Error: 8.5902 and Mean Absolute Error: 2.8137\n",
      "--------------------------------------------------\n",
      "Epoch [7/30], Loss: 8.5806\n"
     ]
    },
    {
     "name": "stderr",
     "output_type": "stream",
     "text": [
      " 23%|██▎       | 7/30 [01:10<03:40,  9.59s/it]"
     ]
    },
    {
     "name": "stdout",
     "output_type": "stream",
     "text": [
      "Validation: Mean Squared Error: 8.3602 and Mean Absolute Error: 2.7726\n",
      "--------------------------------------------------\n",
      "Epoch [8/30], Loss: 8.3601\n"
     ]
    },
    {
     "name": "stderr",
     "output_type": "stream",
     "text": [
      " 27%|██▋       | 8/30 [01:19<03:26,  9.39s/it]"
     ]
    },
    {
     "name": "stdout",
     "output_type": "stream",
     "text": [
      "Validation: Mean Squared Error: 8.1514 and Mean Absolute Error: 2.7346\n",
      "--------------------------------------------------\n",
      "Epoch [9/30], Loss: 8.1588\n"
     ]
    },
    {
     "name": "stderr",
     "output_type": "stream",
     "text": [
      " 30%|███       | 9/30 [01:28<03:13,  9.20s/it]"
     ]
    },
    {
     "name": "stdout",
     "output_type": "stream",
     "text": [
      "Validation: Mean Squared Error: 7.9595 and Mean Absolute Error: 2.6993\n",
      "--------------------------------------------------\n",
      "Epoch [10/30], Loss: 7.9725\n"
     ]
    },
    {
     "name": "stderr",
     "output_type": "stream",
     "text": [
      " 33%|███▎      | 10/30 [01:37<03:01,  9.07s/it]"
     ]
    },
    {
     "name": "stdout",
     "output_type": "stream",
     "text": [
      "Validation: Mean Squared Error: 7.7814 and Mean Absolute Error: 2.6661\n",
      "--------------------------------------------------\n",
      "Epoch [11/30], Loss: 7.7996\n"
     ]
    },
    {
     "name": "stderr",
     "output_type": "stream",
     "text": [
      " 37%|███▋      | 11/30 [01:46<02:50,  8.99s/it]"
     ]
    },
    {
     "name": "stdout",
     "output_type": "stream",
     "text": [
      "Validation: Mean Squared Error: 7.6151 and Mean Absolute Error: 2.6348\n",
      "--------------------------------------------------\n",
      "Epoch [12/30], Loss: 7.6368\n"
     ]
    },
    {
     "name": "stderr",
     "output_type": "stream",
     "text": [
      " 40%|████      | 12/30 [01:56<02:48,  9.35s/it]"
     ]
    },
    {
     "name": "stdout",
     "output_type": "stream",
     "text": [
      "Validation: Mean Squared Error: 7.4587 and Mean Absolute Error: 2.6049\n",
      "--------------------------------------------------\n",
      "Epoch [13/30], Loss: 7.4840\n"
     ]
    },
    {
     "name": "stderr",
     "output_type": "stream",
     "text": [
      " 43%|████▎     | 13/30 [02:05<02:36,  9.22s/it]"
     ]
    },
    {
     "name": "stdout",
     "output_type": "stream",
     "text": [
      "Validation: Mean Squared Error: 7.3111 and Mean Absolute Error: 2.5764\n",
      "--------------------------------------------------\n",
      "Epoch [14/30], Loss: 7.3396\n"
     ]
    },
    {
     "name": "stderr",
     "output_type": "stream",
     "text": [
      " 47%|████▋     | 14/30 [02:14<02:26,  9.15s/it]"
     ]
    },
    {
     "name": "stdout",
     "output_type": "stream",
     "text": [
      "Validation: Mean Squared Error: 7.1710 and Mean Absolute Error: 2.5491\n",
      "--------------------------------------------------\n",
      "Epoch [15/30], Loss: 7.2016\n"
     ]
    },
    {
     "name": "stderr",
     "output_type": "stream",
     "text": [
      " 50%|█████     | 15/30 [02:23<02:16,  9.09s/it]"
     ]
    },
    {
     "name": "stdout",
     "output_type": "stream",
     "text": [
      "Validation: Mean Squared Error: 7.0378 and Mean Absolute Error: 2.5228\n",
      "--------------------------------------------------\n",
      "Epoch [16/30], Loss: 7.0706\n"
     ]
    },
    {
     "name": "stderr",
     "output_type": "stream",
     "text": [
      " 53%|█████▎    | 16/30 [02:31<02:06,  9.01s/it]"
     ]
    },
    {
     "name": "stdout",
     "output_type": "stream",
     "text": [
      "Validation: Mean Squared Error: 6.9106 and Mean Absolute Error: 2.4975\n",
      "--------------------------------------------------\n",
      "Epoch [17/30], Loss: 6.9453\n"
     ]
    },
    {
     "name": "stderr",
     "output_type": "stream",
     "text": [
      " 57%|█████▋    | 17/30 [02:40<01:56,  8.97s/it]"
     ]
    },
    {
     "name": "stdout",
     "output_type": "stream",
     "text": [
      "Validation: Mean Squared Error: 6.7889 and Mean Absolute Error: 2.4730\n",
      "--------------------------------------------------\n",
      "Epoch [18/30], Loss: 6.8254\n"
     ]
    },
    {
     "name": "stderr",
     "output_type": "stream",
     "text": [
      " 60%|██████    | 18/30 [02:49<01:46,  8.91s/it]"
     ]
    },
    {
     "name": "stdout",
     "output_type": "stream",
     "text": [
      "Validation: Mean Squared Error: 6.6721 and Mean Absolute Error: 2.4493\n",
      "--------------------------------------------------\n",
      "Epoch [19/30], Loss: 6.7101\n"
     ]
    },
    {
     "name": "stderr",
     "output_type": "stream",
     "text": [
      " 63%|██████▎   | 19/30 [02:58<01:37,  8.90s/it]"
     ]
    },
    {
     "name": "stdout",
     "output_type": "stream",
     "text": [
      "Validation: Mean Squared Error: 6.5599 and Mean Absolute Error: 2.4263\n",
      "--------------------------------------------------\n",
      "Epoch [20/30], Loss: 6.5992\n"
     ]
    },
    {
     "name": "stderr",
     "output_type": "stream",
     "text": [
      " 67%|██████▋   | 20/30 [03:07<01:28,  8.88s/it]"
     ]
    },
    {
     "name": "stdout",
     "output_type": "stream",
     "text": [
      "Validation: Mean Squared Error: 6.4519 and Mean Absolute Error: 2.4039\n",
      "--------------------------------------------------\n",
      "Epoch [21/30], Loss: 6.4924\n"
     ]
    },
    {
     "name": "stderr",
     "output_type": "stream",
     "text": [
      " 70%|███████   | 21/30 [03:16<01:19,  8.85s/it]"
     ]
    },
    {
     "name": "stdout",
     "output_type": "stream",
     "text": [
      "Validation: Mean Squared Error: 6.3477 and Mean Absolute Error: 2.3821\n",
      "--------------------------------------------------\n",
      "Epoch [22/30], Loss: 6.3891\n"
     ]
    },
    {
     "name": "stderr",
     "output_type": "stream",
     "text": [
      " 73%|███████▎  | 22/30 [03:24<01:10,  8.85s/it]"
     ]
    },
    {
     "name": "stdout",
     "output_type": "stream",
     "text": [
      "Validation: Mean Squared Error: 6.2470 and Mean Absolute Error: 2.3609\n",
      "--------------------------------------------------\n",
      "Epoch [23/30], Loss: 6.2894\n"
     ]
    },
    {
     "name": "stderr",
     "output_type": "stream",
     "text": [
      " 77%|███████▋  | 23/30 [03:33<01:01,  8.84s/it]"
     ]
    },
    {
     "name": "stdout",
     "output_type": "stream",
     "text": [
      "Validation: Mean Squared Error: 6.1497 and Mean Absolute Error: 2.3402\n",
      "--------------------------------------------------\n",
      "Epoch [24/30], Loss: 6.1934\n"
     ]
    },
    {
     "name": "stderr",
     "output_type": "stream",
     "text": [
      " 80%|████████  | 24/30 [03:42<00:52,  8.83s/it]"
     ]
    },
    {
     "name": "stdout",
     "output_type": "stream",
     "text": [
      "Validation: Mean Squared Error: 6.0554 and Mean Absolute Error: 2.3200\n",
      "--------------------------------------------------\n",
      "Epoch [25/30], Loss: 6.0998\n"
     ]
    },
    {
     "name": "stderr",
     "output_type": "stream",
     "text": [
      " 83%|████████▎ | 25/30 [03:51<00:44,  8.84s/it]"
     ]
    },
    {
     "name": "stdout",
     "output_type": "stream",
     "text": [
      "Validation: Mean Squared Error: 5.9641 and Mean Absolute Error: 2.3002\n",
      "--------------------------------------------------\n",
      "Epoch [26/30], Loss: 6.0089\n"
     ]
    },
    {
     "name": "stderr",
     "output_type": "stream",
     "text": [
      " 87%|████████▋ | 26/30 [04:00<00:35,  8.83s/it]"
     ]
    },
    {
     "name": "stdout",
     "output_type": "stream",
     "text": [
      "Validation: Mean Squared Error: 5.8754 and Mean Absolute Error: 2.2809\n",
      "--------------------------------------------------\n",
      "Epoch [27/30], Loss: 5.9210\n"
     ]
    },
    {
     "name": "stderr",
     "output_type": "stream",
     "text": [
      " 90%|█████████ | 27/30 [04:09<00:26,  8.83s/it]"
     ]
    },
    {
     "name": "stdout",
     "output_type": "stream",
     "text": [
      "Validation: Mean Squared Error: 5.7893 and Mean Absolute Error: 2.2619\n",
      "--------------------------------------------------\n",
      "Epoch [28/30], Loss: 5.8356\n"
     ]
    },
    {
     "name": "stderr",
     "output_type": "stream",
     "text": [
      " 93%|█████████▎| 28/30 [04:17<00:17,  8.84s/it]"
     ]
    },
    {
     "name": "stdout",
     "output_type": "stream",
     "text": [
      "Validation: Mean Squared Error: 5.7056 and Mean Absolute Error: 2.2433\n",
      "--------------------------------------------------\n",
      "Epoch [29/30], Loss: 5.7523\n"
     ]
    },
    {
     "name": "stderr",
     "output_type": "stream",
     "text": [
      " 97%|█████████▋| 29/30 [04:26<00:08,  8.90s/it]"
     ]
    },
    {
     "name": "stdout",
     "output_type": "stream",
     "text": [
      "Validation: Mean Squared Error: 5.6242 and Mean Absolute Error: 2.2251\n",
      "--------------------------------------------------\n",
      "Epoch [30/30], Loss: 5.6714\n"
     ]
    },
    {
     "name": "stderr",
     "output_type": "stream",
     "text": [
      "100%|██████████| 30/30 [04:36<00:00,  9.20s/it]"
     ]
    },
    {
     "name": "stdout",
     "output_type": "stream",
     "text": [
      "Validation: Mean Squared Error: 5.5449 and Mean Absolute Error: 2.2072\n",
      "--------------------------------------------------\n"
     ]
    },
    {
     "name": "stderr",
     "output_type": "stream",
     "text": [
      "\n"
     ]
    },
    {
     "data": {
      "image/png": "[encoded data removed]",
      "text/plain": [
       "<Figure size 1000x800 with 2 Axes>"
      ]
     },
     "metadata": {},
     "output_type": "display_data"
    },
    {
     "name": "stdout",
     "output_type": "stream",
     "text": [
      "Accuracy: 0.0120\n",
      "Mean Squared Error: 5.6304 and Mean Absolute Error: 2.2228\n"
     ]
    },
    {
     "data": {
      "image/png": "[encoded data removed]",
      "text/plain": [
       "<Figure size 1000x800 with 2 Axes>"
      ]
     },
     "metadata": {},
     "output_type": "display_data"
    },
    {
     "name": "stdout",
     "output_type": "stream",
     "text": [
      "Accuracy: 0.0120\n"
     ]
    },
    {
     "name": "stderr",
     "output_type": "stream",
     "text": [
      "  3%|▎         | 1/30 [00:07<03:35,  7.42s/it]"
     ]
    },
    {
     "name": "stdout",
     "output_type": "stream",
     "text": [
      "Epoch [1/30], Loss: 5.3583\n",
      "--------------------------------------------------\n"
     ]
    },
    {
     "name": "stderr",
     "output_type": "stream",
     "text": [
      "  7%|▋         | 2/30 [00:14<03:27,  7.42s/it]"
     ]
    },
    {
     "name": "stdout",
     "output_type": "stream",
     "text": [
      "Epoch [2/30], Loss: 5.0847\n",
      "--------------------------------------------------\n",
      "Epoch [3/30], Loss: 4.9086\n"
     ]
    },
    {
     "name": "stderr",
     "output_type": "stream",
     "text": [
      " 10%|█         | 3/30 [00:23<03:39,  8.12s/it]"
     ]
    },
    {
     "name": "stdout",
     "output_type": "stream",
     "text": [
      "Validation: Mean Squared Error: 4.7520 and Mean Absolute Error: 2.0204\n",
      "--------------------------------------------------\n",
      "Epoch [4/30], Loss: 4.7673\n"
     ]
    },
    {
     "name": "stderr",
     "output_type": "stream",
     "text": [
      " 13%|█▎        | 4/30 [00:32<03:40,  8.47s/it]"
     ]
    },
    {
     "name": "stdout",
     "output_type": "stream",
     "text": [
      "Validation: Mean Squared Error: 4.6234 and Mean Absolute Error: 1.9887\n",
      "--------------------------------------------------\n",
      "Epoch [5/30], Loss: 4.6457\n"
     ]
    },
    {
     "name": "stderr",
     "output_type": "stream",
     "text": [
      " 17%|█▋        | 5/30 [00:41<03:36,  8.68s/it]"
     ]
    },
    {
     "name": "stdout",
     "output_type": "stream",
     "text": [
      "Validation: Mean Squared Error: 4.5105 and Mean Absolute Error: 1.9604\n",
      "--------------------------------------------------\n",
      "Epoch [6/30], Loss: 4.5376\n"
     ]
    },
    {
     "name": "stderr",
     "output_type": "stream",
     "text": [
      " 20%|██        | 6/30 [00:50<03:28,  8.68s/it]"
     ]
    },
    {
     "name": "stdout",
     "output_type": "stream",
     "text": [
      "Validation: Mean Squared Error: 4.4087 and Mean Absolute Error: 1.9346\n",
      "--------------------------------------------------\n",
      "Epoch [7/30], Loss: 4.4395\n"
     ]
    },
    {
     "name": "stderr",
     "output_type": "stream",
     "text": [
      " 23%|██▎       | 7/30 [00:59<03:22,  8.82s/it]"
     ]
    },
    {
     "name": "stdout",
     "output_type": "stream",
     "text": [
      "Validation: Mean Squared Error: 4.3155 and Mean Absolute Error: 1.9106\n",
      "--------------------------------------------------\n",
      "Epoch [8/30], Loss: 4.3489\n"
     ]
    },
    {
     "name": "stderr",
     "output_type": "stream",
     "text": [
      " 27%|██▋       | 8/30 [01:08<03:13,  8.77s/it]"
     ]
    },
    {
     "name": "stdout",
     "output_type": "stream",
     "text": [
      "Validation: Mean Squared Error: 4.2289 and Mean Absolute Error: 1.8881\n",
      "--------------------------------------------------\n",
      "Epoch [9/30], Loss: 4.2645\n"
     ]
    },
    {
     "name": "stderr",
     "output_type": "stream",
     "text": [
      " 30%|███       | 9/30 [01:18<03:11,  9.11s/it]"
     ]
    },
    {
     "name": "stdout",
     "output_type": "stream",
     "text": [
      "Validation: Mean Squared Error: 4.1478 and Mean Absolute Error: 1.8668\n",
      "--------------------------------------------------\n",
      "Epoch [10/30], Loss: 4.1850\n"
     ]
    },
    {
     "name": "stderr",
     "output_type": "stream",
     "text": [
      " 33%|███▎      | 10/30 [01:25<02:53,  8.68s/it]"
     ]
    },
    {
     "name": "stdout",
     "output_type": "stream",
     "text": [
      "Validation: Mean Squared Error: 4.0714 and Mean Absolute Error: 1.8464\n",
      "--------------------------------------------------\n",
      "Epoch [11/30], Loss: 4.1100\n"
     ]
    },
    {
     "name": "stderr",
     "output_type": "stream",
     "text": [
      " 37%|███▋      | 11/30 [01:33<02:40,  8.47s/it]"
     ]
    },
    {
     "name": "stdout",
     "output_type": "stream",
     "text": [
      "Validation: Mean Squared Error: 3.9989 and Mean Absolute Error: 1.8272\n",
      "--------------------------------------------------\n",
      "Epoch [12/30], Loss: 4.0384\n"
     ]
    },
    {
     "name": "stderr",
     "output_type": "stream",
     "text": [
      " 40%|████      | 12/30 [01:41<02:28,  8.24s/it]"
     ]
    },
    {
     "name": "stdout",
     "output_type": "stream",
     "text": [
      "Validation: Mean Squared Error: 3.9298 and Mean Absolute Error: 1.8090\n",
      "--------------------------------------------------\n",
      "Epoch [13/30], Loss: 3.9703\n"
     ]
    },
    {
     "name": "stderr",
     "output_type": "stream",
     "text": [
      " 43%|████▎     | 13/30 [01:49<02:17,  8.10s/it]"
     ]
    },
    {
     "name": "stdout",
     "output_type": "stream",
     "text": [
      "Validation: Mean Squared Error: 3.8638 and Mean Absolute Error: 1.7915\n",
      "--------------------------------------------------\n",
      "Epoch [14/30], Loss: 3.9053\n"
     ]
    },
    {
     "name": "stderr",
     "output_type": "stream",
     "text": [
      " 47%|████▋     | 14/30 [01:57<02:08,  8.01s/it]"
     ]
    },
    {
     "name": "stdout",
     "output_type": "stream",
     "text": [
      "Validation: Mean Squared Error: 3.8005 and Mean Absolute Error: 1.7745\n",
      "--------------------------------------------------\n",
      "Epoch [15/30], Loss: 3.8423\n"
     ]
    },
    {
     "name": "stderr",
     "output_type": "stream",
     "text": [
      " 50%|█████     | 15/30 [02:04<01:59,  7.95s/it]"
     ]
    },
    {
     "name": "stdout",
     "output_type": "stream",
     "text": [
      "Validation: Mean Squared Error: 3.7396 and Mean Absolute Error: 1.7580\n",
      "--------------------------------------------------\n",
      "Epoch [16/30], Loss: 3.7820\n"
     ]
    },
    {
     "name": "stderr",
     "output_type": "stream",
     "text": [
      " 53%|█████▎    | 16/30 [02:12<01:50,  7.90s/it]"
     ]
    },
    {
     "name": "stdout",
     "output_type": "stream",
     "text": [
      "Validation: Mean Squared Error: 3.6809 and Mean Absolute Error: 1.7419\n",
      "--------------------------------------------------\n",
      "Epoch [17/30], Loss: 3.7238\n"
     ]
    },
    {
     "name": "stderr",
     "output_type": "stream",
     "text": [
      " 57%|█████▋    | 17/30 [02:20<01:42,  7.89s/it]"
     ]
    },
    {
     "name": "stdout",
     "output_type": "stream",
     "text": [
      "Validation: Mean Squared Error: 3.6243 and Mean Absolute Error: 1.7262\n",
      "--------------------------------------------------\n",
      "Epoch [18/30], Loss: 3.6676\n"
     ]
    },
    {
     "name": "stderr",
     "output_type": "stream",
     "text": [
      " 60%|██████    | 18/30 [02:28<01:34,  7.87s/it]"
     ]
    },
    {
     "name": "stdout",
     "output_type": "stream",
     "text": [
      "Validation: Mean Squared Error: 3.5695 and Mean Absolute Error: 1.7109\n",
      "--------------------------------------------------\n",
      "Epoch [19/30], Loss: 3.6131\n"
     ]
    },
    {
     "name": "stderr",
     "output_type": "stream",
     "text": [
      " 63%|██████▎   | 19/30 [02:36<01:26,  7.88s/it]"
     ]
    },
    {
     "name": "stdout",
     "output_type": "stream",
     "text": [
      "Validation: Mean Squared Error: 3.5163 and Mean Absolute Error: 1.6960\n",
      "--------------------------------------------------\n",
      "Epoch [20/30], Loss: 3.5603\n"
     ]
    },
    {
     "name": "stderr",
     "output_type": "stream",
     "text": [
      " 67%|██████▋   | 20/30 [02:44<01:18,  7.88s/it]"
     ]
    },
    {
     "name": "stdout",
     "output_type": "stream",
     "text": [
      "Validation: Mean Squared Error: 3.4648 and Mean Absolute Error: 1.6813\n",
      "--------------------------------------------------\n",
      "Epoch [21/30], Loss: 3.5090\n"
     ]
    },
    {
     "name": "stderr",
     "output_type": "stream",
     "text": [
      " 70%|███████   | 21/30 [02:52<01:11,  7.92s/it]"
     ]
    },
    {
     "name": "stdout",
     "output_type": "stream",
     "text": [
      "Validation: Mean Squared Error: 3.4148 and Mean Absolute Error: 1.6670\n",
      "--------------------------------------------------\n",
      "Epoch [22/30], Loss: 3.4591\n"
     ]
    },
    {
     "name": "stderr",
     "output_type": "stream",
     "text": [
      " 73%|███████▎  | 22/30 [03:00<01:03,  7.91s/it]"
     ]
    },
    {
     "name": "stdout",
     "output_type": "stream",
     "text": [
      "Validation: Mean Squared Error: 3.3661 and Mean Absolute Error: 1.6529\n",
      "--------------------------------------------------\n",
      "Epoch [23/30], Loss: 3.4106\n"
     ]
    },
    {
     "name": "stderr",
     "output_type": "stream",
     "text": [
      " 77%|███████▋  | 23/30 [03:08<00:55,  7.93s/it]"
     ]
    },
    {
     "name": "stdout",
     "output_type": "stream",
     "text": [
      "Validation: Mean Squared Error: 3.3187 and Mean Absolute Error: 1.6390\n",
      "--------------------------------------------------\n",
      "Epoch [24/30], Loss: 3.3636\n"
     ]
    },
    {
     "name": "stderr",
     "output_type": "stream",
     "text": [
      " 80%|████████  | 24/30 [03:15<00:47,  7.90s/it]"
     ]
    },
    {
     "name": "stdout",
     "output_type": "stream",
     "text": [
      "Validation: Mean Squared Error: 3.2726 and Mean Absolute Error: 1.6254\n",
      "--------------------------------------------------\n",
      "Epoch [25/30], Loss: 3.3175\n"
     ]
    },
    {
     "name": "stderr",
     "output_type": "stream",
     "text": [
      " 83%|████████▎ | 25/30 [03:23<00:39,  7.92s/it]"
     ]
    },
    {
     "name": "stdout",
     "output_type": "stream",
     "text": [
      "Validation: Mean Squared Error: 3.2276 and Mean Absolute Error: 1.6120\n",
      "--------------------------------------------------\n",
      "Epoch [26/30], Loss: 3.2725\n"
     ]
    },
    {
     "name": "stderr",
     "output_type": "stream",
     "text": [
      " 87%|████████▋ | 26/30 [03:31<00:31,  7.92s/it]"
     ]
    },
    {
     "name": "stdout",
     "output_type": "stream",
     "text": [
      "Validation: Mean Squared Error: 3.1837 and Mean Absolute Error: 1.5989\n",
      "--------------------------------------------------\n",
      "Epoch [27/30], Loss: 3.2288\n"
     ]
    },
    {
     "name": "stderr",
     "output_type": "stream",
     "text": [
      " 90%|█████████ | 27/30 [03:39<00:23,  7.94s/it]"
     ]
    },
    {
     "name": "stdout",
     "output_type": "stream",
     "text": [
      "Validation: Mean Squared Error: 3.1408 and Mean Absolute Error: 1.5865\n",
      "--------------------------------------------------\n",
      "Epoch [28/30], Loss: 3.1860\n"
     ]
    },
    {
     "name": "stderr",
     "output_type": "stream",
     "text": [
      " 93%|█████████▎| 28/30 [03:47<00:15,  7.91s/it]"
     ]
    },
    {
     "name": "stdout",
     "output_type": "stream",
     "text": [
      "Validation: Mean Squared Error: 3.0990 and Mean Absolute Error: 1.5743\n",
      "--------------------------------------------------\n",
      "Epoch [29/30], Loss: 3.1441\n"
     ]
    },
    {
     "name": "stderr",
     "output_type": "stream",
     "text": [
      " 97%|█████████▋| 29/30 [03:55<00:07,  7.93s/it]"
     ]
    },
    {
     "name": "stdout",
     "output_type": "stream",
     "text": [
      "Validation: Mean Squared Error: 3.0580 and Mean Absolute Error: 1.5622\n",
      "--------------------------------------------------\n",
      "Epoch [30/30], Loss: 3.1033\n"
     ]
    },
    {
     "name": "stderr",
     "output_type": "stream",
     "text": [
      "100%|██████████| 30/30 [04:03<00:00,  8.12s/it]"
     ]
    },
    {
     "name": "stdout",
     "output_type": "stream",
     "text": [
      "Validation: Mean Squared Error: 3.0180 and Mean Absolute Error: 1.5504\n",
      "--------------------------------------------------\n"
     ]
    },
    {
     "name": "stderr",
     "output_type": "stream",
     "text": [
      "\n"
     ]
    },
    {
     "data": {
      "image/png": "[encoded data removed]",
      "text/plain": [
       "<Figure size 1000x800 with 2 Axes>"
      ]
     },
     "metadata": {},
     "output_type": "display_data"
    },
    {
     "name": "stdout",
     "output_type": "stream",
     "text": [
      "Accuracy: 0.0218\n",
      "Mean Squared Error: 3.0825 and Mean Absolute Error: 1.5699\n"
     ]
    },
    {
     "data": {
      "image/png": "[encoded data removed]",
      "text/plain": [
       "<Figure size 1000x800 with 2 Axes>"
      ]
     },
     "metadata": {},
     "output_type": "display_data"
    },
    {
     "name": "stdout",
     "output_type": "stream",
     "text": [
      "Accuracy: 0.0218\n"
     ]
    },
    {
     "name": "stderr",
     "output_type": "stream",
     "text": [
      "  3%|▎         | 1/30 [00:06<03:11,  6.61s/it]"
     ]
    },
    {
     "name": "stdout",
     "output_type": "stream",
     "text": [
      "Epoch [1/30], Loss: 3.0633\n",
      "--------------------------------------------------\n"
     ]
    },
    {
     "name": "stderr",
     "output_type": "stream",
     "text": [
      "  7%|▋         | 2/30 [00:13<03:05,  6.61s/it]"
     ]
    },
    {
     "name": "stdout",
     "output_type": "stream",
     "text": [
      "Epoch [2/30], Loss: 3.0437\n",
      "--------------------------------------------------\n",
      "Epoch [3/30], Loss: 3.0308\n"
     ]
    },
    {
     "name": "stderr",
     "output_type": "stream",
     "text": [
      " 10%|█         | 3/30 [00:21<03:14,  7.19s/it]"
     ]
    },
    {
     "name": "stdout",
     "output_type": "stream",
     "text": [
      "Validation: Mean Squared Error: 2.9614 and Mean Absolute Error: 1.5334\n",
      "--------------------------------------------------\n",
      "Epoch [4/30], Loss: 3.0204\n"
     ]
    },
    {
     "name": "stderr",
     "output_type": "stream",
     "text": [
      " 13%|█▎        | 4/30 [00:28<03:13,  7.46s/it]"
     ]
    },
    {
     "name": "stdout",
     "output_type": "stream",
     "text": [
      "Validation: Mean Squared Error: 2.9519 and Mean Absolute Error: 1.5305\n",
      "--------------------------------------------------\n",
      "Epoch [5/30], Loss: 3.0114\n"
     ]
    },
    {
     "name": "stderr",
     "output_type": "stream",
     "text": [
      " 17%|█▋        | 5/30 [00:36<03:10,  7.62s/it]"
     ]
    },
    {
     "name": "stdout",
     "output_type": "stream",
     "text": [
      "Validation: Mean Squared Error: 2.9435 and Mean Absolute Error: 1.5280\n",
      "--------------------------------------------------\n",
      "Epoch [6/30], Loss: 3.0035\n"
     ]
    },
    {
     "name": "stderr",
     "output_type": "stream",
     "text": [
      " 20%|██        | 6/30 [00:44<03:04,  7.70s/it]"
     ]
    },
    {
     "name": "stdout",
     "output_type": "stream",
     "text": [
      "Validation: Mean Squared Error: 2.9359 and Mean Absolute Error: 1.5257\n",
      "--------------------------------------------------\n",
      "Epoch [7/30], Loss: 2.9962\n"
     ]
    },
    {
     "name": "stderr",
     "output_type": "stream",
     "text": [
      " 23%|██▎       | 7/30 [00:52<02:58,  7.75s/it]"
     ]
    },
    {
     "name": "stdout",
     "output_type": "stream",
     "text": [
      "Validation: Mean Squared Error: 2.9289 and Mean Absolute Error: 1.5236\n",
      "--------------------------------------------------\n",
      "Epoch [8/30], Loss: 2.9892\n"
     ]
    },
    {
     "name": "stderr",
     "output_type": "stream",
     "text": [
      " 27%|██▋       | 8/30 [01:00<02:51,  7.79s/it]"
     ]
    },
    {
     "name": "stdout",
     "output_type": "stream",
     "text": [
      "Validation: Mean Squared Error: 2.9224 and Mean Absolute Error: 1.5216\n",
      "--------------------------------------------------\n",
      "Epoch [9/30], Loss: 2.9829\n"
     ]
    },
    {
     "name": "stderr",
     "output_type": "stream",
     "text": [
      " 30%|███       | 9/30 [01:08<02:44,  7.81s/it]"
     ]
    },
    {
     "name": "stdout",
     "output_type": "stream",
     "text": [
      "Validation: Mean Squared Error: 2.9162 and Mean Absolute Error: 1.5197\n",
      "--------------------------------------------------\n",
      "Epoch [10/30], Loss: 2.9767\n"
     ]
    },
    {
     "name": "stderr",
     "output_type": "stream",
     "text": [
      " 33%|███▎      | 10/30 [01:16<02:37,  7.88s/it]"
     ]
    },
    {
     "name": "stdout",
     "output_type": "stream",
     "text": [
      "Validation: Mean Squared Error: 2.9103 and Mean Absolute Error: 1.5179\n",
      "--------------------------------------------------\n",
      "Epoch [11/30], Loss: 2.9709\n"
     ]
    },
    {
     "name": "stderr",
     "output_type": "stream",
     "text": [
      " 37%|███▋      | 11/30 [01:24<02:29,  7.89s/it]"
     ]
    },
    {
     "name": "stdout",
     "output_type": "stream",
     "text": [
      "Validation: Mean Squared Error: 2.9047 and Mean Absolute Error: 1.5162\n",
      "--------------------------------------------------\n",
      "Epoch [12/30], Loss: 2.9654\n"
     ]
    },
    {
     "name": "stderr",
     "output_type": "stream",
     "text": [
      " 40%|████      | 12/30 [01:32<02:22,  7.91s/it]"
     ]
    },
    {
     "name": "stdout",
     "output_type": "stream",
     "text": [
      "Validation: Mean Squared Error: 2.8993 and Mean Absolute Error: 1.5146\n",
      "--------------------------------------------------\n",
      "Epoch [13/30], Loss: 2.9600\n"
     ]
    },
    {
     "name": "stderr",
     "output_type": "stream",
     "text": [
      " 43%|████▎     | 13/30 [01:40<02:14,  7.90s/it]"
     ]
    },
    {
     "name": "stdout",
     "output_type": "stream",
     "text": [
      "Validation: Mean Squared Error: 2.8942 and Mean Absolute Error: 1.5130\n",
      "--------------------------------------------------\n",
      "Epoch [14/30], Loss: 2.9549\n"
     ]
    },
    {
     "name": "stderr",
     "output_type": "stream",
     "text": [
      " 47%|████▋     | 14/30 [01:48<02:06,  7.92s/it]"
     ]
    },
    {
     "name": "stdout",
     "output_type": "stream",
     "text": [
      "Validation: Mean Squared Error: 2.8892 and Mean Absolute Error: 1.5114\n",
      "--------------------------------------------------\n",
      "Epoch [15/30], Loss: 2.9498\n"
     ]
    },
    {
     "name": "stderr",
     "output_type": "stream",
     "text": [
      " 50%|█████     | 15/30 [01:55<01:58,  7.90s/it]"
     ]
    },
    {
     "name": "stdout",
     "output_type": "stream",
     "text": [
      "Validation: Mean Squared Error: 2.8843 and Mean Absolute Error: 1.5100\n",
      "--------------------------------------------------\n",
      "Epoch [16/30], Loss: 2.9450\n"
     ]
    },
    {
     "name": "stderr",
     "output_type": "stream",
     "text": [
      " 53%|█████▎    | 16/30 [02:03<01:51,  7.94s/it]"
     ]
    },
    {
     "name": "stdout",
     "output_type": "stream",
     "text": [
      "Validation: Mean Squared Error: 2.8796 and Mean Absolute Error: 1.5085\n",
      "--------------------------------------------------\n",
      "Epoch [17/30], Loss: 2.9404\n"
     ]
    },
    {
     "name": "stderr",
     "output_type": "stream",
     "text": [
      " 57%|█████▋    | 17/30 [02:11<01:43,  7.93s/it]"
     ]
    },
    {
     "name": "stdout",
     "output_type": "stream",
     "text": [
      "Validation: Mean Squared Error: 2.8751 and Mean Absolute Error: 1.5071\n",
      "--------------------------------------------------\n",
      "Epoch [18/30], Loss: 2.9358\n"
     ]
    },
    {
     "name": "stderr",
     "output_type": "stream",
     "text": [
      " 60%|██████    | 18/30 [02:19<01:35,  7.93s/it]"
     ]
    },
    {
     "name": "stdout",
     "output_type": "stream",
     "text": [
      "Validation: Mean Squared Error: 2.8706 and Mean Absolute Error: 1.5058\n",
      "--------------------------------------------------\n",
      "Epoch [19/30], Loss: 2.9315\n"
     ]
    },
    {
     "name": "stderr",
     "output_type": "stream",
     "text": [
      " 63%|██████▎   | 19/30 [02:27<01:27,  7.91s/it]"
     ]
    },
    {
     "name": "stdout",
     "output_type": "stream",
     "text": [
      "Validation: Mean Squared Error: 2.8663 and Mean Absolute Error: 1.5044\n",
      "--------------------------------------------------\n",
      "Epoch [20/30], Loss: 2.9271\n"
     ]
    },
    {
     "name": "stderr",
     "output_type": "stream",
     "text": [
      " 67%|██████▋   | 20/30 [02:35<01:19,  7.93s/it]"
     ]
    },
    {
     "name": "stdout",
     "output_type": "stream",
     "text": [
      "Validation: Mean Squared Error: 2.8621 and Mean Absolute Error: 1.5031\n",
      "--------------------------------------------------\n",
      "Epoch [21/30], Loss: 2.9228\n"
     ]
    },
    {
     "name": "stderr",
     "output_type": "stream",
     "text": [
      " 70%|███████   | 21/30 [02:43<01:11,  7.92s/it]"
     ]
    },
    {
     "name": "stdout",
     "output_type": "stream",
     "text": [
      "Validation: Mean Squared Error: 2.8579 and Mean Absolute Error: 1.5018\n",
      "--------------------------------------------------\n",
      "Epoch [22/30], Loss: 2.9186\n"
     ]
    },
    {
     "name": "stderr",
     "output_type": "stream",
     "text": [
      " 73%|███████▎  | 22/30 [02:51<01:03,  7.96s/it]"
     ]
    },
    {
     "name": "stdout",
     "output_type": "stream",
     "text": [
      "Validation: Mean Squared Error: 2.8539 and Mean Absolute Error: 1.5006\n",
      "--------------------------------------------------\n",
      "Epoch [23/30], Loss: 2.9146\n"
     ]
    },
    {
     "name": "stderr",
     "output_type": "stream",
     "text": [
      " 77%|███████▋  | 23/30 [02:59<00:55,  7.98s/it]"
     ]
    },
    {
     "name": "stdout",
     "output_type": "stream",
     "text": [
      "Validation: Mean Squared Error: 2.8499 and Mean Absolute Error: 1.4994\n",
      "--------------------------------------------------\n",
      "Epoch [24/30], Loss: 2.9107\n"
     ]
    },
    {
     "name": "stderr",
     "output_type": "stream",
     "text": [
      " 80%|████████  | 24/30 [03:07<00:47,  7.97s/it]"
     ]
    },
    {
     "name": "stdout",
     "output_type": "stream",
     "text": [
      "Validation: Mean Squared Error: 2.8460 and Mean Absolute Error: 1.4982\n",
      "--------------------------------------------------\n",
      "Epoch [25/30], Loss: 2.9068\n"
     ]
    },
    {
     "name": "stderr",
     "output_type": "stream",
     "text": [
      " 83%|████████▎ | 25/30 [03:15<00:39,  7.95s/it]"
     ]
    },
    {
     "name": "stdout",
     "output_type": "stream",
     "text": [
      "Validation: Mean Squared Error: 2.8421 and Mean Absolute Error: 1.4970\n",
      "--------------------------------------------------\n",
      "Epoch [26/30], Loss: 2.9028\n"
     ]
    },
    {
     "name": "stderr",
     "output_type": "stream",
     "text": [
      " 87%|████████▋ | 26/30 [03:23<00:31,  7.92s/it]"
     ]
    },
    {
     "name": "stdout",
     "output_type": "stream",
     "text": [
      "Validation: Mean Squared Error: 2.8384 and Mean Absolute Error: 1.4958\n",
      "--------------------------------------------------\n",
      "Epoch [27/30], Loss: 2.8991\n"
     ]
    },
    {
     "name": "stderr",
     "output_type": "stream",
     "text": [
      " 90%|█████████ | 27/30 [03:31<00:23,  7.89s/it]"
     ]
    },
    {
     "name": "stdout",
     "output_type": "stream",
     "text": [
      "Validation: Mean Squared Error: 2.8347 and Mean Absolute Error: 1.4946\n",
      "--------------------------------------------------\n",
      "Epoch [28/30], Loss: 2.8955\n"
     ]
    },
    {
     "name": "stderr",
     "output_type": "stream",
     "text": [
      " 93%|█████████▎| 28/30 [03:38<00:15,  7.87s/it]"
     ]
    },
    {
     "name": "stdout",
     "output_type": "stream",
     "text": [
      "Validation: Mean Squared Error: 2.8310 and Mean Absolute Error: 1.4935\n",
      "--------------------------------------------------\n",
      "Epoch [29/30], Loss: 2.8917\n"
     ]
    },
    {
     "name": "stderr",
     "output_type": "stream",
     "text": [
      " 97%|█████████▋| 29/30 [03:46<00:07,  7.85s/it]"
     ]
    },
    {
     "name": "stdout",
     "output_type": "stream",
     "text": [
      "Validation: Mean Squared Error: 2.8274 and Mean Absolute Error: 1.4924\n",
      "--------------------------------------------------\n",
      "Epoch [30/30], Loss: 2.8882\n"
     ]
    },
    {
     "name": "stderr",
     "output_type": "stream",
     "text": [
      "100%|██████████| 30/30 [03:54<00:00,  7.82s/it]"
     ]
    },
    {
     "name": "stdout",
     "output_type": "stream",
     "text": [
      "Validation: Mean Squared Error: 2.8239 and Mean Absolute Error: 1.4913\n",
      "--------------------------------------------------\n"
     ]
    },
    {
     "name": "stderr",
     "output_type": "stream",
     "text": [
      "\n"
     ]
    },
    {
     "data": {
      "image/png": "[encoded data removed]",
      "text/plain": [
       "<Figure size 1000x800 with 2 Axes>"
      ]
     },
     "metadata": {},
     "output_type": "display_data"
    },
    {
     "name": "stdout",
     "output_type": "stream",
     "text": [
      "Accuracy: 0.0218\n",
      "Mean Squared Error: 2.8863 and Mean Absolute Error: 1.5112\n"
     ]
    },
    {
     "data": {
      "image/png": "[encoded data removed]",
      "text/plain": [
       "<Figure size 1000x800 with 2 Axes>"
      ]
     },
     "metadata": {},
     "output_type": "display_data"
    },
    {
     "name": "stdout",
     "output_type": "stream",
     "text": [
      "Accuracy: 0.0218\n"
     ]
    },
    {
     "name": "stderr",
     "output_type": "stream",
     "text": [
      "  3%|▎         | 1/30 [00:06<03:08,  6.49s/it]"
     ]
    },
    {
     "name": "stdout",
     "output_type": "stream",
     "text": [
      "Epoch [1/30], Loss: 2.8679\n",
      "--------------------------------------------------\n"
     ]
    },
    {
     "name": "stderr",
     "output_type": "stream",
     "text": [
      "  7%|▋         | 2/30 [00:13<03:03,  6.54s/it]"
     ]
    },
    {
     "name": "stdout",
     "output_type": "stream",
     "text": [
      "Epoch [2/30], Loss: 2.8492\n",
      "--------------------------------------------------\n",
      "Epoch [3/30], Loss: 2.8369\n"
     ]
    },
    {
     "name": "stderr",
     "output_type": "stream",
     "text": [
      " 10%|█         | 3/30 [00:20<03:13,  7.15s/it]"
     ]
    },
    {
     "name": "stdout",
     "output_type": "stream",
     "text": [
      "Validation: Mean Squared Error: 2.7697 and Mean Absolute Error: 1.4744\n",
      "--------------------------------------------------\n",
      "Epoch [4/30], Loss: 2.8270\n"
     ]
    },
    {
     "name": "stderr",
     "output_type": "stream",
     "text": [
      " 13%|█▎        | 4/30 [00:28<03:13,  7.43s/it]"
     ]
    },
    {
     "name": "stdout",
     "output_type": "stream",
     "text": [
      "Validation: Mean Squared Error: 2.7607 and Mean Absolute Error: 1.4715\n",
      "--------------------------------------------------\n",
      "Epoch [5/30], Loss: 2.8184\n"
     ]
    },
    {
     "name": "stderr",
     "output_type": "stream",
     "text": [
      " 17%|█▋        | 5/30 [00:36<03:09,  7.57s/it]"
     ]
    },
    {
     "name": "stdout",
     "output_type": "stream",
     "text": [
      "Validation: Mean Squared Error: 2.7528 and Mean Absolute Error: 1.4690\n",
      "--------------------------------------------------\n",
      "Epoch [6/30], Loss: 2.8109\n"
     ]
    },
    {
     "name": "stderr",
     "output_type": "stream",
     "text": [
      " 20%|██        | 6/30 [00:44<03:06,  7.79s/it]"
     ]
    },
    {
     "name": "stdout",
     "output_type": "stream",
     "text": [
      "Validation: Mean Squared Error: 2.7455 and Mean Absolute Error: 1.4667\n",
      "--------------------------------------------------\n",
      "Epoch [7/30], Loss: 2.8039\n"
     ]
    },
    {
     "name": "stderr",
     "output_type": "stream",
     "text": [
      " 23%|██▎       | 7/30 [00:52<02:59,  7.81s/it]"
     ]
    },
    {
     "name": "stdout",
     "output_type": "stream",
     "text": [
      "Validation: Mean Squared Error: 2.7389 and Mean Absolute Error: 1.4646\n",
      "--------------------------------------------------\n",
      "Epoch [8/30], Loss: 2.7974\n"
     ]
    },
    {
     "name": "stderr",
     "output_type": "stream",
     "text": [
      " 27%|██▋       | 8/30 [01:00<02:52,  7.84s/it]"
     ]
    },
    {
     "name": "stdout",
     "output_type": "stream",
     "text": [
      "Validation: Mean Squared Error: 2.7327 and Mean Absolute Error: 1.4626\n",
      "--------------------------------------------------\n",
      "Epoch [9/30], Loss: 2.7914\n"
     ]
    },
    {
     "name": "stderr",
     "output_type": "stream",
     "text": [
      " 30%|███       | 9/30 [01:20<04:02, 11.56s/it]"
     ]
    },
    {
     "name": "stdout",
     "output_type": "stream",
     "text": [
      "Validation: Mean Squared Error: 2.7269 and Mean Absolute Error: 1.4608\n",
      "--------------------------------------------------\n",
      "Epoch [10/30], Loss: 2.7855\n"
     ]
    },
    {
     "name": "stderr",
     "output_type": "stream",
     "text": [
      " 33%|███▎      | 10/30 [01:32<03:56, 11.81s/it]"
     ]
    },
    {
     "name": "stdout",
     "output_type": "stream",
     "text": [
      "Validation: Mean Squared Error: 2.7213 and Mean Absolute Error: 1.4590\n",
      "--------------------------------------------------\n",
      "Epoch [11/30], Loss: 2.7801\n"
     ]
    },
    {
     "name": "stderr",
     "output_type": "stream",
     "text": [
      " 37%|███▋      | 11/30 [01:43<03:36, 11.42s/it]"
     ]
    },
    {
     "name": "stdout",
     "output_type": "stream",
     "text": [
      "Validation: Mean Squared Error: 2.7160 and Mean Absolute Error: 1.4573\n",
      "--------------------------------------------------\n",
      "Epoch [12/30], Loss: 2.7749\n"
     ]
    },
    {
     "name": "stderr",
     "output_type": "stream",
     "text": [
      " 40%|████      | 12/30 [01:53<03:19, 11.08s/it]"
     ]
    },
    {
     "name": "stdout",
     "output_type": "stream",
     "text": [
      "Validation: Mean Squared Error: 2.7110 and Mean Absolute Error: 1.4557\n",
      "--------------------------------------------------\n",
      "Epoch [13/30], Loss: 2.7698\n"
     ]
    },
    {
     "name": "stderr",
     "output_type": "stream",
     "text": [
      " 43%|████▎     | 13/30 [02:05<03:10, 11.22s/it]"
     ]
    },
    {
     "name": "stdout",
     "output_type": "stream",
     "text": [
      "Validation: Mean Squared Error: 2.7061 and Mean Absolute Error: 1.4542\n",
      "--------------------------------------------------\n",
      "Epoch [14/30], Loss: 2.7650\n"
     ]
    },
    {
     "name": "stderr",
     "output_type": "stream",
     "text": [
      " 47%|████▋     | 14/30 [02:17<03:03, 11.45s/it]"
     ]
    },
    {
     "name": "stdout",
     "output_type": "stream",
     "text": [
      "Validation: Mean Squared Error: 2.7014 and Mean Absolute Error: 1.4527\n",
      "--------------------------------------------------\n",
      "Epoch [15/30], Loss: 2.7602\n"
     ]
    },
    {
     "name": "stderr",
     "output_type": "stream",
     "text": [
      " 50%|█████     | 15/30 [02:28<02:50, 11.38s/it]"
     ]
    },
    {
     "name": "stdout",
     "output_type": "stream",
     "text": [
      "Validation: Mean Squared Error: 2.6969 and Mean Absolute Error: 1.4512\n",
      "--------------------------------------------------\n",
      "Epoch [16/30], Loss: 2.7557\n"
     ]
    },
    {
     "name": "stderr",
     "output_type": "stream",
     "text": [
      " 53%|█████▎    | 16/30 [02:40<02:41, 11.56s/it]"
     ]
    },
    {
     "name": "stdout",
     "output_type": "stream",
     "text": [
      "Validation: Mean Squared Error: 2.6925 and Mean Absolute Error: 1.4498\n",
      "--------------------------------------------------\n",
      "Epoch [17/30], Loss: 2.7513\n"
     ]
    },
    {
     "name": "stderr",
     "output_type": "stream",
     "text": [
      " 57%|█████▋    | 17/30 [02:51<02:28, 11.44s/it]"
     ]
    },
    {
     "name": "stdout",
     "output_type": "stream",
     "text": [
      "Validation: Mean Squared Error: 2.6882 and Mean Absolute Error: 1.4484\n",
      "--------------------------------------------------\n",
      "Epoch [18/30], Loss: 2.7471\n"
     ]
    },
    {
     "name": "stderr",
     "output_type": "stream",
     "text": [
      " 60%|██████    | 18/30 [03:03<02:17, 11.49s/it]"
     ]
    },
    {
     "name": "stdout",
     "output_type": "stream",
     "text": [
      "Validation: Mean Squared Error: 2.6841 and Mean Absolute Error: 1.4471\n",
      "--------------------------------------------------\n",
      "Epoch [19/30], Loss: 2.7431\n"
     ]
    },
    {
     "name": "stderr",
     "output_type": "stream",
     "text": [
      " 63%|██████▎   | 19/30 [03:13<02:03, 11.27s/it]"
     ]
    },
    {
     "name": "stdout",
     "output_type": "stream",
     "text": [
      "Validation: Mean Squared Error: 2.6800 and Mean Absolute Error: 1.4458\n",
      "--------------------------------------------------\n",
      "Epoch [20/30], Loss: 2.7390\n"
     ]
    },
    {
     "name": "stderr",
     "output_type": "stream",
     "text": [
      " 67%|██████▋   | 20/30 [03:24<01:50, 11.07s/it]"
     ]
    },
    {
     "name": "stdout",
     "output_type": "stream",
     "text": [
      "Validation: Mean Squared Error: 2.6761 and Mean Absolute Error: 1.4445\n",
      "--------------------------------------------------\n",
      "Epoch [21/30], Loss: 2.7349\n"
     ]
    },
    {
     "name": "stderr",
     "output_type": "stream",
     "text": [
      " 70%|███████   | 21/30 [03:34<01:36, 10.73s/it]"
     ]
    },
    {
     "name": "stdout",
     "output_type": "stream",
     "text": [
      "Validation: Mean Squared Error: 2.6722 and Mean Absolute Error: 1.4433\n",
      "--------------------------------------------------\n",
      "Epoch [22/30], Loss: 2.7310\n"
     ]
    },
    {
     "name": "stderr",
     "output_type": "stream",
     "text": [
      " 73%|███████▎  | 22/30 [03:43<01:23, 10.40s/it]"
     ]
    },
    {
     "name": "stdout",
     "output_type": "stream",
     "text": [
      "Validation: Mean Squared Error: 2.6684 and Mean Absolute Error: 1.4421\n",
      "--------------------------------------------------\n",
      "Epoch [23/30], Loss: 2.7273\n"
     ]
    },
    {
     "name": "stderr",
     "output_type": "stream",
     "text": [
      " 77%|███████▋  | 23/30 [03:53<01:10, 10.11s/it]"
     ]
    },
    {
     "name": "stdout",
     "output_type": "stream",
     "text": [
      "Validation: Mean Squared Error: 2.6647 and Mean Absolute Error: 1.4409\n",
      "--------------------------------------------------\n",
      "Epoch [24/30], Loss: 2.7237\n"
     ]
    },
    {
     "name": "stderr",
     "output_type": "stream",
     "text": [
      " 80%|████████  | 24/30 [04:02<00:59,  9.92s/it]"
     ]
    },
    {
     "name": "stdout",
     "output_type": "stream",
     "text": [
      "Validation: Mean Squared Error: 2.6611 and Mean Absolute Error: 1.4397\n",
      "--------------------------------------------------\n",
      "Epoch [25/30], Loss: 2.7200\n"
     ]
    },
    {
     "name": "stderr",
     "output_type": "stream",
     "text": [
      " 83%|████████▎ | 25/30 [04:12<00:48,  9.77s/it]"
     ]
    },
    {
     "name": "stdout",
     "output_type": "stream",
     "text": [
      "Validation: Mean Squared Error: 2.6575 and Mean Absolute Error: 1.4385\n",
      "--------------------------------------------------\n",
      "Epoch [26/30], Loss: 2.7163\n"
     ]
    },
    {
     "name": "stderr",
     "output_type": "stream",
     "text": [
      " 87%|████████▋ | 26/30 [04:20<00:36,  9.21s/it]"
     ]
    },
    {
     "name": "stdout",
     "output_type": "stream",
     "text": [
      "Validation: Mean Squared Error: 2.6540 and Mean Absolute Error: 1.4374\n",
      "--------------------------------------------------\n",
      "Epoch [27/30], Loss: 2.7129\n"
     ]
    },
    {
     "name": "stderr",
     "output_type": "stream",
     "text": [
      " 90%|█████████ | 27/30 [04:28<00:26,  8.80s/it]"
     ]
    },
    {
     "name": "stdout",
     "output_type": "stream",
     "text": [
      "Validation: Mean Squared Error: 2.6506 and Mean Absolute Error: 1.4363\n",
      "--------------------------------------------------\n",
      "Epoch [28/30], Loss: 2.7096\n"
     ]
    },
    {
     "name": "stderr",
     "output_type": "stream",
     "text": [
      " 93%|█████████▎| 28/30 [04:36<00:17,  8.55s/it]"
     ]
    },
    {
     "name": "stdout",
     "output_type": "stream",
     "text": [
      "Validation: Mean Squared Error: 2.6472 and Mean Absolute Error: 1.4352\n",
      "--------------------------------------------------\n",
      "Epoch [29/30], Loss: 2.7060\n"
     ]
    },
    {
     "name": "stderr",
     "output_type": "stream",
     "text": [
      " 97%|█████████▋| 29/30 [04:44<00:08,  8.39s/it]"
     ]
    },
    {
     "name": "stdout",
     "output_type": "stream",
     "text": [
      "Validation: Mean Squared Error: 2.6438 and Mean Absolute Error: 1.4341\n",
      "--------------------------------------------------\n",
      "Epoch [30/30], Loss: 2.7027\n"
     ]
    },
    {
     "name": "stderr",
     "output_type": "stream",
     "text": [
      "100%|██████████| 30/30 [04:51<00:00,  9.73s/it]"
     ]
    },
    {
     "name": "stdout",
     "output_type": "stream",
     "text": [
      "Validation: Mean Squared Error: 2.6406 and Mean Absolute Error: 1.4330\n",
      "--------------------------------------------------\n"
     ]
    },
    {
     "name": "stderr",
     "output_type": "stream",
     "text": [
      "\n"
     ]
    },
    {
     "data": {
      "image/png": "[encoded data removed]",
      "text/plain": [
       "<Figure size 1000x800 with 2 Axes>"
      ]
     },
     "metadata": {},
     "output_type": "display_data"
    },
    {
     "name": "stdout",
     "output_type": "stream",
     "text": [
      "Accuracy: 0.0387\n",
      "Mean Squared Error: 2.7010 and Mean Absolute Error: 1.4532\n"
     ]
    },
    {
     "data": {
      "image/png": "[encoded data removed]",
      "text/plain": [
       "<Figure size 1000x800 with 2 Axes>"
      ]
     },
     "metadata": {},
     "output_type": "display_data"
    },
    {
     "name": "stdout",
     "output_type": "stream",
     "text": [
      "Accuracy: 0.0387\n",
      "Learning Rate\tWeight Decay\tMSE\n",
      "0.001\t\t0.0001\t\tMean Squared Error: 2.7010 and Mean Absolute Error: 1.4532\n",
      "0.001\t\t0.001\t\tMean Squared Error: 2.8863 and Mean Absolute Error: 1.5112\n",
      "0.01\t\t0.0001\t\tMean Squared Error: 3.0825 and Mean Absolute Error: 1.5699\n",
      "0.01\t\t0.001\t\tMean Squared Error: 5.6304 and Mean Absolute Error: 2.2228\n"
     ]
    }
   ],
   "source": [
    "# Define learning rates and weight decays to search\n",
    "learning_rates = [0.01, 0.001]\n",
    "weight_decays = [0.001, 0.0001]\n",
    "\n",
    "# Dictionary to store MSE values for each combination\n",
    "mse_results = {}\n",
    "\n",
    "# Iterate over each combination of hyperparameters\n",
    "for lr in learning_rates:\n",
    "    for weight_decay in weight_decays:\n",
    "        # Create the model and optimizer with the current hyperparameters\n",
    "        loaded_model = CNN().to(device)\n",
    "        optimizer = optim.Adagrad(modelCNN.parameters(), lr=lr, weight_decay=weight_decay)\n",
    "        \n",
    "        # Train the model\n",
    "        train_model(modelCNN, optimizer, num_epochs=30)\n",
    "        \n",
    "        # Evaluate the model\n",
    "        mse = evaluate_model(modelCNN, train_loader, conf=True)\n",
    "        \n",
    "        # Store the MSE value for the current combination of hyperparameters\n",
    "        mse_results[(lr, weight_decay)] = mse\n",
    "\n",
    "# Print the MSE values in a table\n",
    "print(\"Learning Rate\\tWeight Decay\\tMSE\")\n",
    "for lr, weight_decay in sorted(mse_results.keys()):\n",
    "    mse = mse_results[(lr, weight_decay)]\n",
    "    print(f\"{lr}\\t\\t{weight_decay}\\t\\t{mse}\")"
   ]
  },
  {
   "cell_type": "code",
   "execution_count": 41,
   "metadata": {},
   "outputs": [
    {
     "data": {
      "text/plain": [
       "CNN(\n",
       "  (mfcc_transform): MFCC(\n",
       "    (amplitude_to_DB): AmplitudeToDB()\n",
       "    (MelSpectrogram): MelSpectrogram(\n",
       "      (spectrogram): Spectrogram()\n",
       "      (mel_scale): MelScale()\n",
       "    )\n",
       "  )\n",
       "  (layers): ModuleList(\n",
       "    (0): BatchNorm1d(24, eps=1e-05, momentum=0.1, affine=True, track_running_stats=True)\n",
       "    (1): Conv1d(24, 64, kernel_size=(7,), stride=(1,), padding=(1,))\n",
       "    (2): BatchNorm1d(64, eps=1e-05, momentum=0.1, affine=True, track_running_stats=True)\n",
       "    (3): ReLU()\n",
       "    (4): MaxPool1d(kernel_size=3, stride=3, padding=0, dilation=1, ceil_mode=False)\n",
       "    (5): Dropout(p=0.3, inplace=False)\n",
       "    (6): ResidualBlock(\n",
       "      (conv1): Conv1d(64, 64, kernel_size=(7,), stride=(1,), padding=(6,), dilation=(2,))\n",
       "      (bn1): BatchNorm1d(64, eps=1e-05, momentum=0.1, affine=True, track_running_stats=True)\n",
       "      (relu): ReLU(inplace=True)\n",
       "      (conv2): Conv1d(64, 64, kernel_size=(7,), stride=(1,), padding=(6,), dilation=(2,))\n",
       "      (bn2): BatchNorm1d(64, eps=1e-05, momentum=0.1, affine=True, track_running_stats=True)\n",
       "    )\n",
       "    (7): Conv1d(64, 48, kernel_size=(7,), stride=(1,), padding=(1,))\n",
       "    (8): BatchNorm1d(48, eps=1e-05, momentum=0.1, affine=True, track_running_stats=True)\n",
       "    (9): ReLU()\n",
       "    (10): Conv1d(48, 12, kernel_size=(7,), stride=(1,), padding=(1,), dilation=(2,))\n",
       "    (11): BatchNorm1d(12, eps=1e-05, momentum=0.1, affine=True, track_running_stats=True)\n",
       "    (12): ReLU()\n",
       "    (13): MaxPool1d(kernel_size=3, stride=3, padding=0, dilation=1, ceil_mode=False)\n",
       "    (14): Dropout(p=0.25, inplace=False)\n",
       "    (15): Flatten(start_dim=1, end_dim=-1)\n",
       "    (16): Linear(in_features=1104, out_features=256, bias=True)\n",
       "    (17): ReLU()\n",
       "    (18): Linear(in_features=256, out_features=1, bias=True)\n",
       "  )\n",
       ")"
      ]
     },
     "execution_count": 41,
     "metadata": {},
     "output_type": "execute_result"
    }
   ],
   "source": [
    "loaded_model"
   ]
  },
  {
   "cell_type": "code",
   "execution_count": null,
   "metadata": {},
   "outputs": [],
   "source": []
  }
 ],
 "metadata": {
  "kernelspec": {
   "display_name": ".venv",
   "language": "python",
   "name": "python3"
  },
  "language_info": {
   "codemirror_mode": {
    "name": "ipython",
    "version": 3
   },
   "file_extension": ".py",
   "mimetype": "text/x-python",
   "name": "python",
   "nbconvert_exporter": "python",
   "pygments_lexer": "ipython3",
   "version": "3.10.4"
  }
 },
 "nbformat": 4,
 "nbformat_minor": 2
}
